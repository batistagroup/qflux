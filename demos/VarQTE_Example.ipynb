{
  "cells": [
    {
      "cell_type": "markdown",
      "id": "c8dc441e",
      "metadata": {
        "id": "c8dc441e"
      },
      "source": [
        "The VarQTE module can be used to run the Variational Quantum Imaginary Time Evolution (VarQITE) or the Variational Quantum Real Time Evolution (VarQRTE) algorithms.  This is done through:\n",
        "1. Constructing the problem Hamiltonian as a qiskit SparsePauliOp object\n",
        "2. Constructing the initial state with a qiskit QuantumCircuit object\n",
        "3. Calling VarQITE or VarQRTE with the desired hyperparameters.\n",
        "\n",
        "VarQITE and VarQRTE run their corresponding algorithms with a twolocal ansatz, and these functions return the parameter values of the twolocal ansatz at each timestep.  These parameter values can be used to measure useful observables such as the energy, or a custom obervable.  This can be done by calling the ansatz_energy function from the VarQTE module to return the energy of the given timestep, or the Construct_Ansatz function to directly return the twolocal ansatz with the corresponding parameter values, which can be used to measure custom observables."
      ]
    },
    {
      "cell_type": "markdown",
      "id": "f9d9dfb8",
      "metadata": {
        "id": "f9d9dfb8"
      },
      "source": [
        "### Import Dependencies"
      ]
    },
    {
      "cell_type": "code",
      "execution_count": null,
      "id": "84c6ea78",
      "metadata": {
        "id": "84c6ea78"
      },
      "outputs": [],
      "source": [
        "!pip install qflux"
      ]
    },
    {
      "cell_type": "code",
      "execution_count": null,
      "id": "adfc067e",
      "metadata": {
        "id": "adfc067e"
      },
      "outputs": [],
      "source": [
        "import matplotlib.pyplot as plt\n",
        "from qiskit import QuantumCircuit\n",
        "from qiskit.quantum_info import SparsePauliOp\n",
        "\n",
        "from qflux.closed_systems.VarQTE import VarQITE, VarQRTE, ansatz_energy, Construct_Ansatz"
      ]
    },
    {
      "cell_type": "markdown",
      "id": "a61c0090",
      "metadata": {
        "id": "a61c0090"
      },
      "source": [
        "# VarQITE"
      ]
    },
    {
      "cell_type": "markdown",
      "id": "958f30fe",
      "metadata": {
        "id": "958f30fe"
      },
      "source": [
        "We begin with the Wick-Rotated Schrodinger equation, and apply McLachlan's Variational Principle,\n",
        "\\begin{equation}\n",
        "    \\delta ||(\\frac{d}{d\\tau} + \\mathcal{H} - E_{\\tau})\\ket{\\psi(\\tau)}|| = 0.\n",
        "\\end{equation}\n",
        "\n",
        "Assuming we have a parameterized ansatz,\n",
        "\\begin{equation}\n",
        "    \\ket{\\psi(\\tau)} = \\ket{\\psi(\\theta(\\tau))}\n",
        "\\end{equation}\n",
        "\n",
        "This simplifies to a system of linear equations,\n",
        "\\begin{equation}\n",
        "    \\sum_j A_{ij} \\dot\\theta_j = C_i,\n",
        "\\end{equation}\n",
        "\n",
        "Where,\n",
        "\\begin{equation}\n",
        "    A_{ij} = \\Re(\\frac{\\partial\\bra{\\phi(\\theta(\\tau))}}{\\partial\\theta_i}\\frac{\\partial\\ket{\\phi(\\theta(\\tau))}}{\\partial\\theta_j}),\n",
        "\\end{equation}\n",
        "and\n",
        "\\begin{equation}\n",
        "    C_i = - \\Re(\\bra{\\frac{\\partial\\phi(\\theta(\\tau))}{\\partial\\theta_i}}\\mathcal{H}\\ket{\\phi(\\theta(\\tau))}).\n",
        "\\end{equation}\n",
        "\n",
        "These $A_{ij}$ and $C_i$ values are measured in a quantum computer and used to determine how to change the paramters of the ansatz $\\theta(\\tau + d\\tau) = \\theta(\\tau) + \\dot\\theta d\\tau$ to evolve the system through imaginary time."
      ]
    },
    {
      "cell_type": "markdown",
      "id": "faba340c",
      "metadata": {
        "id": "faba340c"
      },
      "source": [
        "## Demonstration\n",
        "\n",
        "\n",
        "```python\n",
        "# Define the problem Hamiltonian\n",
        "H = SparsePauliOp.from_list([(\"Z\", 1.0)])\n",
        "# Set up the initial state using a qiskit QuantumCircuit\n",
        "qc = QuantumCircuit(3)\n",
        "# Set Hyperparameters for VarQITE such as number of layers in ansatz, total evolution time, and timestep size\n",
        "layers = 0\n",
        "total_time = 10\n",
        "timestep = 0.1\n",
        "# Call VarQITE to run the time evolution and output the ansatz parameter values\n",
        "params = VarQITE(layers, H, total_time, timestep, init_circ=qc)\n",
        "\n",
        "# These parameter values can be used to measure the energy\n",
        "my_energy, my_stdev = ansatz_energy(qc, params[i], H)\n",
        "\n",
        "# Or the parameters can be used to measure custom observables\n",
        "# Define the observable\n",
        "observable = SparsePauliOp.from_list([(\"Z\", 1.0)])\n",
        "# Construct the ansatz circuit\n",
        "ansatz = Construct_Ansatz(qc, params[i], H.num_qubits)\n",
        "# Get the resulting values of the observable\n",
        "result = estimator.run(ansatz, observables=observable).result()\n",
        "```"
      ]
    },
    {
      "cell_type": "markdown",
      "id": "47234866",
      "metadata": {
        "id": "47234866"
      },
      "source": [
        "### Define the Hamiltonian of interest"
      ]
    },
    {
      "cell_type": "code",
      "execution_count": null,
      "id": "df828b44",
      "metadata": {
        "id": "df828b44"
      },
      "outputs": [],
      "source": [
        "H = SparsePauliOp.from_list([(\"IIZ\", 1.0), (\"IZI\", 1.0), (\"ZII\", 0.65), (\"IXX\", 1.0), (\"IYY\", 1.0), (\"XXI\", 0.75), (\"YYI\", 0.75)])"
      ]
    },
    {
      "cell_type": "markdown",
      "id": "04cb7adb",
      "metadata": {
        "id": "04cb7adb"
      },
      "source": [
        "### Create the initial state and run VarQITE"
      ]
    },
    {
      "cell_type": "code",
      "execution_count": null,
      "id": "a5a29835",
      "metadata": {
        "id": "a5a29835"
      },
      "outputs": [],
      "source": [
        "qc = QuantumCircuit(3)\n",
        "qc.rx(0.5, 0)\n",
        "qc.rx(0.5, 1)\n",
        "qc.rx(0.5, 2)\n",
        "\n",
        "layers = 0\n",
        "total_time = 10\n",
        "timestep = 0.1\n",
        "params = VarQITE(layers, H, total_time, timestep, init_circ=qc)\n",
        "# Params now holds the parameter values for the ansatz at each timestep for Imaginary-Time Evolution"
      ]
    },
    {
      "cell_type": "code",
      "execution_count": null,
      "id": "f50615b7",
      "metadata": {
        "id": "f50615b7"
      },
      "outputs": [],
      "source": [
        "all_energies = []\n",
        "for i in range(len(params)):\n",
        "    print(f\"Timestep {i} Energy: {ansatz_energy(qc, params[i], H)}\")\n",
        "    all_energies.append(ansatz_energy(qc, params[i], H)[0])\n",
        "\n",
        "plt.title(\"VarQITE Energy Over Imaginary Time\")\n",
        "plt.plot([i*timestep for i in range(int(total_time/timestep)+1)], all_energies)\n",
        "plt.xlabel(\"Imaginary Time\")\n",
        "plt.ylabel(\"Energy (eV)\")\n",
        "plt.show()"
      ]
    },
    {
      "cell_type": "markdown",
      "id": "1b419156",
      "metadata": {
        "id": "1b419156"
      },
      "source": [
        "The Variational Quantum Imaginary Time Evolution (VarQITE) algorithm will converge to the ground state of a system as it is evolved through imaginary time, given that the ansatz is large enough.  This can be used to estimate the ground state energy of a system by measuring the energy of the system at long imaginary-time, as can be seen above."
      ]
    },
    {
      "cell_type": "markdown",
      "id": "e03ea185",
      "metadata": {
        "id": "e03ea185"
      },
      "source": [
        "# VarQRTE"
      ]
    },
    {
      "cell_type": "markdown",
      "id": "84aafb7b",
      "metadata": {
        "id": "84aafb7b"
      },
      "source": [
        "We begin with the Schrodinger equation, and apply McLachlan's Variational Principle,\n",
        "\\begin{equation}\n",
        "    \\delta ||(\\frac{d}{dt} -i\\mathcal{H} - E_{t})\\ket{\\psi(t)}|| = 0.\n",
        "\\end{equation}\n",
        "\n",
        "Assuming we have a parameterized ansatz,\n",
        "\\begin{equation}\n",
        "    \\ket{\\psi(t)} = \\ket{\\psi(\\theta(t))}\n",
        "\\end{equation}\n",
        "\n",
        "This simplifies to a system of linear equations,\n",
        "\\begin{equation}\n",
        "    \\sum_j A_{ij} \\dot\\theta_j = C_i,\n",
        "\\end{equation}\n",
        "\n",
        "Where,\n",
        "\\begin{equation}\n",
        "    A_{ij} = \\Re(\\frac{\\partial\\bra{\\phi(\\theta(t))}}{\\partial\\theta_i}\\frac{\\partial\\ket{\\phi(\\theta(t))}}{\\partial\\theta_j}),\n",
        "\\end{equation}\n",
        "and\n",
        "\\begin{equation}\n",
        "    C_i = - \\Im(\\bra{\\frac{\\partial\\phi(\\theta(t))}{\\partial\\theta_i}}\\mathcal{H}\\ket{\\phi(\\theta(t))}).\n",
        "\\end{equation}\n",
        "\n",
        "These $A_{ij}$ and $C_i$ values are measured in a quantum computer and used to determine how to change the paramters of the ansatz $\\theta(t+dt) = \\theta(t) + \\dot\\theta dt$ to evolve the system through real time."
      ]
    },
    {
      "cell_type": "markdown",
      "id": "0493f669",
      "metadata": {
        "id": "0493f669"
      },
      "source": [
        "## Demonstration\n",
        "\n",
        "\n",
        "```python\n",
        "# Define the problem Hamiltonian\n",
        "H = SparsePauliOp.from_list([(\"Z\", 1.0)])\n",
        "# Set up the initial state using a qiskit QuantumCircuit\n",
        "qc = QuantumCircuit(3)\n",
        "# Set Hyperparameters for VarQRTE such as number of layers in ansatz, total evolution time, and timestep size\n",
        "layers = 0\n",
        "total_time = 10\n",
        "timestep = 0.1\n",
        "# Call VarQRTE to run the time evolution and output the ansatz parameter values\n",
        "params = VarQRTE(layers, H, total_time, timestep, init_circ=qc)\n",
        "\n",
        "# These parameter values can be used to measure the energy\n",
        "my_energy, my_stdev = ansatz_energy(qc, params[i], H)\n",
        "\n",
        "# Or the parameters can be used to measure custom observables\n",
        "# Define the observable\n",
        "observable = SparsePauliOp.from_list([(\"Z\", 1.0)])\n",
        "# Construct the ansatz circuit\n",
        "ansatz = Construct_Ansatz(qc, params[i], H.num_qubits)\n",
        "# Get the resulting values of the observable\n",
        "result = estimator.run(ansatz, observables=observable).result()\n",
        "```"
      ]
    },
    {
      "cell_type": "markdown",
      "id": "97e2bac5",
      "metadata": {
        "id": "97e2bac5"
      },
      "source": [
        "### Create the initial state and run VarQRTE"
      ]
    },
    {
      "cell_type": "code",
      "execution_count": null,
      "id": "c89a9e4b",
      "metadata": {
        "id": "c89a9e4b"
      },
      "outputs": [],
      "source": [
        "H = SparsePauliOp.from_list([(\"X\", 1.0)])"
      ]
    },
    {
      "cell_type": "code",
      "execution_count": null,
      "id": "3a851e55",
      "metadata": {
        "id": "3a851e55"
      },
      "outputs": [],
      "source": [
        "qc = QuantumCircuit(1)\n",
        "qc.x(0) # Creates |1> state\n",
        "\n",
        "layers = 1\n",
        "total_time = 12\n",
        "timestep = 0.1\n",
        "params = VarQRTE(layers, H, total_time, timestep, init_circ=qc)\n",
        "# Params now holds the parameter values for the ansatz at each timestep for Real-Time Evolution"
      ]
    },
    {
      "cell_type": "code",
      "execution_count": null,
      "id": "eb5fd0c8",
      "metadata": {
        "id": "eb5fd0c8"
      },
      "outputs": [],
      "source": [
        "from qiskit_aer.primitives import EstimatorV2 as Estimator\n",
        "\n",
        "estimator = Estimator()\n",
        "observable = SparsePauliOp.from_list([(\"Z\", 1.0)])\n",
        "spin1_values = []\n",
        "spin2_values = []\n",
        "for i in range(len(params)):\n",
        "    ansatz = Construct_Ansatz(qc, params[i], H.num_qubits)\n",
        "    result = estimator.run([(ansatz, observable)]).result()\n",
        "    spin1_values.append(result[0].data.evs)\n",
        "\n",
        "plt.title(\"Spin Expectation Value Over Time\")\n",
        "plt.plot([i*timestep for i in range(int(total_time/timestep)+1)], spin1_values)\n",
        "plt.xlabel(\"Time\")\n",
        "plt.ylabel(\"Expectation Value\")\n",
        "plt.show()"
      ]
    },
    {
      "cell_type": "markdown",
      "id": "a78df746",
      "metadata": {
        "id": "a78df746"
      },
      "source": [
        "This result matches our intuition that the evolution of the system provided above should follow a sine wave as it is evolved through real-time."
      ]
    }
  ],
  "metadata": {
    "kernelspec": {
      "display_name": "Python 3 (ipykernel)",
      "language": "python",
      "name": "python3"
    },
    "language_info": {
      "codemirror_mode": {
        "name": "ipython",
        "version": 3
      },
      "file_extension": ".py",
      "mimetype": "text/x-python",
      "name": "python",
      "nbconvert_exporter": "python",
      "pygments_lexer": "ipython3",
      "version": "3.10.17"
    },
    "colab": {
      "provenance": []
    }
  },
  "nbformat": 4,
  "nbformat_minor": 5
}