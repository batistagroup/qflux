{
 "cells": [
  {
   "cell_type": "markdown",
   "id": "c8dc441e",
   "metadata": {},
   "source": [
    "The VarQTE module can be used to run the Variational Quantum Imaginary Time Evolution (VarQITE) or the Variational Quantum Real Time Evolution (VarQRTE) algorithms.  This is done through:\n",
    "1. Constructing the problem Hamiltonian as a qiskit SparsePauliOp object\n",
    "2. Constructing the initial state with a qiskit QuantumCircuit object\n",
    "3. Calling VarQITE or VarQRTE with the desired hyperparameters.\n",
    "\n",
    "VarQITE and VarQRTE run their corresponding algorithms with a twolocal ansatz, and these functions return the parameter values of the twolocal ansatz at each timestep.  These parameter values can be used to measure useful observables such as the energy, or a custom obervable.  This can be done by calling the ansatz_energy function from the VarQTE module to return the energy of the given timestep, or the Construct_Ansatz function to directly return the twolocal ansatz with the corresponding parameter values, which can be used to measure custom observables."
   ]
  },
  {
   "cell_type": "markdown",
   "id": "f9d9dfb8",
   "metadata": {},
   "source": [
    "### Import Dependencies"
   ]
  },
  {
   "cell_type": "code",
   "execution_count": null,
   "id": "84c6ea78",
   "metadata": {},
   "outputs": [
    {
     "name": "stderr",
     "output_type": "stream",
     "text": [
      "ERROR: Could not find a version that satisfies the requirement google-colab (from versions: none)\n",
      "ERROR: No matching distribution found for google-colab\n"
     ]
    }
   ],
   "source": [
    "!pip install qflux"
   ]
  },
  {
   "cell_type": "code",
   "execution_count": 7,
   "id": "adfc067e",
   "metadata": {},
   "outputs": [],
   "source": [
    "import matplotlib.pyplot as plt\n",
    "from qiskit import QuantumCircuit\n",
    "from qiskit.quantum_info import SparsePauliOp\n",
    "\n",
    "from qflux.closed_systems.VarQTE import VarQITE, VarQRTE, ansatz_energy, Construct_Ansatz"
   ]
  },
  {
   "cell_type": "markdown",
   "id": "a61c0090",
   "metadata": {},
   "source": [
    "# VarQITE"
   ]
  },
  {
   "cell_type": "markdown",
   "id": "958f30fe",
   "metadata": {},
   "source": [
    "We begin with the Wick-Rotated Schrodinger equation, and apply McLachlan's Variational Principle,\n",
    "\\begin{equation}\n",
    "    \\delta ||(\\frac{d}{d\\tau} + \\mathcal{H} - E_{\\tau})\\ket{\\psi(\\tau)}|| = 0.\n",
    "\\end{equation}\n",
    "\n",
    "Assuming we have a parameterized ansatz,\n",
    "\\begin{equation}\n",
    "    \\ket{\\psi(\\tau)} = \\ket{\\psi(\\theta(\\tau))}\n",
    "\\end{equation}\n",
    "\n",
    "This simplifies to a system of linear equations,\n",
    "\\begin{equation}\n",
    "    \\sum_j A_{ij} \\dot\\theta_j = C_i,\n",
    "\\end{equation}\n",
    "\n",
    "Where,\n",
    "\\begin{equation}\n",
    "    A_{ij} = \\Re(\\frac{\\partial\\bra{\\phi(\\theta(\\tau))}}{\\partial\\theta_i}\\frac{\\partial\\ket{\\phi(\\theta(\\tau))}}{\\partial\\theta_j}),\n",
    "\\end{equation}\n",
    "and\n",
    "\\begin{equation}\n",
    "    C_i = - \\Re(\\bra{\\frac{\\partial\\phi(\\theta(\\tau))}{\\partial\\theta_i}}\\mathcal{H}\\ket{\\phi(\\theta(\\tau))}).\n",
    "\\end{equation}\n",
    "\n",
    "These $A_{ij}$ and $C_i$ values are measured in a quantum computer and used to determine how to change the paramters of the ansatz $\\theta(\\tau + d\\tau) = \\theta(\\tau) + \\dot\\theta d\\tau$ to evolve the system through imaginary time."
   ]
  },
  {
   "cell_type": "markdown",
   "id": "faba340c",
   "metadata": {},
   "source": [
    "## Demonstration\n",
    "\n",
    "\n",
    "```python\n",
    "# Define the problem Hamiltonian\n",
    "H = SparsePauliOp.from_list([(\"Z\", 1.0)])\n",
    "# Set up the initial state using a qiskit QuantumCircuit\n",
    "qc = QuantumCircuit(3)\n",
    "# Set Hyperparameters for VarQITE such as number of layers in ansatz, total evolution time, and timestep size\n",
    "layers = 0\n",
    "total_time = 10\n",
    "timestep = 0.1\n",
    "# Call VarQITE to run the time evolution and output the ansatz parameter values\n",
    "params = VarQITE(layers, H, total_time, timestep, init_circ=qc)\n",
    "\n",
    "# These parameter values can be used to measure the energy\n",
    "my_energy, my_stdev = ansatz_energy(qc, params[i], H)\n",
    "\n",
    "# Or the parameters can be used to measure custom observables\n",
    "# Define the observable\n",
    "observable = SparsePauliOp.from_list([(\"Z\", 1.0)])\n",
    "# Construct the ansatz circuit\n",
    "ansatz = Construct_Ansatz(qc, params[i], H.num_qubits)\n",
    "# Get the resulting values of the observable\n",
    "result = estimator.run(ansatz, observables=observable).result()\n",
    "```"
   ]
  },
  {
   "cell_type": "markdown",
   "id": "47234866",
   "metadata": {},
   "source": [
    "### Define the Hamiltonian of interest"
   ]
  },
  {
   "cell_type": "code",
   "execution_count": 2,
   "id": "df828b44",
   "metadata": {},
   "outputs": [],
   "source": [
    "H = SparsePauliOp.from_list([(\"IIZ\", 1.0), (\"IZI\", 1.0), (\"ZII\", 0.65), (\"IXX\", 1.0), (\"IYY\", 1.0), (\"XXI\", 0.75), (\"YYI\", 0.75)])"
   ]
  },
  {
   "cell_type": "markdown",
   "id": "04cb7adb",
   "metadata": {},
   "source": [
    "### Create the initial state and run VarQITE"
   ]
  },
  {
   "cell_type": "code",
   "execution_count": null,
   "id": "a5a29835",
   "metadata": {},
   "outputs": [
    {
     "name": "stdout",
     "output_type": "stream",
     "text": [
      "Timestep: 9.9                                      \r"
     ]
    }
   ],
   "source": [
    "qc = QuantumCircuit(3)\n",
    "qc.rx(0.5, 0)\n",
    "qc.rx(0.5, 1)\n",
    "qc.rx(0.5, 2)\n",
    "\n",
    "layers = 0\n",
    "total_time = 10\n",
    "timestep = 0.1\n",
    "params = VarQITE(layers, H, total_time, timestep, init_circ=qc)\n",
    "# Params now holds the parameter values for the ansatz at each timestep for Imaginary-Time Evolution"
   ]
  },
  {
   "cell_type": "code",
   "execution_count": 15,
   "id": "f50615b7",
   "metadata": {},
   "outputs": [
    {
     "name": "stdout",
     "output_type": "stream",
     "text": [
      "Timestep 0 Energy: (2.726775506117946, 0.15198543956298582)\n",
      "Timestep 1 Energy: (2.7218452829618265, 0.165505891073785)\n",
      "Timestep 2 Energy: (2.717865405633354, 0.1812541313618672)\n",
      "Timestep 3 Energy: (2.720977251794712, 0.19277977108898714)\n",
      "Timestep 4 Energy: (2.709067421721166, 0.22254035435291364)\n",
      "Timestep 5 Energy: (2.70088036403275, 0.2412302850941499)\n",
      "Timestep 6 Energy: (2.6854235699334725, 0.2806972445338678)\n",
      "Timestep 7 Energy: (2.674396101683743, 0.3278261155651654)\n",
      "Timestep 8 Energy: (2.6644408076372113, 0.3708108570387578)\n",
      "Timestep 9 Energy: (2.6498750231903188, 0.4339481408895738)\n",
      "Timestep 10 Energy: (2.6307377875857383, 0.512346887427781)\n",
      "Timestep 11 Energy: (2.6037848105535204, 0.5965372727567617)\n",
      "Timestep 12 Energy: (2.5745280978514162, 0.6909838885512416)\n",
      "Timestep 13 Energy: (2.5489444271678394, 0.8413790600970863)\n",
      "Timestep 14 Energy: (2.52527181294393, 0.9993195864424145)\n",
      "Timestep 15 Energy: (2.4539783814668557, 1.1932732816876266)\n",
      "Timestep 16 Energy: (2.3954314355174606, 1.444736873459397)\n",
      "Timestep 17 Energy: (2.3136958751946795, 1.7320235862585696)\n",
      "Timestep 18 Energy: (2.2326657565224552, 2.034963608918286)\n",
      "Timestep 19 Energy: (2.140577900290347, 2.383738998289778)\n",
      "Timestep 20 Energy: (2.0334436927267374, 2.8260307581457997)\n",
      "Timestep 21 Energy: (1.868327653725858, 3.2688159073779572)\n",
      "Timestep 22 Energy: (1.7146370059350686, 3.707436533135841)\n",
      "Timestep 23 Energy: (1.5412936155706678, 4.184741807583448)\n",
      "Timestep 24 Energy: (1.3568177753662798, 4.634581295029903)\n",
      "Timestep 25 Energy: (1.1690098786524532, 5.077344075600875)\n",
      "Timestep 26 Energy: (0.8938273543489477, 5.50255956926011)\n",
      "Timestep 27 Energy: (0.6274640449351186, 5.806955704494051)\n",
      "Timestep 28 Energy: (0.40441274145322215, 6.011361376692399)\n",
      "Timestep 29 Energy: (0.15116191877658886, 6.125160591147523)\n",
      "Timestep 30 Energy: (-0.09537366383059326, 6.130334214831908)\n",
      "Timestep 31 Energy: (-0.3544645436643609, 6.0489754429747205)\n",
      "Timestep 32 Energy: (-0.5852296415406097, 5.8789300758631)\n",
      "Timestep 33 Energy: (-0.8091705091339776, 5.6371699370464405)\n",
      "Timestep 34 Energy: (-1.0229383629355129, 5.3301115239137165)\n",
      "Timestep 35 Energy: (-1.196541350486121, 5.020586576734968)\n",
      "Timestep 36 Energy: (-1.3512715950835754, 4.686857687609332)\n",
      "Timestep 37 Energy: (-1.519280707290947, 4.357074260991201)\n",
      "Timestep 38 Energy: (-1.6689919407665583, 4.031813901859641)\n",
      "Timestep 39 Energy: (-1.7656673462313965, 3.7180909194045832)\n",
      "Timestep 40 Energy: (-1.9036628941045444, 3.4278238480282233)\n",
      "Timestep 41 Energy: (-1.9948342477230359, 3.1836282996300644)\n",
      "Timestep 42 Energy: (-2.0708364463408526, 2.93625587720447)\n",
      "Timestep 43 Energy: (-2.1219704742008316, 2.7496128120548917)\n",
      "Timestep 44 Energy: (-2.1999954901917373, 2.537467752262601)\n",
      "Timestep 45 Energy: (-2.2693150892881984, 2.348071325467842)\n",
      "Timestep 46 Energy: (-2.295147714690834, 2.1993120345901103)\n",
      "Timestep 47 Energy: (-2.3516976303144794, 2.0748642181064696)\n",
      "Timestep 48 Energy: (-2.3854404763301402, 1.9459447507703107)\n",
      "Timestep 49 Energy: (-2.4176812916337775, 1.8283193294328886)\n",
      "Timestep 50 Energy: (-2.462600163292475, 1.7360708273130943)\n",
      "Timestep 51 Energy: (-2.491415437290841, 1.6400997920245457)\n",
      "Timestep 52 Energy: (-2.5251962122295852, 1.5439085796330163)\n",
      "Timestep 53 Energy: (-2.541899235855131, 1.4722158344016307)\n",
      "Timestep 54 Energy: (-2.5470863036398215, 1.4022262346499739)\n",
      "Timestep 55 Energy: (-2.5602512964385697, 1.352440038494037)\n",
      "Timestep 56 Energy: (-2.592878668992861, 1.279097670090958)\n",
      "Timestep 57 Energy: (-2.5908000686303563, 1.23154364786122)\n",
      "Timestep 58 Energy: (-2.6307195743983223, 1.1680555447362009)\n",
      "Timestep 59 Energy: (-2.623032290589092, 1.1267060221220477)\n",
      "Timestep 60 Energy: (-2.635496073838267, 1.0914903300535483)\n",
      "Timestep 61 Energy: (-2.6341991999336463, 1.0568987162416725)\n",
      "Timestep 62 Energy: (-2.658178516649885, 1.0135247925591129)\n",
      "Timestep 63 Energy: (-2.659044432046082, 0.9947616686315071)\n",
      "Timestep 64 Energy: (-2.6736618043520823, 0.960525174517616)\n",
      "Timestep 65 Energy: (-2.6730588546756375, 0.9336438663777145)\n",
      "Timestep 66 Energy: (-2.6831472240967824, 0.8904426249283928)\n",
      "Timestep 67 Energy: (-2.697804996157205, 0.872920448683594)\n",
      "Timestep 68 Energy: (-2.6926904528162217, 0.8489799083738419)\n",
      "Timestep 69 Energy: (-2.7089787211515857, 0.8273389102041842)\n",
      "Timestep 70 Energy: (-2.711282931721928, 0.7956301707241265)\n",
      "Timestep 71 Energy: (-2.7181093009018795, 0.7750606468391528)\n",
      "Timestep 72 Energy: (-2.7038964429478005, 0.7569050245408233)\n",
      "Timestep 73 Energy: (-2.72165776088295, 0.7377750696485688)\n",
      "Timestep 74 Energy: (-2.726830472004933, 0.7113839922082263)\n",
      "Timestep 75 Energy: (-2.7271282635413137, 0.69495359505175)\n",
      "Timestep 76 Energy: (-2.7298910323702765, 0.6690855808220944)\n",
      "Timestep 77 Energy: (-2.7441015059106597, 0.6535139325200126)\n",
      "Timestep 78 Energy: (-2.7367298496730803, 0.6470755867764852)\n",
      "Timestep 79 Energy: (-2.739765445159655, 0.6232434527461193)\n",
      "Timestep 80 Energy: (-2.7479576239761174, 0.6023381664303571)\n",
      "Timestep 81 Energy: (-2.757253056500298, 0.5879102043373425)\n",
      "Timestep 82 Energy: (-2.7506681483429714, 0.5715086608090933)\n",
      "Timestep 83 Energy: (-2.7406898536224564, 0.560038381007594)\n",
      "Timestep 84 Energy: (-2.748623366513493, 0.5442702984736068)\n",
      "Timestep 85 Energy: (-2.7473347572347215, 0.5405693562787928)\n",
      "Timestep 86 Energy: (-2.7589273945189934, 0.531461668679845)\n",
      "Timestep 87 Energy: (-2.7623373620710865, 0.5287169265134022)\n",
      "Timestep 88 Energy: (-2.7563694728983297, 0.5258313719267758)\n",
      "Timestep 89 Energy: (-2.7498588980299408, 0.520006513505364)\n",
      "Timestep 90 Energy: (-2.748826529186735, 0.5165633274367858)\n",
      "Timestep 91 Energy: (-2.7548744750125462, 0.5151241378501599)\n",
      "Timestep 92 Energy: (-2.753147586424578, 0.5143847753195283)\n",
      "Timestep 93 Energy: (-2.762993769536977, 0.5097094659776884)\n",
      "Timestep 94 Energy: (-2.7573397688936225, 0.5128944365012682)\n",
      "Timestep 95 Energy: (-2.7633164028349886, 0.5117666641771388)\n",
      "Timestep 96 Energy: (-2.757446952062509, 0.5107614020749356)\n",
      "Timestep 97 Energy: (-2.7697473339791165, 0.49760268550793896)\n",
      "Timestep 98 Energy: (-2.759964225393643, 0.48608665470162116)\n",
      "Timestep 99 Energy: (-2.7661569590167554, 0.48296012002763433)\n",
      "Timestep 100 Energy: (-2.7721400137307075, 0.47942061097490285)\n"
     ]
    },
    {
     "data": {
      "image/png": "[encoded data removed]",
      "text/plain": [
       "<Figure size 640x480 with 1 Axes>"
      ]
     },
     "metadata": {},
     "output_type": "display_data"
    }
   ],
   "source": [
    "all_energies = []\n",
    "for i in range(len(params)):\n",
    "    print(f\"Timestep {i} Energy: {ansatz_energy(qc, params[i], H)}\")\n",
    "    all_energies.append(ansatz_energy(qc, params[i], H)[0])\n",
    "\n",
    "plt.title(\"VarQITE Energy Over Imaginary Time\")\n",
    "plt.plot([i*timestep for i in range(int(total_time/timestep)+1)], all_energies)\n",
    "plt.xlabel(\"Imaginary Time\")\n",
    "plt.ylabel(\"Energy (eV)\")\n",
    "plt.show()"
   ]
  },
  {
   "cell_type": "markdown",
   "id": "1b419156",
   "metadata": {},
   "source": [
    "The Variational Quantum Imaginary Time Evolution (VarQITE) algorithm will converge to the ground state of a system as it is evolved through imaginary time, given that the ansatz is large enough.  This can be used to estimate the ground state energy of a system by measuring the energy of the system at long imaginary-time, as can be seen above."
   ]
  },
  {
   "cell_type": "markdown",
   "id": "e03ea185",
   "metadata": {},
   "source": [
    "# VarQRTE"
   ]
  },
  {
   "cell_type": "markdown",
   "id": "84aafb7b",
   "metadata": {},
   "source": [
    "We begin with the Schrodinger equation, and apply McLachlan's Variational Principle,\n",
    "\\begin{equation}\n",
    "    \\delta ||(\\frac{d}{dt} -i\\mathcal{H} - E_{t})\\ket{\\psi(t)}|| = 0.\n",
    "\\end{equation}\n",
    "\n",
    "Assuming we have a parameterized ansatz,\n",
    "\\begin{equation}\n",
    "    \\ket{\\psi(t)} = \\ket{\\psi(\\theta(t))}\n",
    "\\end{equation}\n",
    "\n",
    "This simplifies to a system of linear equations,\n",
    "\\begin{equation}\n",
    "    \\sum_j A_{ij} \\dot\\theta_j = C_i,\n",
    "\\end{equation}\n",
    "\n",
    "Where,\n",
    "\\begin{equation}\n",
    "    A_{ij} = \\Re(\\frac{\\partial\\bra{\\phi(\\theta(t))}}{\\partial\\theta_i}\\frac{\\partial\\ket{\\phi(\\theta(t))}}{\\partial\\theta_j}),\n",
    "\\end{equation}\n",
    "and\n",
    "\\begin{equation}\n",
    "    C_i = - \\Im(\\bra{\\frac{\\partial\\phi(\\theta(t))}{\\partial\\theta_i}}\\mathcal{H}\\ket{\\phi(\\theta(t))}).\n",
    "\\end{equation}\n",
    "\n",
    "These $A_{ij}$ and $C_i$ values are measured in a quantum computer and used to determine how to change the paramters of the ansatz $\\theta(t+dt) = \\theta(t) + \\dot\\theta dt$ to evolve the system through real time."
   ]
  },
  {
   "cell_type": "markdown",
   "id": "0493f669",
   "metadata": {},
   "source": [
    "## Demonstration\n",
    "\n",
    "\n",
    "```python\n",
    "# Define the problem Hamiltonian\n",
    "H = SparsePauliOp.from_list([(\"Z\", 1.0)])\n",
    "# Set up the initial state using a qiskit QuantumCircuit\n",
    "qc = QuantumCircuit(3)\n",
    "# Set Hyperparameters for VarQRTE such as number of layers in ansatz, total evolution time, and timestep size\n",
    "layers = 0\n",
    "total_time = 10\n",
    "timestep = 0.1\n",
    "# Call VarQRTE to run the time evolution and output the ansatz parameter values\n",
    "params = VarQRTE(layers, H, total_time, timestep, init_circ=qc)\n",
    "\n",
    "# These parameter values can be used to measure the energy\n",
    "my_energy, my_stdev = ansatz_energy(qc, params[i], H)\n",
    "\n",
    "# Or the parameters can be used to measure custom observables\n",
    "# Define the observable\n",
    "observable = SparsePauliOp.from_list([(\"Z\", 1.0)])\n",
    "# Construct the ansatz circuit\n",
    "ansatz = Construct_Ansatz(qc, params[i], H.num_qubits)\n",
    "# Get the resulting values of the observable\n",
    "result = estimator.run(ansatz, observables=observable).result()\n",
    "```"
   ]
  },
  {
   "cell_type": "markdown",
   "id": "97e2bac5",
   "metadata": {},
   "source": [
    "### Create the initial state and run VarQRTE"
   ]
  },
  {
   "cell_type": "code",
   "execution_count": 38,
   "id": "c89a9e4b",
   "metadata": {},
   "outputs": [],
   "source": [
    "H = SparsePauliOp.from_list([(\"X\", 1.0)])"
   ]
  },
  {
   "cell_type": "code",
   "execution_count": 46,
   "id": "3a851e55",
   "metadata": {},
   "outputs": [
    {
     "name": "stdout",
     "output_type": "stream",
     "text": [
      "Simulating Time=12.0    0000000001     \r"
     ]
    }
   ],
   "source": [
    "qc = QuantumCircuit(1)\n",
    "qc.x(0) # Creates |1> state\n",
    "\n",
    "layers = 1\n",
    "total_time = 12\n",
    "timestep = 0.1\n",
    "params = VarQRTE(layers, H, total_time, timestep, init_circ=qc)\n",
    "# Params now holds the parameter values for the ansatz at each timestep for Real-Time Evolution"
   ]
  },
  {
   "cell_type": "code",
   "execution_count": 47,
   "id": "eb5fd0c8",
   "metadata": {},
   "outputs": [
    {
     "data": {
      "image/png": "[encoded data removed]",
      "text/plain": [
       "<Figure size 640x480 with 1 Axes>"
      ]
     },
     "metadata": {},
     "output_type": "display_data"
    }
   ],
   "source": [
    "from qiskit.primitives import Estimator\n",
    "\n",
    "estimator = Estimator()\n",
    "observable = SparsePauliOp.from_list([(\"Z\", 1.0)])\n",
    "spin1_values = []\n",
    "spin2_values = []\n",
    "for i in range(len(params)):\n",
    "    ansatz = Construct_Ansatz(qc, params[i], H.num_qubits)\n",
    "    result = estimator.run(ansatz, observables=observable).result()\n",
    "    spin1_values.append(result.values[0])\n",
    "\n",
    "plt.title(\"Spin Expectation Value Over Time\")\n",
    "plt.plot([i*timestep for i in range(int(total_time/timestep)+1)], spin1_values)\n",
    "plt.xlabel(\"Time\")\n",
    "plt.ylabel(\"Expectation Value\")\n",
    "plt.show()"
   ]
  },
  {
   "cell_type": "markdown",
   "id": "a78df746",
   "metadata": {},
   "source": [
    "This result matches our intuition that the evolution of the system provided above should follow a sine wave as it is evolved through real-time."
   ]
  }
 ],
 "metadata": {
  "kernelspec": {
   "display_name": "Qiskit_0_46_1",
   "language": "python",
   "name": "python3"
  },
  "language_info": {
   "codemirror_mode": {
    "name": "ipython",
    "version": 3
   },
   "file_extension": ".py",
   "mimetype": "text/x-python",
   "name": "python",
   "nbconvert_exporter": "python",
   "pygments_lexer": "ipython3",
   "version": "3.11.9"
  }
 },
 "nbformat": 4,
 "nbformat_minor": 5
}
