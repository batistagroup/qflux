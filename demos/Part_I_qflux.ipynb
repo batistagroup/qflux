{
  "cells": [
    {
      "cell_type": "markdown",
      "id": "1dbbec83",
      "metadata": {
        "id": "1dbbec83"
      },
      "source": [
        "# Closed Systems QFlux Demonstration Notebook"
      ]
    },
    {
      "cell_type": "code",
      "source": [
        "!pip install qflux"
      ],
      "metadata": {
        "id": "2jcQMA0eH-bb"
      },
      "id": "2jcQMA0eH-bb",
      "execution_count": null,
      "outputs": []
    },
    {
      "cell_type": "code",
      "source": [
        "!apt-get install texlive-latex-base texlive-latex-extra cm-super dvipng"
      ],
      "metadata": {
        "id": "2mDlKrlWOFS7"
      },
      "id": "2mDlKrlWOFS7",
      "execution_count": null,
      "outputs": []
    },
    {
      "cell_type": "code",
      "execution_count": null,
      "id": "f14a04f6",
      "metadata": {
        "id": "f14a04f6"
      },
      "outputs": [],
      "source": [
        "# Imports\n",
        "import matplotlib.pyplot as plt\n",
        "import qutip as qt\n",
        "import numpy as np\n",
        "# Jupyter Plotting Preamble...\n",
        "use_latex = True\n",
        "# To use Latex:\n",
        "if use_latex:\n",
        "    plt.rcParams['text.usetex']      = True\n",
        "    plt.rcParams['font.family']      = 'Computer Modern Serif'\n",
        "    plt.rcParams['font.serif']       = ['Computer Modern Roman']\n",
        "    plt.rcParams['mathtext.bf']      = 'serif:bold'\n",
        "    plt.rcParams['mathtext.fontset'] = 'cm'\n",
        "    plt.rcParams['mathtext.default'] = 'it'\n",
        "# To not use Latex:\n",
        "else:\n",
        "    plt.rcParams['text.usetex']      = False\n",
        "    plt.rcParams['font.family']      = 'serif'\n",
        "    plt.rcParams['font.serif']       = 'Palatino'\n",
        "\n",
        "# Figure Saving Parameters\n",
        "plt.rcParams['savefig.dpi']         = 300        # DPI of figure output\n",
        "plt.rcParams['savefig.transparent'] = True       # Save figure with transparent background\n",
        "#----------------- Figure Size ------------------#\n",
        "plt.rcParams['figure.figsize']      = (11.7/1.5, 8.3/1.5)# Figure Size - Adjust as necessary\n",
        "#------------------ Line Plot -------------------#\n",
        "plt.rcParams['lines.markersize']    = 4          # Marker size for scatterplots\n",
        "plt.rcParams['lines.linewidth']     = 1.2        # linewidth\n",
        "#------------------ Font Size -------------------#\n",
        "plt.rcParams['font.size']           = 20         # default font size\n",
        "plt.rcParams['legend.fontsize']     = 20         # Font size for legend\n",
        "plt.rcParams['axes.labelsize']      = 22         # Font size for tick labels (ticklabels)\n",
        "plt.rcParams['axes.titlesize']      = 22         # Font size for axis labels (.xlabel/.ylabel)\n",
        "plt.rcParams['image.aspect']        = 1.0        # Image Aspect Ratio (plt.imshow)\n",
        "plt.rcParams['image.resample']      = False      # Whether to resample\n",
        "%matplotlib inline\n",
        "%config InlineBackend.figure_formats = ['svg']   # Display figures inline as SVG (or 'pdf', 'png', ...)"
      ]
    },
    {
      "cell_type": "code",
      "execution_count": null,
      "id": "dcc0c74e",
      "metadata": {
        "id": "dcc0c74e"
      },
      "outputs": [],
      "source": [
        "import qflux"
      ]
    },
    {
      "cell_type": "code",
      "execution_count": null,
      "id": "05a142d9",
      "metadata": {
        "id": "05a142d9"
      },
      "outputs": [],
      "source": [
        "from qflux.closed_systems import DynamicsCS, QubitDynamicsCS"
      ]
    },
    {
      "cell_type": "markdown",
      "id": "4c14a524",
      "metadata": {
        "id": "4c14a524"
      },
      "source": [
        "## Harmonic Oscillator Dynamics with Qflux [3.1]"
      ]
    },
    {
      "cell_type": "code",
      "execution_count": null,
      "id": "5dc09e43",
      "metadata": {
        "id": "5dc09e43"
      },
      "outputs": [],
      "source": [
        "from qflux.closed_systems import DynamicsCS\n",
        "\n",
        "qho_dyn_obj = DynamicsCS(n_basis=128, xo=1.0, po=0.0, mass=1.0, omega=1.0)\n",
        "qho_dyn_obj.set_coordinate_operators()\n",
        "qho_dyn_obj.initialize_operators()\n",
        "qho_dyn_obj.set_initial_state(wfn_omega=0.2)\n",
        "\n",
        "total_time = 20.0\n",
        "N_steps    = 400\n",
        "\n",
        "qho_dyn_obj.set_propagation_time(total_time, N_steps)\n",
        "qho_dyn_obj.set_hamiltonian(potential_type='harmonic')\n",
        "qho_dyn_obj.propagate_qt()\n",
        "qho_dyn_obj.propagate_SOFT()"
      ]
    },
    {
      "cell_type": "code",
      "source": [
        "exp_x_qt = qt.expect(qho_dyn_obj.x_op, qho_dyn_obj.dynamics_results_op)\n",
        "exp_p_qt = qt.expect(qho_dyn_obj.p_op, qho_dyn_obj.dynamics_results_op)\n",
        "\n",
        "exp_x_ana = [ qho_dyn_obj.xo*np.cos(qho_dyn_obj.omega*t) + (qho_dyn_obj.po/qho_dyn_obj.mass/qho_dyn_obj.omega)*np.sin(qho_dyn_obj.omega*t) for t in qho_dyn_obj.tlist]\n",
        "exp_p_ana = [ qho_dyn_obj.po*np.cos(qho_dyn_obj.omega*t) -qho_dyn_obj.xo*qho_dyn_obj.omega*qho_dyn_obj.mass*np.sin(qho_dyn_obj.omega*t)  for t in qho_dyn_obj.tlist]\n",
        "\n",
        "# Plot expectation value, compare to analytic expression\n",
        "plt.figure(figsize=(9, 6.5))\n",
        "plt.plot(qho_dyn_obj.tlist, exp_x_qt, label=r'$\\left\\langle x \\right\\rangle$ (QuTiP)', color='dodgerblue')\n",
        "plt.plot(qho_dyn_obj.tlist, exp_x_ana, label=r'$\\left\\langle x \\right\\rangle$ (Analytic)',\n",
        "         lw=0, marker='x', markevery=10, color='dodgerblue', ms=8)\n",
        "plt.plot(qho_dyn_obj.tlist, exp_p_qt, label=r'$\\left\\langle p \\right\\rangle$ (QuTiP)', color='crimson')\n",
        "plt.plot(qho_dyn_obj.tlist, exp_p_ana, label=r'$\\left\\langle p \\right\\rangle$ (Analytic)',\n",
        "         lw=0, marker='x', markevery=10, color='crimson', ms=8)\n",
        "plt.ylim(-1.55, 1.70)\n",
        "\n",
        "plt.legend(ncols=2, loc='upper center')\n",
        "plt.hlines([-1, 0, 1], min(qho_dyn_obj.tlist), max(qho_dyn_obj.tlist), ls='--', lw=0.85, color='tab:grey', zorder=2)\n",
        "plt.xlim(min(qho_dyn_obj.tlist), max(qho_dyn_obj.tlist))\n",
        "plt.xlabel('Time')"
      ],
      "metadata": {
        "id": "II75fWq0d2iN"
      },
      "id": "II75fWq0d2iN",
      "execution_count": null,
      "outputs": []
    },
    {
      "cell_type": "markdown",
      "id": "683fe015",
      "metadata": {
        "id": "683fe015"
      },
      "source": [
        "## Adenine-Thymine Proton-Transfer Dynamics with Qflux [4.4]"
      ]
    },
    {
      "cell_type": "code",
      "execution_count": null,
      "id": "2263d532",
      "metadata": {
        "id": "2263d532"
      },
      "outputs": [],
      "source": [
        "from qflux.closed_systems import QubitDynamicsCS\n",
        "from qflux.closed_systems.utils import get_proton_mass, convert_fs_to_au, convert_eV_to_au, convert_au_to_fs\n",
        "from qiskit_aer import Aer\n",
        "# Conversion factor\n",
        "ev2au = convert_eV_to_au(1.0)\n",
        "\n",
        "# Utility Functions:\n",
        "def get_doublewell_potential(x, x0=1.9592, f=ev2au, a0=0.0, a1=0.429, a2=-1.126, a3=-0.143, a4=0.563):\n",
        "    # A-T pair double-well potential in Hartrees (x is in Bohr)\n",
        "    xi = x/x0\n",
        "    return f*(a0 + a1*xi + a2*xi**2 + a3*xi**3 + a4*xi**4)\n",
        "\n",
        "\n",
        "def get_doublewell_potential_second_deriv(x, x0=1.9592, f=ev2au, a0=0.0, a1=0.429, a2=-1.126, a3=-0.143, a4=0.563):\n",
        "    # A-T pair double-well potential in Hartrees (x is in Bohr)\n",
        "    return f*(2*a2/x0**2 + 6*a3*x/x0**3 + 12*a4*x**2/x0**4)\n",
        "\n",
        "proton_mass = get_proton_mass()\n",
        "x0      = 1.9592\n",
        "N_steps = 3000\n",
        "\n",
        "# frequency corresponding to the right well (in atomic units)\n",
        "omega = np.sqrt(get_doublewell_potential_second_deriv(x0)/proton_mass)\n",
        "AT_dyn_obj  = QubitDynamicsCS(n_basis=128, xo=1.5*x0, mass=proton_mass, omega=omega)\n",
        "\n",
        "AT_dyn_obj.set_coordinate_operators(x_min=-4.0, x_max=4.0)\n",
        "AT_dyn_obj.initialize_operators()\n",
        "AT_dyn_obj.set_initial_state(wfn_omega=omega)\n",
        "\n",
        "total_time = convert_fs_to_au(30.0)\n",
        "AT_dyn_obj.set_propagation_time(total_time, N_steps)\n",
        "AT_dyn_obj.set_hamiltonian(potential_type='quartic')\n",
        "\n",
        "AT_dyn_obj.propagate_SOFT()\n",
        "AT_dyn_obj.propagate_qt()\n",
        "\n",
        "# Instantiate a backend object:\n",
        "backend = Aer.get_backend('statevector_simulator')\n",
        "AT_dyn_obj.propagate_qSOFT(backend=backend) # always shows progress bar"
      ]
    },
    {
      "cell_type": "code",
      "source": [
        "# Checking the potential and initial coherent state:\n",
        "fig, ax = plt.subplots(dpi=300)\n",
        "ax.plot(AT_dyn_obj.x_grid, AT_dyn_obj._PE_grid  - get_doublewell_potential(x0) - omega/2, '-',color='black',label='A-T Basepair Potential')\n",
        "ax.plot(AT_dyn_obj.x_grid, np.real(0.04*AT_dyn_obj.psio_grid.conj()*AT_dyn_obj.psio_grid),'--',color='red',label='Initial Coherent State')\n",
        "ax.axhline(0, lw=0.5, color='black', alpha=1.0)\n",
        "ax.axvline(-AT_dyn_obj.x0, lw=0.5, color='black', alpha=0.5)\n",
        "ax.axvline(AT_dyn_obj.x0, lw=0.5, color='black', alpha=0.5)\n",
        "ax.axvline(AT_dyn_obj.x0*1.5, lw=0.5, color='red', alpha=0.5)\n",
        "ax.set_xlabel(r'$x$, Bohr',fontsize=18)\n",
        "ax.set_ylabel('Energy, Hartrees',fontsize=18)\n",
        "ax.tick_params(labelsize=16, grid_alpha=0.5)\n",
        "plt.ylim(-0.03,0.07)\n",
        "plt.legend(fontsize=14,loc='upper center')\n",
        "plt.show()"
      ],
      "metadata": {
        "id": "sa2x_O0aMdOc"
      },
      "id": "sa2x_O0aMdOc",
      "execution_count": null,
      "outputs": []
    },
    {
      "cell_type": "code",
      "source": [
        "# Plotting the states\n",
        "from scipy.interpolate import interp1d\n",
        "\n",
        "x_1024 = np.linspace(AT_dyn_obj.x_grid[0], AT_dyn_obj.x_grid[-1], AT_dyn_obj.n_basis)\n",
        "f_interp = interp1d(AT_dyn_obj.x_grid, AT_dyn_obj.dynamics_results_grid[-1], kind='cubic')\n",
        "rho_interp = f_interp(x_1024)\n",
        "\n",
        "fig, ax = plt.subplots()\n",
        "ax.plot(AT_dyn_obj.x_grid, AT_dyn_obj._PE_grid  - get_doublewell_potential(x0) - omega/2, '-',color='black',label='A-T Basepair Potential')\n",
        "ax.plot(AT_dyn_obj.x_grid, 0.04*np.real(AT_dyn_obj.psio_grid.conj()*AT_dyn_obj.psio_grid),'--',color='red',label='Initial Coherent State')\n",
        "ax.plot(x_1024, 0.04*np.real(rho_interp.conj()*rho_interp),'-',color='blue',label=f'State at t = {convert_au_to_fs(total_time)} fs')\n",
        "ax.axhline(0, lw=0.5, color='black', alpha=1.0)\n",
        "ax.axvline(-x0, lw=0.5, color='black', alpha=0.5)\n",
        "ax.axvline(x0, lw=0.5, color='black', alpha=0.5)\n",
        "ax.axvline(x0*1.5, lw=0.5, color='red', alpha=0.5)\n",
        "ax.set_xlabel('$x$, Bohr',fontsize=18)\n",
        "ax.set_ylabel('Energy, Hartrees',fontsize=18)\n",
        "ax.tick_params(labelsize=16, grid_alpha=0.5)\n",
        "plt.ylim(-0.03,0.07)\n",
        "plt.legend(fontsize=14,loc='upper center')\n",
        "plt.show()"
      ],
      "metadata": {
        "id": "ddExw6ZaMwXs"
      },
      "id": "ddExw6ZaMwXs",
      "execution_count": null,
      "outputs": []
    },
    {
      "cell_type": "code",
      "source": [
        "from qflux.closed_systems.utils import calculate_expectation_values\n",
        "exp_x_grid = calculate_expectation_values(AT_dyn_obj.dynamics_results_grid, AT_dyn_obj.x_grid)\n"
      ],
      "metadata": {
        "id": "N0hhUyloPDT7"
      },
      "id": "N0hhUyloPDT7",
      "execution_count": null,
      "outputs": []
    },
    {
      "cell_type": "code",
      "source": [
        "# Plot expectation value of the position <X>\n",
        "fig, ax = plt.subplots(1, 1, figsize=(9, 6.5))\n",
        "plt.plot(AT_dyn_obj.tlist, exp_x_grid, label=r'$\\left\\langle x \\right\\rangle$ (SOFT)',\n",
        "         lw=0, marker='x', markevery=20, color='dodgerblue', ms=8)\n",
        "# plt.ylim(-1.55, 1.55)\n",
        "ax.axhline(-AT_dyn_obj.x0, ls='--', lw=0.5, color='black', alpha=0.5)\n",
        "ax.axhline(AT_dyn_obj.x0, ls='--', lw=0.5, color='black', alpha=0.5)\n",
        "ax.annotate(r'\\textbf{Reactant Well}', xy = (-90, 3.1),\n",
        "            xycoords='data', fontsize=16, weight='bold')\n",
        "ax.annotate(r'\\textbf{Product Well}', xy = (1000, -2.25),\n",
        "            xycoords='data', fontsize=16, weight='bold')\n",
        "# plt.text(20, test.x0-0.1, 'Reactant well', fontsize = 12, backgroundcolor='white', )\n",
        "# plt.text(5, -test.x0-0.1, 'Product well', fontsize = 12, backgroundcolor='white')\n",
        "\n",
        "plt.ylim(-2.5, 3.5)\n",
        "plt.xlim(-100, max(AT_dyn_obj.tlist) + 100)\n",
        "plt.ylabel(r'$\\left\\langle x \\right\\rangle$', fontsize=18)\n",
        "plt.xlabel(r'Time', fontsize=18)\n",
        "# plt.legend(ncols=2, loc='upper center')\n",
        "# plt.xlim(min(test.tlist), max(test.tlist))"
      ],
      "metadata": {
        "id": "IsLhU_9ePCwD"
      },
      "id": "IsLhU_9ePCwD",
      "execution_count": null,
      "outputs": []
    },
    {
      "cell_type": "markdown",
      "id": "d33faf4f",
      "metadata": {
        "id": "d33faf4f"
      },
      "source": [
        "## Hamiltonian Simulation [4.14]"
      ]
    },
    {
      "cell_type": "code",
      "execution_count": null,
      "id": "454293ff",
      "metadata": {
        "id": "454293ff"
      },
      "outputs": [],
      "source": [
        "from qiskit_aer import Aer\n",
        "from qiskit import QuantumCircuit, QuantumRegister, transpile\n",
        "from qiskit.visualization import plot_histogram\n",
        "from qflux import hamiltonian_simulation\n",
        "\n",
        "# Initialize circuit\n",
        "qr = QuantumRegister(2)\n",
        "qc = QuantumCircuit(qr)\n",
        "\n",
        "# Define Hamiltonian: H = 0.5 * ZZ + 0.3 * YY\n",
        "hamiltonian = {\n",
        "    \"ZZ\": 0.5,\n",
        "    \"YY\": 0.3,\n",
        "}\n",
        "# Build the Hamiltonian evolution circuit\n",
        "t = np.pi / 4  # evolution time\n",
        "trotter_steps = 1\n",
        "U = hamiltonian_simulation(hamiltonian, quantum_register=qr, t=t, trotter_number=trotter_steps)\n",
        "\n",
        "# Initialize a uniform superposition, add propagator and measurements\n",
        "qc.h(qr)\n",
        "qc.append(U,qr)\n",
        "qc.measure_all()\n",
        "\n",
        "# Simulate circuit\n",
        "sim = Aer.get_backend(\"aer_simulator\")\n",
        "qobj = transpile(qc, sim)\n",
        "result = sim.run(qobj).result()\n",
        "counts = result.get_counts()\n",
        "# Plot the result\n",
        "print(\"Measurement counts:\", counts)\n",
        "\n",
        "# Draw circuit\n",
        "qc.decompose().draw()"
      ]
    },
    {
      "cell_type": "markdown",
      "id": "69c96988",
      "metadata": {
        "id": "69c96988"
      },
      "source": [
        "## QFlux Statevector Simulation for Spin Chain Dynamics [4.24]"
      ]
    },
    {
      "cell_type": "code",
      "execution_count": null,
      "id": "2bc7f6bf",
      "metadata": {
        "id": "2bc7f6bf"
      },
      "outputs": [],
      "source": [
        "from qflux.closed_systems.spin_dynamics_oo import SpinDynamicsS\n",
        "\n",
        "num_q = 3\n",
        "evolution_timestep = 0.1\n",
        "n_trotter_steps = 1\n",
        "hamiltonian_coefficients = [[0.75 / 2, 0.75 / 2, 0.0, 0.65]] + [\n",
        "    [0.5, 0.5, 0.0, 1.0] for _ in range(num_q - 1)\n",
        "]\n",
        "initial_state = \"011\"  # Specify the initial state as a binary string\n",
        "\n",
        "csimulation = SpinDynamicsS(\n",
        "    num_q,\n",
        "    evolution_timestep,\n",
        "    n_trotter_steps,\n",
        "    hamiltonian_coefficients,\n",
        ")\n",
        "csimulation.run_dynamics(nsteps=250, state_string=initial_state)\n",
        "csimulation.save_results(f\"{num_q}_spin_chain\")\n",
        "plt.rcParams['lines.markersize']    = 4\n",
        "csimulation.plot_results(f\"{num_q}_spin_chain_statevector\")"
      ]
    },
    {
      "cell_type": "markdown",
      "id": "5a84cb7e",
      "metadata": {
        "id": "5a84cb7e"
      },
      "source": [
        "## QFlux Simulation for Spin Chain using Hadamard Test [4.42]\n",
        "\n",
        "**WARNING**: This cell takes ~30 minutes to execute on Google Colab - grab a coffee!"
      ]
    },
    {
      "cell_type": "code",
      "execution_count": null,
      "id": "8a60a25f",
      "metadata": {
        "id": "8a60a25f"
      },
      "outputs": [],
      "source": [
        "from qflux.closed_systems.spin_dynamics_oo import SpinDynamicsH\n",
        "\n",
        "num_q = 3\n",
        "evolution_timestep = 0.1\n",
        "n_trotter_steps = 1\n",
        "hamiltonian_coefficients = [[0.75 / 2, 0.75 / 2, 0.0, 0.65]] + [\n",
        "[0.5, 0.5, 0.0, 1.0] for _ in range(num_q - 1)\n",
        "]\n",
        "initial_state = \"011\"  # Specify the initial state as a binary string\n",
        "\n",
        "qsimulation = SpinDynamicsH(\n",
        "    num_q,\n",
        "    evolution_timestep,\n",
        "    n_trotter_steps,\n",
        "    hamiltonian_coefficients,\n",
        ")\n",
        "qsimulation.run_simulation(state_string=initial_state, total_time=25, num_shots=100)\n",
        "qsimulation.save_results('hadamard_test')\n",
        "qsimulation.plot_results('hadamard_test')"
      ]
    },
    {
      "cell_type": "code",
      "source": [
        "qsimulation.save_results('hadamard_test')\n",
        "qsimulation.plot_results('hadamard_test')"
      ],
      "metadata": {
        "id": "-BP9YfKBdAWL"
      },
      "id": "-BP9YfKBdAWL",
      "execution_count": null,
      "outputs": []
    },
    {
      "cell_type": "markdown",
      "id": "15a016f8",
      "metadata": {
        "id": "15a016f8"
      },
      "source": [
        "## Variation Quantum Real Time Evolution with QFlux [6.1]"
      ]
    },
    {
      "cell_type": "code",
      "execution_count": null,
      "id": "e7af7434",
      "metadata": {
        "id": "e7af7434"
      },
      "outputs": [],
      "source": [
        "# --- Imports and Setups ---\n",
        "'''\n",
        "Modules:\n",
        "- VarQRTE: Variational algorithm to simulate real-time dynamics.\n",
        "- SparsePauliOp: Efficient representation of Hamiltonians.\n",
        "'''\n",
        "import matplotlib.pyplot as plt\n",
        "from qiskit import QuantumCircuit\n",
        "from qiskit.quantum_info import SparsePauliOp\n",
        "from qiskit_aer.primitives import EstimatorV2 as Estimator\n",
        "from qflux.closed_systems.VarQTE import VarQRTE, Construct_Ansatz\n",
        "\n",
        "# --- Define the Hamiltonian ---\n",
        "H = SparsePauliOp.from_list([(\"X\", 1.0)])\n",
        "\n",
        "# --- Define the Initial State ---\n",
        "qc = QuantumCircuit(1)\n",
        "qc.x(0) # Creates |1> state\n",
        "\n",
        "# --- Perform Variational Real-Time Evolution ---\n",
        "layers = 1\n",
        "total_time = 12\n",
        "timestep = 0.1\n",
        "params = VarQRTE(layers, H, total_time, timestep, init_circ=qc)\n",
        "# Params now holds the parameter values for the ansatz at each timestep\n",
        "\n",
        "# --- Get the Expectation Values of an Observable ---\n",
        "estimator = Estimator()\n",
        "observable = SparsePauliOp.from_list([(\"Z\", 1.0)])\n",
        "spin1_values = []\n",
        "spin2_values = []\n",
        "for i in range(len(params)):\n",
        "    ansatz = Construct_Ansatz(qc, params[i], H.num_qubits)\n",
        "    result = estimator.run([(ansatz, observable)]).result()\n",
        "    spin1_values.append(result[0].data.evs)\n",
        "\n",
        "# --- Plot Expectation Values Over Time ---\n",
        "plt.title(\"Spin Expectation Value Over Time\")\n",
        "plt.plot([i*timestep for i in range(int(total_time/timestep)+1)], spin1_values)\n",
        "plt.xlabel(\"Time\")\n",
        "plt.ylabel(\"Expectation Value\")\n",
        "plt.show()\n"
      ]
    },
    {
      "cell_type": "markdown",
      "id": "388cf3b8",
      "metadata": {
        "id": "388cf3b8"
      },
      "source": [
        "## Variation Quantum Imaginary Time Evolution with QFlux [6.2]"
      ]
    },
    {
      "cell_type": "code",
      "execution_count": null,
      "id": "315d5adb",
      "metadata": {
        "id": "315d5adb"
      },
      "outputs": [],
      "source": [
        "# --- Imports and Setups ---\n",
        "'''\n",
        "Modules:\n",
        "- VarQITE: Variational algorithm to simulate imaginary-time dynamics.\n",
        "- SparsePauliOp: Efficient representation of Hamiltonians.\n",
        "'''\n",
        "import matplotlib.pyplot as plt\n",
        "from qiskit import QuantumCircuit\n",
        "from qiskit.quantum_info import SparsePauliOp\n",
        "\n",
        "from qflux.closed_systems.VarQTE import VarQITE, ansatz_energy\n",
        "\n",
        "# --- Define the Hamiltonian ---\n",
        "H = SparsePauliOp.from_list([(\"IIZ\", 1.0), (\"IZI\", 1.0), (\"ZII\", 0.65), (\"IXX\", 1.0), (\"IYY\", 1.0), (\"XXI\", 0.75), (\"YYI\", 0.75)])\n",
        "\n",
        "# --- Define the Initial State ---\n",
        "qc = QuantumCircuit(3)\n",
        "qc.rx(0.5, 0)\n",
        "qc.rx(0.5, 1)\n",
        "qc.rx(0.5, 2)\n",
        "\n",
        "# --- Perform Variational Real-Time Evolution ---\n",
        "layers = 0\n",
        "total_time = 10\n",
        "timestep = 0.1\n",
        "params = VarQITE(layers, H, total_time, timestep, init_circ=qc)\n",
        "# Params now holds the parameter values for the ansatz at each timestep\n",
        "\n",
        "# --- Get the Expectation Value of the Energy ---\n",
        "all_energies = []\n",
        "for i in range(len(params)):\n",
        "    print(f\"Timestep {i} Energy: {ansatz_energy(qc, params[i], H)}\")\n",
        "    all_energies.append(ansatz_energy(qc, params[i], H)[0])\n",
        "\n",
        "# --- Plot Expectation Values Over Time ---\n",
        "plt.title(\"VarQITE Energy Over Imaginary Time\")\n",
        "plt.plot([i*timestep for i in range(int(total_time/timestep)+1)], all_energies)\n",
        "plt.xlabel(\"Imaginary Time\")\n",
        "plt.ylabel(\"Energy (eV)\")\n",
        "plt.show()"
      ]
    },
    {
      "cell_type": "markdown",
      "source": [],
      "metadata": {
        "id": "I7fLlPJ2bQzR"
      },
      "id": "I7fLlPJ2bQzR"
    },
    {
      "cell_type": "markdown",
      "source": [],
      "metadata": {
        "id": "93CynuuibQv5"
      },
      "id": "93CynuuibQv5"
    },
    {
      "cell_type": "markdown",
      "source": [],
      "metadata": {
        "id": "S6EXClekbQrw"
      },
      "id": "S6EXClekbQrw"
    },
    {
      "cell_type": "markdown",
      "id": "118868c7",
      "metadata": {
        "id": "118868c7"
      },
      "source": [
        "## Code for running things with a realistic noise model\n",
        "\n",
        "```python\n",
        "\n",
        "from qiskit_aer import AerSimulator\n",
        "from qiskit.circuit import QuantumCircuit\n",
        "from qiskit.transpiler.preset_passmanagers import generate_preset_pass_manager\n",
        "from qiskit_ibm_runtime import SamplerV2 as Sampler, QiskitRuntimeService\n",
        "\n",
        "service = QiskitRuntimeService()\n",
        "\n",
        "# Specify a QPU to use for the noise model\n",
        "real_backend = service.backend(\"ibm_brisbane\")\n",
        "aer = AerSimulator.from_backend(real_backend)\n",
        "\n",
        "# Run the sampler job locally using AerSimulator.\n",
        "pm = generate_preset_pass_manager(backend=aer, optimization_level=1)\n",
        "isa_qc = pm.run(qubit_testbed.quantum_circuit)\n",
        "sampler = Sampler(mode=aer)\n",
        "result = sampler.run([qubit_testbed.quantum_circuit]).result()\n",
        "```"
      ]
    }
  ],
  "metadata": {
    "kernelspec": {
      "display_name": "QFlux_Env",
      "language": "python",
      "name": "qflux_env"
    },
    "language_info": {
      "codemirror_mode": {
        "name": "ipython",
        "version": 3
      },
      "file_extension": ".py",
      "mimetype": "text/x-python",
      "name": "python",
      "nbconvert_exporter": "python",
      "pygments_lexer": "ipython3",
      "version": "3.12.8"
    },
    "toc": {
      "base_numbering": 1,
      "nav_menu": {},
      "number_sections": true,
      "sideBar": true,
      "skip_h1_title": false,
      "title_cell": "Table of Contents",
      "title_sidebar": "Contents",
      "toc_cell": false,
      "toc_position": {},
      "toc_section_display": true,
      "toc_window_display": false
    },
    "colab": {
      "provenance": []
    }
  },
  "nbformat": 4,
  "nbformat_minor": 5
}