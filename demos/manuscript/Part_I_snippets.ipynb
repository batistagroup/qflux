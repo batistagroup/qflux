{
  "cells": [
    {
      "cell_type": "markdown",
      "id": "b109b965",
      "metadata": {
        "id": "b109b965"
      },
      "source": [
        "# Closed Systems QFlux Demonstration Notebook"
      ]
    },
    {
      "cell_type": "code",
      "execution_count": null,
      "id": "36791797",
      "metadata": {
        "id": "36791797"
      },
      "outputs": [],
      "source": [
        "!pip install qflux"
      ]
    },
    {
      "cell_type": "code",
      "execution_count": null,
      "id": "5a37668f",
      "metadata": {
        "id": "5a37668f"
      },
      "outputs": [],
      "source": [
        "!apt-get install texlive-latex-base texlive-latex-extra cm-super dvipng"
      ]
    },
    {
      "cell_type": "code",
      "execution_count": null,
      "id": "b24467ad",
      "metadata": {
        "id": "b24467ad"
      },
      "outputs": [],
      "source": [
        "# Imports\n",
        "import matplotlib.pyplot as plt\n",
        "import qutip as qt\n",
        "import numpy as np\n",
        "# Jupyter Plotting Preamble...\n",
        "use_latex = True\n",
        "# To use Latex:\n",
        "if use_latex:\n",
        "    plt.rcParams['text.usetex']      = True\n",
        "    plt.rcParams['font.family']      = 'Computer Modern Serif'\n",
        "    plt.rcParams['font.serif']       = ['Computer Modern Roman']\n",
        "    plt.rcParams['mathtext.bf']      = 'serif:bold'\n",
        "    plt.rcParams['mathtext.fontset'] = 'cm'\n",
        "    plt.rcParams['mathtext.default'] = 'it'\n",
        "# To not use Latex:\n",
        "else:\n",
        "    plt.rcParams['text.usetex']      = False\n",
        "    plt.rcParams['font.family']      = 'serif'\n",
        "    plt.rcParams['font.serif']       = 'Palatino'\n",
        "\n",
        "# Figure Saving Parameters\n",
        "plt.rcParams['savefig.dpi']         = 300        # DPI of figure output\n",
        "plt.rcParams['savefig.transparent'] = True       # Save figure with transparent background\n",
        "#----------------- Figure Size ------------------#\n",
        "plt.rcParams['figure.figsize']      = (11.7/1.5, 8.3/1.5)# Figure Size - Adjust as necessary\n",
        "#------------------ Line Plot -------------------#\n",
        "plt.rcParams['lines.markersize']    = 4          # Marker size for scatterplots\n",
        "plt.rcParams['lines.linewidth']     = 1.2        # linewidth\n",
        "#------------------ Font Size -------------------#\n",
        "plt.rcParams['font.size']           = 20         # default font size\n",
        "plt.rcParams['legend.fontsize']     = 20         # Font size for legend\n",
        "plt.rcParams['axes.labelsize']      = 22         # Font size for tick labels (ticklabels)\n",
        "plt.rcParams['axes.titlesize']      = 22         # Font size for axis labels (.xlabel/.ylabel)\n",
        "plt.rcParams['image.aspect']        = 1.0        # Image Aspect Ratio (plt.imshow)\n",
        "plt.rcParams['image.resample']      = False      # Whether to resample\n",
        "%matplotlib inline\n",
        "%config InlineBackend.figure_formats = ['svg']   # Display figures inline as SVG (or 'pdf', 'png', ...)"
      ]
    },
    {
      "cell_type": "markdown",
      "source": [
        "# Quantum Dynamics of a Harmonic Oscillator"
      ],
      "metadata": {
        "id": "nnXipa5RWnnG"
      },
      "id": "nnXipa5RWnnG"
    },
    {
      "cell_type": "markdown",
      "id": "456da373",
      "metadata": {
        "id": "456da373"
      },
      "source": [
        "<a id='Script3pt1'></a>\n",
        "## Script 3.1:"
      ]
    },
    {
      "cell_type": "code",
      "execution_count": null,
      "id": "af03b403",
      "metadata": {
        "id": "af03b403"
      },
      "outputs": [],
      "source": [
        "from qflux.closed_systems import DynamicsCS\n",
        "\n",
        "qho_dyn_obj = DynamicsCS(n_basis=128, xo=1.0, po=0.0, mass=1.0, omega=1.0)\n",
        "qho_dyn_obj.set_coordinate_operators()\n",
        "qho_dyn_obj.initialize_operators()\n",
        "qho_dyn_obj.set_initial_state(wfn_omega=0.2)\n",
        "\n",
        "total_time = 20.0\n",
        "N_steps    = 400\n",
        "\n",
        "qho_dyn_obj.set_propagation_time(total_time, N_steps)\n",
        "qho_dyn_obj.set_hamiltonian(potential_type='harmonic')\n",
        "qho_dyn_obj.propagate_qt()\n",
        "qho_dyn_obj.propagate_SOFT()\n"
      ]
    },
    {
      "cell_type": "code",
      "execution_count": null,
      "id": "9195b14a",
      "metadata": {
        "id": "9195b14a"
      },
      "outputs": [],
      "source": [
        "exp_x_qt = qt.expect(qho_dyn_obj.x_op, qho_dyn_obj.dynamics_results_op)\n",
        "exp_p_qt = qt.expect(qho_dyn_obj.p_op, qho_dyn_obj.dynamics_results_op)\n",
        "\n",
        "exp_x_ana = [ qho_dyn_obj.xo*np.cos(qho_dyn_obj.omega*t) + (qho_dyn_obj.po/qho_dyn_obj.mass/qho_dyn_obj.omega)*np.sin(qho_dyn_obj.omega*t) for t in qho_dyn_obj.tlist]\n",
        "exp_p_ana = [ qho_dyn_obj.po*np.cos(qho_dyn_obj.omega*t) -qho_dyn_obj.xo*qho_dyn_obj.omega*qho_dyn_obj.mass*np.sin(qho_dyn_obj.omega*t)  for t in qho_dyn_obj.tlist]\n",
        "\n",
        "# Plot expectation value, compare to analytic expression\n",
        "plt.figure(figsize=(9, 6.5))\n",
        "plt.plot(qho_dyn_obj.tlist, exp_x_qt, label=r'$\\left\\langle x \\right\\rangle$ (QuTiP)', color='dodgerblue')\n",
        "plt.plot(qho_dyn_obj.tlist, exp_x_ana, label=r'$\\left\\langle x \\right\\rangle$ (Analytic)',\n",
        "         lw=0, marker='x', markevery=10, color='dodgerblue', ms=8)\n",
        "plt.plot(qho_dyn_obj.tlist, exp_p_qt, label=r'$\\left\\langle p \\right\\rangle$ (QuTiP)', color='crimson')\n",
        "plt.plot(qho_dyn_obj.tlist, exp_p_ana, label=r'$\\left\\langle p \\right\\rangle$ (Analytic)',\n",
        "         lw=0, marker='x', markevery=10, color='crimson', ms=8)\n",
        "plt.ylim(-1.55, 1.70)\n",
        "\n",
        "plt.legend(ncols=2, loc='upper center')\n",
        "plt.hlines([-1, 0, 1], min(qho_dyn_obj.tlist), max(qho_dyn_obj.tlist), ls='--', lw=0.85, color='tab:grey', zorder=2)\n",
        "plt.xlim(min(qho_dyn_obj.tlist), max(qho_dyn_obj.tlist))\n",
        "plt.xlabel('Time')"
      ]
    },
    {
      "cell_type": "markdown",
      "id": "02256ded",
      "metadata": {
        "id": "02256ded"
      },
      "source": [
        "<a id='Script3pt2'></a>\n",
        "## Script 3.2:"
      ]
    },
    {
      "cell_type": "code",
      "execution_count": null,
      "id": "169a8a79",
      "metadata": {
        "id": "169a8a79"
      },
      "outputs": [],
      "source": [
        "import qutip as qt\n",
        "import numpy as np\n",
        "\n",
        "# Define the system parameters\n",
        "mass = 1.0\n",
        "hbar = 1.0\n",
        "omega = 1.0\n",
        "\n",
        "# Initial state: coherent state with amplitude $\\alpha = (x0 + i p_0)/\\sqrt{2}$\n",
        "x_0, p_0 = 1.0, 0.0\n",
        "N = 128  # Number of basis states\n",
        "psi_0 = qt.coherent(N, alpha=(x_0 + 1.j*p_0)/np.sqrt(2))\n",
        "\n",
        "# Time grid\n",
        "n_steps, total_time = 400, 20.0\n",
        "tlist = np.linspace(0, total_time, n_steps)\n",
        "\n",
        "# Define the Hamiltonian\n",
        "a = qt.destroy(N)\n",
        "H_ho = hbar * omega * (a.dag() * a + 0.5)\n",
        "\n",
        "# Propagate using the Runge–Kutta solver\n",
        "solver_options = {'nsteps': len(tlist), 'progress_bar': True}\n",
        "result = qt.sesolve(H_ho, psi_0, tlist, options=solver_options)\n"
      ]
    },
    {
      "cell_type": "markdown",
      "id": "ffd6a771",
      "metadata": {
        "id": "ffd6a771"
      },
      "source": [
        "<a id='Script3pt3'></a>\n",
        "## Script 3.3:"
      ]
    },
    {
      "cell_type": "code",
      "execution_count": null,
      "id": "3ef18a94",
      "metadata": {
        "id": "3ef18a94"
      },
      "outputs": [],
      "source": [
        "\n",
        "import matplotlib.pyplot as plt\n",
        "\n",
        "# Operators for position and momentum\n",
        "X_op = (a.dag() + a) / np.sqrt(2)\n",
        "P_op = 1j * (a.dag() - a) / np.sqrt(2)\n",
        "\n",
        "# Compute numerical expectation values\n",
        "exp_x_qt = qt.expect(X_op, result.states)\n",
        "exp_p_qt = qt.expect(P_op, result.states)\n",
        "\n",
        "# Analytical results\n",
        "exp_x_ana = [x_0*np.cos(omega*t) + (p_0/mass/omega)*np.sin(omega*t) for t in tlist]\n",
        "exp_p_ana = [-mass*omega*x_0*np.sin(omega*t) + p_0*np.cos(omega*t) for t in tlist]\n",
        "\n",
        "# Plot\n",
        "fig, ax = plt.subplots()\n",
        "ax.plot(tlist, exp_x_ana, '-', color='blue', label=r'$\\left\\langle x \\right\\rangle$ (Analytical)')\n",
        "ax.plot(tlist, exp_x_qt, 'o', color='blue', label=r'$\\left\\langle x \\right\\rangle$ (QuTiP)',\n",
        "        markeredgecolor='blue', markevery=4, fillstyle='full', markerfacecolor='white')\n",
        "ax.plot(tlist, exp_p_ana, '-', color='red', label=r'$\\left\\langle p \\right\\rangle$ (Analytical)')\n",
        "ax.plot(tlist, exp_p_qt, 'o', color='red', label=r'$\\left\\langle p \\right\\rangle$ (QuTiP)',\n",
        "        markeredgecolor='red', markevery=4, fillstyle='full', markerfacecolor='white')\n",
        "ax.axhline(0, ls='--', lw=0.5, color='black', alpha=0.5)\n",
        "ax.set_xlabel('Time (a.u.)')\n",
        "ax.set_ylabel('Expectation Value')\n",
        "plt.legend(loc='upper center', ncol=2)\n",
        "ax.set_ylim(-1.5, 1.825)\n",
        "plt.hlines([-1, 0, 1], min(tlist), max(tlist), ls='--', lw=0.85, color='tab:grey', zorder=2)\n",
        "ax.set_xlim(min(tlist), max(tlist))\n",
        "plt.show()\n",
        "\n"
      ]
    },
    {
      "cell_type": "markdown",
      "id": "4e15d501",
      "metadata": {
        "id": "4e15d501"
      },
      "source": [
        "<a id='Script3pt4'></a>\n",
        "## Script 3.4:"
      ]
    },
    {
      "cell_type": "code",
      "execution_count": null,
      "id": "cbfdd5ac",
      "metadata": {
        "id": "cbfdd5ac"
      },
      "outputs": [],
      "source": [
        "\n",
        "import numpy as np\n",
        "\n",
        "def get_xgrid(xmin, xmax, N_pts):\n",
        "    \"\"\"Generate an evenly spaced position grid.\"\"\"\n",
        "    dx = (xmax - xmin)/N_pts\n",
        "    xgrid = np.arange(-N_pts/2, N_pts/2)*dx\n",
        "    return xgrid\n",
        "\n",
        "def get_pgrid(xmin, xmax, N_pts, reorder=True):\n",
        "    \"\"\"Generate a momentum grid using FFT-compatible ordering.\"\"\"\n",
        "    dp = 2 * np.pi / (xmax-xmin)\n",
        "    pmin = -dp * N_pts / 2\n",
        "    pmax = dp * N_pts / 2\n",
        "    plus_pgrid = np.linspace(0, pmax, N_pts//2+1)\n",
        "    minus_pgrid = - np.flip(np.copy(plus_pgrid))\n",
        "    if reorder:\n",
        "        pgrid = np.concatenate((plus_pgrid[:-1], minus_pgrid[:-1]))\n",
        "    else:\n",
        "        pgrid = np.concatenate((minus_pgrid, plus_pgrid))\n",
        "    return pgrid\n",
        "\n",
        "def get_coherent_state(x, p_0, x_0, mass=1, omega=1, hbar=1):\n",
        "    \"\"\"Generate an initial coherent state wavefunction.\"\"\"\n",
        "    normalization = (mass*omega/np.pi/hbar)**(0.25)\n",
        "    y = normalization*np.exp(-1*(mass*omega/hbar/2)*((x-x_0)**2)+1j*p_0*x/hbar)\n",
        "    return y\n",
        "\n",
        "xmin = -7.0\n",
        "xmax = 7.0\n",
        "N_pts = 128\n",
        "mass = 1.0  # mass in atomic units\n",
        "omega = 1.0  # oscillator frequency\n",
        "xgrid = get_xgrid(xmin, xmax, N_pts)\n",
        "dx = xgrid[1] - xgrid[0]\n",
        "pgrid = get_pgrid(xmin, xmax, N_pts, reorder=True)\n",
        "\n",
        "x_0 = 1.0\n",
        "p_0 = 0.0\n",
        "psi_0 = get_coherent_state(xgrid, p_0, x_0, mass, omega)\n",
        "\n"
      ]
    },
    {
      "cell_type": "markdown",
      "id": "b34c6b2b",
      "metadata": {
        "id": "b34c6b2b"
      },
      "source": [
        "<a id='Script3pt5'></a>\n",
        "## Script 3.5:"
      ]
    },
    {
      "cell_type": "code",
      "execution_count": null,
      "id": "b8ac7fb1",
      "metadata": {
        "id": "b8ac7fb1"
      },
      "outputs": [],
      "source": [
        "import numpy as np\n",
        "\n",
        "def get_harmonic_potential(x, x_0=0.0, mass=1, omega=1):\n",
        "    return mass * omega**2 * (x - x_0)**2 / 2\n",
        "\n",
        "def get_kinetic_energy(p, mass=1):\n",
        "    return p**2 / (2 * mass)\n",
        "\n",
        "Vx_harm = get_harmonic_potential(xgrid)\n",
        "K_harm = get_kinetic_energy(pgrid, mass)\n"
      ]
    },
    {
      "cell_type": "markdown",
      "id": "46d2fab8",
      "metadata": {
        "id": "46d2fab8"
      },
      "source": [
        "<a id='Script3pt6'></a>\n",
        "## Script 3.6:"
      ]
    },
    {
      "cell_type": "code",
      "execution_count": null,
      "id": "d4e98d79",
      "metadata": {
        "id": "d4e98d79"
      },
      "outputs": [],
      "source": [
        "import numpy as np\n",
        "from tqdm.auto import trange\n",
        "\n",
        "def get_propagator_on_grid(operator_grid, tau, hbar=1):\n",
        "    return np.exp(-1.0j * operator_grid * tau / hbar)\n",
        "\n",
        "def do_SOFT_propagation(psi, K_prop, V_prop):\n",
        "    psi_t_position_grid = V_prop * psi\n",
        "    psi_t_momentum_grid = K_prop * np.fft.fft(psi_t_position_grid, norm=\"ortho\")\n",
        "    psi_t = V_prop * np.fft.ifft(psi_t_momentum_grid, norm=\"ortho\")\n",
        "    return psi_t\n",
        "\n",
        "tmin, tmax, N_tsteps = 0.0, 20.0, 400\n",
        "tgrid = np.linspace(tmin, tmax, N_tsteps)\n",
        "tau = tgrid[1] - tgrid[0]\n",
        "\n",
        "V_prop = get_propagator_on_grid(Vx_harm/2, tau)\n",
        "K_prop = get_propagator_on_grid(K_harm, tau)\n",
        "\n",
        "propagated_states_harm = [psi_0]\n",
        "psi_t = psi_0\n",
        "for _ in trange(len(tgrid)):\n",
        "    psi_t = do_SOFT_propagation(psi_t, K_prop, V_prop)\n",
        "    propagated_states_harm.append(psi_t)\n",
        "\n",
        "propagated_states_harm = np.asarray(propagated_states_harm)[:-1]\n"
      ]
    },
    {
      "cell_type": "markdown",
      "id": "77f0b8d1",
      "metadata": {
        "id": "77f0b8d1"
      },
      "source": [
        "<a id='Script3pt7'></a>\n",
        "## Script 3.7:"
      ]
    },
    {
      "cell_type": "code",
      "execution_count": null,
      "id": "d5e0a63b",
      "metadata": {
        "id": "d5e0a63b"
      },
      "outputs": [],
      "source": [
        "def position_expectation_value(xgrid, psi):\n",
        "    dx = xgrid[1]-xgrid[0]\n",
        "    return dx*np.real(np.sum(xgrid * np.conjugate(psi) * psi))\n",
        "\n",
        "def momentum_expectation_value(dx, pgrid, psi):\n",
        "    psip = np.fft.fft(psi)\n",
        "    return dx*np.real(np.sum(pgrid * np.conjugate(psip) * psip))/len(psi)\n",
        "\n",
        "avx_soft = [position_expectation_value(xgrid, propagated_states_harm[i]) for i in range(len(propagated_states_harm))]\n",
        "dx = xgrid[1]-xgrid[0]\n",
        "avp_soft = [momentum_expectation_value(dx, pgrid, propagated_states_harm[i]) for i in range(len(propagated_states_harm))]\n",
        "\n",
        "avx_ana = [x_0*np.cos(omega*t) + (p_0/mass/omega)*np.sin(omega*t) for t in tgrid]\n",
        "avp_ana = [-x_0*omega*mass*np.sin(omega*t) + p_0*np.cos(omega*t) for t in tgrid]\n",
        "\n",
        "# Plot\n",
        "fig, ax = plt.subplots()\n",
        "ax.plot(tlist, avx_ana, '-', color='blue', label=r'$\\left\\langle x \\right\\rangle$ (Analytical)')\n",
        "ax.plot(tlist, avx_soft, 'o', color='blue', label=r'$\\left\\langle x \\right\\rangle$ (SOFT)',\n",
        "        markeredgecolor='blue', markevery=4, fillstyle='full', markerfacecolor='white')\n",
        "ax.plot(tlist, avp_ana, '-', color='red', label=r'$\\left\\langle p \\right\\rangle$ (Analytical)')\n",
        "ax.plot(tlist, avp_soft, 'o', color='red', label=r'$\\left\\langle p \\right\\rangle$ (SOFT)',\n",
        "        markeredgecolor='red', markevery=4, fillstyle='full', markerfacecolor='white')\n",
        "ax.axhline(0, ls='--', lw=0.5, color='black', alpha=0.5)\n",
        "ax.set_xlabel('Time (a.u.)')\n",
        "ax.set_ylabel('Expectation Value')\n",
        "plt.legend(loc='upper center', ncol=2)\n",
        "ax.set_ylim(-1.5, 1.825)\n",
        "plt.hlines([-1, 0, 1], min(tlist), max(tlist), ls='--', lw=0.85, color='tab:grey', zorder=2)\n",
        "ax.set_xlim(min(tlist), max(tlist))\n",
        "plt.show()"
      ]
    },
    {
      "cell_type": "markdown",
      "id": "e11e78ff",
      "metadata": {
        "id": "e11e78ff"
      },
      "source": [
        "<a id='Script4pt1'></a>\n",
        "## Script 4.1:"
      ]
    },
    {
      "cell_type": "code",
      "execution_count": null,
      "id": "c6671fb0",
      "metadata": {
        "id": "c6671fb0"
      },
      "outputs": [],
      "source": [
        "import numpy as np\n",
        "import matplotlib.pyplot as plt\n",
        "from matplotlib import axes\n",
        "from tqdm.notebook import trange\n",
        "import scipy.linalg as LA\n",
        "\n",
        "from qiskit.circuit.library import QFT\n",
        "from qiskit_aer import Aer\n",
        "from qiskit import QuantumCircuit, ClassicalRegister, QuantumRegister\n",
        "from qiskit.quantum_info.operators import Operator\n",
        "from qiskit_ibm_runtime import QiskitRuntimeService, Options, SamplerV2\n"
      ]
    },
    {
      "cell_type": "markdown",
      "id": "936eed93",
      "metadata": {
        "id": "936eed93"
      },
      "source": [
        "<a id='Script4pt2'></a>\n",
        "## Script 4.2:"
      ]
    },
    {
      "cell_type": "code",
      "execution_count": null,
      "id": "30c579fc",
      "metadata": {
        "id": "30c579fc"
      },
      "outputs": [],
      "source": [
        "from qiskit_aer import Aer\n",
        "from qiskit import QuantumCircuit, transpile\n",
        "from qiskit.visualization import plot_histogram\n",
        "import matplotlib.pyplot as plt\n",
        "from IPython.display import display\n",
        "\n",
        "# Create a quantum circuit with 2 qubits and 2 classical bits\n",
        "qc = QuantumCircuit(2, 2)\n",
        "\n",
        "# Apply Hadamard gate to the first qubit\n",
        "qc.h(0)\n",
        "\n",
        "# Apply CNOT gate with qubit 0 as control and qubit 1 as target\n",
        "qc.cx(0, 1)\n",
        "\n",
        "# Measure the qubits\n",
        "qc.measure([0, 1], [0, 1])\n",
        "\n",
        "# Visualize the circuit\n",
        "display(qc.draw('mpl'))\n",
        "\n",
        "# Simulate the circuit\n",
        "simulator = Aer.get_backend('aer_simulator')\n",
        "compiled_circuit = transpile(qc, simulator)\n",
        "result = simulator.run(compiled_circuit).result()\n",
        "\n",
        "# Get the measurement results\n",
        "counts = result.get_counts()\n",
        "fig, ax=plt.subplots()\n",
        "plot_histogram(counts, ax=ax)"
      ]
    },
    {
      "cell_type": "markdown",
      "id": "3ebfe239",
      "metadata": {
        "id": "3ebfe239"
      },
      "source": [
        "<a id='Script4pt3'></a>\n",
        "## Script 4.3:"
      ]
    },
    {
      "cell_type": "code",
      "execution_count": null,
      "id": "ab073bcb",
      "metadata": {
        "id": "ab073bcb"
      },
      "outputs": [],
      "source": [
        "from qflux.closed_systems.utils import convert_fs_to_au, convert_eV_to_au, convert_au_to_fs\n",
        "# Conversion factor\n",
        "ev2au = convert_eV_to_au(1.0)\n",
        "\n",
        "def get_doublewell_potential(x, x0=1.9592, f=ev2au, a0=0.0, a1=0.429, a2=-1.126, a3=-0.143, a4=0.563):\n",
        "    # A-T pair double-well potential in Hartrees (x is in Bohr)\n",
        "    xi = x/x0\n",
        "    return f*(a0 + a1*xi + a2*xi**2 + a3*xi**3 + a4*xi**4)\n",
        "\n",
        "def get_doublewell_potential_second_deriv(x, x0=1.9592, f=ev2au, a0=0.0, a1=0.429, a2=-1.126, a3=-0.143, a4=0.563):\n",
        "    # A-T pair double-well potential in Hartrees (x is in Bohr)\n",
        "    return f*(2*a2/x0**2 + 6*a3*x/x0**3 + 12*a4*x**2/x0**4)\n"
      ]
    },
    {
      "cell_type": "markdown",
      "id": "4bdb268e",
      "metadata": {
        "id": "4bdb268e"
      },
      "source": [
        "<a id='Script4pt4'></a>\n",
        "## Script 4.4:"
      ]
    },
    {
      "cell_type": "code",
      "source": [],
      "metadata": {
        "id": "rhQMqRgbolBp"
      },
      "id": "rhQMqRgbolBp",
      "execution_count": null,
      "outputs": []
    },
    {
      "cell_type": "code",
      "execution_count": null,
      "id": "1c946534",
      "metadata": {
        "id": "1c946534"
      },
      "outputs": [],
      "source": [
        "from qflux.closed_systems import QubitDynamicsCS\n",
        "from qflux.closed_systems.utils import get_proton_mass\n",
        "from qiskit_aer import Aer\n",
        "\n",
        "proton_mass = get_proton_mass()\n",
        "x0      = 1.9592\n",
        "N_steps = 3000\n",
        "\n",
        "# frequency corresponding to the right well (in atomic units)\n",
        "omega = np.sqrt(get_doublewell_potential_second_deriv(x0)/proton_mass)\n",
        "AT_dyn_obj  = QubitDynamicsCS(n_basis=64, xo=1.5*x0, mass=proton_mass, omega=omega)\n",
        "\n",
        "AT_dyn_obj.set_coordinate_operators(x_min=-4.0, x_max=4.0)\n",
        "AT_dyn_obj.initialize_operators()\n",
        "AT_dyn_obj.set_initial_state(wfn_omega=omega)\n",
        "\n",
        "total_time = 30.0 * convert_fs_to_au(1.0)\n",
        "AT_dyn_obj.set_propagation_time(total_time, N_steps)\n",
        "AT_dyn_obj.set_hamiltonian(potential_type='quartic')\n",
        "\n",
        "AT_dyn_obj.propagate_SOFT()\n",
        "AT_dyn_obj.propagate_qt()\n",
        "\n",
        "# Instantiate a backend object:\n",
        "backend = Aer.get_backend('statevector_simulator')\n",
        "AT_dyn_obj.propagate_qSOFT(backend=backend) # always shows progress bar\n"
      ]
    },
    {
      "cell_type": "markdown",
      "id": "320c078d",
      "metadata": {
        "id": "320c078d"
      },
      "source": [
        "<a id='Script4pt5'></a>\n",
        "## Script 4.5:"
      ]
    },
    {
      "cell_type": "code",
      "execution_count": null,
      "id": "774abcb2",
      "metadata": {
        "id": "774abcb2"
      },
      "outputs": [],
      "source": [
        "# initial coherent state in the right well centered at x/x0 = 1.5\n",
        "mass_proton = 1836.15 # proton mass in units of electron mass\n",
        "x0 = 1.9592\n",
        "x_0 = 1.5*x0\n",
        "p_0 = 0.0\n",
        "# Define xgrid:\n",
        "xmin = -4.\n",
        "xmax = 4.\n",
        "Nq = 6 # number of qubits\n",
        "N_xpts = 2**Nq\n",
        "xgrid = get_xgrid(xmin, xmax, N_xpts)\n",
        "omega = np.sqrt(get_doublewell_potential_second_deriv(x0)/proton_mass)\n",
        "\n",
        "psi_0 = get_coherent_state(xgrid, p_0, x_0, proton_mass, omega)\n"
      ]
    },
    {
      "cell_type": "markdown",
      "id": "31bcc277",
      "metadata": {
        "id": "31bcc277"
      },
      "source": [
        "<a id='Script4pt6'></a>\n",
        "## Script 4.6:"
      ]
    },
    {
      "cell_type": "code",
      "execution_count": null,
      "id": "283e3249",
      "metadata": {
        "id": "283e3249"
      },
      "outputs": [],
      "source": [
        "from qflux.closed_systems.utils import convert_fs_to_au, convert_au_to_fs\n",
        "\n",
        "au2fs = convert_au_to_fs(1.0)\n",
        "fs2au = convert_fs_to_au(1.0)\n",
        "\n",
        "# grid preparation and spacing\n",
        "pgrid = get_pgrid(xmin, xmax, N_xpts, reorder=True)\n",
        "\n",
        "dx = xgrid[1] - xgrid[0]\n",
        "dp = pgrid[1] - pgrid[0]\n",
        "\n",
        "Vx_DW = get_doublewell_potential(xgrid)\n",
        "VV = Vx_DW - get_doublewell_potential(x0) - omega/2\n",
        "\n",
        "tmin = 0.0\n",
        "tmax = 30.0*fs2au\n",
        "iterations = 3000\n",
        "mass = mass_proton\n",
        "\n",
        "# time grid preparation and spacing\n",
        "tgrid = np.linspace(tmin, tmax, iterations)\n",
        "time_step = tgrid[1] - tgrid[0]\n",
        "\n",
        "# propagators (note that potential energy is divided by two)\n",
        "VVd_prop = np.diag(np.exp(-1j*Vx_DW/2*time_step))\n",
        "KEd_prop = np.diag(np.exp(-1j*pgrid**2/2/mass*time_step))\n"
      ]
    },
    {
      "cell_type": "markdown",
      "id": "a63cbb10",
      "metadata": {
        "id": "a63cbb10"
      },
      "source": [
        "<a id='Script4pt7'></a>\n",
        "## Script 4.7:"
      ]
    },
    {
      "cell_type": "code",
      "execution_count": null,
      "id": "1c781751",
      "metadata": {
        "id": "1c781751"
      },
      "outputs": [],
      "source": [
        "import scipy.linalg as LA\n",
        "from qiskit.circuit.library import QFT\n",
        "from qiskit_aer import Aer\n",
        "from qiskit import QuantumCircuit, ClassicalRegister, QuantumRegister\n",
        "from qiskit.quantum_info.operators import Operator\n",
        "from qiskit_ibm_runtime import QiskitRuntimeService, Options, SamplerV2\n",
        "from tqdm.notebook import trange\n",
        "\n",
        "# Initialize an Empty Circuit\n",
        "nqubits = Nq\n",
        "q_reg = QuantumRegister(nqubits)\n",
        "c_reg = ClassicalRegister(nqubits)\n",
        "qc = QuantumCircuit(q_reg)\n",
        "\n",
        "qc.initialize(psi_0, q_reg[:],normalize=True)\n",
        "\n",
        "for k in trange(iterations):\n",
        "    V_op = Operator(VVd_prop)\n",
        "    qc.append(V_op, q_reg)\n",
        "    qc.append(QFT(nqubits,do_swaps=True,inverse=False),q_reg)\n",
        "    K_op = Operator(KEd_prop)\n",
        "    qc.append(K_op, q_reg)\n",
        "    qc.append(QFT(nqubits,do_swaps=True,inverse=True),q_reg)\n",
        "    qc.append(V_op, q_reg)\n"
      ]
    },
    {
      "cell_type": "markdown",
      "id": "30f1ced9",
      "metadata": {
        "id": "30f1ced9"
      },
      "source": [
        "<a id='Script4pt8'></a>\n",
        "## Script 4.8:"
      ]
    },
    {
      "cell_type": "code",
      "execution_count": null,
      "id": "80102dac",
      "metadata": {
        "id": "80102dac"
      },
      "outputs": [],
      "source": [
        "from qiskit import QuantumCircuit, transpile\n",
        "from qiskit_aer import Aer\n",
        "from qflux.closed_systems.custom_execute import execute\n",
        "\n",
        "\n",
        "backend = Aer.get_backend('statevector_simulator')\n",
        "executed_circuit = execute(qc, backend=backend, shots=1024)\n",
        "\n",
        "psin = executed_circuit.result().get_statevector().data\n"
      ]
    },
    {
      "cell_type": "markdown",
      "id": "64da2461",
      "metadata": {
        "id": "64da2461"
      },
      "source": [
        "<a id='Script4pt9'></a>\n",
        "## Script 4.9:"
      ]
    },
    {
      "cell_type": "code",
      "execution_count": null,
      "id": "0c29015b",
      "metadata": {
        "id": "0c29015b"
      },
      "outputs": [],
      "source": [
        "# SOFT propagation\n",
        "# propagators (note that potential energy is divided by two)\n",
        "\n",
        "V_prop = np.exp(-1j*Vx_DW/2*time_step)\n",
        "K_prop = np.exp(-1j*pgrid**2/2/mass*time_step)\n",
        "\n",
        "\n",
        "propagated_states = [psi_0]\n",
        "psi_t = psi_0\n",
        "print(\"For \",tmax*au2fs,\" fs using a timestep of \",time_step*au2fs,\" fs = \",time_step,\" a.u.\")\n",
        "\n",
        "for tstep_idx in trange(len(tgrid)):\n",
        "    psi_t = do_SOFT_propagation(psi_t, K_prop, V_prop)\n",
        "    propagated_states.append(psi_t)\n",
        "\n",
        "propagated_states = np.asarray(propagated_states)[:-1]\n"
      ]
    },
    {
      "cell_type": "markdown",
      "id": "decc0382",
      "metadata": {
        "id": "decc0382"
      },
      "source": [
        "<a id='Script4pt10'></a>\n",
        "## Script 4.10:"
      ]
    },
    {
      "cell_type": "code",
      "execution_count": null,
      "id": "315b9807",
      "metadata": {
        "id": "315b9807"
      },
      "outputs": [],
      "source": [
        "# Visualization\n",
        "from scipy.interpolate import interp1d\n",
        "def get_prob_density(psi):\n",
        "    return np.real(np.conjugate(psi) * psi)\n",
        "\n",
        "\n",
        "x_dense = np.linspace(xgrid[0], xgrid[-1], 512)\n",
        "f_interp = interp1d(xgrid, get_prob_density(propagated_states[-1]), kind='cubic')\n",
        "rho_interp = f_interp(x_dense)\n",
        "\n",
        "fig, ax = plt.subplots()\n",
        "ax.plot(xgrid, VV, '-',color='black',label='A-T pair potential')\n",
        "ax.plot(xgrid, 0.04*np.real(get_prob_density(psi_0)),'--',color='red',label='Initial coherent state')\n",
        "ax.plot(x_dense, 0.04*rho_interp,'-',color='blue',label='(SOFT) State at t = 30 fs',zorder=0,markeredgecolor='blue',fillstyle='full',markerfacecolor='white')\n",
        "ax.plot(xgrid, 0.04*np.real(psin.conj()*psin/dx),'o',color='blue',label='(Qiskit) State at t = 30 fs', markevery=1, alpha=0.25)\n",
        "ax.axhline(0, lw=0.5, color='black', alpha=1.0)\n",
        "ax.axvline(-x0, lw=0.5, color='black', alpha=0.5)\n",
        "ax.axvline(x0, lw=0.5, color='black', alpha=0.5)\n",
        "ax.axvline(x0*1.5, lw=0.5, color='red', alpha=0.5)\n",
        "ax.set_xlabel('x, Bohr',fontsize=14)\n",
        "ax.set_ylabel('Energy, Hartrees',fontsize=14)\n",
        "ax.tick_params(labelsize=12, grid_alpha=0.5)\n",
        "plt.ylim(-0.03,0.07)\n",
        "plt.legend(fontsize=12,loc='upper center')\n",
        "plt.show()\n"
      ]
    },
    {
      "cell_type": "markdown",
      "id": "9b9ba34f",
      "metadata": {
        "id": "9b9ba34f"
      },
      "source": [
        "<a id='Script4pt11'></a>\n",
        "## Script 4.11:"
      ]
    },
    {
      "cell_type": "code",
      "execution_count": null,
      "id": "214648c6",
      "metadata": {
        "id": "214648c6"
      },
      "outputs": [],
      "source": [
        "from qiskit import QuantumCircuit, QuantumRegister\n",
        "\n",
        "def exp_all_z(circuit, quantum_register, pauli_indexes, control_qubit=None, t=1):\n",
        "    r\"\"\"\n",
        "    Implements \\( e^{-i t Z \\otimes \\cdots \\otimes Z} \\) on specified qubits.\n",
        "\n",
        "    Args:\n",
        "        circuit (QuantumCircuit): The circuit to modify.\n",
        "        quantum_register (QuantumRegister): Register containing target qubits.\n",
        "        pauli_indexes (list): Indices of qubits where \\( Z \\) acts.\n",
        "        control_qubit (Qubit, optional): Optional control qubit for conditional application.\n",
        "        t (float): Evolution time.\n",
        "\n",
        "    Returns:\n",
        "        QuantumCircuit: Updated circuit with the operation applied.\n",
        "    \"\"\"\n",
        "    if control_qubit and control_qubit.register not in circuit.qregs:\n",
        "        circuit.add_register(control_qubit.register)\n",
        "\n",
        "    if not pauli_indexes:\n",
        "        if control_qubit:\n",
        "            circuit.p(t, control_qubit)  # Phase gate\n",
        "        return circuit\n",
        "\n",
        "    # Parity computation\n",
        "    for i in range(len(pauli_indexes) - 1):\n",
        "        circuit.cx(quantum_register[pauli_indexes[i]], quantum_register[pauli_indexes[i + 1]])\n",
        "\n",
        "    # Apply phase rotation\n",
        "    target = quantum_register[pauli_indexes[-1]]\n",
        "    angle = -2 * t\n",
        "    if control_qubit:\n",
        "        circuit.crz(angle, control_qubit, target)\n",
        "    else:\n",
        "        circuit.rz(angle, target)\n",
        "\n",
        "    # Uncompute parity\n",
        "    for i in reversed(range(len(pauli_indexes) - 1)):\n",
        "        circuit.cx(quantum_register[pauli_indexes[i]], quantum_register[pauli_indexes[i + 1]])\n",
        "\n",
        "    return circuit\n"
      ]
    },
    {
      "cell_type": "markdown",
      "id": "63a1f79a",
      "metadata": {
        "id": "63a1f79a"
      },
      "source": [
        "<a id='Script4pt12'></a>\n",
        "## Script 4.12:"
      ]
    },
    {
      "cell_type": "code",
      "execution_count": null,
      "id": "50325994",
      "metadata": {
        "id": "50325994"
      },
      "outputs": [],
      "source": [
        "import numpy as np\n",
        "from qiskit import QuantumCircuit, QuantumRegister\n",
        "\n",
        "def exp_pauli(pauli, quantum_register, control_qubit=None, t=1):\n",
        "    r\"\"\"\n",
        "    Implements \\( e^{-i t P} \\) for a Pauli string \\( P \\).\n",
        "\n",
        "    Args:\n",
        "        pauli (str): Pauli string (e.g., \"XIZY\").\n",
        "        quantum_register (QuantumRegister): Target register.\n",
        "        control_qubit (Qubit, optional): Optional control qubit.\n",
        "        t (float): Evolution time.\n",
        "\n",
        "    Returns:\n",
        "        QuantumCircuit: Circuit implementing the Pauli evolution.\n",
        "    \"\"\"\n",
        "    if len(pauli) != len(quantum_register):\n",
        "        raise ValueError(\"Pauli string length must match register size.\")\n",
        "\n",
        "    pauli_indexes = []\n",
        "    pre_circuit = QuantumCircuit(quantum_register)\n",
        "\n",
        "    for i, op in enumerate(pauli):\n",
        "        if op == 'I':\n",
        "            continue\n",
        "        elif op == 'X':\n",
        "            pre_circuit.h(i)\n",
        "            pauli_indexes.append(i)\n",
        "        elif op == 'Y':\n",
        "            pre_circuit.rx(np.pi/2, i)\n",
        "            pauli_indexes.append(i)\n",
        "        elif op == 'Z':\n",
        "            pauli_indexes.append(i)\n",
        "        else:\n",
        "            raise ValueError(f\"Invalid Pauli operator '{op}' at position {i}.\")\n",
        "\n",
        "    circuit = QuantumCircuit(quantum_register)\n",
        "    circuit.compose(pre_circuit, inplace=True)\n",
        "    circuit = exp_all_z(circuit, quantum_register, pauli_indexes, control_qubit, t)\n",
        "    circuit.compose(pre_circuit.inverse(), inplace=True)\n",
        "    return circuit\n"
      ]
    },
    {
      "cell_type": "markdown",
      "id": "ef6b02d5",
      "metadata": {
        "id": "ef6b02d5"
      },
      "source": [
        "<a id='Script4pt13'></a>\n",
        "## Script 4.13:"
      ]
    },
    {
      "cell_type": "code",
      "execution_count": null,
      "id": "c74cf1c1",
      "metadata": {
        "id": "c74cf1c1"
      },
      "outputs": [],
      "source": [
        "from qiskit import QuantumCircuit, QuantumRegister\n",
        "\n",
        "def hamiltonian_simulation(hamiltonian, quantum_register=None, control_qubit=None, t=1, trotter_number=1):\n",
        "    r\"\"\"\n",
        "    Implements \\( e^{-i H t} \\) using first-order Trotterization.\n",
        "\n",
        "    Args:\n",
        "        hamiltonian (dict): Pauli terms with coefficients (e.g., {\"ZZ\": 0.5, \"XX\": 0.3}).\n",
        "        quantum_register (QuantumRegister, optional): Target register.\n",
        "        control_qubit (Qubit, optional): Optional control qubit.\n",
        "        t (float): Simulation time.\n",
        "        trotter_number (int): Number of Trotter steps.\n",
        "\n",
        "    Returns:\n",
        "        QuantumCircuit: Trotterized Hamiltonian evolution circuit.\n",
        "    \"\"\"\n",
        "    if not hamiltonian:\n",
        "        raise ValueError(\"Hamiltonian must contain at least one term.\")\n",
        "\n",
        "    n_qubits = len(next(iter(hamiltonian)))\n",
        "    if quantum_register is None:\n",
        "        quantum_register = QuantumRegister(n_qubits)\n",
        "\n",
        "    delta_t = t / trotter_number\n",
        "    circuit = QuantumCircuit(quantum_register)\n",
        "\n",
        "    for pauli_str, coeff in hamiltonian.items():\n",
        "        term_circuit = exp_pauli(pauli_str, quantum_register, control_qubit, coeff * delta_t)\n",
        "        circuit.compose(term_circuit, inplace=True)\n",
        "\n",
        "    full_circuit = QuantumCircuit(quantum_register)\n",
        "    for _ in range(trotter_number):\n",
        "        full_circuit.compose(circuit, inplace=True)\n",
        "\n",
        "    return full_circuit\n"
      ]
    },
    {
      "cell_type": "markdown",
      "id": "95b96e03",
      "metadata": {
        "id": "95b96e03"
      },
      "source": [
        "<a id='Script4pt14'></a>\n",
        "## Script 4.14:"
      ]
    },
    {
      "cell_type": "code",
      "execution_count": null,
      "id": "1736b754",
      "metadata": {
        "id": "1736b754"
      },
      "outputs": [],
      "source": [
        "from qiskit_aer import Aer\n",
        "from qiskit import QuantumCircuit, transpile\n",
        "from qiskit.visualization import plot_histogram\n",
        "\n",
        "# Initialize circuit\n",
        "qr=QuantumRegister(2)\n",
        "qc = QuantumCircuit(qr)\n",
        "\n",
        "# Define Hamiltonian: H = 0.5 * ZZ + 0.3 * YY\n",
        "hamiltonian = {\n",
        "    \"ZZ\": 0.5,\n",
        "    \"YY\": 0.3,\n",
        "}\n",
        "# Build the Hamiltonian evolution circuit\n",
        "t = np.pi / 4  # evolution time\n",
        "trotter_steps = 1\n",
        "U = hamiltonian_simulation(hamiltonian, quantum_register=qr, t=t, trotter_number=trotter_steps)\n",
        "\n",
        "# Initialize a uniform superposition, add propagator and measurements\n",
        "qc.h(qr)\n",
        "qc.append(U,qr)\n",
        "qc.measure_all()\n",
        "\n",
        "# Simulate circuit\n",
        "sim = Aer.get_backend(\"aer_simulator\")\n",
        "qobj = transpile(qc, sim)\n",
        "result = sim.run(qobj).result()\n",
        "counts = result.get_counts()\n",
        "# Plot the result\n",
        "print(\"Measurement counts:\", counts)\n",
        "\n",
        "# Draw circuit\n",
        "qc.decompose().draw()\n"
      ]
    },
    {
      "cell_type": "markdown",
      "id": "cf868feb",
      "metadata": {
        "id": "cf868feb"
      },
      "source": [
        "<a id='Script4pt15'></a>\n",
        "## Script 4.15:"
      ]
    },
    {
      "cell_type": "code",
      "execution_count": null,
      "id": "c3972ccb",
      "metadata": {
        "id": "c3972ccb"
      },
      "outputs": [],
      "source": [
        "J = 1\n",
        "h0 = -0.5\n",
        "h1 = 0.5\n",
        "X = np.array([[0,1],[1,0]], dtype = complex)\n",
        "Y = np.array([[0,1j],[-1j,0]], dtype = complex)\n",
        "Z = np.array([[1,0],[0,-1]], dtype = complex)\n",
        "I = np.eye(2, dtype = complex)\n",
        "H = 0.5*(h0*np.kron(Z, I) + h1*np.kron(I, Z)) + J/4*(np.kron(X, X) + np.kron(Y, Y) + np.kron(Z, Z))\n",
        "U = LA.expm(-1j * H)\n"
      ]
    },
    {
      "cell_type": "markdown",
      "id": "60f168b4",
      "metadata": {
        "id": "60f168b4"
      },
      "source": [
        "<a id='Script4pt16'></a>\n",
        "## Script 4.16:"
      ]
    },
    {
      "cell_type": "code",
      "execution_count": null,
      "id": "5ba7a81a",
      "metadata": {
        "id": "5ba7a81a"
      },
      "outputs": [],
      "source": [
        "psi_init = np.array([1,0,0,0],dtype = complex)\n",
        "psi_fin = U @ psi_init\n"
      ]
    },
    {
      "cell_type": "markdown",
      "id": "e483e2f9",
      "metadata": {
        "id": "e483e2f9"
      },
      "source": [
        "<a id='Script4pt17'></a>\n",
        "## Script 4.17:"
      ]
    },
    {
      "cell_type": "code",
      "execution_count": null,
      "id": "ef57acfe",
      "metadata": {
        "id": "ef57acfe"
      },
      "outputs": [],
      "source": [
        "qreg = QuantumRegister(2)\n",
        "creg = ClassicalRegister(2, 'creg')\n",
        "entangler = QuantumCircuit(qreg, creg)\n",
        "# Qiskit initializes qubits in |00> by default\n"
      ]
    },
    {
      "cell_type": "markdown",
      "id": "9286aa48",
      "metadata": {
        "id": "9286aa48"
      },
      "source": [
        "<a id='Script4pt18'></a>\n",
        "## Script 4.18:"
      ]
    },
    {
      "cell_type": "code",
      "execution_count": null,
      "id": "6044428f",
      "metadata": {
        "id": "6044428f"
      },
      "outputs": [],
      "source": [
        "U_gate = Operator(U)\n",
        "entangler.append(U_gate, [0,1])\n"
      ]
    },
    {
      "cell_type": "markdown",
      "id": "b8f0f153",
      "metadata": {
        "id": "b8f0f153"
      },
      "source": [
        "<a id='Script4pt19'></a>\n",
        "## Script 4.19:"
      ]
    },
    {
      "cell_type": "code",
      "execution_count": null,
      "id": "79768494",
      "metadata": {
        "id": "79768494"
      },
      "outputs": [],
      "source": [
        "entangler.measure(0,0)\n",
        "entangler.measure(1,1)\n"
      ]
    },
    {
      "cell_type": "markdown",
      "id": "3c500a36",
      "metadata": {
        "id": "3c500a36"
      },
      "source": [
        "<a id='Script4pt20'></a>\n",
        "## Script 4.20:"
      ]
    },
    {
      "cell_type": "code",
      "execution_count": null,
      "id": "7935fd18",
      "metadata": {
        "id": "7935fd18"
      },
      "outputs": [],
      "source": [
        "from qiskit_ibm_runtime import QiskitRuntimeService\n",
        "\n",
        "MY_API_TOKEN = \"INSERT_YOUR_API_TOKEN_HERE\"\n",
        "MY_INSTANCE = \"ibm-q/open/main\"\n",
        "\n",
        "service = QiskitRuntimeService(channel=\"ibm_cloud\",\n",
        "                               token=MY_API_TOKEN,\n",
        "                               instance=MY_INSTANCE)\n",
        "\n",
        "from qiskit_ibm_runtime import SamplerV2 as Sampler\n",
        "from qiskit_ibm_runtime import Session\n",
        "from qiskit.transpiler.preset_passmanagers import generate_preset_pass_manager\n",
        "\n",
        "def run_IBM_session(circuit, backend, nshots=2048, opt_level=1):\n",
        "    # Transpilation to device gate-set/architecture\n",
        "    pm = generate_preset_pass_manager(backend=backend,\n",
        "                                      optimization_level=opt_level)\n",
        "    transpiled_circuit = pm.run(circuit)\n",
        "\n",
        "    # Circuit execution\n",
        "    with Session(backend=backend) as session:\n",
        "        sampler = Sampler(mode=session)\n",
        "        sampler.options.default_shots = nshots\n",
        "        job = sampler.run([transpiled_circuit])\n",
        "\n",
        "    # Result retrieval\n",
        "    print(f\"Job ID is {job.job_id()}\")\n",
        "    pub_result = job.result()[0]\n",
        "    result_dict = pub_result.data.creg.get_counts()\n",
        "\n",
        "    return result_dict\n"
      ]
    },
    {
      "cell_type": "markdown",
      "id": "a2c7d708",
      "metadata": {
        "id": "a2c7d708"
      },
      "source": [
        "<a id='Script4pt21'></a>\n",
        "## Script 4.21:"
      ]
    },
    {
      "cell_type": "code",
      "execution_count": null,
      "id": "cd5b307e",
      "metadata": {
        "id": "cd5b307e"
      },
      "outputs": [],
      "source": [
        "from qiskit_aer import AerSimulator\n",
        "result_dict = run_IBM_session(entangler, backend=AerSimulator())\n",
        "print(\"Counts per state:\", result_dict)\n"
      ]
    },
    {
      "cell_type": "markdown",
      "id": "14e39ab1",
      "metadata": {
        "id": "14e39ab1"
      },
      "source": [
        "<a id='Script4pt22'></a>\n",
        "## Script 4.22:"
      ]
    },
    {
      "cell_type": "code",
      "execution_count": null,
      "id": "64ee8623",
      "metadata": {
        "id": "64ee8623"
      },
      "outputs": [],
      "source": [
        "from qiskit_ibm_runtime.fake_provider import FakeManilaV2\n",
        "noisy_backend = FakeManilaV2()\n",
        "noisy_result_dict = run_IBM_session(entangler, backend=noisy_backend)\n",
        "print(\"Counts per state (noisy backend):\", noisy_result_dict)\n"
      ]
    },
    {
      "cell_type": "markdown",
      "id": "c96e6a15",
      "metadata": {
        "id": "c96e6a15"
      },
      "source": [
        "<a id='Script4pt23'></a>\n",
        "## Script 4.23:"
      ]
    },
    {
      "cell_type": "code",
      "execution_count": null,
      "id": "8962c0d5",
      "metadata": {
        "id": "8962c0d5"
      },
      "outputs": [],
      "source": [
        "from qflux.closed_systems.spin_dynamics_oo import SpinDynamicsS\n",
        "\n",
        "num_q = 3\n",
        "evolution_timestep = 0.1\n",
        "n_trotter_steps = 1\n",
        "hamiltonian_coefficients = [[0.75 / 2, 0.75 / 2, 0.0, 0.65]] + [\n",
        "    [0.5, 0.5, 0.0, 1.0] for _ in range(num_q - 1)\n",
        "]\n",
        "initial_state = \"011\"  # Specify the initial state as a binary string\n",
        "\n",
        "csimulation = SpinDynamicsS(\n",
        "    num_q,\n",
        "    evolution_timestep,\n",
        "    n_trotter_steps,\n",
        "    hamiltonian_coefficients,\n",
        ")\n",
        "csimulation.run_dynamics(nsteps=250, state_string=initial_state)\n",
        "csimulation.save_results(f\"{num_q}_spin_chain\")\n",
        "csimulation.plot_results(f\"{num_q}_spin_chain_statevector\")\n"
      ]
    },
    {
      "cell_type": "markdown",
      "id": "ea19bf98",
      "metadata": {
        "id": "ea19bf98"
      },
      "source": [
        "<a id='Script4pt24'></a>\n",
        "## Script 4.24:"
      ]
    },
    {
      "cell_type": "code",
      "execution_count": null,
      "id": "f4b01061",
      "metadata": {
        "id": "f4b01061"
      },
      "outputs": [],
      "source": [
        "from qiskit.quantum_info import SparsePauliOp\n",
        "\n",
        "def get_hamiltonian_n_site_terms(n, coeff, n_qubits):\n",
        "    '''\n",
        "        Assemble each term in the Hamiltonian using its Pauli-string\n",
        "        representation and multiply by the corresponding coefficient.\n",
        "        coeff = [Jxx, Jyy, Jzz, Oz]\n",
        "    '''\n",
        "    XX_coeff, YY_coeff, ZZ_coeff, Z_coeff = coeff\n",
        "\n",
        "    XX_term = SparsePauliOp(\"I\"*n + \"XX\" + \"I\"*(n_qubits - 2 - n)) * XX_coeff\n",
        "    YY_term = SparsePauliOp(\"I\"*n + \"YY\" + \"I\"*(n_qubits - 2 - n)) * YY_coeff\n",
        "    ZZ_term = SparsePauliOp(\"I\"*n + \"ZZ\" + \"I\"*(n_qubits - 2 - n)) * ZZ_coeff\n",
        "    Z_term  = SparsePauliOp(\"I\"*n + \"Z\"  + \"I\"*(n_qubits - 1 - n)) * Z_coeff\n",
        "\n",
        "    return XX_term + YY_term + ZZ_term + Z_term\n"
      ]
    },
    {
      "cell_type": "markdown",
      "id": "f3d68dcd",
      "metadata": {
        "id": "f3d68dcd"
      },
      "source": [
        "<a id='Script4pt25'></a>\n",
        "## Script 4.25:"
      ]
    },
    {
      "cell_type": "code",
      "execution_count": null,
      "id": "a25d39ba",
      "metadata": {
        "id": "a25d39ba"
      },
      "outputs": [],
      "source": [
        "def get_heisenberg_hamiltonian(n_qubits, coeff=None):\n",
        "    r'''\n",
        "    Constructs the Heisenberg Hamiltonian for an N-site spin chain.\n",
        "\n",
        "    H = \\sum _i ^N h_z Z_i\n",
        "        + \\sum _i ^{N-1} (h_xx X_iX_{i+1}\n",
        "            + h_yy Y_iY_{i+1}\n",
        "            + h_zz Z_iZ_{i+1}\n",
        "            )\n",
        "\n",
        "    Parameters:\n",
        "        n_qubits (int): Number of spins/qubits.\n",
        "        coeff (list of lists, optional): A list of sublists containing the coefficients\n",
        "            [XX, YY, ZZ, Z] for each site. The last sublist contains only the Z component.\n",
        "            Defaults to uniform coefficients if not provided.\n",
        "\n",
        "    Returns:\n",
        "        list: Two components of the Hamiltonian (even and odd terms).\n",
        "    '''\n",
        "\n",
        "    # Three qubits because for 2 we get H_O = 0\n",
        "    assert n_qubits >= 3\n",
        "\n",
        "    if coeff == None:\n",
        "        'Setting default values for the coefficients'\n",
        "        coeff = [[1.0, 1.0, 1.0, 1.0] for i in range(n_qubits)]\n",
        "\n",
        "    # Even terms of the Hamiltonian\n",
        "    # (summing over individual pair-wise elements)\n",
        "    H_E = sum((get_hamiltonian_n_site_terms(i, coeff[i], n_qubits)\n",
        "               for i in range(0, n_qubits-1, 2)))\n",
        "\n",
        "    # Odd terms of the Hamiltonian\n",
        "    # (summing over individual pair-wise elements)\n",
        "    H_O = sum((get_hamiltonian_n_site_terms(i, coeff[i], n_qubits)\n",
        "               for i in range(1, n_qubits-1, 2)))\n",
        "\n",
        "    # adding final Z term at the Nth site\n",
        "    final_term = SparsePauliOp(\"I\" * (n_qubits - 1) + \"Z\")\n",
        "    final_term *= coeff[n_qubits-1][3]\n",
        "    if (n_qubits % 2) == 0:\n",
        "        H_E += final_term\n",
        "    else:\n",
        "        H_O += final_term\n",
        "\n",
        "    # Returns the list of the two sets of terms\n",
        "    return [H_E, H_O]\n"
      ]
    },
    {
      "cell_type": "markdown",
      "id": "b544f54c",
      "metadata": {
        "id": "b544f54c"
      },
      "source": [
        "<a id='Script4pt26'></a>\n",
        "## Script 4.26:"
      ]
    },
    {
      "cell_type": "code",
      "execution_count": null,
      "id": "d2f82748",
      "metadata": {
        "id": "d2f82748"
      },
      "outputs": [],
      "source": [
        "num_q = 3\n",
        "# XX YY ZZ, Z\n",
        "ham_coeffs = ([[0.75/2, 0.75/2, 0.0, 0.65]]+\n",
        "              [[0.5, 0.5, 0.0, 1.0] for _ in range(num_q-1)])\n",
        "\n",
        "spin_chain_hamiltonian = get_heisenberg_hamiltonian(num_q, ham_coeffs)\n",
        "\n",
        "print('Hamiltonian (even and odd components):',spin_chain_hamiltonian)\n",
        "print('Combined Hamiltonian:', sum(spin_chain_hamiltonian))\n"
      ]
    },
    {
      "cell_type": "markdown",
      "id": "bc98a34b",
      "metadata": {
        "id": "bc98a34b"
      },
      "source": [
        "<a id='Script4pt27'></a>\n",
        "## Script 4.27:"
      ]
    },
    {
      "cell_type": "code",
      "execution_count": null,
      "id": "b26d0c8d",
      "metadata": {
        "id": "b26d0c8d"
      },
      "outputs": [],
      "source": [
        "from qiskit.circuit.library import PauliEvolutionGate\n",
        "from qiskit.synthesis import SuzukiTrotter\n",
        "from qiskit import QuantumCircuit, QuantumRegister\n",
        "import numpy as np\n",
        "from itertools import groupby\n",
        "import re\n",
        "\n",
        "def get_time_evolution_operator(num_qubits, tau, trotter_steps, coeff=None):\n",
        "    '''\n",
        "    Generates the Trotterized time-evolution operator for a Heisenberg spin chain\n",
        "\n",
        "        Inputs:\n",
        "            num_qubits (int): number of qubits, which should be equal to the\n",
        "                number of spins in the chain\n",
        "            evo_time (float): time parameter in time-evolution operator\n",
        "            trotter_steps (int): number of time steps for the Suzuki-Trotter\n",
        "                decomposition\n",
        "            coeff (list of lists): parameters for each term in the Hamiltonian\n",
        "                for each site ie ([[XX0, YY0, ZZ0, Z0], [XX1, YY1, ZZ1, Z1], ...])\n",
        "        Returns:\n",
        "            evo_op.definition: Trotterized time-evolution operator\n",
        "    '''\n",
        "    # Heisenberg_hamiltonian = [H_E, H_O]\n",
        "    heisenberg_hamiltonian = get_heisenberg_hamiltonian(num_qubits, coeff)\n",
        "\n",
        "    # e^ (-i*H*evo_time), with Trotter decomposition\n",
        "    # exp[(i*evo_time)*(IIIIXXIIII + IIIIYYIIII + IIIIZZIIII + IIIIZIIIII)]\n",
        "    evo_op = PauliEvolutionGate(heisenberg_hamiltonian, tau,\n",
        "                                synthesis=SuzukiTrotter(order=2,\n",
        "                                reps=trotter_steps))\n",
        "    return evo_op.definition\n",
        "\n",
        "num_shots = 100\n",
        "num_q = 3\n",
        "evolution_timestep = 0.1\n",
        "n_trotter_steps = 1\n",
        "# XX YY ZZ, Z\n",
        "ham_coeffs = ([[0.75/2, 0.75/2, 0.0, 0.65]]\n",
        "                + [[0.5, 0.5, 0.0, 1.0]\n",
        "                for i in range(num_q-1)])\n",
        "time_evo_op = get_time_evolution_operator(\n",
        "    num_qubits=num_q, tau=evolution_timestep,\n",
        "    trotter_steps=n_trotter_steps, coeff=ham_coeffs)\n"
      ]
    },
    {
      "cell_type": "markdown",
      "id": "1741fa23",
      "metadata": {
        "id": "1741fa23"
      },
      "source": [
        "<a id='Script4pt28'></a>\n",
        "## Script 4.28:"
      ]
    },
    {
      "cell_type": "code",
      "execution_count": null,
      "id": "5ab35a30",
      "metadata": {
        "id": "5ab35a30"
      },
      "outputs": [],
      "source": [
        "def find_string_pattern(pattern, string):\n",
        "    match_list = []\n",
        "    for m in re.finditer(pattern, string):\n",
        "        match_list.append(m.start())\n",
        "    return match_list\n",
        "\n",
        "def sort_Pauli_by_symmetry(ham):\n",
        "    # Separates a qiskit PauliOp object terms into 1 and 2-qubit\n",
        "    # operators. Furthermore, 2-qubit operators are separated according\n",
        "    # to the parity of the index first non-identity operation.\n",
        "    one_qubit_terms = []\n",
        "    two_qubit_terms = []\n",
        "    # separating the one-qubit from two-qubit terms\n",
        "    for term in ham:\n",
        "        matches = find_string_pattern('X|Y|Z', str(term.paulis[0]))\n",
        "        pauli_string = term.paulis[0]\n",
        "        coeff = np.real(term.coeffs[0])\n",
        "        str_tag = pauli_string.to_label().replace('I', '')\n",
        "        if len(matches) == 2:\n",
        "            two_qubit_terms.append((pauli_string, coeff, matches, str_tag))\n",
        "        elif len(matches) == 1:\n",
        "            one_qubit_terms.append((pauli_string, coeff, matches, str_tag))\n",
        "\n",
        "    # sorting the two-qubit terms according to index on which they act\n",
        "    two_qubit_terms = sorted(two_qubit_terms, key=lambda x: x[2])\n",
        "    # separating the even from the odd two-qubit terms\n",
        "    even_two_qubit_terms = list(filter(lambda x: not x[2][0]%2, two_qubit_terms))\n",
        "    odd_two_qubit_terms = list(filter(lambda x: x[2][0]%2, two_qubit_terms))\n",
        "\n",
        "    even_two_qubit_terms = [list(v) for i, v in groupby(even_two_qubit_terms, lambda x: x[2][0])]\n",
        "    odd_two_qubit_terms = [list(v) for i, v in groupby(odd_two_qubit_terms, lambda x: x[2][0])]\n",
        "\n",
        "    return one_qubit_terms, even_two_qubit_terms, odd_two_qubit_terms\n"
      ]
    },
    {
      "cell_type": "markdown",
      "id": "a0aca154",
      "metadata": {
        "id": "a0aca154"
      },
      "source": [
        "<a id='Script4pt29'></a>\n",
        "## Script 4.29:"
      ]
    },
    {
      "cell_type": "code",
      "execution_count": null,
      "id": "95e28dcc",
      "metadata": {
        "id": "95e28dcc"
      },
      "outputs": [],
      "source": [
        "def generate_circ_pattern_1qubit(circ, term, delta_t):\n",
        "    coeff = 2 * term[1] * delta_t\n",
        "    if term[3] == 'X':\n",
        "        circ.rx(coeff, term[2])\n",
        "    elif term[3] == 'Y':\n",
        "        circ.ry(coeff, term[2])\n",
        "    elif term[3] == 'Z':\n",
        "        circ.rz(coeff, term[2])\n",
        "    return circ\n"
      ]
    },
    {
      "cell_type": "markdown",
      "id": "3f48b3c7",
      "metadata": {
        "id": "3f48b3c7"
      },
      "source": [
        "<a id='Script4pt30'></a>\n",
        "## Script 4.30:"
      ]
    },
    {
      "cell_type": "code",
      "execution_count": null,
      "id": "d7ec416b",
      "metadata": {
        "id": "d7ec416b"
      },
      "outputs": [],
      "source": [
        "def generate_circ_pattern_2qubit(circ, term, delta_t):\n",
        "\n",
        "    # wires to which to apply the operation\n",
        "    wires = term[0][2]\n",
        "\n",
        "    # angles to parameterize the circuit,\n",
        "    # based on exponential argument\n",
        "    if any('XX' in sublist for sublist in term):\n",
        "        g_phi = ( 2 * (-1) * term[0][1] * delta_t - np.pi / 2)\n",
        "    else:\n",
        "        g_phi = - np.pi / 2\n",
        "    if any('YY' in sublist for sublist in term):\n",
        "        g_lambda = (np.pi/2 - 2 * (-1) * term[1][1] * delta_t)\n",
        "    else:\n",
        "        g_lambda = np.pi/2\n",
        "    if any('ZZ' in sublist for sublist in term):\n",
        "        g_theta = (np.pi/2 - 2 * (-1) * term[2][1] * delta_t)\n",
        "    else:\n",
        "        g_theta = np.pi/2\n",
        "\n",
        "    # circuit\n",
        "    circ.rz(-np.pi/2, wires[1])\n",
        "    circ.cx(wires[1], wires[0])\n",
        "    circ.rz(g_theta, wires[0])\n",
        "    circ.ry(g_phi, wires[1])\n",
        "    circ.cx(wires[0], wires[1])\n",
        "    circ.ry(g_lambda, wires[1])\n",
        "    circ.cx(wires[1], wires[0])\n",
        "    circ.rz(np.pi/2, wires[0])\n",
        "    return circ\n"
      ]
    },
    {
      "cell_type": "markdown",
      "id": "0b6a23e1",
      "metadata": {
        "id": "0b6a23e1"
      },
      "source": [
        "<a id='Script4pt31'></a>\n",
        "## Script 4.31:"
      ]
    },
    {
      "cell_type": "code",
      "execution_count": null,
      "id": "1168a3d3",
      "metadata": {
        "id": "1168a3d3"
      },
      "outputs": [],
      "source": [
        "def get_manual_Trotter(num_q, pauli_ops, timestep, n_trotter=1,\n",
        "                       trotter_type='basic', reverse_bits=True):\n",
        "    # sorts the Pauli strings according to qubit number they affect and symmetry\n",
        "    one_q, even_two_q, odd_two_q = sort_Pauli_by_symmetry(pauli_ops)\n",
        "    # scales the timestep according to the number of trotter steps\n",
        "    timestep_even_two_q = timestep / n_trotter\n",
        "    timestep_odd_two_q = timestep / n_trotter\n",
        "    timestep_one_q = timestep / n_trotter\n",
        "    # symmetric places 1/2 of one_q and odd_two_q before and after even_two_q\n",
        "    if trotter_type == 'symmetric':\n",
        "        timestep_odd_two_q /= 2\n",
        "        timestep_one_q /= 2\n",
        "    # constructs circuits for each segment of the operators\n",
        "    qc_odd_two_q, qc_even_two_q, qc_one_q = QuantumCircuit(num_q), QuantumCircuit(num_q), QuantumCircuit(num_q)\n",
        "    for i in even_two_q:\n",
        "        qc_even_two_q = generate_circ_pattern_2qubit(qc_even_two_q, i, timestep_even_two_q)\n",
        "    for i in odd_two_q:\n",
        "        qc_odd_two_q = generate_circ_pattern_2qubit(qc_odd_two_q, i, timestep_odd_two_q)\n",
        "    for i in one_q:\n",
        "        qc_one_q = generate_circ_pattern_1qubit(qc_one_q, i, timestep_one_q)\n",
        "    # assembles the circuit for Trotter decomposition of exponential\n",
        "    qr = QuantumRegister(num_q)\n",
        "    qc = QuantumCircuit(qr)\n",
        "    if trotter_type == 'basic':\n",
        "        qc = qc.compose(qc_even_two_q)\n",
        "        qc = qc.compose(qc_odd_two_q)\n",
        "        qc = qc.compose(qc_one_q)\n",
        "    elif trotter_type == 'symmetric':\n",
        "        qc = qc.compose(qc_one_q)\n",
        "        qc = qc.compose(qc_odd_two_q)\n",
        "        qc = qc.compose(qc_even_two_q)\n",
        "        qc = qc.compose(qc_odd_two_q)\n",
        "        qc = qc.compose(qc_one_q)\n",
        "    # repeats the single_trotter circuit several times to match n_trotter\n",
        "    for i in range(n_trotter-1):\n",
        "        qc = qc.compose(qc)\n",
        "    if reverse_bits:\n",
        "        return qc.reverse_bits()\n",
        "    else:\n",
        "        return qc\n"
      ]
    },
    {
      "cell_type": "markdown",
      "id": "914f9772",
      "metadata": {
        "id": "914f9772"
      },
      "source": [
        "<a id='Script4pt32'></a>\n",
        "## Script 4.32:"
      ]
    },
    {
      "cell_type": "code",
      "execution_count": null,
      "id": "19c92981",
      "metadata": {
        "id": "19c92981"
      },
      "outputs": [],
      "source": [
        "spin_chain_hamiltonian = get_heisenberg_hamiltonian(num_q, ham_coeffs)\n",
        "\n",
        "spin_chain_hamiltonian = sum(spin_chain_hamiltonian)\n",
        "print(get_manual_Trotter(num_q, spin_chain_hamiltonian, 0.1).draw())\n",
        "print(get_manual_Trotter(num_q, spin_chain_hamiltonian, 0.1, n_trotter=2).draw())\n",
        "print(get_manual_Trotter(num_q, spin_chain_hamiltonian, 0.1, trotter_type='symmetric').draw())\n",
        "print(get_manual_Trotter(num_q, spin_chain_hamiltonian, 0.1, n_trotter=2, trotter_type='symmetric').draw())\n"
      ]
    },
    {
      "cell_type": "markdown",
      "id": "6c0c6bb6",
      "metadata": {
        "id": "6c0c6bb6"
      },
      "source": [
        "<a id='Script4pt33'></a>\n",
        "## Script 4.33:"
      ]
    },
    {
      "cell_type": "code",
      "execution_count": null,
      "id": "3bfbc78c",
      "metadata": {
        "id": "3bfbc78c"
      },
      "outputs": [],
      "source": [
        "from qiskit import QuantumCircuit\n",
        "from qiskit import QuantumRegister, ClassicalRegister\n",
        "from qiskit import transpile\n",
        "\n",
        "# specifying a quantum register with specific number of qubits\n",
        "qr = QuantumRegister(num_q)\n",
        "# classical register used for measurement of qubits\n",
        "cr = ClassicalRegister(num_q)\n",
        "# quantum circuit combining quantum and classical registers\n",
        "qc = QuantumCircuit(qr, cr) # instantiated here\n",
        "qc.draw(style='iqp')\n",
        "print(qc)\n"
      ]
    },
    {
      "cell_type": "markdown",
      "id": "307d4226",
      "metadata": {
        "id": "307d4226"
      },
      "source": [
        "<a id='Script4pt34'></a>\n",
        "## Script 4.34:"
      ]
    },
    {
      "cell_type": "code",
      "execution_count": null,
      "id": "00189db5",
      "metadata": {
        "id": "00189db5"
      },
      "outputs": [],
      "source": [
        "# specifying initial state by flipping qubit states\n",
        "for qubit_idx in range(num_q):\n",
        "    if qubit_idx == 0:\n",
        "        # generate only one spin-up at first qubit\n",
        "        qc.id(qubit_idx)\n",
        "    else:\n",
        "        # make all other spins have the spin-down state\n",
        "        qc.x(qubit_idx)\n",
        "qc.barrier()\n",
        "qc.draw(style='iqp')\n",
        "print(qc)\n",
        "\n",
        "# checking the initial state\n",
        "device = Aer.get_backend('statevector_simulator')\n",
        "qc_init_state = execute(qc, backend=device).result()\n",
        "qc_init_state = qc_init_state.get_statevector()\n",
        "print(qc_init_state)\n"
      ]
    },
    {
      "cell_type": "markdown",
      "id": "6ad1f192",
      "metadata": {
        "id": "6ad1f192"
      },
      "source": [
        "<a id='Script4pt35'></a>\n",
        "## Script 4.35:"
      ]
    },
    {
      "cell_type": "code",
      "execution_count": null,
      "id": "40493748",
      "metadata": {
        "id": "40493748"
      },
      "outputs": [],
      "source": [
        "qr_init = QuantumRegister(num_q)\n",
        "qc_init = QuantumCircuit(qr_init)\n",
        "qc_init.initialize('011')\n",
        "qc.append(qc_init, qc.qubits)\n"
      ]
    },
    {
      "cell_type": "markdown",
      "id": "70fa8c16",
      "metadata": {
        "id": "70fa8c16"
      },
      "source": [
        "<a id='Script4pt36'></a>\n",
        "## Script 4.36:"
      ]
    },
    {
      "cell_type": "code",
      "execution_count": null,
      "id": "2fcce8d4",
      "metadata": {
        "id": "2fcce8d4"
      },
      "outputs": [],
      "source": [
        "# generating the time evolution operator for a specific set of\n",
        "# hamiltonian parameters and timestep\n",
        "time_evo_op = get_time_evolution_operator(num_qubits=num_q,\n",
        "        tau=evolution_timestep,\n",
        "        trotter_steps=n_trotter_steps,\n",
        "        coeff=ham_coeffs)\n",
        "\n",
        "# appending the Hamiltonian evolution to the circuit\n",
        "qc.append(time_evo_op, list(range(num_q)))\n",
        "qc.barrier()\n",
        "qc.draw(style='iqp')\n",
        "print(qc)\n",
        "\n",
        "# Depth check\n",
        "print('Depth of the circuit is', qc.depth())\n",
        "# transpiled circuit to statevector simulator\n",
        "qct = transpile(qc, device, optimization_level=2)\n",
        "qct.decompose().decompose()\n",
        "qct.draw(style='iqp')\n",
        "print(qct)\n",
        "\n",
        "print('Depth of the circuit after transpilation is '\n",
        "        f'{qct.depth()}')\n"
      ]
    },
    {
      "cell_type": "markdown",
      "id": "8594c534",
      "metadata": {
        "id": "8594c534"
      },
      "source": [
        "<a id='Script4pt37'></a>\n",
        "## Script 4.37:"
      ]
    },
    {
      "cell_type": "code",
      "execution_count": null,
      "id": "a7487dd6",
      "metadata": {
        "id": "a7487dd6"
      },
      "outputs": [],
      "source": [
        "import numpy as np\n",
        "from qiskit import QuantumCircuit, QuantumRegister\n",
        "from qiskit_aer import Aer\n",
        "\n",
        "def qsolve_statevector(psin, qc):\n",
        "    r'''\n",
        "        Performs iterative quantum state propagation using a statevector simulator. The initial state is the statevector from the prior iteration:\n",
        "\n",
        "        | \\psi _t \\rangle  = e^{i*\\tau*H/hbar} e^{i*\\tau*H/hbar} ... | \\psi _0 \\rangle\n",
        "        -> | \\psi _t \\rangle  = e^{i*\\tau*H/hbar} | \\psi _{t-\\tau} \\rangle\n",
        "\n",
        "\n",
        "        Args:\n",
        "            psin (array): Initial quantum state.\n",
        "            qc (QuantumCircuit): Circuit representing the time evolution operator.\n",
        "\n",
        "        Returns:\n",
        "            psin (statevector): final statevector after execution\n",
        "    '''\n",
        "    # Determining number of qubits from the length of the state vector\n",
        "    n=np.size(psin)\n",
        "    num_qubits=int(np.log2(np.size(psin)))\n",
        "    # Circuit preparation\n",
        "    qreg = QuantumRegister(num_qubits)\n",
        "    circ = QuantumCircuit(qreg)\n",
        "\n",
        "    circ.initialize(psin,qreg)\n",
        "    circ.barrier()\n",
        "    circ.append(qc, qreg)\n",
        "    circ.barrier()\n",
        "\n",
        "    # Circuit execution\n",
        "    device = Aer.get_backend('statevector_simulator')\n",
        "    psin = execute(circ, backend=device).result()\n",
        "    return psin.get_statevector()\n"
      ]
    },
    {
      "cell_type": "markdown",
      "id": "72ba526d",
      "metadata": {
        "id": "72ba526d"
      },
      "source": [
        "<a id='Script4pt38'></a>\n",
        "## Script 4.38:"
      ]
    },
    {
      "cell_type": "code",
      "execution_count": null,
      "id": "1acbec2c",
      "metadata": {
        "id": "1acbec2c"
      },
      "outputs": [],
      "source": [
        "# Qubit basis states\n",
        "zero_state = np.array([[1],[0]])\n",
        "one_state = np.array([[0],[1]])\n",
        "\n",
        "# Prepare an initial state (e.g., |011>), as follows\n",
        "psin = zero_state # for the first spin\n",
        "# iterates over the remaining spins, by performing\n",
        "# Kronecker Product\n",
        "for i in range(num_q-1):\n",
        "    psin = np.kron(psin, one_state)\n",
        "psin0 = psin.flatten()\n",
        "print(psin0)\n",
        "\n",
        "# time evolution operator\n",
        "time_evo_op = get_time_evolution_operator(num_qubits=num_q,\n",
        "        tau=evolution_timestep,\n",
        "        trotter_steps=n_trotter_steps,\n",
        "        coeff=ham_coeffs)\n",
        "# number of steps for which to propagate\n",
        "# (totaling 25 units of time)\n",
        "nsteps = 250\n",
        "psin_list = []\n",
        "psin_list.append(psin0)\n",
        "correlation_list = []\n",
        "\n",
        "# Perform propagation by statevector re-initialization\n",
        "for k in trange(nsteps):\n",
        "    #print(f'Running dynamics step {k}')\n",
        "    if k > 0:\n",
        "        psin = qsolve_statevector(psin_list[-1], time_evo_op)\n",
        "        # removes the last initial state to save memory\n",
        "        psin_list.pop()\n",
        "        # stores the new initial state\n",
        "        psin_list.append(psin)\n",
        "    correlation_list.append(np.vdot(psin_list[-1],psin0))\n",
        "\n",
        "time = np.arange(0, evolution_timestep*(nsteps),\n",
        "                 evolution_timestep)\n",
        "np.save(f'{num_q}_spin_chain_time', time)\n",
        "sa_observable = np.abs(correlation_list)\n",
        "np.save(f'{num_q}_spin_chain_SA_obs', sa_observable)\n",
        "\n",
        "# Plot survival amplitude\n",
        "plt.plot(time, sa_observable, '-o')\n",
        "plt.xlabel('Time')\n",
        "plt.ylabel('Absolute Value of Survival Amplitude, '\n",
        "           r'$\\left|\\langle \\psi | \\psi \\rangle \\right|$')\n",
        "plt.xlim((min(time), max(time)))\n",
        "plt.yscale('log')\n",
        "plt.legend()\n",
        "plt.show()\n"
      ]
    },
    {
      "cell_type": "markdown",
      "id": "e254245c",
      "metadata": {
        "id": "e254245c"
      },
      "source": [
        "<a id='Script4pt39'></a>\n",
        "## Script 4.39:"
      ]
    },
    {
      "cell_type": "code",
      "execution_count": null,
      "id": "ffb0570d",
      "metadata": {
        "id": "ffb0570d"
      },
      "outputs": [],
      "source": [
        "\n",
        "def nested_kronecker_product(pauli_str):\n",
        "    '''\n",
        "    Computes the Kronecker Product for a given Pauli string (i.e., the pauli_str = 'ZZX' becomes the kronecker product Z Z X).\n",
        "\n",
        "    Args:\n",
        "        pauli_str (str): A string representation of Pauli matrices (e.g., 'ZZX').\n",
        "\n",
        "    Returns:\n",
        "        np.array: Resulting matrix after applying the Kronecker product.\n",
        "    '''\n",
        "    import numpy as np\n",
        "    X = np.array([[0,1],[1,0]])\n",
        "    Y = np.array([[0,complex(0,-1)],[complex(0,1),0]])\n",
        "    Z = np.array([[1,0],[0,-1]])\n",
        "    I = Z@Z\n",
        "\n",
        "    # Define a dictionary with the four Pauli matrices:\n",
        "    pms = {'I': I,'X': X,'Y': Y,'Z': Z}\n",
        "\n",
        "    result = np.eye(1)  # Start with identity (size 1)\n",
        "    for char in range(len(pauli_str)):\n",
        "     result = np.kron(result,pms[pauli_str[char]])\n",
        "\n",
        "    return result\n"
      ]
    },
    {
      "cell_type": "markdown",
      "id": "d9f15943",
      "metadata": {
        "id": "d9f15943"
      },
      "source": [
        "<a id='Script4pt40'></a>\n",
        "## Script 4.40:"
      ]
    },
    {
      "cell_type": "code",
      "execution_count": null,
      "id": "4cd4321e",
      "metadata": {
        "id": "4cd4321e"
      },
      "outputs": [],
      "source": [
        "def decompose(Ham_arr, tol=1E-5):\n",
        "    '''\n",
        "    Decomposes a Hamiltonian matrix into a sum of Pauli strings.\n",
        "\n",
        "    Args:\n",
        "        Ham_arr (np.array): The input Hamiltonian matrix.\n",
        "        tol (float): Tolerance for small coefficients (default: 1E-5).\n",
        "\n",
        "    Returns:\n",
        "        dict: Dictionary mapping Pauli strings to their coefficients.\n",
        "    '''\n",
        "    import numpy as np\n",
        "    import itertools\n",
        "\n",
        "    pauli_keys = ['I','X','Y','Z'] # Keys of the dictionary\n",
        "\n",
        "    nqb = int(np.log2(Ham_arr.shape[0])) # Determine the numnber of qubits\n",
        "\n",
        "    # Generate all possible Pauli strings\n",
        "    sigma_combinations = list(itertools.product(pauli_keys, repeat=nqb))\n",
        "\n",
        "    result = {} # Initialize an empty dictionary to the results\n",
        "    for ii in range(len(sigma_combinations)):\n",
        "        pauli_str = ''.join(sigma_combinations[ii])\n",
        "\n",
        "        # Compute the Kronecker product of the corresponding Pauli matrices\n",
        "        tmp_p_matrix = nested_kronecker_product(pauli_str)\n",
        "\n",
        "        # Compute the coefficient using the Hilbert-Schmidt inner product\n",
        "        a_coeff = (1/(2**nqb)) * np.trace(tmp_p_matrix @ Ham_arr)\n",
        "\n",
        "        # Store only non-negligible coefficients\n",
        "        if abs(a_coeff) > tol:\n",
        "            result[pauli_str] = a_coeff.real\n",
        "\n",
        "    return result\n"
      ]
    },
    {
      "cell_type": "markdown",
      "id": "d99faec9",
      "metadata": {
        "id": "d99faec9"
      },
      "source": [
        "<a id='Script4pt41'></a>\n",
        "## Script 4.41:"
      ]
    },
    {
      "cell_type": "code",
      "execution_count": null,
      "id": "6c974866",
      "metadata": {
        "colab": {
          "base_uri": "https://localhost:8080/"
        },
        "id": "6c974866",
        "outputId": "ecd603c2-2949-4d1e-aa69-5704ce119979"
      },
      "outputs": [
        {
          "output_type": "stream",
          "name": "stdout",
          "text": [
            "Finished step 95: Re = -0.186, Im = -0.098\n",
            "Running dynamics step 96\n"
          ]
        }
      ],
      "source": [
        "from qflux.closed_systems.spin_dynamics_oo import SpinDynamicsH\n",
        "\n",
        "num_q = 3\n",
        "evolution_timestep = 0.1\n",
        "n_trotter_steps = 1\n",
        "hamiltonian_coefficients = [[0.75 / 2, 0.75 / 2, 0.0, 0.65]] + [\n",
        "                            [0.5, 0.5, 0.0, 1.0] for _ in range(num_q - 1)\n",
        "                            ]\n",
        "initial_state = \"011\" # Specify the initial state as a binary string\n",
        "\n",
        "qsimulation = SpinDynamicsH(\n",
        "                    num_q,\n",
        "                    evolution_timestep,\n",
        "                    n_trotter_steps,\n",
        "                    hamiltonian_coefficients,\n",
        "                    )\n",
        "qsimulation.run_simulation(state_string=initial_state, total_time=25, num_shots=100)\n",
        "qsimulation.save_results('hadamard_test')\n",
        "qsimulation.plot_results('hadamard_test')"
      ]
    },
    {
      "cell_type": "markdown",
      "id": "9dcdac2b",
      "metadata": {
        "id": "9dcdac2b"
      },
      "source": [
        "<a id='Script4pt42'></a>\n",
        "## Script 4.42:"
      ]
    },
    {
      "cell_type": "code",
      "execution_count": null,
      "id": "2f89c9cb",
      "metadata": {
        "id": "2f89c9cb"
      },
      "outputs": [],
      "source": [
        "import numpy as np\n",
        "from qiskit_aer import Aer\n",
        "from qiskit import QuantumCircuit\n",
        "from qiskit import QuantumRegister, ClassicalRegister\n",
        "\n",
        "def get_hadamard_test(num_q, initial_state, control_operation,\n",
        "                      control_repeats=0, imag_expectation=False):\n",
        "\n",
        "    # Create circuit with quantum and classical registers\n",
        "    qr_hadamard = QuantumRegister(num_q+1)\n",
        "    cr_hadamard = ClassicalRegister(1)\n",
        "    qc_hadamard = QuantumCircuit(qr_hadamard, cr_hadamard) # instantiated here\n",
        "\n",
        "    # Initialize the computation qubits\n",
        "    qc_hadamard.append(initial_state, qr_hadamard[1:]) # initial psi\n",
        "    qc_hadamard.barrier()\n",
        "\n",
        "    # Hadamard test on the ancilla qubit\n",
        "    qc_hadamard.h(0)\n",
        "    if imag_expectation:\n",
        "        qc_hadamard.p(-np.pi/2, 0) # qc_hadamard.s(0).inverse() may be equivalent\n",
        "\n",
        "    # iterates over the number of times the control operation should be added\n",
        "    for i in range(control_repeats):\n",
        "        qc_hadamard.append(control_operation, qr_hadamard[:])\n",
        "    qc_hadamard.h(0)\n",
        "    qc_hadamard.barrier()\n",
        "\n",
        "    # Measuring the ancilla\n",
        "    qc_hadamard.measure(0,0)\n",
        "\n",
        "    return qc_hadamard\n"
      ]
    },
    {
      "cell_type": "markdown",
      "id": "42e1063e",
      "metadata": {
        "id": "42e1063e"
      },
      "source": [
        "<a id='Script4pt43'></a>\n",
        "## Script 4.43:"
      ]
    },
    {
      "cell_type": "code",
      "execution_count": null,
      "id": "77a20d3a",
      "metadata": {
        "id": "77a20d3a"
      },
      "outputs": [],
      "source": [
        "def get_spin_correlation(counts):\n",
        "    qubit_to_spin_map = {\n",
        "        '0': 1,\n",
        "        '1': -1,\n",
        "    }\n",
        "    total_counts = 0\n",
        "    values_list = []\n",
        "    for k,v in counts.items():\n",
        "        values_list.append(qubit_to_spin_map[k] * v)\n",
        "        total_counts += v\n",
        "    # print(values_list)\n",
        "    average_spin = (sum(values_list)) / total_counts\n",
        "    return average_spin\n"
      ]
    },
    {
      "cell_type": "markdown",
      "id": "f5896655",
      "metadata": {
        "id": "f5896655"
      },
      "source": [
        "<a id='Script4pt44'></a>\n",
        "## Script 4.44:"
      ]
    },
    {
      "cell_type": "code",
      "execution_count": null,
      "id": "a0a58adc",
      "metadata": {
        "id": "a0a58adc"
      },
      "outputs": [],
      "source": [
        "# IMPORTANT: Use qasm_simulator to obtain meaningful statistics\n",
        "simulator = Aer.get_backend('qasm_simulator')\n",
        "\n",
        "num_q = 3\n",
        "n_trotter_steps = 1\n",
        "# XX YY ZZ, Z\n",
        "hamiltonian_coefficients = ([[0.75/2, 0.75/2, 0.0, 0.65]]\n",
        "                            + [[0.5, 0.5, 0.0, 1.0]\n",
        "                                for i in range(num_q-1)])\n",
        "\n",
        "num_shots = 100 # increase to check for convergence\n",
        "\n",
        "evolution_timestep = 0.1\n",
        "total_time = 25\n",
        "time_range = np.arange(0, total_time+evolution_timestep,\n",
        "                       evolution_timestep)\n",
        "\n",
        "# time evolution operator\n",
        "time_evo_op = get_time_evolution_operator(num_qubits=num_q,\n",
        "        tau=evolution_timestep,\n",
        "        trotter_steps=n_trotter_steps,\n",
        "        coeff=hamiltonian_coefficients)\n",
        "\n",
        "controlled_time_evo_op = time_evo_op.control()\n",
        "print(controlled_time_evo_op.decompose())\n",
        "\n",
        "init_state_list = '1' + '0' * (num_q-1)\n",
        "init_circ = get_initialization(num_q, init_state_list)\n",
        "init_circ.draw(style='iqp')\n",
        "print(init_circ)\n"
      ]
    },
    {
      "cell_type": "markdown",
      "id": "01dedb80",
      "metadata": {
        "id": "01dedb80"
      },
      "source": [
        "<a id='Script4pt45'></a>\n",
        "## Script 4.45:"
      ]
    },
    {
      "cell_type": "code",
      "execution_count": null,
      "id": "7d4225b7",
      "metadata": {
        "id": "7d4225b7"
      },
      "outputs": [],
      "source": [
        "# it takes >1hr for 3 spins, with the parameters defined above\n",
        "# lists t store observables\n",
        "real_amp_list = []\n",
        "imag_amp_list = []\n",
        "for idx,time in enumerate(time_range):\n",
        "    print(f'Running dynamics step {idx}')\n",
        "    # Real component ------------------------------\n",
        "    qc_had_real = get_hadamard_test(num_q, init_circ,\n",
        "                                    controlled_time_evo_op,\n",
        "                                    control_repeats=idx,\n",
        "                                    imag_expectation=False)\n",
        "    had_real_counts = get_circuit_execution_counts(\n",
        "            qc_had_real, simulator, n_shots=num_shots)\n",
        "    real_amplitude = get_spin_correlation(had_real_counts)\n",
        "    real_amp_list.append(real_amplitude)\n",
        "\n",
        "    # Imag component ------------------------------\n",
        "    qc_had_imag = get_hadamard_test(num_q, init_circ,\n",
        "                                    controlled_time_evo_op,\n",
        "                                    control_repeats=idx,\n",
        "                                    imag_expectation=True)\n",
        "    had_imag_counts = get_circuit_execution_counts(\n",
        "            qc_had_imag, simulator, n_shots=num_shots)\n",
        "    imag_amplitude = get_spin_correlation(had_imag_counts)\n",
        "    imag_amp_list.append(imag_amplitude)\n",
        "    print(f'Finished step {idx}, where '\n",
        "            f'Re = {real_amplitude:.3f} '\n",
        "            f'Im = {imag_amplitude:.3f}')\n",
        "\n",
        "    real_amp_array = np.array(real_amp_list)\n",
        "    imag_amp_array = np.array(imag_amp_list)\n",
        "\n",
        "np_abs_correlation_with_hadamard_test = np.abs(real_amp_array + 1j*imag_amp_array)\n",
        "\n",
        "# plotting the data\n",
        "plt.plot(time_range, np_abs_correlation_with_hadamard_test,\n",
        "            '.', label='Hadamard Test')\n",
        "\n",
        "sa_statevector = np.load(f'data/Part_I_SpinChain/{num_q}_spin_chain_SA_obs.npy')\n",
        "time = np.load(f'{num_q}_spin_chain_time.npy')\n",
        "plt.plot(time, sa_statevector, '-', label='Statevector')\n",
        "\n",
        "plt.xlabel('Time')\n",
        "plt.ylabel('Absolute Value of Survival Amplitude')\n",
        "plt.legend()\n",
        "plt.show()\n",
        "\n"
      ]
    },
    {
      "cell_type": "markdown",
      "id": "3403c287",
      "metadata": {
        "id": "3403c287"
      },
      "source": [
        "<a id='Script5pt1'></a>\n",
        "## Script 5.1:"
      ]
    },
    {
      "cell_type": "code",
      "execution_count": null,
      "id": "2e01d3ba",
      "metadata": {
        "id": "2e01d3ba"
      },
      "outputs": [],
      "source": [
        "# -- Imports --\n",
        "# - EfficientSU2: A parameterized quantum circuit (ansatz) often used in VQE.\n",
        "# - SparsePauliOp: Efficient representation of Hamiltonians in terms of Pauli strings.\n",
        "# - StatevectorEstimator: Estimates expectation values (ideal, noiseless backend).\n",
        "import numpy as np\n",
        "from scipy.optimize import minimize\n",
        "from qiskit.circuit.library import EfficientSU2\n",
        "from qiskit.primitives import StatevectorEstimator\n",
        "from qiskit.quantum_info import SparsePauliOp\n",
        "\n",
        "# --- Define the Hamiltonian ---\n",
        "# H = 0.5 * Z_0 + 0.5 * Z_1 + 0.2 * X_0 * X_1\n",
        "hamiltonian = SparsePauliOp.from_list([(\"ZI\", 0.5), (\"IZ\", 0.5), (\"XX\", 0.2)])\n",
        "\n",
        "# --- Initialize the Estimator Primitive ---\n",
        "# StatevectorEstimator: Ideal, noiseless estimator using statevectors (no sampling noise). Computes expectation value exactly.\n",
        "estimator = StatevectorEstimator()\n",
        "\n",
        "# --- Define the Ansatz ---\n",
        "# Use EfficientSU2 as a general-purpose parameterized ansatz. EfficientSU2 is expressive and hardware-efficient, using layers of single-qubit rotations and entangling gates.\n",
        "ansatz = EfficientSU2(num_qubits=hamiltonian.num_qubits)\n",
        "\n",
        "# --- Define the Energy Evaluation Function ---\n",
        "# Given parameters params, assigns them to the ansatz circuit and evaluates the expectation value of the Hamiltonian. Returns the energy to the optimizer. Includes basic exception handling for robustness.\n",
        "def energy(params, ansatz, hamiltonian, estimator):\n",
        "    \"\"\"Evaluate energy for given ansatz parameters.\"\"\"\n",
        "    try:\n",
        "        result = estimator.run([(ansatz, hamiltonian, params)]).result()\n",
        "        energy_estimate = result[0].data.evs\n",
        "        print(f\"Energy: {energy_estimate}\")\n",
        "        return energy_estimate\n",
        "    except Exception as e:\n",
        "        print(f\"Estimator failed: {e}\")\n",
        "        return np.inf\n",
        "\n",
        "# --- Initialize Parameters ---\n",
        "# Random initialization of ansatz parameters in the full 0–2\\pi range. Good starting point for global exploration of energy landscape.\n",
        "initial_params = np.random.uniform(0, 2 * np.pi, size=ansatz.num_parameters)\n",
        "\n",
        "# --- Classical Optimization ---\n",
        "# Minimize energy using COBYLA, a derivative-free classical optimizer. Minimizes the energy function over the variational parameters. Hybrid quantum-classical loop: quantum subroutine evaluates energy, classical subroutine updates parameters.\n",
        "opt_result = minimize(\n",
        "    energy,\n",
        "    initial_params,\n",
        "    args=(ansatz, hamiltonian, estimator),\n",
        "    method=\"COBYLA\",\n",
        "    options={\"maxiter\": 200, \"disp\": True}\n",
        ")\n",
        "\n",
        "# --- Output Results ---\n",
        "# Outputs the final optimized parameters and estimated ground state energy.\n",
        "final_params = opt_result.x\n",
        "final_energy = energy(final_params, ansatz, hamiltonian, estimator)\n",
        "\n",
        "print(f\"\\nFinal Optimized Energy: {final_energy}\")\n",
        "print(f\"Optimized Parameters: {final_params}\")"
      ]
    },
    {
      "cell_type": "markdown",
      "id": "7208e6e5",
      "metadata": {
        "id": "7208e6e5"
      },
      "source": [
        "<a id='Script6pt1'></a>\n",
        "## Script 6.1:"
      ]
    },
    {
      "cell_type": "code",
      "execution_count": null,
      "id": "5ae89016",
      "metadata": {
        "id": "5ae89016"
      },
      "outputs": [],
      "source": [
        "import matplotlib.pyplot as plt\n",
        "from qiskit import QuantumCircuit\n",
        "from qiskit.quantum_info import SparsePauliOp\n",
        "from qiskit_aer.primitives import EstimatorV2 as Estimator\n",
        "from qflux.closed_systems.VarQTE import VarQRTE, Construct_Ansatz\n",
        "\n",
        "# --- Define the Hamiltonian ---\n",
        "H = SparsePauliOp.from_list([(\"X\", 1.0)])\n",
        "\n",
        "# --- Define the Initial State ---\n",
        "qc = QuantumCircuit(1)\n",
        "qc.x(0) # Creates |1> state\n",
        "\n",
        "# --- Perform Variational Real-Time Evolution ---\n",
        "layers = 1\n",
        "total_time = 12\n",
        "timestep = 0.1\n",
        "params = VarQRTE(layers, H, total_time, timestep, init_circ=qc)\n",
        "# Params now holds the parameter values for the ansatz at each timestep\n",
        "\n",
        "# --- Get the Expectation Values of an Observable ---\n",
        "estimator = Estimator()\n",
        "observable = SparsePauliOp.from_list([(\"Z\", 1.0)])\n",
        "spin1_values = []\n",
        "spin2_values = []\n",
        "for i in range(len(params)):\n",
        "    ansatz = Construct_Ansatz(qc, params[i], H.num_qubits)\n",
        "    result = estimator.run(ansatz, observables=observable).result()\n",
        "    spin1_values.append(result.values[0])\n",
        "\n",
        "# --- Plot Expectation Values Over Time ---\n",
        "plt.title(\"Spin Expectation Value Over Time\")\n",
        "plt.plot([i*timestep for i in range(int(total_time/timestep)+1)], spin1_values)\n",
        "plt.xlabel(\"Time\")\n",
        "plt.ylabel(\"Expectation Value\")\n",
        "plt.show()"
      ]
    },
    {
      "cell_type": "markdown",
      "id": "c64448dd",
      "metadata": {
        "id": "c64448dd"
      },
      "source": [
        "<a id='Script6pt2'></a>\n",
        "## Script 6.2:"
      ]
    },
    {
      "cell_type": "code",
      "execution_count": null,
      "id": "55b96e7e",
      "metadata": {
        "id": "55b96e7e"
      },
      "outputs": [],
      "source": [
        "import numpy as np\n",
        "from qiskit import QuantumCircuit\n",
        "from qiskit_aer.primitives import EstimatorV2 as Estimator\n",
        "from qiskit.quantum_info import SparsePauliOp\n",
        "\n",
        "\n",
        "# To change the ansatz, apply_param and measure_der must both be modified.\n",
        "def apply_param(\n",
        "    params: npt.NDArray[np.float64], i: int, qc: QuantumCircuit, N: int\n",
        ") -> None:\n",
        "    \"\"\"Apply parameter i to the quantum circuit currently constructing the ansatz.\n",
        "        The ansatz must be built in a peicewise manner to allow for hadamard tests\n",
        "        of the generators of the parameters to later be inserted to measure the A_ij\n",
        "        and C_i matrix elements.\n",
        "\n",
        "    Args:\n",
        "        params (numpy.array): An array containing the values of all the ansatz parameters.\n",
        "        parameter (int): Index of the parameter being applied.\n",
        "        qc (QuantumCircuit): The qiskit ansatz quantum circuit currently being constructed.\n",
        "        N (int): Number of qubits\n",
        "    \"\"\"\n",
        "    qc.rx(params[i], i % N)\n",
        "    if i % N == N - 1 and i != len(params) - 1:\n",
        "        for i in range(N - 1):\n",
        "            qc.cz(i, i + 1)\n",
        "\n",
        "\n",
        "def measure_der(i: int, qc: QuantumCircuit, N: int) -> None:\n",
        "    \"\"\"Append a Hadamard test to the circuit to measure the generator of parameter i in the ansatz.\n",
        "        The ansatz currently used is simply the two-local ansatz with only rx gates.\n",
        "        Therefore the generator is only x-gates on the corresponding qubit.\n",
        "\n",
        "    Args:\n",
        "        parameter (int): The index of the parameter whose generator will be measured.\n",
        "        qc (QuantumCircuit): The qiskit quantum circuit which is in the process of assembling the ansatz.\n",
        "        N (int): Number of qubits\n",
        "    \"\"\"\n",
        "    qc.cx(N, i % N)\n",
        "\n",
        "\n",
        "def pauli_measure(qc: QuantumCircuit, pauli_string: str) -> None:\n",
        "    \"\"\"Measure the given pauli string on the provided quantum circuit using a hadamard test.\n",
        "\n",
        "    Args:\n",
        "        qc (QuantumCircuit): The quantum circuit ansatz being constructed.\n",
        "        pauli_string (str): The pauli string to be measured as a string.\n",
        "    \"\"\"\n",
        "    N = len(pauli_string)\n",
        "    for i in range(len(pauli_string)):  # Measure Pauli Strings\n",
        "        if str(pauli_string[i]) == \"X\":\n",
        "            qc.cx(N, i)\n",
        "        if str(pauli_string[i]) == \"Y\":\n",
        "            qc.cy(N, i)\n",
        "        if str(pauli_string[i]) == \"Z\":\n",
        "            qc.cz(N, i)"
      ]
    },
    {
      "cell_type": "markdown",
      "id": "ddb35d27",
      "metadata": {
        "id": "ddb35d27"
      },
      "source": [
        "<a id='Script6pt3'></a>\n",
        "## Script 6.3:"
      ]
    },
    {
      "cell_type": "code",
      "execution_count": null,
      "id": "56b65b80",
      "metadata": {
        "id": "56b65b80"
      },
      "outputs": [],
      "source": [
        "def A_Circuit(params: npt.NDArray[np.float64], i: int, j: int, N: int) -> QuantumCircuit:\n",
        "    \"\"\"Constructs the qiskit quantum circuits used to measure each element of the A_ij matrix.\n",
        "\n",
        "    Args:\n",
        "        params (numpy.array): A numpy array containing the values of each parameter of the ansatz.\n",
        "        i (int): The index from A_ij.  This also corresponds to the ansatz parameter i being measured.\n",
        "        j (int): The index from A_ij.  This also corresponds to the ansatz parameter j being measured.\n",
        "        N (int): The number of qubits.\n",
        "\n",
        "    Returns:\n",
        "        QuantumCircuit: The quantum circuit for an element of the A_ij matrix, in the form of a\n",
        "            hadamard test of the generators of parameters i and j.  The value of the A_ij matrix\n",
        "            can be found by measuring the ancilla qubit (qubit N) in the Z basis.\n",
        "    \"\"\"\n",
        "    qc = QuantumCircuit(N + 1, 1)\n",
        "    qc.h(N)\n",
        "    for parameter in range(len(params)):  # Apply parameterized gates\n",
        "        if parameter == i:\n",
        "            qc.x(N)\n",
        "            measure_der(parameter, qc, N)  # Measure generator for i\n",
        "            qc.x(N)\n",
        "        if parameter == j:\n",
        "            measure_der(parameter, qc, N)  # Measure second generator for j\n",
        "        apply_param(params, parameter, qc, N)\n",
        "    qc.h(N)\n",
        "    return qc\n",
        "\n",
        "\n",
        "def Measure_A(\n",
        "    init_circ: QuantumCircuit,\n",
        "    params: npt.NDArray[np.float64],\n",
        "    N: int,\n",
        "    shots: int = 2**10,\n",
        "    noisy: bool = False,\n",
        ") -> npt.NDArray[np.float64]:\n",
        "    \"\"\"Create the A_ij matrix through measuring quantum circuits corresponding to each element.\n",
        "\n",
        "    Args:\n",
        "        init_circ (QuantumCircuit): The qiskit circuit representing the initial state of the system.\n",
        "        params (numpy.array): A numpy array which contains the values of each parameter of the ansatz.\n",
        "        N (int): The number of qubits.\n",
        "        shots (int, optional): The number of shots used to estimate each element of the A_ij matrix. Defaults to 2**10.\n",
        "        noisy (bool, optional): A boolean used to turn on and off the Fake-Sherbrooke qiskit noisy backend. Defaults to False.\n",
        "\n",
        "    Returns:\n",
        "        numpy.array: The A_ij matrix\n",
        "    \"\"\"\n",
        "    A = [[0.0 for i in range(len(params))] for j in range(len(params))]\n",
        "    for i in range(len(params)):\n",
        "        for j in range(len(params) - i):\n",
        "            qc = QuantumCircuit(N + 1, 1)\n",
        "            ansatz = A_Circuit(params, i, i + j, N)\n",
        "            qc = qc.compose(init_circ, [k for k in range(N)])\n",
        "            qc = qc.compose(ansatz, [k for k in range(N + 1)])\n",
        "\n",
        "            observable = SparsePauliOp.from_list([(\"Z\" + \"I\" * N, 1.0)])\n",
        "            if noisy:\n",
        "                device_backend = FakeSherbrooke()\n",
        "                coupling_map = device_backend.coupling_map\n",
        "                noise_model = NoiseModel.from_backend(device_backend)\n",
        "                basis_gates = noise_model.basis_gates\n",
        "                estimator = Estimator(options={\n",
        "                                    \"backend_options\":{\"noise_model\": noise_model},\n",
        "                                    \"run_options\":{\"shots\": shots}}\n",
        "                )\n",
        "            else:\n",
        "                estimator = Estimator(options={\"run_options\":{\"shots\": shots}})\n",
        "            result = estimator.run([(qc, observable)]).result()\n",
        "            A[i][i + j] = result[0].data.evs\n",
        "    return np.array(A)"
      ]
    },
    {
      "cell_type": "markdown",
      "id": "c722f9e3",
      "metadata": {
        "id": "c722f9e3"
      },
      "source": [
        "<a id='Script6pt4'></a>\n",
        "## Script 6.4:"
      ]
    },
    {
      "cell_type": "code",
      "execution_count": null,
      "id": "fc1ce486",
      "metadata": {
        "id": "fc1ce486"
      },
      "outputs": [],
      "source": [
        "def C_Circuit(\n",
        "    params: npt.NDArray[np.float64],\n",
        "    i: int,\n",
        "    pauli_string: str,\n",
        "    N: int,\n",
        "    evolution_type: str = \"real\",\n",
        ") -> QuantumCircuit:\n",
        "\n",
        "    \"\"\"Create the qiskit quantum circuits to measure each element of the C_i vector.\n",
        "\n",
        "    Args:\n",
        "        params (numpy.array): A numpy array which contains the values of each parameter of the ansatz.\n",
        "        i (int): The index of the C_i vector being measured. This also corresponds\n",
        "            to the index i of the parameter whose generator will be measured\n",
        "        pauli_string (str): A string containing a description of the pauli operator of the Hamiltonian which will be measured.\n",
        "        N (int): The number of qubits.\n",
        "        evolution_type (str, optional): This determines if the evolution will be real-time or imaginary-time\n",
        "            through the addition of an extra gate. Defaults to \"real\".\n",
        "\n",
        "    Returns:\n",
        "        QuantumCircuit: The quantum circuit for an element of the C_i matrix, in the form of a\n",
        "            hadamard test of the generators of parameter i.  The value of the C_i matrix\n",
        "            can be found by measuring the ancilla qubit (qubit N) in the Z basis.\n",
        "    \"\"\"\n",
        "    qc = QuantumCircuit(N + 1, 1)\n",
        "    qc.h(N)\n",
        "    if evolution_type == \"imaginary\":\n",
        "        qc.s(N)  # To get only imaginary component\n",
        "    else:\n",
        "        qc.z(N)\n",
        "    for parameter in range(len(params)):  # Apply parameterized gates\n",
        "        if parameter == i:\n",
        "            qc.x(N)\n",
        "            measure_der(parameter, qc, N)  # Measure generators\n",
        "            qc.x(N)\n",
        "        apply_param(params, parameter, qc, N)\n",
        "    pauli_measure(qc, pauli_string)\n",
        "    qc.h(N)\n",
        "    return qc\n",
        "\n",
        "\n",
        "def Measure_C(\n",
        "    init_circ: QuantumCircuit,\n",
        "    params: npt.NDArray[np.float64],\n",
        "    H: SparsePauliOp,\n",
        "    N: int,\n",
        "    shots: int = 2**10,\n",
        "    evolution_type: str = \"real\",\n",
        "    noisy: bool = False,\n",
        ") -> npt.NDArray[np.float64]:\n",
        "    \"\"\"Create the C_i vector through measuring quantum circuits corresponding to each element.\n",
        "\n",
        "    Args:\n",
        "        init_circ (QuantumCircuit): A qiskit circuit constructing the initial state of the system.\n",
        "        params (numpy.array): A numpy array containing the values of the parameters of the ansatz.\n",
        "        H (SparsePauliOp): The Hamiltonian.\n",
        "        N (int): The number of qubits.\n",
        "        shots (int, optional): The number of shots to be used to measure each element of the C_i vector. Defaults to 2**10.\n",
        "        evolution_type (str, optional): This determines if the evolution will be real-time or imaginary-time\n",
        "            through the addition of an extra gate. Defaults to \"real\".\n",
        "        noisy (bool, optional): A boolean used to turn on and off the Fake-Sherbrooke qiskit noisy backend. Defaults to False.\n",
        "\n",
        "    Returns:\n",
        "        numpy.array: The C_i vector.\n",
        "    \"\"\"\n",
        "    C = [0.0 for i in range(len(params))]\n",
        "    for i in range(len(params)):\n",
        "        for pauli_string in range(len(H.paulis)):\n",
        "            qc = QuantumCircuit(N + 1, 1)\n",
        "            ansatz = C_Circuit(\n",
        "                params, i, H.paulis[pauli_string], N, evolution_type=evolution_type\n",
        "            )\n",
        "            qc = qc.compose(init_circ, [k for k in range(N)])\n",
        "            qc = qc.compose(ansatz, [k for k in range(N + 1)])\n",
        "            observable = SparsePauliOp.from_list([(\"Z\" + \"I\" * N, 1.0)])\n",
        "            if noisy:\n",
        "                device_backend = FakeSherbrooke()\n",
        "                coupling_map = device_backend.coupling_map\n",
        "                noise_model = NoiseModel.from_backend(device_backend)\n",
        "                basis_gates = noise_model.basis_gates\n",
        "                estimator = Estimator(options={\n",
        "                                        \"backend_options\":{\"noise_model\": noise_model},\n",
        "                                        \"run_options\":{\"shots\": shots}}\n",
        "                    )\n",
        "            else:\n",
        "                estimator = Estimator(options={\"run_options\":{\"shots\": shots}})\n",
        "            result = estimator.run([(qc, observable)]).result()\n",
        "\n",
        "            C[i] -= 1 / 2 * H.coeffs[pauli_string].real * result[0].data.evs\n",
        "    return np.array(C)"
      ]
    },
    {
      "cell_type": "markdown",
      "id": "c31f10ba",
      "metadata": {
        "id": "c31f10ba"
      },
      "source": [
        "<a id='Script6pt5'></a>\n",
        "## Script 6.5:"
      ]
    },
    {
      "cell_type": "code",
      "execution_count": null,
      "id": "a46df236",
      "metadata": {
        "id": "a46df236"
      },
      "outputs": [],
      "source": [
        "def VarQRTE(\n",
        "    n_reps_ansatz: int,\n",
        "    hamiltonian: SparsePauliOp,\n",
        "    total_time: float = 1.0,\n",
        "    timestep: float = 0.1,\n",
        "    init_circ: Optional[QuantumCircuit] = None,\n",
        "    shots: int = 2**10,\n",
        "    noisy: bool = False,\n",
        ") -> List[npt.NDArray[np.float64]]:\n",
        "    \"\"\"The Variational Quantum Real Time Evolution (VarQRTE) algorithm.  This uses quantum circuits to measure\n",
        "        the elements of two objects, the A_ij matrix and the C_i vector.\n",
        "\n",
        "    Args:\n",
        "        n_reps_ansatz (int): The number of repetitions of the variational ansatz used to simulate Real-Time evolution.\n",
        "        hamiltonian (SparsePauliOp): The Hamiltonian of the system.\n",
        "        total_time (float, optional): A float to determine the total evolution time of the quantum system. Defaults to 1.0.\n",
        "        timestep (float, optional): A float to determine the size of a single timestep. Defaults to 0.1.\n",
        "        init_circ (QuantumCircuit, optional): A qiskit circuit constructing the initial state of the system.. Defaults to None.\n",
        "        shots (int, optional): Number of shots to be used to measure observables. Defaults to 2**10.\n",
        "        noisy (bool, optional): A boolean used to turn on and off the Fake-Sherbrooke qiskit noisy backend. Defaults to False.\n",
        "\n",
        "    Returns:\n",
        "        numpy.array: An array containing all the parameter values of the ansatz throughout its time evolution.\n",
        "            These values can be put into Construct_Ansatz, or anstaz_energy to obtain observables of the system.\n",
        "    \"\"\"\n",
        "    if init_circ is None:\n",
        "        init_circ = QuantumCircuit(hamiltonian.num_qubits)\n",
        "\n",
        "    initial_params = np.zeros(hamiltonian.num_qubits * (n_reps_ansatz + 1))\n",
        "    num_timesteps = int(total_time / timestep)\n",
        "    all_params = [np.copy(initial_params)]\n",
        "    my_params = np.copy(initial_params)  # Reset Initial Parameters after each run\n",
        "    for i in range(num_timesteps):\n",
        "        print(f\"Simulating Time={str(timestep*(i+1))}                      \", end=\"\\r\")\n",
        "        theta_dot = np.array([0.0 for j in range(len(my_params))])\n",
        "        A = Measure_A(\n",
        "            init_circ, my_params, hamiltonian.num_qubits, shots=shots, noisy=noisy\n",
        "        )\n",
        "        C = Measure_C(\n",
        "            init_circ,\n",
        "            my_params,\n",
        "            hamiltonian,\n",
        "            hamiltonian.num_qubits,\n",
        "            shots=shots,\n",
        "            evolution_type=\"real\",\n",
        "            noisy=noisy,\n",
        "        )\n",
        "\n",
        "        # Approximately invert A using Truncated SVD\n",
        "        u, s, v = np.linalg.svd(A)\n",
        "        for j in range(len(s)):\n",
        "            if s[j] < 1e-2:\n",
        "                s[j] = 1e8\n",
        "        t = np.diag(s**-1)\n",
        "        A_inv = np.dot(v.transpose(), np.dot(t, u.transpose()))\n",
        "\n",
        "        theta_dot = np.matmul(A_inv, C)\n",
        "\n",
        "        my_params -= theta_dot * timestep\n",
        "        all_params.append(np.copy(my_params))\n",
        "    return all_params\n",
        "\n",
        "\n",
        "def Construct_Ansatz(\n",
        "    init_circ: QuantumCircuit, params: npt.NDArray[np.float64], N: int\n",
        ") -> QuantumCircuit:\n",
        "    \"\"\"Construct the full ansatz for use in measuring observables.\n",
        "\n",
        "    Args:\n",
        "        init_circ (QuantumCircuit): A qiskit circuit constructing the initial state of the system.\n",
        "        params (numpy.array): A numpy vector containing the values of the parameters of the ansatz at a specific time.\n",
        "        N (int): The number of qubits.\n",
        "\n",
        "    Returns:\n",
        "        QuantumCircuit: The full ansatz as a qiskit.QuantumCircuit.\n",
        "    \"\"\"\n",
        "    qc = QuantumCircuit(N, 0)\n",
        "    qc = qc.compose(init_circ, [k for k in range(N)])\n",
        "\n",
        "    ansatz = QuantumCircuit(N, 0)\n",
        "    for parameter in range(len(params)):  # Apply parameterized gates\n",
        "        apply_param(params, parameter, ansatz, N)\n",
        "\n",
        "    qc = qc.compose(ansatz, [k for k in range(N)])\n",
        "    return qc"
      ]
    },
    {
      "cell_type": "markdown",
      "id": "3b2d4f36",
      "metadata": {
        "id": "3b2d4f36"
      },
      "source": [
        "<a id='Script6pt6'></a>\n",
        "## Script 6.6:"
      ]
    },
    {
      "cell_type": "code",
      "execution_count": null,
      "id": "fa1f997e",
      "metadata": {
        "id": "fa1f997e"
      },
      "outputs": [],
      "source": [
        "def VarQITE(\n",
        "    n_reps_ansatz: int,\n",
        "    hamiltonian: SparsePauliOp,\n",
        "    total_time: float,\n",
        "    timestep: float,\n",
        "    init_circ: Optional[QuantumCircuit] = None,\n",
        "    shots: int = 2**10,\n",
        "    noisy: bool = False,\n",
        ") -> List[npt.NDArray[np.float64]]:\n",
        "    \"\"\"The Variational Quantum Imaginary Time Evolution (VarQITE) algorithm.  This uses quantum circuits to measure\n",
        "        the elements of two objects, the A_ij matrix and the C_i vector.\n",
        "\n",
        "    Args:\n",
        "        n_reps_ansatz (int): The number of repetitions of the variational ansatz used to simulate Imaginary-Time evolution.\n",
        "        hamiltonian (SparsePauliOp): The Hamiltonian of the system.\n",
        "        total_time (float, optional): A float to determine the total evolution time of the quantum system. Defaults to 1.0.\n",
        "        timestep (float, optional): A float to determine the size of a single timestep. Defaults to 0.1.\n",
        "        init_circ (QuantumCircuit, optional): A qiskit circuit constructing the initial state of the system.. Defaults to None.\n",
        "        shots (int, optional): Number of shots to be used to measure observables. Defaults to 2**10.\n",
        "        noisy (bool, optional): A boolean used to turn on and off the Fake-Sherbrooke qiskit noisy backend. Defaults to False.\n",
        "\n",
        "    Returns:\n",
        "        numpy.array: An array containing all the parameter values of the ansatz throughout its time evolution.\n",
        "            These values can be put into Construct_Ansatz, or anstaz_energy to obtain observables of the system.\n",
        "    \"\"\"\n",
        "    if init_circ is None:\n",
        "        init_circ = QuantumCircuit(hamiltonian.num_qubits)\n",
        "\n",
        "    initial_params = np.zeros(hamiltonian.num_qubits * (n_reps_ansatz + 1))\n",
        "    num_timesteps = int(total_time / timestep)\n",
        "    all_params = [np.copy(initial_params)]\n",
        "\n",
        "    my_params = np.copy(initial_params)  # Reset Initial Parameters after each run\n",
        "    for i in range(num_timesteps):\n",
        "        print(f\"Timestep: {str(i*timestep)}                      \", end=\"\\r\")\n",
        "        theta_dot = np.array([0.0 for j in range(len(my_params))])\n",
        "        A = np.array(\n",
        "            Measure_A(\n",
        "                init_circ, my_params, hamiltonian.num_qubits, shots=shots, noisy=noisy\n",
        "            )\n",
        "        )\n",
        "        C = np.array(\n",
        "            Measure_C(\n",
        "                init_circ,\n",
        "                my_params,\n",
        "                hamiltonian,\n",
        "                hamiltonian.num_qubits,\n",
        "                shots=shots,\n",
        "                noisy=noisy,\n",
        "                evolution_type=\"imaginary\",\n",
        "            )\n",
        "        )\n",
        "\n",
        "        # Approximately invert A using Truncated SVD\n",
        "        u, s, v = np.linalg.svd(A)\n",
        "        for j in range(len(s)):\n",
        "            if s[j] < 1e-2:\n",
        "                s[j] = 1e7\n",
        "        t = np.diag(s**-1)\n",
        "        A_inv = np.dot(v.transpose(), np.dot(t, u.transpose()))\n",
        "        # A_inv=np.dot(v,np.dot(t,u.transpose()))\n",
        "\n",
        "        theta_dot = np.matmul(A_inv, C)\n",
        "\n",
        "        my_params += theta_dot * timestep\n",
        "        all_params.append(np.copy(my_params))\n",
        "\n",
        "        # print(\"Theta dot: \"+str(np.sum(np.abs(theta_dot))))\n",
        "        # print(\"(Energy ,Variance): \"+str(ansatz_energy(init_circ, my_params[:], hamiltonian)))\n",
        "        # print()\n",
        "    return all_params\n",
        "\n",
        "\n",
        "def ansatz_energy(\n",
        "    init_circ: QuantumCircuit,\n",
        "    params: npt.NDArray[np.float64],\n",
        "    H: SparsePauliOp,\n",
        "    shots: int = 2**14,\n",
        "    noisy: bool = False,\n",
        ") -> Tuple[float, float]:\n",
        "    \"\"\"Measure the energy of the ansatz.\n",
        "\n",
        "    Args:\n",
        "        init_circ (QuantumCircuit): A qiskit circuit constructing the initial state of the system.\n",
        "        params (numpy.array): A numpy vector containing the values of the parameters of the ansatz at a specific time.\n",
        "        H (SparsePauliOp): The Hamiltonian.\n",
        "        shots (_type_, optional): The number of shots to be used to measure the energy. Defaults to 2**14.\n",
        "        noisy (bool, optional): A boolean used to turn on and off the Fake-Sherbrooke qiskit noisy backend. Defaults to False.\n",
        "\n",
        "    Returns:\n",
        "        (float, float): Return (energy, variance) from the measured observables.\n",
        "    \"\"\"\n",
        "    N = H.num_qubits\n",
        "\n",
        "    if noisy:\n",
        "        device_backend = FakeSherbrooke()\n",
        "        coupling_map = device_backend.coupling_map\n",
        "        noise_model = NoiseModel.from_backend(device_backend)\n",
        "        basis_gates = noise_model.basis_gates\n",
        "        estimator = Estimator(options={\n",
        "                                \"backend_options\":{\"noise_model\": noise_model},\n",
        "                                \"run_options\":{\"shots\": shots}}\n",
        "                                )\n",
        "    else:\n",
        "        estimator = Estimator(options={\"run_options\":{\"shots\": shots}})\n",
        "    qc = Construct_Ansatz(init_circ, params, N)\n",
        "    result = estimator.run([(qc, H)]).result()\n",
        "    return result[0].data.evs, result[0].data.stds"
      ]
    },
    {
      "cell_type": "markdown",
      "id": "1a28a384",
      "metadata": {
        "id": "1a28a384"
      },
      "source": [
        "<a id='Script6pt7'></a>\n",
        "## Script 6.7:"
      ]
    },
    {
      "cell_type": "code",
      "execution_count": null,
      "id": "fe6fdc84",
      "metadata": {
        "id": "fe6fdc84"
      },
      "outputs": [],
      "source": [
        "# --- Define the Hamiltonian ---\n",
        "H = SparsePauliOp.from_list([(\"IIZ\", 1.0), (\"IZI\", 1.0), (\"ZII\", 0.65), (\"IXX\", 1.0), (\"IYY\", 1.0), (\"XXI\", 0.75), (\"YYI\", 0.75)])\n",
        "\n",
        "# --- Define the Initial State ---\n",
        "qc = QuantumCircuit(3)\n",
        "qc.rx(0.5, 0)\n",
        "qc.rx(0.5, 1)\n",
        "qc.rx(0.5, 2)\n",
        "\n",
        "# --- Perform Variational Real-Time Evolution ---\n",
        "layers = 0\n",
        "total_time = 10\n",
        "timestep = 0.1\n",
        "params = VarQITE(layers, H, total_time, timestep, init_circ=qc)\n",
        "# Params now holds the parameter values for the ansatz at each timestep for Imaginary-Time Evolution\n",
        "\n",
        "# --- Get the Expectation Value of the Energy ---\n",
        "all_energies = []\n",
        "for i in range(len(params)):\n",
        "    print(f\"Timestep {i} Energy: {ansatz_energy(qc, params[i], H)}\")\n",
        "    all_energies.append(ansatz_energy(qc, params[i], H)[0])\n",
        "\n",
        "# --- Plot Expectation Values Over Time ---\n",
        "plt.title(\"VarQITE Energy Over Imaginary Time\")\n",
        "plt.plot([i*timestep for i in range(int(total_time/timestep)+1)], all_energies)\n",
        "plt.xlabel(\"Imaginary Time\")\n",
        "plt.ylabel(\"Energy (eV)\")\n",
        "plt.show()"
      ]
    }
  ],
  "metadata": {
    "kernelspec": {
      "display_name": "Python 3 (ipykernel)",
      "language": "python",
      "name": "python3"
    },
    "language_info": {
      "codemirror_mode": {
        "name": "ipython",
        "version": 3
      },
      "file_extension": ".py",
      "mimetype": "text/x-python",
      "name": "python",
      "nbconvert_exporter": "python",
      "pygments_lexer": "ipython3",
      "version": "3.12.12"
    },
    "colab": {
      "provenance": []
    }
  },
  "nbformat": 4,
  "nbformat_minor": 5
}