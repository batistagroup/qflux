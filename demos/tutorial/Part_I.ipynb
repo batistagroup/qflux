{
  "cells": [
    {
      "cell_type": "markdown",
      "metadata": {
        "id": "DQ1YDFxRFtYB"
      },
      "source": [
        "# Installation of external packages"
      ]
    },
    {
      "cell_type": "code",
      "execution_count": null,
      "metadata": {
        "id": "lyKYvO0F-TLV"
      },
      "outputs": [],
      "source": [
        "!pip install qflux"
      ]
    },
    {
      "cell_type": "markdown",
      "metadata": {
        "id": "ZN42Wmv6FtYG"
      },
      "source": [
        "# Standard imports"
      ]
    },
    {
      "cell_type": "code",
      "execution_count": null,
      "metadata": {
        "id": "a8khrlY1-gCI"
      },
      "outputs": [],
      "source": [
        "import numpy as np\n",
        "import matplotlib.pyplot as plt\n",
        "from matplotlib import axes\n",
        "from tqdm.notebook import trange"
      ]
    },
    {
      "cell_type": "markdown",
      "metadata": {
        "id": "nKVw-cTpvfnl"
      },
      "source": [
        "# Constants and unit conversion factors"
      ]
    },
    {
      "cell_type": "code",
      "execution_count": null,
      "metadata": {
        "id": "gTOvl95b7Ar8"
      },
      "outputs": [],
      "source": [
        "au2ev = 27.21138602\n",
        "ev2au = 1/au2ev\n",
        "bohr2au = 0.52917721092\n",
        "au2bohr = 1/bohr2au\n",
        "fs2au = 41.3414\n",
        "au2fs = 1/fs2au\n",
        "\n",
        "mass_proton = 1836.15 # proton mass in units of electron mass"
      ]
    },
    {
      "cell_type": "markdown",
      "metadata": {
        "id": "YNM4GQo8yTFd",
        "jp-MarkdownHeadingCollapsed": true
      },
      "source": [
        "# Section 3. Workflow for Quantum Dynamics Simulations"
      ]
    },
    {
      "cell_type": "markdown",
      "metadata": {
        "id": "SG6TB_Vc94A7"
      },
      "source": [
        "## Section 3.1. Quantum Dynamics of a Harmonic Oscillator"
      ]
    },
    {
      "cell_type": "markdown",
      "metadata": {
        "id": "pAT4uJul46VE"
      },
      "source": [
        "### QuTiP propagation of the coherent state in harmonic potential\n",
        "\n",
        "Before we look at doing Quantum Dynamics on a quantum computer, we'll start out by looking at some ways that we can do quantum dynamics on a classical computer! This is an important step as it will familiarize you with the general ingredients of a quantum dynamics simulation and will also provide us with a means of validating the results obtained from a quantum computer.\n",
        "\n",
        "We begin by showing a simple example of how to compute dynamics of an initial state using QuTiP's mesolve() function. When we run dynamics, we must do the following:\n",
        "\n",
        "1. **Define the initial state** $\\left| \\alpha \\right\\rangle$. In this example, our initial state is defined as a coherent state with amplitude $\\alpha = x_{0} + i p_{0}$, which can be expressed in the Fock Basis as:\n",
        "     \n",
        "    $$ \\left| \\alpha \\right\\rangle = \\sum_{n=0}^\\infty\\frac{\\alpha^{n}}{\\sqrt{n!}} e^{-\\frac{1}{2}\\left| \\alpha \\right|^{2}} \\left| n \\right\\rangle $$\n",
        "     \n",
        "2. **Define the Hamiltonian** $H$. In this example, our Hamiltonian is the familiar quantum harmonic oscillator Hamiltonian, defined in terms of creation and annihilation operators as:\n",
        "\n",
        "$$ H =  \\hbar \\omega \\left( \\hat{a}^{\\dagger} \\hat{a} + \\frac{1}{2} \\right) $$\n",
        "\n",
        "3. **Define the propagation time step $t$ and the number of time steps $n$ for which to compute the wavefunction.**\n",
        "\n",
        "4. **Compute the time-evolved wavefunction at each step as:**\n",
        "\n",
        "$$ \\left| \\alpha (t_{i+1}) \\right\\rangle = e^{-\\frac{i}{\\hbar} H t} \\left| \\alpha(t_{i}) \\right\\rangle $$\n",
        "\n",
        "<!-- **Note:** For a coherent state, the time evolution within the harmonic oscillator takes the form of:\n",
        "\n",
        "$$  \\begin{align*}\n",
        "        \\left| \\psi (t) \\right\\rangle &= e^{-\\frac{1}{2} \\left| \\alpha \\right|^{2}} \\sum_{n=0}^{\\infty} \\frac{\\alpha_{0}^{n}}{\\sqrt{n!}} e^{- i \\omega \\left( n + \\frac{1}{2} \\right) t} \\left| n \\right\\rangle \\\\\n",
        "                                      &= e^{- i \\omega t /2} e^{-\\frac{1}{2} \\left| \\alpha \\right|^{2}} \\sum_{n=0}^{\\infty} \\frac{\\left( \\alpha_{0} e^{- i \\omega t} \\right)^{n}}{\\sqrt{n!}} \\left| n \\right\\rangle \\\\\n",
        "    \\end{align*}\n",
        "$$ -->\n"
      ]
    },
    {
      "cell_type": "code",
      "execution_count": null,
      "metadata": {
        "id": "gfA4yiBd9au9"
      },
      "outputs": [],
      "source": [
        "import qutip as qt\n",
        "\n",
        "# Define the System Parameters:\n",
        "mass = 1     # mass = 1.0\n",
        "hbar = 1     # hbar = 1.0\n",
        "omega = 1.0  # Oscillator frequency\n",
        "\n",
        "# Initial State: coherent state with amplitude \\alpha=(x_0 + i p_0)/\\sqrt{2}\n",
        "x_0 = 1.00   # Initial Position\n",
        "p_0 = 0.00   # Initial Momentum\n",
        "N = 128 # Number of States in Fock Basis\n",
        "psi_0 = qt.coherent(N, alpha=(x_0 + 1.j*p_0)/np.sqrt(2))\n",
        "\n",
        "# Define the propagation time array with n_steps from 0 to total_time\n",
        "n_steps = 400   # Number of time steps\n",
        "total_time = 20 # Total Propagation time\n",
        "# Define the list of times for which we calculate dynamics.\n",
        "tlist = np.linspace(0, total_time, n_steps)\n",
        "\n",
        "# Construct the Hamiltonian:\n",
        "a = qt.destroy(N)  # Annihilation operator\n",
        "H_ho = hbar*omega*(a.dag()*a + 1./2.)   # Harmonic Oscillator Hamiltonian\n",
        "\n",
        "# Set up the Solver and Run dynamics!\n",
        "solver_options = {'nsteps': len(tlist), 'progress_bar': True}\n",
        "result = qt.sesolve(H_ho, psi_0, tlist, [], [], options=solver_options)"
      ]
    },
    {
      "cell_type": "markdown",
      "metadata": {
        "id": "FdQ-_ZeX-Otc"
      },
      "source": [
        "### Plotting Expectation Values\n",
        "\n",
        "<!-- One of the useful things we can do with the result of our quantum dynamics calculation is compute expectation values.\n",
        "\n",
        "For example, we can consider some expectation values of our initial states:\n",
        "\n",
        "Recall that: $\\hat{a} | \\alpha\\ \\rangle = \\alpha | \\alpha \\rangle \\ \\ \\ \\textrm{ and } \\ \\ \\ \\langle \\alpha | \\hat{a}^{\\dagger} = \\alpha^{*} \\langle \\alpha |$\n",
        "\n",
        "\n",
        "Then the expected position of our initial state can be computed as:\n",
        "\n",
        "\n",
        "\\begin{split}\n",
        "\\left \\langle \\hat{X} \\right \\rangle & = \\left \\langle \\alpha \\middle| \\frac{1}{\\sqrt{2}} \\left( \\hat{a} + \\hat{a}^{\\dagger} \\right) \\middle| \\alpha \\right \\rangle \\\\\n",
        "& = \\frac{1}{\\sqrt{2}} \\left( \\left \\langle \\alpha \\middle| \\hat{a} \\middle| \\alpha \\right \\rangle + \\left \\langle \\alpha \\middle| \\hat{a}^{\\dagger} \\middle| \\alpha \\right \\rangle \\right) \\\\\n",
        "& = \\frac{1}{\\sqrt{2}} \\left( \\alpha + \\alpha^{*} \\right) \\\\\n",
        "& = \\sqrt{2}  \\ \\mathbf{Re}\\left[ \\alpha \\right]\n",
        "\\end{split}\n",
        "\n",
        "We can do the same for the momentum:\n",
        "\n",
        "\\begin{split}\n",
        "\\left \\langle \\hat{P} \\right \\rangle & = \\frac{- i \\hbar}{\\sqrt{2}} \\left \\langle \\alpha \\middle| \\left( \\hat{a} - \\hat{a}^{\\dagger} \\right) \\middle| \\alpha \\right \\rangle \\\\\n",
        "& = \\frac{- i \\hbar}{\\sqrt{2}} \\left( \\left \\langle \\alpha \\middle| \\hat{a} \\middle| \\alpha \\right \\rangle - \\left \\langle \\alpha \\middle| \\hat{a}^{\\dagger} \\middle| \\alpha \\right \\rangle \\right) \\\\\n",
        "& = \\frac{- i \\hbar}{\\sqrt{2}} \\left( \\alpha - \\alpha^{*} \\right) \\\\\n",
        "& = \\sqrt{2} \\hbar \\ \\mathbf{Im} \\left[ \\alpha \\right]\n",
        "\\end{split} -->"
      ]
    },
    {
      "cell_type": "code",
      "execution_count": null,
      "metadata": {
        "id": "RFwWACL39kTF"
      },
      "outputs": [],
      "source": [
        "X_op = (a.dag() + a)/np.sqrt(2)\n",
        "P_op = 1j*(a.dag() - a)/np.sqrt(2)\n",
        "\n",
        "exp_x_qt = qt.expect(X_op, result.states)\n",
        "exp_p_qt = qt.expect(P_op, result.states)\n",
        "\n",
        "exp_x_ana = [ x_0*np.cos(omega*t) + (p_0/mass/omega)*np.sin(omega*t) for t in tlist]\n",
        "exp_p_ana = [ -x_0*omega*mass*np.sin(omega*t) + p_0*np.cos(omega*t) for t in tlist]"
      ]
    },
    {
      "cell_type": "code",
      "execution_count": null,
      "metadata": {
        "id": "qWfmRltn9sgO"
      },
      "outputs": [],
      "source": [
        "tlist = np.linspace(0, total_time, n_steps)\n",
        "fig, ax = plt.subplots()\n",
        "ax.plot(tlist, exp_x_ana, '-', color='blue', label='<x> analytical', zorder=0)\n",
        "ax.plot(tlist[::4], exp_x_qt[::4], 'o', color='blue', label='<x> QuTiP', zorder=0, markeredgecolor='blue', fillstyle='full', markerfacecolor='white')\n",
        "ax.plot(tlist, exp_p_ana, '-', color='red',label='<p> analytical', zorder=2)\n",
        "ax.plot(tlist[::4], exp_p_qt[::4], 'o', color='red',label='<p> QuTip', zorder=2, markeredgecolor='red', fillstyle='full', markerfacecolor='white')\n",
        "ax.axhline(-1, ls='--', lw=0.5, color='black', alpha=0.5)\n",
        "ax.axhline( 0, ls='--', lw=0.5, color='black', alpha=0.5)\n",
        "ax.axhline( 1, ls='--', lw=0.5, color='black', alpha=0.5)\n",
        "ax.set_xlabel('time, a.u.', fontsize=14)\n",
        "ax.set_ylabel('Expectation value', fontsize=14)\n",
        "ax.tick_params(labelsize=12, grid_alpha=0.5)\n",
        "plt.ylim(-1.5,2.5)\n",
        "plt.legend(fontsize=12,loc='upper center')\n",
        "plt.show()"
      ]
    },
    {
      "cell_type": "markdown",
      "metadata": {
        "id": "M1D6WvyESuLn"
      },
      "source": [
        "## Section 3.2. Split-Operator Fourier Transform (SOFT) Method\n",
        "\n",
        "Here, we compute the time-evolution of a wavepacket defined in the position basis ($\\psi(x)$) according to the Split-Operator Fourier Transform (SOFT) method. This differs slightly from the approach utilized in the last section in the following ways:\n",
        "\n",
        "- As mentioned above, we will describe the wavefunction in terms of the position. To do this, we must define a closed range of positions $x$ and momenta $p$ and discretize over some finite number of points (analagous to the finite number of Fock states considered above).\n",
        "- We will compute the time evolution as:\n",
        "$$ \\left| \\psi (t) \\right\\rangle =  e^{- \\frac{i}{\\hbar} {H} t} \\left| \\psi(0) \\right\\rangle $$\n",
        "Writing $H$ in terms of Kinetic and Potential energy $H = T + V$:\n",
        "$$ \\begin{align*}\n",
        "        \\left| \\psi (t) \\right\\rangle &\\approx \\lim\\limits_{N\\to\\infty} \\left[e^{\\frac{-ip^2t}{2m\\hbar N}}\\ e^{\\frac{-i{V}({x})t}{\\hbar N}}\\right]^N \\space |\\psi(0)\\rangle \\\\\n",
        "                                  &\\approx\\lim\\limits_{N\\to\\infty} \\left[e^{\\frac{-i{V}({x})t}{2\\hbar N}}\\space e^{\\frac{-ip^2t}{2m\\hbar N}}\\space e^{\\frac{-i{V}({x})t}{2\\hbar N}}\\right]^N \\space |\\psi(0)\\rangle   \n",
        "% Inserting closure and writing in the plane-wave basis:\n",
        "%     \\left| \\psi (x, t) \\right\\rangle &= \\int d x_0 \\space \\langle x_t | e^{\\frac{-iĤt}{\\hbar}} | x_0 \\rangle \\space \\langle x_0 | \\psi(0) \\rangle\n",
        "    \\end{align*}\n",
        "$$\n",
        "    \n",
        "Propagation for a single timestep is then:\n",
        "$$\\psi(x,\\frac{t_{i+1}}{N}) =\n",
        "\\overbrace{\\vphantom{\\int \\frac{dp}{\\sqrt{2\\hbar}} e^{\\frac{-iV(x)p^{2}}{2 \\hbar N}}} e^{\\frac{-iV(x)t}{2\\hbar N}} }^\\textrm{P.E. Propagator} \\ \\cdot \\\n",
        "\\overbrace{\\vphantom{\\int \\frac{dp}{\\sqrt{2\\hbar}} e^{\\frac{-iV(x)p^{2}}{2 \\hbar N}}} \\color{blue}   {\\int \\frac{dp}{\\sqrt{2\\pi\\hbar}} \\ e^{\\frac{-ipx}{\\hbar}}}}^\\textrm{Inverse Fourier Transform} \\ \\cdot\n",
        "\\overbrace{\\vphantom{\\int \\frac{dp}{\\sqrt{2\\hbar}} e^{\\frac{-iV(x)p^{2}}{2 \\hbar N}}} \\ e^{\\frac{-ip^2t}{2m\\hbar N}}}^\\textrm{K.E. Propagator} \\ \\cdot \\\n",
        "\\overbrace{\\vphantom{\\int \\frac{dp}{\\sqrt{2\\hbar}} e^{\\frac{-iV(x)p^{2}}{2 \\hbar N}}} \\color{purple}{\\int \\frac{dx}{\\sqrt{2\\pi\\hbar}} \\ e^{\\frac{ ipx}{\\hbar}}}}^\\textrm{Fourier Transform} \\ \\cdot \\\n",
        "\\overbrace{\\vphantom{\\int \\frac{dp}{\\sqrt{2\\hbar}} e^{\\frac{-iV(x)p^{2}}{2 \\hbar N}}}\\ e^{\\frac{-iV(x)t}{2\\hbar N}} }^\\textrm{P.E. Propagator} \\ \\cdot \\ \\psi(x,t_{i})\n",
        "$$\n",
        "\n",
        "The Fourier and inverse Fourier transforms are used to convert between the position and momentum basis. To translate the formula above, the algorithm will consist of 5 steps per iteration:\n",
        "\n",
        "1. Apply a half step of the potential energy propagator to the initial state.\n",
        "2. Fourier transform into the momentum basis.\n",
        "3. Apply a full step of the kinetic energy propagator on the momentum basis.\n",
        "4. Inverse Fourier transform back into the coordinate basis.\n",
        "5. Apply the second half step of the potential energy propagator.\n",
        "\n",
        "This is done with the following code:\n",
        "\n",
        "```python\n",
        "# SOFT propagation\n",
        "def soft(psi,pot_prop,kin_prop):\n",
        "    out=pot_prop*psi              # Apply P.E. propagator\n",
        "    out=kin_prop*np.fft.fft(out)  # FT and apply K.E. propagator\n",
        "    out=pot_prop*np.fft.ifft(out) # IFT and Apply P.E. propagator\n",
        "    return out\n",
        "```\n",
        "Note that here we must define our coherent state in the coordinate representation:\n",
        "\n",
        "$$ \\psi_{0} = \\left( \\tfrac{m \\omega}{\\pi \\hbar} \\right)^{1/4} e^{- \\tfrac{m \\omega}{2 \\hbar} \\left( x - x_{0} \\right)^{2} + \\tfrac{i}{\\hbar} p_{0} x } $$"
      ]
    },
    {
      "cell_type": "markdown",
      "metadata": {
        "id": "0rReAi7yvpRy"
      },
      "source": [
        "### Grids in position and momentum spaces"
      ]
    },
    {
      "cell_type": "markdown",
      "metadata": {
        "id": "6jti5JdBwCvg"
      },
      "source": [
        "### More functions\n",
        "\n",
        "**Coherent state** for a harmonic oscillator in position representation:\n",
        "$$\n",
        "\\langle{x}|\\alpha\\rangle = \\psi^{(\\alpha)}(x) =\n",
        "\\left(\\dfrac{m\\omega}{\\pi\\hbar}\\right)^{1/4}\n",
        "\\exp\\left[\n",
        " -\\dfrac{m\\omega}{2\\hbar}\n",
        "  \\left(x - \\sqrt{\\dfrac{2\\hbar}{m\\omega}}\\mathcal{Re}[\\alpha]\\right)^2\n",
        " +\\dfrac{\\text{i}}{\\hbar}\\sqrt{2m\\omega\\hbar}\\mathcal{Im}[\\alpha]x\n",
        "  \\right]\n",
        "$$\n",
        "where\n",
        "$$\n",
        "\\langle x\\rangle = \\sqrt{\\dfrac{2\\hbar}{m\\omega}}\\,\\mathcal{Re}[\\alpha] \\\\\n",
        "\\langle p\\rangle = \\vphantom{\\sqrt{\\dfrac{2\\hbar}{m\\omega}}}\\sqrt{2m\\omega\\hbar}\\,\\mathcal{Im}[\\alpha]\n",
        "$$\n",
        "\n",
        "are the expectation values of the position and momentum, respectively.\n",
        "\n",
        "**Probability density in position representation**:\n",
        "$$\n",
        "\\rho(x) = \\langle \\psi|x\\rangle\\langle x|\\psi\\rangle = \\psi^*(x)\\,\\psi(x)\n",
        "$$\n",
        "\n",
        "**Propagator (evolution operator)**:\n",
        "$$\n",
        "\\hat{U}(\\tau) = e^{-\\frac{\\text{i}}{\\hbar}\\hat{H}\\tau}\n",
        "$$"
      ]
    },
    {
      "cell_type": "code",
      "source": [
        "def get_xgrid(xmin, xmax, N_pts):\n",
        "    \"\"\"Generate an evenly spaced position grid.\"\"\"\n",
        "    dx = (xmax - xmin)/N_pts\n",
        "    xgrid = np.arange(-N_pts/2, N_pts/2)*dx\n",
        "    return xgrid\n",
        "\n",
        "def get_pgrid(xmin, xmax, N_pts, reorder=True):\n",
        "    \"\"\"Generate a momentum grid using FFT-compatible ordering.\"\"\"\n",
        "    dp = 2 * np.pi / (xmax-xmin)\n",
        "    pmin = -dp * N_pts / 2\n",
        "    pmax = dp * N_pts / 2\n",
        "    plus_pgrid = np.linspace(0, pmax, N_pts//2+1)\n",
        "    minus_pgrid = - np.flip(np.copy(plus_pgrid))\n",
        "    if reorder:\n",
        "        pgrid = np.concatenate((plus_pgrid[:-1], minus_pgrid[:-1]))\n",
        "    else:\n",
        "        pgrid = np.concatenate((minus_pgrid, plus_pgrid))\n",
        "    return pgrid\n",
        "\n",
        "def get_coherent_state(x, p_0, x_0, mass=1, omega=1, hbar=1):\n",
        "    \"\"\"Generate an initial coherent state wavefunction.\"\"\"\n",
        "    normalization = (mass*omega/np.pi/hbar)**(0.25)\n",
        "    y = normalization*np.exp(-1*(mass*omega/hbar/2)*((x-x_0)**2)+1j*p_0*x/hbar)\n",
        "    return y\n",
        "\n",
        "xmin = -7.0\n",
        "xmax = 7.0\n",
        "N_pts = 128\n",
        "mass = 1.0 # mass of the particle in units of electron mass\n",
        "\n",
        "# frequency of the harmonic oscillator (in atomic units)\n",
        "omega = 1.0\n",
        "\n",
        "# grid preparation and spacing\n",
        "xgrid = get_xgrid(xmin, xmax, N_pts)\n",
        "dx = xgrid[1] - xgrid[0]\n",
        "# Momentum Grid\n",
        "pgrid = get_pgrid(xmin, xmax, N_pts, reorder=True)\n",
        "\n",
        "# initial coherent state - ground state Gaussian centered at x_0 = 1\n",
        "x_0 = 1.0\n",
        "p_0 = 0.0\n",
        "psi_0 = get_coherent_state(xgrid, p_0, x_0, mass, omega)"
      ],
      "metadata": {
        "id": "V0kPm-4sVsv2"
      },
      "execution_count": null,
      "outputs": []
    },
    {
      "cell_type": "code",
      "source": [
        "def get_harmonic_potential(x, x_0=0.0, mass=1, omega=1):\n",
        "    return mass * omega**2 * (x - x_0)**2 / 2\n",
        "\n",
        "def get_kinetic_energy(p, mass=1):\n",
        "    return  p**2/2/mass\n",
        "\n",
        "# operators\n",
        "Vx_harm = get_harmonic_potential(xgrid)\n",
        "K_harm = get_kinetic_energy(pgrid, mass)"
      ],
      "metadata": {
        "id": "gv-Ch0SSV6NE"
      },
      "execution_count": null,
      "outputs": []
    },
    {
      "cell_type": "markdown",
      "metadata": {
        "id": "9Go8eiJpNGvN"
      },
      "source": [
        "### SOFT propagation of a coherent state in harmonic potential"
      ]
    },
    {
      "cell_type": "code",
      "source": [
        "def get_propagator_on_grid(operator_grid, tau, hbar=1):\n",
        "    # operator_grid: a numpy array, expressing the operator on a grid\n",
        "    # tau: the time step for propagation (in atomic units of time)\n",
        "    return np.exp(-1.0j * operator_grid * tau / hbar)\n",
        "\n",
        "def do_SOFT_propagation(psi, K_prop, V_prop):\n",
        "    # np.fft.fft and np.fft.ifft requires specific ordering of outputs/inputs\n",
        "    psi_t_position_grid = V_prop * psi\n",
        "    psi_t_momentum_grid = K_prop * np.fft.fft(psi_t_position_grid, norm=\"ortho\")\n",
        "    psi_t = V_prop * np.fft.ifft(psi_t_momentum_grid, norm=\"ortho\")\n",
        "    return psi_t\n",
        "\n",
        "tmin = 0.0\n",
        "tmax = 20.0\n",
        "N_tsteps = 400\n",
        "\n",
        "# grid preparation and spacing\n",
        "tgrid = np.linspace(tmin, tmax, N_tsteps)\n",
        "tau = tgrid[1] - tgrid[0]\n",
        "\n",
        "print(\"For \", tmax, \" a.u. using a timestep of \",tau,\" a.u.\")\n",
        "\n",
        "V_prop = get_propagator_on_grid(Vx_harm/2, tau)\n",
        "K_prop = get_propagator_on_grid(K_harm, tau)\n",
        "\n",
        "propagated_states_harm = [psi_0]\n",
        "psi_t = psi_0\n",
        "for tstep_idx in trange(len(tgrid)):\n",
        "    psi_t = do_SOFT_propagation(psi_t, K_prop, V_prop)\n",
        "    propagated_states_harm.append(psi_t)\n",
        "\n",
        "propagated_states_harm = np.array(propagated_states_harm)[:-1]"
      ],
      "metadata": {
        "id": "TqjckEARgRS1"
      },
      "execution_count": null,
      "outputs": []
    },
    {
      "cell_type": "markdown",
      "metadata": {
        "id": "zuNUHowuWSMk"
      },
      "source": [
        "#### Position and momentum expectation values"
      ]
    },
    {
      "cell_type": "code",
      "source": [
        "def position_expectation_value(xgrid, psi):\n",
        "    dx = xgrid[1]-xgrid[0]\n",
        "    return dx*np.real(np.sum(xgrid * np.conjugate(psi) * psi))\n",
        "\n",
        "def momentum_expectation_value(dx,pgrid, psi):\n",
        "    psip = np.fft.fft(psi)\n",
        "    return dx*np.real(np.sum(pgrid * np.conjugate(psip) * psip))/len(psi)\n",
        "\n",
        "avxgrid_harm_soft = [position_expectation_value(xgrid,propagated_states_harm[i]) for i in range(len(propagated_states_harm))]\n",
        "dx = xgrid[1]-xgrid[0]\n",
        "avpgrid_harm_soft = [momentum_expectation_value(dx,pgrid,propagated_states_harm[i]) for i in range(len(propagated_states_harm))]\n",
        "\n",
        "avxgrid_harm_ana = [ x_0*np.cos(omega*t) + (p_0/mass/omega)*np.sin(omega*t) for t in tgrid]\n",
        "avpgrid_harm_ana = [ -x_0*omega*mass*np.sin(omega*t) + p_0*np.cos(omega*t) for t in tgrid]\n",
        "\n",
        "fig, ax = plt.subplots()\n",
        "ax.plot(tgrid, avxgrid_harm_ana, '-', color='blue',label='<x> analytical', zorder=0)\n",
        "ax.plot(tgrid[::4], avxgrid_harm_soft[::4], 'o', color='blue',label='<x> SOFT', zorder=0, markeredgecolor='blue', fillstyle='full', markerfacecolor='white')\n",
        "ax.plot(tgrid, avpgrid_harm_ana, '-', color='red',label='<p> analytical')\n",
        "ax.plot(tgrid[::4], avpgrid_harm_soft[::4], 'o', color='red',label='<p> SOFT', markeredgecolor='red', fillstyle='full', markerfacecolor='white', zorder=0)\n",
        "\n",
        "ax.axhline(-1, ls='--', lw=0.5, color='black', alpha=0.5)\n",
        "ax.axhline( 0, ls='--', lw=0.5, color='black', alpha=0.5)\n",
        "ax.axhline( 1, ls='--', lw=0.5, color='black', alpha=0.5)\n",
        "ax.set_xlabel('time, a.u.', fontsize=14)\n",
        "ax.set_ylabel('Expectation value', fontsize=14)\n",
        "ax.tick_params(labelsize=12, grid_alpha=0.5)\n",
        "plt.ylim(-1.5,2)\n",
        "plt.legend(fontsize=12,loc='upper center', ncol=2)\n",
        "plt.show()"
      ],
      "metadata": {
        "id": "7CRK9bmMgjCJ"
      },
      "execution_count": null,
      "outputs": []
    },
    {
      "cell_type": "markdown",
      "source": [
        "### Quantum Circuit of a Bell State"
      ],
      "metadata": {
        "id": "2CcoqpdehPWL"
      }
    },
    {
      "cell_type": "code",
      "source": [
        "from qiskit_aer import Aer\n",
        "from qiskit import QuantumCircuit, transpile\n",
        "from qiskit.visualization import plot_histogram\n",
        "\n",
        "# Create a quantum circuit with 2 qubits and 2 classical bits\n",
        "qc = QuantumCircuit(2, 2)\n",
        "\n",
        "# Apply Hadamard gate to the first qubit\n",
        "qc.h(0)\n",
        "\n",
        "# Apply CNOT gate with qubit 0 as control and qubit 1 as target\n",
        "qc.cx(0, 1)\n",
        "\n",
        "# Measure the qubits\n",
        "qc.measure([0, 1], [0, 1])\n",
        "\n",
        "# Visualize the circuit\n",
        "print(qc.draw())\n",
        "\n",
        "# Simulate the circuit\n",
        "simulator = Aer.get_backend('aer_simulator')\n",
        "compiled_circuit = transpile(qc, simulator)\n",
        "result = simulator.run(compiled_circuit).result()\n",
        "\n",
        "# Get the measurement results\n",
        "counts = result.get_counts()\n",
        "plot_histogram(counts)"
      ],
      "metadata": {
        "id": "WQ0hEesfhakg"
      },
      "execution_count": null,
      "outputs": []
    },
    {
      "cell_type": "markdown",
      "metadata": {
        "id": "4xcJbAGyLq1O"
      },
      "source": [
        "### SOFT propagation of a coherent state in the double-well potential for A-T DNA base pair"
      ]
    },
    {
      "cell_type": "markdown",
      "metadata": {
        "id": "gdZP2RVgfhFa"
      },
      "source": [
        "#### Setting up double-well potential for A-T base pair"
      ]
    },
    {
      "cell_type": "markdown",
      "source": [
        "CODE FOR AT FROM OVERLEAF STARTS HERE"
      ],
      "metadata": {
        "id": "ZwIdrBo1qq6y"
      }
    },
    {
      "cell_type": "code",
      "source": [
        "def get_doublewell_potential(x, x0=1.9592, f=ev2au, a0=0.0, a1=0.429, a2=-1.126, a3=-0.143, a4=0.563):\n",
        "    # A-T pair double-well potential in Hartrees (x is in Bohr)\n",
        "    xi = x/x0\n",
        "    return f*(a0 + a1*xi + a2*xi**2 + a3*xi**3 + a4*xi**4)\n",
        "\n",
        "def get_doublewell_potential_second_deriv(x, x0=1.9592, f=ev2au, a0=0.0, a1=0.429, a2=-1.126, a3=-0.143, a4=0.563):\n",
        "    # A-T pair double-well potential in Hartrees (x is in Bohr)\n",
        "    return f*(2*a2/x0**2 + 6*a3*x/x0**3 + 12*a4*x**2/x0**4)"
      ],
      "metadata": {
        "id": "D3gwpy3hhw3c"
      },
      "execution_count": null,
      "outputs": []
    },
    {
      "cell_type": "code",
      "source": [
        "# initial coherent state in the right well centered at x/x0 = 1.5\n",
        "x0 = 1.9592\n",
        "x_0 = 1.5*x0\n",
        "p_0 = 0.0\n",
        "psi_0 = get_coherent_state(xgrid, p_0, x_0, mass, omega)"
      ],
      "metadata": {
        "id": "m9MHoGeWh4au"
      },
      "execution_count": null,
      "outputs": []
    },
    {
      "cell_type": "code",
      "source": [
        "xmin = -4.\n",
        "xmax = 4.\n",
        "Nq = 6 # number of qubits\n",
        "N_xpts = 2**Nq\n",
        "\n",
        "# mass of the proton in units of electron mass\n",
        "mass = mass_proton\n",
        "\n",
        "# frequency corresponding to the right well (in atomic units)\n",
        "omega = np.sqrt(get_doublewell_potential_second_deriv(x0)/mass)\n",
        "\n",
        "# grid preparation and spacing\n",
        "xgrid = get_xgrid(xmin, xmax, N_xpts)\n",
        "pgrid = get_pgrid(xmin, xmax, N_xpts, reorder=True)\n",
        "\n",
        "dx = xgrid[1] - xgrid[0]\n",
        "dp = pgrid[1] - pgrid[0]\n",
        "\n",
        "VV = get_doublewell_potential(xgrid) - get_doublewell_potential(x0) - omega/2\n",
        "\n",
        "tmin = 0.0\n",
        "tmax = 30.0*fs2au\n",
        "iterations = 3000\n",
        "\n",
        "# time grid preparation and spacing\n",
        "tgrid = np.linspace(tmin, tmax, iterations)\n",
        "time_step = tgrid[1] - tgrid[0]\n",
        "\n",
        "# propagators (note that potential energy is divided by two)\n",
        "VVd_prop = np.diag(np.exp(-1j*VV/2*time_step))\n",
        "KEd_prop = np.diag(np.exp(-1j*pgrid**2/2/mass*time_step))"
      ],
      "metadata": {
        "id": "jUAZCm4ditdq"
      },
      "execution_count": null,
      "outputs": []
    },
    {
      "cell_type": "markdown",
      "source": [
        "Code from overleaf is borked for AT:\n",
        "\n"
      ],
      "metadata": {
        "id": "fA3dE3g7mOle"
      }
    },
    {
      "cell_type": "code",
      "source": [
        "# # ---------------------------------------------------------\n",
        "# # \\noindent\\begin{codeInput}{python}{Quantum SOFT Circuit Preparation}{\\href{https://colab.research.google.com/github/batistagroup/qflux/blob/master/demos/tutorial/Part_I.ipynb}{\\faIcon{external-link-alt}}}{AT_qubits_circuit}\n",
        "# import scipy.linalg as LA\n",
        "# from qiskit.circuit.library import QFT\n",
        "# from qiskit_aer import Aer\n",
        "# from qiskit import QuantumCircuit, ClassicalRegister, QuantumRegister\n",
        "# from qiskit.quantum_info.operators import Operator\n",
        "# from qiskit_ibm_runtime import QiskitRuntimeService, Options, SamplerV2\n",
        "# from tqdm.notebook import trange\n",
        "#\n",
        "# # Initialize an Empty Circuit\n",
        "# nqubits = Nq\n",
        "# q_reg = QuantumRegister(nqubits)\n",
        "# c_reg = ClassicalRegister(nqubits)\n",
        "# qc = QuantumCircuit(q_reg)\n",
        "#\n",
        "# qc.initialize(psi_0, q_reg[:],normalize=True)\n",
        "#\n",
        "# for k in trange(iterations):\n",
        "#     bound_op = Operator(V_prop)\n",
        "#     qc.append(bound_op, q_reg)\n",
        "#     qc.append(QFT(d,do_swaps=True,inverse=False),q_reg)\n",
        "#     bound_op = Operator(K_prop)\n",
        "#     qc.append(bound_op, q_reg)\n",
        "#     qc.append(QFT(d,do_swaps=True,inverse=True),q_reg)\n",
        "#     bound_op = Operator(V_prop)\n",
        "#     qc.append(bound_op, q_reg)\n",
        "# # \\end{codeInput}\n",
        "# # ---------------------------------------------------------\n",
        "# # \\noindent\\begin{codeInput}{python}{Quantum SOFT circuit execution}{\\href{https://colab.research.google.com/github/batistagroup/qflux/blob/master/demos/tutorial/Part_I.ipynb}{\\faIcon{external-link-alt}}}{AT_circuit_execute}\n",
        "# from qiskit import QuantumCircuit, transpile\n",
        "# from qiskit_aer import Aer\n",
        "#\n",
        "# def execute(QCircuit, backend=None, shots=None):\n",
        "#     '''\n",
        "#         Function to replace the now-deprecated Qiskit\n",
        "#         `QuantumCircuit.execute()` method.\n",
        "#\n",
        "#         Input:\n",
        "#           - `QCircuit`: qiskit.QuantumCircuit object\n",
        "#           - `Backend`: qiskit.Backend instance\n",
        "#           - `shots`: int specifying the number of shots\n",
        "#     '''\n",
        "#     # Transpile circuit with statevector backend\n",
        "#     tmp_circuit = transpile(QCircuit, backend)\n",
        "#     # Run the transpiled circuit\n",
        "#     if shots:\n",
        "#         job = backend.run(tmp_circuit, n_shots=shots)\n",
        "#     else:\n",
        "#         job = backend.run(tmp_circuit)\n",
        "#     return(job)\n",
        "#\n",
        "# backend = Aer.get_backend('statevector_simulator')\n",
        "# executed_circuit = execute(qc, backend=backend, shots=1024)\n",
        "#\n",
        "# psin = executed_circuit.result().get_statevector().data\n",
        "# # \\end{codeInput}\n",
        "# # ---------------------------------------------------------\n",
        "# # \\noindent\\begin{codeInput}{python}{Classical SOFT Benchmark}{\\href{https://colab.research.google.com/github/batistagroup/qflux/blob/master/demos/tutorial/Part_I.ipynb}{\\faIcon{external-link-alt}}}{AT_benchmark}\n",
        "# # SOFT propagation\n",
        "# propagated_states = [psi_0]\n",
        "# psi_t = psi_0\n",
        "#\n",
        "# for tstep_idx in trange(len(tgrid)):\n",
        "#     psi_t = do_SOFT_propagation(psi_t, K_prop, V_prop)\n",
        "#     propagated_states.append(psi_t)\n",
        "#\n",
        "# propagated_states = np.array(propagated_states)[:-1]\n",
        "# # \\end{codeInput}\n",
        "# # ---------------------------------------------------------\n",
        "# # \\noindent\\begin{codeInput}{python}{Plotting initial and final wavefunctions}{\\href{https://colab.research.google.com/github/batistagroup/qflux/blob/master/demos/tutorial/Part_I.ipynb}{\\faIcon{external-link-alt}}}{AT_qubits_plot}\n",
        "# # Visualization\n",
        "# from scipy.interpolate import interp1d\n",
        "#\n",
        "# x_dense = np.linspace(xgrid[0], xgrid[-1], 512)\n",
        "# f_interp = interp1d(xgrid, get_prob_density(propagated_states[-1]), kind='cubic')\n",
        "# rho_interp = f_interp(x_dense)\n",
        "#\n",
        "# fig, ax = plt.subplots()\n",
        "# ax.plot(xgrid, Vx_DW - get_doublewell_potential(x0) - omega/2, '-',color='black',label='A-T pair potential')\n",
        "# ax.plot(xgrid, 0.04*np.real(get_prob_density(psi_0)),'--',color='red',label='Initial coherent state')\n",
        "# ax.plot(x_dense, 0.04*rho_interp,'-',color='blue',label='(SOFT) State at t = 30 fs',zorder=0,markeredgecolor='blue',fillstyle='full',markerfacecolor='white')\n",
        "# ax.plot(xgrid, 0.04*np.real(psin.conj()*psin/dx),'o',color='blue',label='(Qiskit) State at t = 30 fs', markevery=1, alpha=0.25)\n",
        "# ax.axhline(0, lw=0.5, color='black', alpha=1.0)\n",
        "# ax.axvline(-x0, lw=0.5, color='black', alpha=0.5)\n",
        "# ax.axvline(x0, lw=0.5, color='black', alpha=0.5)\n",
        "# ax.axvline(x0*1.5, lw=0.5, color='red', alpha=0.5)\n",
        "# ax.set_xlabel('x, Bohr',fontsize=14)\n",
        "# ax.set_ylabel('Energy, Hartrees',fontsize=14)\n",
        "# ax.tick_params(labelsize=12, grid_alpha=0.5)\n",
        "# plt.ylim(-0.03,0.07)\n",
        "# plt.legend(fontsize=12,loc='upper center')\n",
        "# plt.show()\n",
        "# # \\end{codeInput}\n",
        "# # ---------------------------------------------------------\n",
        "#"
      ],
      "metadata": {
        "id": "RMZX0_wmn7xx"
      },
      "execution_count": null,
      "outputs": []
    },
    {
      "cell_type": "markdown",
      "source": [
        "CODE FOR AT FROM OVERLEAF ends HERE"
      ],
      "metadata": {
        "id": "c5TX-2Fcqw4K"
      }
    },
    {
      "cell_type": "markdown",
      "source": [
        "Overleaf code is missing this function:"
      ],
      "metadata": {
        "id": "gLiJ3EV3q7DE"
      }
    },
    {
      "cell_type": "code",
      "source": [
        "def get_prob_density(psi):\n",
        "    return np.real(np.conjugate(psi) * psi)"
      ],
      "metadata": {
        "id": "O_Hsqw5spPl5"
      },
      "execution_count": null,
      "outputs": []
    },
    {
      "cell_type": "code",
      "execution_count": null,
      "metadata": {
        "id": "nWIQ5hfPvqXP"
      },
      "outputs": [],
      "source": [
        "def get_doublewell_potential(x, x0=1.9592, f=ev2au, a0=0.0, a1=0.429, a2=-1.126, a3=-0.143, a4=0.563):\n",
        "    # A-T pair double-well potential in Hartrees (x is in Bohr)\n",
        "    xi = x/x0\n",
        "    return f*(a0 + a1*xi + a2*xi**2 + a3*xi**3 + a4*xi**4)\n",
        "\n",
        "\n",
        "def get_doublewell_potential_second_deriv(x, x0=1.9592, f=ev2au, a0=0.0, a1=0.429, a2=-1.126, a3=-0.143, a4=0.563):\n",
        "    # A-T pair double-well potential in Hartrees (x is in Bohr)\n",
        "    return f*(2*a2/x0**2 + 6*a3*x/x0**3 + 12*a4*x**2/x0**4)\n",
        "\n",
        "\n",
        "x0 = 1.9592\n",
        "xmin = -4.\n",
        "xmax = 4.\n",
        "Nq = 6\n",
        "N_xpts = 2**Nq\n",
        "\n",
        "# mass of the proton in units of electron mass\n",
        "mass = mass_proton\n",
        "\n",
        "# frequency corresponding to the right well (in atomic units)\n",
        "omega = np.sqrt(get_doublewell_potential_second_deriv(x0)/mass)\n",
        "\n",
        "# grid preparation and spacing\n",
        "xgrid = get_xgrid(xmin, xmax, N_xpts)\n",
        "pgrid = get_pgrid(xmin, xmax, N_xpts, reorder=True)\n",
        "\n",
        "dx = xgrid[1] - xgrid[0]\n",
        "dp = pgrid[1] - pgrid[0]\n",
        "# operators\n",
        "Vx_DW = get_doublewell_potential(xgrid)\n",
        "K_DW = get_kinetic_energy(pgrid, mass)\n",
        "\n",
        "# initial coherent state in the right well centered at x/x0 = 1.5\n",
        "x_0 = 1.5*x0\n",
        "p_0 = 0.0\n",
        "psi_0 = get_coherent_state(xgrid, p_0, x_0, mass, omega)\n",
        "\n",
        "# checking potential and initial coherent state\n",
        "fig, ax = plt.subplots()\n",
        "ax.plot(xgrid, Vx_DW - get_doublewell_potential(x0) - omega/2, '-',color='black',label='A-T pair potential')\n",
        "ax.plot(xgrid, 0.02*np.real(get_prob_density(psi_0)),'--',color='red',label='Initial coherent state')\n",
        "ax.axhline(0, lw=0.5, color='black', alpha=1.0)\n",
        "ax.axvline(-x0, lw=0.5, color='black', alpha=0.5)\n",
        "ax.axvline(x0, lw=0.5, color='black', alpha=0.5)\n",
        "ax.axvline(x0*1.5, lw=0.5, color='red', alpha=0.5)\n",
        "ax.set_xlabel('x, Bohr',fontsize=14)\n",
        "ax.set_ylabel('Energy, Hartrees',fontsize=14)\n",
        "ax.tick_params(labelsize=12, grid_alpha=0.5)\n",
        "plt.ylim(-0.03,0.06)\n",
        "plt.legend(fontsize=12,loc='upper center')\n",
        "plt.show()"
      ]
    },
    {
      "cell_type": "markdown",
      "metadata": {
        "id": "cY7PvGTFfsb8"
      },
      "source": [
        "#### Time propagation"
      ]
    },
    {
      "cell_type": "code",
      "execution_count": null,
      "metadata": {
        "id": "C8PnRjSZY_Ta"
      },
      "outputs": [],
      "source": [
        "tmin = 0.0\n",
        "tmax = 30.0*fs2au\n",
        "N_tsteps = 3000\n",
        "\n",
        "# grid preparation and spacing\n",
        "tgrid = np.linspace(tmin, tmax, N_tsteps)\n",
        "tau = tgrid[1] - tgrid[0]\n",
        "\n",
        "print(\"For \",tmax*au2fs,\" fs using a timestep of \",tau*au2fs,\" fs = \",tau,\" a.u.\")\n",
        "\n",
        "V_prop = get_propagator_on_grid(Vx_DW/2, tau)\n",
        "K_prop = get_propagator_on_grid(K_DW, tau)\n",
        "\n",
        "propagated_states = [psi_0]\n",
        "psi_t = psi_0\n",
        "\n",
        "for tstep_idx in trange(len(tgrid)):\n",
        "    psi_t = do_SOFT_propagation(psi_t, K_prop, V_prop)\n",
        "    propagated_states.append(psi_t)\n",
        "\n",
        "propagated_states = np.array(propagated_states)[:-1]"
      ]
    },
    {
      "cell_type": "code",
      "execution_count": null,
      "metadata": {
        "id": "KZwa3g6KclHg"
      },
      "outputs": [],
      "source": [
        "from scipy.interpolate import interp1d\n",
        "\n",
        "x_1024 = np.linspace(xgrid[0], xgrid[-1], 1024)\n",
        "f_interp = interp1d(xgrid, get_prob_density(propagated_states[-1]), kind='cubic')\n",
        "rho_interp = f_interp(x_1024)\n",
        "\n",
        "fig, ax = plt.subplots()\n",
        "ax.plot(xgrid, Vx_DW - get_doublewell_potential(x0) - omega/2, '-',color='black',label='A-T pair potential')\n",
        "ax.plot(xgrid, 0.04*np.real(get_prob_density(psi_0)),'--',color='red',label='Initial coherent state')\n",
        "#ax.plot(xgrid, 0.04*np.real(get_prob_density(propagated_states[-1])),'-',color='blue',label=f'State at t = {tmax*au2fs} fs')\n",
        "ax.plot(x_1024, 0.04*rho_interp,'-',color='blue',label=f'State at t = {tmax*au2fs} fs')\n",
        "ax.axhline(0, lw=0.5, color='black', alpha=1.0)\n",
        "ax.axvline(-x0, lw=0.5, color='black', alpha=0.5)\n",
        "ax.axvline(x0, lw=0.5, color='black', alpha=0.5)\n",
        "ax.axvline(x0*1.5, lw=0.5, color='red', alpha=0.5)\n",
        "ax.set_xlabel('x, Bohr',fontsize=14)\n",
        "ax.set_ylabel('Energy, Hartrees',fontsize=14)\n",
        "ax.tick_params(labelsize=12, grid_alpha=0.5)\n",
        "plt.ylim(-0.03,0.07)\n",
        "plt.legend(fontsize=12,loc='upper center')\n",
        "plt.show()"
      ]
    },
    {
      "cell_type": "markdown",
      "metadata": {
        "id": "k0NouSLe9Qpm"
      },
      "source": [
        "#### Time evolution of the position expectation value"
      ]
    },
    {
      "cell_type": "markdown",
      "source": [
        "this function is also missing from overleaf"
      ],
      "metadata": {
        "id": "gwK-yH6qrBlr"
      }
    },
    {
      "cell_type": "code",
      "source": [
        "def calculate_expectation_values(dynamics_results, observable_grid, do_FFT=False, dx=None):\n",
        "    '''\n",
        "    Function to calculate the time-dependent expectation value of an observable O defined on a grid.\n",
        "    Inputs:\n",
        "\n",
        "        - `dynamics_results`: np.ndarray of wavefunctions/propagated states with shape: (n_steps, nx)\n",
        "        - `observable_grid`: np.array of observable\n",
        "    '''\n",
        "    if dx:\n",
        "        d_observable = dx\n",
        "    else:\n",
        "        d_observable = observable_grid[1] - observable_grid[0]\n",
        "    if do_FFT:\n",
        "        psi_list = np.fft.fft(dynamics_results, axis=1, norm='ortho')\n",
        "    else:\n",
        "        psi_list = dynamics_results\n",
        "    # Compute the expectation value.\n",
        "    expectation  = np.real(np.sum(psi_list.conj()*observable_grid*psi_list*d_observable, axis=1))\n",
        "\n",
        "    return(expectation)"
      ],
      "metadata": {
        "id": "9dZv3ukyq98z"
      },
      "execution_count": null,
      "outputs": []
    },
    {
      "cell_type": "code",
      "execution_count": null,
      "metadata": {
        "id": "X6IKI-9w9dGO"
      },
      "outputs": [],
      "source": [
        "avxgrid = [position_expectation_value(xgrid,propagated_states[i]) for i in range(len(propagated_states))]\n",
        "avxgrid = calculate_expectation_values(propagated_states, xgrid)\n",
        "fig, ax = plt.subplots()\n",
        "ax.plot(tgrid*au2fs, avxgrid, '-', color='blue',label='<x> SOFT')\n",
        "ax.axhline(-x0, ls='--', lw=0.5, color='black', alpha=0.5)\n",
        "ax.axhline( x0, ls='--', lw=0.5, color='black', alpha=0.5)\n",
        "plt.text(20, x0-0.1, 'Reactant well', fontsize = 12, backgroundcolor='white')\n",
        "plt.text(5, -x0-0.1, 'Product well', fontsize = 12, backgroundcolor='white')\n",
        "ax.set_xlabel('time, fs', fontsize=14)\n",
        "ax.set_ylabel('<x>, Bohr', fontsize=14)\n",
        "ax.tick_params(labelsize=12, grid_alpha=0.5)\n",
        "plt.ylim(-3,4)\n",
        "plt.legend(fontsize=12,loc='upper right')\n",
        "plt.show()"
      ]
    },
    {
      "cell_type": "markdown",
      "metadata": {
        "id": "Jgfk8u02xnSe"
      },
      "source": [
        "# 4. Introduction to Qubit based simulations"
      ]
    },
    {
      "cell_type": "code",
      "execution_count": null,
      "metadata": {
        "id": "SCOD6mnor_uV",
        "jupyter": {
          "outputs_hidden": true
        }
      },
      "outputs": [],
      "source": [
        "# !pip install qiskit==1.2.0\n",
        "# !pip install qiskit-ibm-runtime==0.28.0\n",
        "# !pip install qiskit-aer==0.15.0"
      ]
    },
    {
      "cell_type": "markdown",
      "metadata": {
        "id": "lYRTKcox-JUo"
      },
      "source": [
        "## 4.1. Quantum Split-Operator Fourier Transform (QSOFT) Method"
      ]
    },
    {
      "cell_type": "code",
      "execution_count": null,
      "metadata": {
        "id": "14Ow5x8V0Dq5"
      },
      "outputs": [],
      "source": [
        "# Utility Functions/Patches:\n",
        "\n",
        "from qiskit import QuantumCircuit, transpile\n",
        "from qiskit_aer import Aer\n",
        "\n",
        "\n",
        "def execute(QCircuit, backend=None, shots=None):\n",
        "    '''\n",
        "        Function to replace the now-deprecated Qiskit\n",
        "        `QuantumCircuit.execute()` method.\n",
        "\n",
        "        Input:\n",
        "          - `QCircuit`: qiskit.QuantumCircuit object\n",
        "          - `Backend`: qiskit.Backend instance\n",
        "          - `shots`: int specifying the number of shots\n",
        "    '''\n",
        "    # Transpile circuit with statevector backend\n",
        "    tmp_circuit = transpile(QCircuit, backend)\n",
        "    # Run the transpiled circuit\n",
        "    if shots:\n",
        "        job = backend.run(tmp_circuit, n_shots=shots)\n",
        "    else:\n",
        "        job = backend.run(tmp_circuit)\n",
        "    return(job)"
      ]
    },
    {
      "cell_type": "code",
      "execution_count": null,
      "metadata": {
        "id": "dJxHS1Zg-LVJ"
      },
      "outputs": [],
      "source": [
        "import scipy.linalg as LA\n",
        "from qiskit.circuit.library import QFT\n",
        "from qiskit_aer import Aer\n",
        "from qiskit import QuantumCircuit, ClassicalRegister, QuantumRegister\n",
        "from qiskit.quantum_info.operators import Operator\n",
        "from qiskit_ibm_runtime import QiskitRuntimeService, Options\n",
        "from qiskit_ibm_runtime import SamplerV2 as Sampler\n",
        "from tqdm.notebook import trange\n",
        "np.set_printoptions(linewidth=110)"
      ]
    },
    {
      "cell_type": "code",
      "execution_count": null,
      "metadata": {
        "id": "hdzOP7r2-NkQ"
      },
      "outputs": [],
      "source": [
        "d = Nq   # number of qubits\n",
        "mass = 1836.15\n",
        "x0 = 1.9592\n",
        "xMin = -4.\n",
        "xMax =  4.\n",
        "\n",
        "N = 2**d\n",
        "\n",
        "# frequency corresponding to the right well (in atomic units)\n",
        "omega = np.sqrt(get_doublewell_potential_second_deriv(x0)/mass)\n",
        "\n",
        "# double-well potential\n",
        "VV = get_doublewell_potential(xgrid) - get_doublewell_potential(x0) - omega/2"
      ]
    },
    {
      "cell_type": "code",
      "execution_count": null,
      "metadata": {
        "id": "LzNql6iYOWJJ"
      },
      "outputs": [],
      "source": [
        "# initial coherent state in the right well centered at x/x0 = 1.5\n",
        "x_0 = 1.5*x0\n",
        "p_0 = 0.0\n",
        "psi = get_coherent_state(xgrid, p_0, x_0, mass, omega)*np.sqrt(dx)"
      ]
    },
    {
      "cell_type": "code",
      "execution_count": null,
      "metadata": {
        "id": "9BCyUbxM-UMg"
      },
      "outputs": [],
      "source": [
        "# time propagation parameters\n",
        "tmin = 0.0\n",
        "tmax = 30.0*fs2au\n",
        "iterations = 3000\n",
        "\n",
        "# time grid preparation and spacing\n",
        "tgrid = np.linspace(tmin, tmax, iterations)\n",
        "time_step = tgrid[1] - tgrid[0]\n",
        "\n",
        "# propagators (note that potential energy is divided by two)\n",
        "VVd_prop = np.diag(np.exp(-1j*VV/2*time_step))\n",
        "KEd_prop = np.diag(np.exp(-1j*pgrid**2/2/mass*time_step))"
      ]
    },
    {
      "cell_type": "code",
      "execution_count": null,
      "metadata": {
        "id": "DOaMMRCJ-V66"
      },
      "outputs": [],
      "source": [
        "# Initialize an Empty Circuit\n",
        "nqubits = d\n",
        "q_reg = QuantumRegister(nqubits)\n",
        "c_reg = ClassicalRegister(nqubits)\n",
        "qc = QuantumCircuit(q_reg)\n",
        "\n",
        "qc.initialize(psi, q_reg[:],normalize=True)\n",
        "\n",
        "# Assemble the circuit for the entire time evolution\n",
        "for k in trange(iterations):\n",
        "    bound_op = Operator(VVd_prop)\n",
        "    qc.append(bound_op, q_reg)\n",
        "    qc.append(QFT(d,do_swaps=True,inverse=False),q_reg)\n",
        "    bound_op = Operator(KEd_prop)\n",
        "    qc.append(bound_op, q_reg)\n",
        "    qc.append(QFT(d,do_swaps=True,inverse=True),q_reg)\n",
        "    bound_op = Operator(VVd_prop)\n",
        "    qc.append(bound_op, q_reg)"
      ]
    },
    {
      "cell_type": "code",
      "execution_count": null,
      "metadata": {
        "id": "gH1UFuRS0gZx"
      },
      "outputs": [],
      "source": [
        "backend = Aer.get_backend('statevector_simulator')\n",
        "executed_circuit = execute(qc, backend=backend, shots=1024)"
      ]
    },
    {
      "cell_type": "code",
      "execution_count": null,
      "metadata": {
        "id": "LAjvR_7o1Aav"
      },
      "outputs": [],
      "source": [
        "psin = executed_circuit.result().get_statevector().data"
      ]
    },
    {
      "cell_type": "code",
      "execution_count": null,
      "metadata": {
        "id": "THP00ElVRbne"
      },
      "outputs": [],
      "source": [
        "from scipy.interpolate import interp1d\n",
        "\n",
        "x_dense = np.linspace(xgrid[0], xgrid[-1], 512)\n",
        "f_interp = interp1d(xgrid, get_prob_density(propagated_states[-1]), kind='cubic')\n",
        "rho_interp = f_interp(x_dense)\n",
        "\n",
        "fig, ax = plt.subplots()\n",
        "ax.plot(xgrid, Vx_DW - get_doublewell_potential(x0) - omega/2, '-',color='black',label='A-T pair potential')\n",
        "ax.plot(xgrid, 0.04*np.real(get_prob_density(psi_0)),'--',color='red',label='Initial coherent state')\n",
        "#ax.plot(xgrid, 0.04*np.real(get_prob_density(propagated_states[-1])),'-',color='blue',label='(SOFT) State at t = 30 fs',zorder=0,markeredgecolor='blue',fillstyle='full',markerfacecolor='white')\n",
        "ax.plot(x_dense, 0.04*rho_interp,'-',color='blue',label='(SOFT) State at t = 30 fs',zorder=0,markeredgecolor='blue',fillstyle='full',markerfacecolor='white')\n",
        "ax.plot(xgrid, 0.04*np.real(psin.conj()*psin/dx),'o',color='blue',label='(Qiskit) State at t = 30 fs', markevery=1, alpha=0.25)\n",
        "ax.axhline(0, lw=0.5, color='black', alpha=1.0)\n",
        "ax.axvline(-x0, lw=0.5, color='black', alpha=0.5)\n",
        "ax.axvline(x0, lw=0.5, color='black', alpha=0.5)\n",
        "ax.axvline(x0*1.5, lw=0.5, color='red', alpha=0.5)\n",
        "ax.set_xlabel('x, Bohr',fontsize=14)\n",
        "ax.set_ylabel('Energy, Hartrees',fontsize=14)\n",
        "ax.tick_params(labelsize=12, grid_alpha=0.5)\n",
        "plt.ylim(-0.03,0.07)\n",
        "plt.legend(fontsize=12,loc='upper center')\n",
        "plt.show()"
      ]
    },
    {
      "cell_type": "markdown",
      "source": [
        "## 4.2 Simulating a Simple All-Z Hamiltonian"
      ],
      "metadata": {
        "id": "OoRzwnN7rXkw"
      }
    },
    {
      "cell_type": "markdown",
      "source": [
        "Quantum Circuit for $e^{-i t Z \\otimes \\cdots \\otimes Z}$"
      ],
      "metadata": {
        "id": "pS43nAdDsa11"
      }
    },
    {
      "cell_type": "code",
      "source": [
        "from qiskit import QuantumCircuit, QuantumRegister\n",
        "\n",
        "def exp_all_z(circuit, quantum_register, pauli_indexes, control_qubit=None, t=1):\n",
        "    \"\"\"\n",
        "    Implements \\( e^{-i t Z \\otimes \\cdots \\otimes Z} \\) on specified qubits.\n",
        "\n",
        "    Args:\n",
        "        circuit (QuantumCircuit): The circuit to modify.\n",
        "        quantum_register (QuantumRegister): Register containing target qubits.\n",
        "        pauli_indexes (list): Indices of qubits where \\( Z \\) acts.\n",
        "        control_qubit (Qubit, optional): Optional control qubit for conditional application.\n",
        "        t (float): Evolution time.\n",
        "\n",
        "    Returns:\n",
        "        QuantumCircuit: Updated circuit with the operation applied.\n",
        "    \"\"\"\n",
        "    if control_qubit and control_qubit.register not in circuit.qregs:\n",
        "        circuit.add_register(control_qubit.register)\n",
        "\n",
        "    if not pauli_indexes:\n",
        "        if control_qubit:\n",
        "            circuit.p(t, control_qubit)  # Phase gate\n",
        "        return circuit\n",
        "\n",
        "    # Parity computation\n",
        "    for i in range(len(pauli_indexes) - 1):\n",
        "        circuit.cx(quantum_register[pauli_indexes[i]], quantum_register[pauli_indexes[i + 1]])\n",
        "\n",
        "    # Apply phase rotation\n",
        "    target = quantum_register[pauli_indexes[-1]]\n",
        "    angle = -2 * t\n",
        "    if control_qubit:\n",
        "        circuit.crz(angle, control_qubit, target)\n",
        "    else:\n",
        "        circuit.rz(angle, target)\n",
        "\n",
        "    # Uncompute parity\n",
        "    for i in reversed(range(len(pauli_indexes) - 1)):\n",
        "        circuit.cx(quantum_register[pauli_indexes[i]], quantum_register[pauli_indexes[i + 1]])\n",
        "\n",
        "    return circuit"
      ],
      "metadata": {
        "id": "LKPZtAGyrjN1"
      },
      "execution_count": null,
      "outputs": []
    },
    {
      "cell_type": "markdown",
      "source": [
        "Quantum Circuit for $e^{-i t P}$"
      ],
      "metadata": {
        "id": "pJqNxSYusipZ"
      }
    },
    {
      "cell_type": "code",
      "source": [
        "import numpy as np\n",
        "from qiskit import QuantumCircuit, QuantumRegister\n",
        "\n",
        "def exp_pauli(pauli, quantum_register, control_qubit=None, t=1):\n",
        "    \"\"\"\n",
        "    Implements \\( e^{-i t P} \\) for a Pauli string \\( P \\).\n",
        "\n",
        "    Args:\n",
        "        pauli (str): Pauli string (e.g., \"XIZY\").\n",
        "        quantum_register (QuantumRegister): Target register.\n",
        "        control_qubit (Qubit, optional): Optional control qubit.\n",
        "        t (float): Evolution time.\n",
        "\n",
        "    Returns:\n",
        "        QuantumCircuit: Circuit implementing the Pauli evolution.\n",
        "    \"\"\"\n",
        "    if len(pauli) != len(quantum_register):\n",
        "        raise ValueError(\"Pauli string length must match register size.\")\n",
        "\n",
        "    pauli_indexes = []\n",
        "    pre_circuit = QuantumCircuit(quantum_register)\n",
        "\n",
        "    for i, op in enumerate(pauli):\n",
        "        if op == 'I':\n",
        "            continue\n",
        "        elif op == 'X':\n",
        "            pre_circuit.h(i)\n",
        "            pauli_indexes.append(i)\n",
        "        elif op == 'Y':\n",
        "            pre_circuit.rx(np.pi/2, i)\n",
        "            pauli_indexes.append(i)\n",
        "        elif op == 'Z':\n",
        "            pauli_indexes.append(i)\n",
        "        else:\n",
        "            raise ValueError(f\"Invalid Pauli operator '{op}' at position {i}.\")\n",
        "\n",
        "    circuit = QuantumCircuit(quantum_register)\n",
        "    circuit.compose(pre_circuit, inplace=True)\n",
        "    circuit = exp_all_z(circuit, quantum_register, pauli_indexes, control_qubit, t)\n",
        "    circuit.compose(pre_circuit.inverse(), inplace=True)\n",
        "    return circuit"
      ],
      "metadata": {
        "id": "FhzPUcgNrpXd"
      },
      "execution_count": null,
      "outputs": []
    },
    {
      "cell_type": "markdown",
      "source": [
        "Quantum Circuit for $e^{-i H t}$"
      ],
      "metadata": {
        "id": "CiZPtJW6r1KN"
      }
    },
    {
      "cell_type": "code",
      "source": [
        "from qiskit import QuantumCircuit, QuantumRegister\n",
        "\n",
        "def hamiltonian_simulation(hamiltonian, quantum_register=None, control_qubit=None, t=1, trotter_number=1):\n",
        "    \"\"\"\n",
        "    Implements \\( e^{-i H t} \\) using first-order Trotterization.\n",
        "\n",
        "    Args:\n",
        "        hamiltonian (dict): Pauli terms with coefficients (e.g., {\"ZZ\": 0.5, \"XX\": 0.3}).\n",
        "        quantum_register (QuantumRegister, optional): Target register.\n",
        "        control_qubit (Qubit, optional): Optional control qubit.\n",
        "        t (float): Simulation time.\n",
        "        trotter_number (int): Number of Trotter steps.\n",
        "\n",
        "    Returns:\n",
        "        QuantumCircuit: Trotterized Hamiltonian evolution circuit.\n",
        "    \"\"\"\n",
        "    if not hamiltonian:\n",
        "        raise ValueError(\"Hamiltonian must contain at least one term.\")\n",
        "\n",
        "    n_qubits = len(next(iter(hamiltonian)))\n",
        "    if quantum_register is None:\n",
        "        quantum_register = QuantumRegister(n_qubits)\n",
        "\n",
        "    delta_t = t / trotter_number\n",
        "    circuit = QuantumCircuit(quantum_register)\n",
        "\n",
        "    for pauli_str, coeff in hamiltonian.items():\n",
        "        term_circuit = exp_pauli(pauli_str, quantum_register, control_qubit, coeff * delta_t)\n",
        "        circuit.compose(term_circuit, inplace=True)\n",
        "\n",
        "    full_circuit = QuantumCircuit(quantum_register)\n",
        "    for _ in range(trotter_number):\n",
        "        full_circuit.compose(circuit, inplace=True)\n",
        "\n",
        "    return full_circuit"
      ],
      "metadata": {
        "id": "J4frCO-dr4cn"
      },
      "execution_count": null,
      "outputs": []
    },
    {
      "cell_type": "markdown",
      "source": [
        "Hamiltonian Simulation"
      ],
      "metadata": {
        "id": "SugckRSes2K1"
      }
    },
    {
      "cell_type": "code",
      "source": [
        "from qiskit_aer import Aer\n",
        "from qiskit import QuantumCircuit, transpile\n",
        "from qiskit.visualization import plot_histogram\n",
        "\n",
        "# Initialize circuit\n",
        "qr=QuantumRegister(2)\n",
        "qc = QuantumCircuit(qr)\n",
        "\n",
        "# Define Hamiltonian: H = 0.5 * ZZ + 0.3 * YY\n",
        "hamiltonian = {\n",
        "    \"ZZ\": 0.5,\n",
        "    \"YY\": 0.3,\n",
        "}\n",
        "# Build the Hamiltonian evolution circuit\n",
        "t = np.pi / 4  # evolution time\n",
        "trotter_steps = 1\n",
        "U = hamiltonian_simulation(hamiltonian, quantum_register=qr, t=t, trotter_number=trotter_steps)\n",
        "\n",
        "# Initialize a uniform superposition, add propagator and measurements\n",
        "qc.h(qr)\n",
        "qc.append(U,qr)\n",
        "qc.measure_all()\n",
        "\n",
        "# Simulate circuit\n",
        "sim = Aer.get_backend(\"aer_simulator\")\n",
        "qobj = transpile(qc, sim)\n",
        "result = sim.run(qobj).result()\n",
        "counts = result.get_counts()\n",
        "# Plot the result\n",
        "print(\"Measurement counts:\", counts)\n",
        "\n",
        "# Draw circuit\n",
        "qc.decompose().draw()"
      ],
      "metadata": {
        "id": "r1AHfP0Rs4Z2"
      },
      "execution_count": null,
      "outputs": []
    },
    {
      "cell_type": "markdown",
      "metadata": {
        "id": "95SB4-ak7dog"
      },
      "source": [
        "## 4.6. Quantum Dynamics of the System with Two Spins on an IBM Quantum Computer"
      ]
    },
    {
      "cell_type": "code",
      "execution_count": null,
      "metadata": {
        "id": "2cbEGfYg-lcW"
      },
      "outputs": [],
      "source": [
        "J = 1\n",
        "h0 = -0.5\n",
        "h1 = 0.5\n",
        "X = np.array([[0,1],[1,0]], dtype = complex)\n",
        "Y = np.array([[0,1j],[1j,0]], dtype = complex)\n",
        "Z = np.array([[1,0],[0,-1]], dtype = complex)\n",
        "I = np.array([[1,0],[0,1]], dtype = complex)\n",
        "H = 0.5*(h0*np.kron(Z, I) + h1*np.kron(I, Z)) + J/4*(np.kron(X, X) + np.kron(Y, Y) + np.kron(Z, Z))\n",
        "U = LA.expm(-1j * H)"
      ]
    },
    {
      "cell_type": "code",
      "execution_count": null,
      "metadata": {
        "id": "pqbMOk_S-ovy"
      },
      "outputs": [],
      "source": [
        "psi_init = np.array([1,0,0,0],dtype = complex)\n",
        "psi_fin = U @ psi_init"
      ]
    },
    {
      "cell_type": "code",
      "execution_count": null,
      "metadata": {
        "id": "B3nxyU6W-sUn"
      },
      "outputs": [],
      "source": [
        "qreg=QuantumRegister(2) # qreg is filled with two qubits\n",
        "creg=ClassicalRegister(2) # creg is filled with two classical bits\n",
        "entangler=QuantumCircuit(qreg,creg) # we put together our qreg and creg to make our Quantum Circuit, called entangler here.\n",
        "#entangler.initialize(psi_init)  #Not necessary since we start at |00>"
      ]
    },
    {
      "cell_type": "code",
      "execution_count": null,
      "metadata": {
        "id": "mNlkz9OA-u-X"
      },
      "outputs": [],
      "source": [
        "U_gate = Operator(U)\n",
        "entangler.append(U_gate,[0,1])"
      ]
    },
    {
      "cell_type": "code",
      "execution_count": null,
      "metadata": {
        "id": "Ri1H8-PC-xBV"
      },
      "outputs": [],
      "source": [
        "# measure the first qubit and record it in the first classical bit\n",
        "entangler.measure(0,0)\n",
        "entangler.measure(1,1)\n",
        "entangler.draw()"
      ]
    },
    {
      "cell_type": "markdown",
      "source": [
        "CODE FOR AT FROM OVERLEAF starts HERE"
      ],
      "metadata": {
        "id": "VOa-E0Ozvvo9"
      }
    },
    {
      "cell_type": "code",
      "source": [
        "# \\noindent\\begin{codeInput}{python}{Accessing IBM account from API token}{\\href{https://colab.research.google.com/github/batistagroup/qflux/blob/master/demos/tutorial/Part_I.ipynb}{\\faIcon{external-link-alt}}}{IBM_account_token}\n",
        "from qiskit_ibm_runtime import QiskitRuntimeService\n",
        "\n",
        "try:\n",
        "    # Save an IBM Quantum account.\n",
        "    # https://docs.quantum.ibm.com/api/qiskit-ibm-runtime\n",
        "    QiskitRuntimeService.save_account(channel=\"ibm_quantum\", token=\"MY_IBM_QUANTUM_TOKEN\")\n",
        "    QiskitRuntimeService.load_account()\n",
        "    use_IBMQ = True\n",
        "except:\n",
        "    print('No API token provided')\n",
        "    use_IBMQ = False\n",
        "    pass\n",
        "# \\end{codeInput}\n",
        "# ---------------------------------------------------------\n",
        "# \\noindent\\begin{codeInput}{python}{Run dynamics with QASM simulator}{\\href{https://colab.research.google.com/github/batistagroup/qflux/blob/master/demos/tutorial/Part_I.ipynb}{\\faIcon{external-link-alt}}}{dynamics_QASM}\n",
        "if use_IBMQ:\n",
        "    service = QiskitRuntimeService()\n",
        "    options = Options()\n",
        "    backend = service.backend(\"ibmq_qasm_simulator\")\n",
        "    sampler = Sampler(options=options, backend=backend)\n",
        "    job = sampler.run(circuits=entangler, shots=2000)\n",
        "# \\end{codeInput}\n",
        "# ---------------------------------------------------------\n",
        "# \\noindent\\begin{codeInput}{python}{Execute Quantum Circuit on QASM simulator}{\\href{https://colab.research.google.com/github/batistagroup/qflux/blob/master/demos/tutorial/Part_I.ipynb}{\\faIcon{external-link-alt}}}{dynamics_QASM_measure}\n",
        "if use_IBMQ:\n",
        "    qasm_result = np.zeros((4,))\n",
        "    qasm_result[0] = job.result().quasi_dists[0][0]\n",
        "    qasm_result[3] = job.result().quasi_dists[0][3]\n",
        "# \\end{codeInput}\n",
        "# ---------------------------------------------------------\n",
        "# \\noindent\\begin{codeInput}{python}{Execute Quantum Circuit on Quantum Hardware}{\\href{https://colab.research.google.com/github/batistagroup/qflux/blob/master/demos/tutorial/Part_I.ipynb}{\\faIcon{external-link-alt}}}{dynamics_QASM_measure_2}\n",
        "if use_IBMQ:\n",
        "    backend = service.backend(\"ibm_osaka\")\n",
        "    sampler = Sampler(options=options, backend=backend)\n",
        "    job = sampler.run(circuits=entangler, shots=2000)\n",
        "    real_result = np.zeros((4,))\n",
        "    real_result[0] = job.result().quasi_dists[0][0]\n",
        "    real_result[1] = job.result().quasi_dists[0][1]\n",
        "    real_result[2] = job.result().quasi_dists[0][2]\n",
        "    real_result[3] = job.result().quasi_dists[0][3]\n",
        "# \\end{codeInput}\n"
      ],
      "metadata": {
        "id": "TldzfZr3vL92"
      },
      "execution_count": null,
      "outputs": []
    },
    {
      "cell_type": "markdown",
      "source": [
        "CODE FOR AT FROM OVERLEAF ends HERE"
      ],
      "metadata": {
        "id": "AY6Y8bpTvm-m"
      }
    },
    {
      "cell_type": "markdown",
      "source": [
        "Original Code"
      ],
      "metadata": {
        "id": "I3bcGZYBu3v2"
      }
    },
    {
      "cell_type": "code",
      "execution_count": null,
      "metadata": {
        "id": "ehr0YHut-z7N"
      },
      "outputs": [],
      "source": [
        "from qiskit_ibm_runtime import QiskitRuntimeService\n",
        "from qiskit_ibm_runtime import SamplerV2 as Sampler\n",
        "from qiskit_ibm_runtime.fake_provider import FakeManilaV2\n",
        "from qiskit.transpiler.preset_passmanagers import generate_preset_pass_manager\n",
        "from qiskit_ibm_runtime.exceptions import IBMNotAuthorizedError\n",
        "\n",
        "MY_API_TOKEN = \"INSERT_YOUR_API_TOKEN_HERE\"\n",
        "\n",
        "try:\n",
        "    # Save an IBM Quantum account.\n",
        "    # https://docs.quantum.ibm.com/api/qiskit-ibm-runtime\n",
        "    service = QiskitRuntimeService.save_account(channel=\"ibm_quantum_platform\", token=MY_API_TOKEN,\n",
        "                                                instance='ibm-q/open/main', overwrite=True)\n",
        "    use_IBMQ = True\n",
        "except IBMNotAuthorizedError as error:\n",
        "    use_IBMQ = False\n",
        "    print('No API token provided')\n",
        "    pass\n"
      ]
    },
    {
      "cell_type": "code",
      "execution_count": null,
      "metadata": {
        "id": "Zw6WLXWmHSmK"
      },
      "outputs": [],
      "source": [
        "use_IBMQ = True"
      ]
    },
    {
      "cell_type": "code",
      "execution_count": null,
      "metadata": {
        "id": "JEFzaids-4JQ"
      },
      "outputs": [],
      "source": [
        "if not use_IBMQ:\n",
        "    service = QiskitRuntimeService()\n",
        "    # Run the sampler job locally using FakeManilaV2\n",
        "    backend = FakeManilaV2()\n",
        "    pm = generate_preset_pass_manager(backend=backend, optimization_level=1)\n",
        "    entangler_circuit = pm.run(entangler)\n",
        "\n",
        "    sampler = Sampler(mode=backend)\n",
        "    sampler.options.default_shots = 1024  # Options can be set using auto-complete.\n",
        "    job = sampler.run([entangler_circuit])\n",
        "    pub_result = job.result()[0]\n",
        "    result_dict = pub_result.data.creg.get_counts()"
      ]
    },
    {
      "cell_type": "code",
      "execution_count": null,
      "metadata": {
        "id": "QDsChH9w-6ft"
      },
      "outputs": [],
      "source": [
        "if not use_IBMQ:\n",
        "    real_result = np.zeros((4,))\n",
        "    for idx,k  in enumerate(result_dict.keys()):\n",
        "        real_result[idx] = result_dict[k]\n",
        "    print(\"Using FakeManilaV2!\")\n",
        "    print(\"Counts for the classical output register:\")\n",
        "    print(real_result)"
      ]
    },
    {
      "cell_type": "code",
      "execution_count": null,
      "metadata": {
        "id": "ZTf5e4Nu-8kQ"
      },
      "outputs": [],
      "source": [
        "if use_IBMQ:\n",
        "    backend = service.least_busy(operational=True, simulator=False)\n",
        "    pm = generate_preset_pass_manager(backend=backend, optimization_level=1)\n",
        "    entangler_circuit = pm.run(entangler)\n",
        "\n",
        "    sampler = Sampler(mode=backend)\n",
        "    sampler.options.default_shots = 1024\n",
        "    job = sampler.run([entangler_circuit])\n",
        "    print(f\"Job ID is {job.job_id()}\")\n",
        "    pub_result = job.result()[0]\n",
        "    result_dict = pub_result.data.creg.get_counts()\n",
        "\n",
        "    real_result = np.zeros((4,))\n",
        "    for idx,k  in enumerate(result_dict.keys()):\n",
        "        real_result[idx] = result_dict[k]\n",
        "    print(\"Counts for the classical output register creg:\")\n",
        "    print(real_result)"
      ]
    },
    {
      "cell_type": "markdown",
      "metadata": {
        "id": "yKftF1alYep3",
        "jp-MarkdownHeadingCollapsed": true
      },
      "source": [
        "## 4.7. Simulating a Hamiltonian Expressed in the Basis of Pauli Matrices"
      ]
    },
    {
      "cell_type": "markdown",
      "source": [
        "Heisenberg Hamiltonian for $N$ Sites"
      ],
      "metadata": {
        "id": "NT-dWz2ixIht"
      }
    },
    {
      "cell_type": "code",
      "execution_count": null,
      "metadata": {
        "id": "djPHPmdRXuVR"
      },
      "outputs": [],
      "source": [
        "from qiskit.quantum_info import SparsePauliOp\n",
        "\n",
        "\n",
        "def get_hamiltonian_n_site_terms(n, coeff, n_qubits):\n",
        "    '''\n",
        "        Assembles each term in the Hamiltonian based on their Pauli string\n",
        "        representation and multiplying by the respective coefficient.\n",
        "    '''\n",
        "    XX_coeff = coeff[0]\n",
        "    YY_coeff = coeff[1]\n",
        "    ZZ_coeff = coeff[2]\n",
        "    Z_coeff = coeff[3]\n",
        "\n",
        "    XX_term = SparsePauliOp((\"I\" * n + \"XX\" + \"I\" * (n_qubits - 2 - n)))\n",
        "    XX_term *= XX_coeff\n",
        "    YY_term = SparsePauliOp((\"I\" * n + \"YY\" + \"I\" * (n_qubits - 2 - n)))\n",
        "    YY_term *= YY_coeff\n",
        "    ZZ_term = SparsePauliOp((\"I\" * n + \"ZZ\" + \"I\" * (n_qubits - 2 - n)))\n",
        "    ZZ_term *= ZZ_coeff\n",
        "    Z_term = SparsePauliOp((\"I\" * n + \"Z\" + \"I\" * (n_qubits - 1 - n)))\n",
        "    Z_term *= Z_coeff\n",
        "\n",
        "    return (XX_term + YY_term + ZZ_term + Z_term)"
      ]
    },
    {
      "cell_type": "code",
      "execution_count": null,
      "metadata": {
        "id": "zrQdmDbCXxmp"
      },
      "outputs": [],
      "source": [
        "def get_heisenberg_hamiltonian(n_qubits, coeff=None):\n",
        "    '''\n",
        "    Constructs the Heisenberg Hamiltonian for an N-site spin chain.\n",
        "\n",
        "    H = \\sum _i ^N h_z Z_i\n",
        "        + \\sum _i ^{N-1} (h_xx X_iX_{i+1}\n",
        "            + h_yy Y_iY_{i+1}\n",
        "            + h_zz Z_iZ_{i+1}\n",
        "            )\n",
        "\n",
        "    Parameters:\n",
        "        n_qubits (int): Number of spins/qubits.\n",
        "        coeff (list of lists, optional): A list of sublists containing the coefficients\n",
        "            [XX, YY, ZZ, Z] for each site. The last sublist contains only the Z component.\n",
        "            Defaults to uniform coefficients if not provided.\n",
        "\n",
        "    Returns:\n",
        "        list: Two components of the Hamiltonian (even and odd terms).\n",
        "    '''\n",
        "\n",
        "    # Three qubits because for 2 we get H_O = 0\n",
        "    assert n_qubits >= 3\n",
        "\n",
        "    if coeff == None:\n",
        "        'Setting default values for the coefficients'\n",
        "        coeff = [[1.0, 1.0, 1.0, 1.0] for i in range(n_qubits)]\n",
        "\n",
        "    # Even terms of the Hamiltonian\n",
        "    # (summing over individual pair-wise elements)\n",
        "    H_E = sum((get_hamiltonian_n_site_terms(i, coeff[i], n_qubits)\n",
        "               for i in range(0, n_qubits-1, 2)))\n",
        "\n",
        "    # Odd terms of the Hamiltonian\n",
        "    # (summing over individual pair-wise elements)\n",
        "    H_O = sum((get_hamiltonian_n_site_terms(i, coeff[i], n_qubits)\n",
        "               for i in range(1, n_qubits-1, 2)))\n",
        "\n",
        "    # adding final Z term at the Nth site\n",
        "    final_term = SparsePauliOp(\"I\" * (n_qubits - 1) + \"Z\")\n",
        "    final_term *= coeff[n_qubits-1][3]\n",
        "    if (n_qubits % 2) == 0:\n",
        "        H_E += final_term\n",
        "    else:\n",
        "        H_O += final_term\n",
        "\n",
        "    # Returns the list of the two sets of terms\n",
        "    return [H_E, H_O]"
      ]
    },
    {
      "cell_type": "markdown",
      "source": [
        "Heisenberg Hamiltonian 3 Sites"
      ],
      "metadata": {
        "id": "0K6eRYYkxERg"
      }
    },
    {
      "cell_type": "code",
      "source": [
        "num_q = 3\n",
        "# XX YY ZZ, Z\n",
        "ham_coeffs = ([[0.75/2, 0.75/2, 0.0, 0.65]]+\n",
        "              [[0.5, 0.5, 0.0, 1.0] for _ in range(num_q-1)])\n",
        "\n",
        "spin_chain_hamiltonian = get_heisenberg_hamiltonian(num_q, ham_coeffs)\n",
        "\n",
        "print('Hamiltonian (even and odd components):',spin_chain_hamiltonian)\n",
        "print('Combined Hamiltonian:', sum(spin_chain_hamiltonian))"
      ],
      "metadata": {
        "id": "WvgjYZS5wQly"
      },
      "execution_count": null,
      "outputs": []
    },
    {
      "cell_type": "markdown",
      "source": [
        "Trotterized Time Evolution Operator"
      ],
      "metadata": {
        "id": "AE0PV6OUw-kq"
      }
    },
    {
      "cell_type": "code",
      "source": [
        "from qiskit.circuit.library import PauliEvolutionGate\n",
        "from qiskit.synthesis import SuzukiTrotter\n",
        "from qiskit import QuantumCircuit, QuantumRegister\n",
        "import numpy as np\n",
        "from itertools import groupby\n",
        "import re\n",
        "\n",
        "def get_time_evolution_operator(num_qubits, tau, trotter_steps, coeff=None):\n",
        "    '''\n",
        "    Generates the Trotterized time-evolution operator for a Heisenberg spin chain\n",
        "\n",
        "        Inputs:\n",
        "            num_qubits (int): number of qubits, which should be equal to the\n",
        "                number of spins in the chain\n",
        "            evo_time (float): time parameter in time-evolution operator\n",
        "            trotter_steps (int): number of time steps for the Suzuki-Trotter\n",
        "                decomposition\n",
        "            coeff (list of lists): parameters for each term in the Hamiltonian\n",
        "                for each site ie ([[XX0, YY0, ZZ0, Z0], [XX1, YY1, ZZ1, Z1], ...])\n",
        "        Returns:\n",
        "            evo_op.definition: Trotterized time-evolution operator\n",
        "    '''\n",
        "    # Heisenberg_hamiltonian = [H_E, H_O]\n",
        "    heisenberg_hamiltonian = get_heisenberg_hamiltonian(num_qubits, coeff)\n",
        "\n",
        "    # e^ (-i*H*evo_time), with Trotter decomposition\n",
        "    # exp[(i*evo_time)*(IIIIXXIIII + IIIIYYIIII + IIIIZZIIII + IIIIZIIIII)]\n",
        "    evo_op = PauliEvolutionGate(heisenberg_hamiltonian, tau,\n",
        "                                synthesis=SuzukiTrotter(order=2,\n",
        "                                reps=trotter_steps))\n",
        "    return evo_op.definition\n",
        "\n",
        "num_shots = 100\n",
        "num_q = 3\n",
        "evolution_timestep = 0.1\n",
        "n_trotter_steps = 1\n",
        "# XX YY ZZ, Z\n",
        "ham_coeffs = ([[0.75/2, 0.75/2, 0.0, 0.65]]\n",
        "                + [[0.5, 0.5, 0.0, 1.0]\n",
        "                for i in range(num_q-1)])\n",
        "time_evo_op = get_time_evolution_operator(\n",
        "    num_qubits=num_q, tau=evolution_timestep,\n",
        "    trotter_steps=n_trotter_steps, coeff=ham_coeffs)"
      ],
      "metadata": {
        "id": "d4El4KlHwfvl"
      },
      "execution_count": null,
      "outputs": []
    },
    {
      "cell_type": "markdown",
      "source": [
        "Sorting Terms by Interaction order"
      ],
      "metadata": {
        "id": "C4SsYjquw6zl"
      }
    },
    {
      "cell_type": "code",
      "source": [
        "def find_string_pattern(pattern, string):\n",
        "    match_list = []\n",
        "    for m in re.finditer(pattern, string):\n",
        "        match_list.append(m.start())\n",
        "    return match_list\n",
        "\n",
        "def sort_Pauli_by_symmetry(ham):\n",
        "    '''\n",
        "        Separates a qiskit PauliOp object terms into 1 and 2-qubit\n",
        "        operators. Furthermore, 2-qubit operators are separated according\n",
        "        to the parity of the index first non-identity operation.\n",
        "    '''\n",
        "    one_qubit_terms = []\n",
        "    two_qubit_terms = []\n",
        "    # separating the one-qubit from two-qubit terms\n",
        "    for term in ham:\n",
        "        matches = find_string_pattern('X|Y|Z', str(term.paulis[0]))\n",
        "        pauli_string = term.paulis[0]\n",
        "        coeff = np.real(term.coeffs[0])\n",
        "        str_tag = pauli_string.to_label().replace('I', '')\n",
        "        if len(matches) == 2:\n",
        "            two_qubit_terms.append((pauli_string, coeff, matches, str_tag))\n",
        "        elif len(matches) == 1:\n",
        "            one_qubit_terms.append((pauli_string, coeff, matches, str_tag))\n",
        "\n",
        "    # sorting the two-qubit terms according to index on which they act\n",
        "    two_qubit_terms = sorted(two_qubit_terms, key=lambda x: x[2])\n",
        "    # separating the even from the odd two-qubit terms\n",
        "    even_two_qubit_terms = list(filter(lambda x: not x[2][0]%2, two_qubit_terms))\n",
        "    odd_two_qubit_terms = list(filter(lambda x: x[2][0]%2, two_qubit_terms))\n",
        "\n",
        "    even_two_qubit_terms = [list(v) for i, v in groupby(even_two_qubit_terms, lambda x: x[2][0])]\n",
        "    odd_two_qubit_terms = [list(v) for i, v in groupby(odd_two_qubit_terms, lambda x: x[2][0])]\n",
        "\n",
        "    return one_qubit_terms, even_two_qubit_terms, odd_two_qubit_terms"
      ],
      "metadata": {
        "id": "DxAjJI6jwjhB"
      },
      "execution_count": null,
      "outputs": []
    },
    {
      "cell_type": "markdown",
      "source": [
        "Circuit for Exponential of 1-Qubit Pauli Term"
      ],
      "metadata": {
        "id": "pXgZtbpRw0C9"
      }
    },
    {
      "cell_type": "code",
      "execution_count": null,
      "metadata": {
        "id": "XPtT0RkzYGsb"
      },
      "outputs": [],
      "source": [
        "def generate_circ_pattern_1qubit(circ, term, delta_t):\n",
        "    '''\n",
        "        General 1-qubit gate for exponential of product identity and\n",
        "        a single pauli gate.\n",
        "        Only a single rotation operation is required, with the angle\n",
        "        being related to the exponential argument:\n",
        "\n",
        "        R_P(coeff) = exp(-i * coeff * P / 2)\n",
        "\n",
        "        Where P is the Pauli gate and coeff encompasses the constant\n",
        "        coefficient term\n",
        "    '''\n",
        "    coeff = 2 * term[1] * delta_t\n",
        "    if term[3] == 'X':\n",
        "        circ.rx(coeff, term[2])\n",
        "    elif term[3] == 'Y':\n",
        "        circ.ry(coeff, term[2])\n",
        "    elif term[3] == 'Z':\n",
        "        circ.rz(coeff, term[2])\n",
        "\n",
        "    return circ"
      ]
    },
    {
      "cell_type": "code",
      "execution_count": null,
      "metadata": {
        "id": "bMc_tIcJYHPu"
      },
      "outputs": [],
      "source": [
        "def generate_circ_pattern_2qubit(circ, term, delta_t):\n",
        "    '''\n",
        "        General 2-qubit gate for exponential of Paulis. This is the\n",
        "        optimal decomposition, based on a component of a U(4) operator.\n",
        "        (see )\n",
        "\n",
        "        The circuit structure is as follows:\n",
        "\n",
        "        - ---- I ---- C - Rz(o) - X --- I --- C - Rz(pi/2) -\n",
        "        - Rz(-pi/2) - X - Ry(p) - C - Ry(l) - X ---- I -----\n",
        "\n",
        "        Where CX represent CNOT operations, R are rotation gates with angles,\n",
        "        and I is the identity matrix. The angles are parameterized as follows:\n",
        "\n",
        "        o = \\theta = (\\pi/2 - A)\n",
        "        p = \\phi = (A - \\pi/2)\n",
        "        l = \\lambda = (\\pi/2 - A)\n",
        "\n",
        "        Where A is the exponential argument.\n",
        "    '''\n",
        "    # wires to which to apply the operation\n",
        "    wires = term[0][2]\n",
        "\n",
        "    # angles to parameterize the circuit,\n",
        "    # based on exponential argument\n",
        "    if any('XX' in sublist for sublist in term):\n",
        "        g_phi = ( 2 * (-1) * term[0][1] * delta_t - np.pi / 2)\n",
        "    else:\n",
        "        g_phi = - np.pi / 2\n",
        "    if any('YY' in sublist for sublist in term):\n",
        "        g_lambda = (np.pi/2 - 2 * (-1) * term[1][1] * delta_t)\n",
        "    else:\n",
        "        g_lambda = np.pi/2\n",
        "    if any('ZZ' in sublist for sublist in term):\n",
        "        g_theta = (np.pi/2 - 2 * (-1) * term[2][1] * delta_t)\n",
        "    else:\n",
        "        g_theta = np.pi/2\n",
        "\n",
        "    # circuit\n",
        "    circ.rz(-np.pi/2, wires[1])\n",
        "    circ.cx(wires[1], wires[0])\n",
        "    circ.rz(g_theta, wires[0])\n",
        "    circ.ry(g_phi, wires[1])\n",
        "    circ.cx(wires[0], wires[1])\n",
        "    circ.ry(g_lambda, wires[1])\n",
        "    circ.cx(wires[1], wires[0])\n",
        "    circ.rz(np.pi/2, wires[0])\n",
        "    return circ"
      ]
    },
    {
      "cell_type": "code",
      "source": [
        "def get_manual_Trotter(num_q, pauli_ops, timestep, n_trotter=1,\n",
        "                       trotter_type='basic', reverse_bits=True):\n",
        "    # sorts the Pauli strings according to qubit number they affect and symmetry\n",
        "    one_q, even_two_q, odd_two_q = sort_Pauli_by_symmetry(pauli_ops)\n",
        "    # scales the timestep according to the number of trotter steps\n",
        "    timestep_even_two_q = timestep / n_trotter\n",
        "    timestep_odd_two_q = timestep / n_trotter\n",
        "    timestep_one_q = timestep / n_trotter\n",
        "    # symmetric places 1/2 of one_q and odd_two_q before and after even_two_q\n",
        "    if trotter_type == 'symmetric':\n",
        "        timestep_odd_two_q /= 2\n",
        "        timestep_one_q /= 2\n",
        "    # constructs circuits for each segment of the operators\n",
        "    qc_odd_two_q, qc_even_two_q, qc_one_q = QuantumCircuit(num_q), QuantumCircuit(num_q), QuantumCircuit(num_q)\n",
        "    for i in even_two_q:\n",
        "        qc_even_two_q = generate_circ_pattern_2qubit(qc_even_two_q, i, timestep_even_two_q)\n",
        "    for i in odd_two_q:\n",
        "        qc_odd_two_q = generate_circ_pattern_2qubit(qc_odd_two_q, i, timestep_odd_two_q)\n",
        "    for i in one_q:\n",
        "        qc_one_q = generate_circ_pattern_1qubit(qc_one_q, i, timestep_one_q)\n",
        "    # assembles the circuit for Trotter decomposition of exponential\n",
        "    qr = QuantumRegister(num_q)\n",
        "    qc = QuantumCircuit(qr)\n",
        "    if trotter_type == 'basic':\n",
        "        qc = qc.compose(qc_even_two_q)\n",
        "        qc = qc.compose(qc_odd_two_q)\n",
        "        qc = qc.compose(qc_one_q)\n",
        "    elif trotter_type == 'symmetric':\n",
        "        qc = qc.compose(qc_one_q)\n",
        "        qc = qc.compose(qc_odd_two_q)\n",
        "        qc = qc.compose(qc_even_two_q)\n",
        "        qc = qc.compose(qc_odd_two_q)\n",
        "        qc = qc.compose(qc_one_q)\n",
        "    # repeats the single_trotter circuit several times to match n_trotter\n",
        "    for i in range(n_trotter-1):\n",
        "        qc = qc.compose(qc)\n",
        "    if reverse_bits:\n",
        "        return qc.reverse_bits()\n",
        "    else:\n",
        "        return qc"
      ],
      "metadata": {
        "id": "BAxKuZDGxTGJ"
      },
      "execution_count": null,
      "outputs": []
    },
    {
      "cell_type": "code",
      "execution_count": null,
      "metadata": {
        "id": "5GOtyZmjQPUM"
      },
      "outputs": [],
      "source": [
        "spin_chain_hamiltonian = get_heisenberg_hamiltonian(num_q,\n",
        "                                                    ham_coeffs)\n",
        "\n",
        "spin_chain_hamiltonian = sum(spin_chain_hamiltonian)\n",
        "print(get_manual_Trotter(num_q, spin_chain_hamiltonian,\n",
        "                            0.1).draw())\n",
        "print(get_manual_Trotter(num_q, spin_chain_hamiltonian, 0.1,\n",
        "                            n_trotter=2).draw())\n",
        "print(get_manual_Trotter(num_q, spin_chain_hamiltonian, 0.1,\n",
        "                            trotter_type='symmetric').draw())\n",
        "print(get_manual_Trotter(num_q, spin_chain_hamiltonian, 0.1,\n",
        "                            n_trotter=2,\n",
        "                            trotter_type='symmetric').draw())"
      ]
    },
    {
      "cell_type": "code",
      "source": [
        "from qiskit import QuantumCircuit\n",
        "from qiskit import QuantumRegister, ClassicalRegister\n",
        "from qiskit import transpile\n",
        "\n",
        "# specifying a quantum register with specific number of qubits\n",
        "qr = QuantumRegister(num_q)\n",
        "# classical register used for measurement of qubits\n",
        "cr = ClassicalRegister(num_q)\n",
        "# quantum circuit combining quantum and classical registers\n",
        "qc = QuantumCircuit(qr, cr) # instantiated here\n",
        "qc.draw(style='iqp')\n",
        "print(qc)"
      ],
      "metadata": {
        "id": "0Cz_XJUjxgTC"
      },
      "execution_count": null,
      "outputs": []
    },
    {
      "cell_type": "code",
      "source": [
        "# specifying initial state by flipping qubit states\n",
        "for qubit_idx in range(num_q):\n",
        "    if qubit_idx == 0:\n",
        "        # generate only one spin-up at first qubit\n",
        "        qc.id(qubit_idx)\n",
        "    else:\n",
        "        # make all other spins have the spin-down state\n",
        "        qc.x(qubit_idx)\n",
        "qc.barrier()\n",
        "qc.draw(style='iqp')\n",
        "print(qc)\n",
        "\n",
        "# checking the initial state\n",
        "device = Aer.get_backend('statevector_simulator')\n",
        "qc_init_state = execute(qc, backend=device).result()\n",
        "qc_init_state = qc_init_state.get_statevector()\n",
        "print(qc_init_state)"
      ],
      "metadata": {
        "id": "IPKk2xVwxo0c"
      },
      "execution_count": null,
      "outputs": []
    },
    {
      "cell_type": "code",
      "source": [
        "qr_init = QuantumRegister(num_q)\n",
        "qc_init = QuantumCircuit(qr_init)\n",
        "qc_init.initialize('011')\n",
        "qc.append(qc_init, qc.qubits)"
      ],
      "metadata": {
        "id": "BKiFjVJTxtQI"
      },
      "execution_count": null,
      "outputs": []
    },
    {
      "cell_type": "code",
      "source": [
        "# generating the time evolution operator for a specific set of\n",
        "# hamiltonian parameters and timestep\n",
        "time_evo_op = get_time_evolution_operator(num_qubits=num_q,\n",
        "        tau=evolution_timestep,\n",
        "        trotter_steps=n_trotter_steps,\n",
        "        coeff=ham_coeffs)\n",
        "\n",
        "# appending the Hamiltonian evolution to the circuit\n",
        "qc.append(time_evo_op, list(range(num_q)))\n",
        "qc.barrier()\n",
        "qc.draw(style='iqp')\n",
        "print(qc)\n",
        "\n",
        "# Depth check\n",
        "print('Depth of the circuit is', qc.depth())\n",
        "# transpiled circuit to statevector simulator\n",
        "qct = transpile(qc, device, optimization_level=2)\n",
        "qct.decompose().decompose()\n",
        "qct.draw(style='iqp')\n",
        "print(qct)\n",
        "\n",
        "print('Depth of the circuit after transpilation is '\n",
        "        f'{qct.depth()}')"
      ],
      "metadata": {
        "id": "dmuJH4zoxwDQ"
      },
      "execution_count": null,
      "outputs": []
    },
    {
      "cell_type": "code",
      "execution_count": null,
      "metadata": {
        "id": "aAU6QX6BvTKg"
      },
      "outputs": [],
      "source": [
        "import numpy as np\n",
        "import matplotlib.pyplot as plt\n",
        "from qiskit import QuantumCircuit, QuantumRegister\n",
        "from qiskit_aer import Aer\n",
        "\n",
        "\n",
        "# Quantum circuit for propagation\n",
        "def qsolve_statevector(psin, qc):\n",
        "    '''\n",
        "        Performs dynamical propagation for a specific quantum circuit, using the\n",
        "        an initial state equal to the result of the prior iteration. In effect,\n",
        "        this propagates:\n",
        "\n",
        "        | \\psi _t \\rangle  = e^{i*\\tau*H/hbar} e^{i*\\tau*H/hbar} ... | \\psi _0 \\rangle\n",
        "        -> | \\psi _t \\rangle  = e^{i*\\tau*H/hbar} | \\psi _{t-\\tau} \\rangle\n",
        "\n",
        "        Use of reinitialization in this way is possible due to the usage of the\n",
        "        statevector_simulator backend; this may not be practical for an\n",
        "        implementation on actual hardware.\n",
        "        Returns:\n",
        "            psin (statevector): final statevector after execution\n",
        "    '''\n",
        "    # Determining number of qubits from the length of the state vector\n",
        "    n=np.size(psin)\n",
        "    d=int(np.log2(np.size(psin)))\n",
        "    # Circuit preparation\n",
        "    qre = QuantumRegister(d)\n",
        "    circ = QuantumCircuit(qre)\n",
        "    circ.initialize(psin,qre)\n",
        "    circ.barrier()\n",
        "    circ.append(qc, qre)\n",
        "    circ.barrier()\n",
        "    # Circuit execution\n",
        "    device = Aer.get_backend('statevector_simulator')\n",
        "    psin = execute(circ, backend=device).result()\n",
        "    psin = psin.get_statevector()\n",
        "    return psin"
      ]
    },
    {
      "cell_type": "code",
      "source": [
        "# Qubit basis states\n",
        "zero_state = np.array([[1],[0]])\n",
        "one_state = np.array([[0],[1]])\n",
        "\n",
        "# Prepare an initial state (e.g., |011>), as follows\n",
        "psin = zero_state # for the first spin\n",
        "# iterates over the remaining spins, by performing\n",
        "# Kronecker Product\n",
        "for i in range(num_q-1):\n",
        "    psin = np.kron(psin, one_state)\n",
        "psin0 = psin.flatten()\n",
        "print(psin0)\n",
        "\n",
        "# time evolution operator\n",
        "time_evo_op = get_time_evolution_operator(num_qubits=num_q,\n",
        "        tau=evolution_timestep,\n",
        "        trotter_steps=n_trotter_steps,\n",
        "        coeff=ham_coeffs)\n",
        "# number of steps for which to propagate\n",
        "# (totaling 25 units of time)\n",
        "nsteps = 250\n",
        "psin_list = []\n",
        "psin_list.append(psin0)\n",
        "correlation_list = []\n",
        "\n",
        "# Perform propagation by statevector re-initialization\n",
        "for k in trange(nsteps):\n",
        "    #print(f'Running dynamics step {k}')\n",
        "    if k > 0:\n",
        "        psin = qsolve_statevector(psin_list[-1], time_evo_op)\n",
        "        # removes the last initial state to save memory\n",
        "        psin_list.pop()\n",
        "        # stores the new initial state\n",
        "        psin_list.append(psin)\n",
        "    correlation_list.append(np.vdot(psin_list[-1],psin0))\n",
        "\n",
        "time = np.arange(0, evolution_timestep*(nsteps),\n",
        "                 evolution_timestep)\n",
        "np.save(f'{num_q}_spin_chain_time', time)\n",
        "sa_observable = np.abs(correlation_list)\n",
        "np.save(f'{num_q}_spin_chain_SA_obs', sa_observable)\n",
        "\n",
        "# Plot survival amplitude\n",
        "plt.plot(time, sa_observable, '-o')\n",
        "plt.xlabel('Time')\n",
        "plt.ylabel('Absolute Value of Survival Amplitude, '\n",
        "           r'$\\left|\\langle \\psi | \\psi \\rangle \\right|$')\n",
        "plt.xlim((min(time), max(time)))\n",
        "plt.yscale('log')\n",
        "plt.legend()\n",
        "plt.show()"
      ],
      "metadata": {
        "id": "Tg6IgwLJ2Ini"
      },
      "execution_count": null,
      "outputs": []
    },
    {
      "cell_type": "markdown",
      "metadata": {
        "id": "9EDQD6uH7p-2",
        "jp-MarkdownHeadingCollapsed": true
      },
      "source": [
        "## 4.8. Encoding an arbitrary Hamiltonian in the basis of Pauli matrices"
      ]
    },
    {
      "cell_type": "code",
      "source": [
        "import itertools\n",
        "\n",
        "\n",
        "def nested_kronecker_product(pauli_str):\n",
        "    '''\n",
        "    Computes the Kronecker Product for a given Pauli string (i.e., the pauli_str = 'ZZX' becomes the kronecker product Z Z X).\n",
        "\n",
        "    Args:\n",
        "        pauli_str (str): A string representation of Pauli matrices (e.g., 'ZZX').\n",
        "\n",
        "    Returns:\n",
        "        np.array: Resulting matrix after applying the Kronecker product.\n",
        "    '''\n",
        "    X = np.array([[0,1],[1,0]])\n",
        "    Y = np.array([[0,complex(0,-1)],[complex(0,1),0]])\n",
        "    Z = np.array([[1,0],[0,-1]])\n",
        "    I = Z@Z\n",
        "\n",
        "    # Define a dictionary with the four Pauli matrices:\n",
        "    pms = {'I': I,'X': X,'Y': Y,'Z': Z}\n",
        "\n",
        "    result = np.eye(1)  # Start with identity (size 1)\n",
        "    for char in range(len(pauli_str)):\n",
        "     result = np.kron(result,pms[pauli_str[char]])\n",
        "\n",
        "    return result"
      ],
      "metadata": {
        "id": "HWpH0Ufy2Ur_"
      },
      "execution_count": null,
      "outputs": []
    },
    {
      "cell_type": "code",
      "source": [
        "def decompose(Ham_arr, tol=1E-5):\n",
        "    '''\n",
        "    Decomposes a Hamiltonian matrix into a sum of Pauli strings.\n",
        "\n",
        "    Args:\n",
        "        Ham_arr (np.array): The input Hamiltonian matrix.\n",
        "        tol (float): Tolerance for small coefficients (default: 1E-5).\n",
        "\n",
        "    Returns:\n",
        "        dict: Dictionary mapping Pauli strings to their coefficients.\n",
        "    '''\n",
        "\n",
        "    pauli_keys = ['I','X','Y','Z'] # Keys of the dictionary\n",
        "\n",
        "    nqb = int(np.log2(Ham_arr.shape[0])) # Determine the numnber of qubits\n",
        "\n",
        "    # Generate all possible Pauli strings\n",
        "    sigma_combinations = list(itertools.product(pauli_keys, repeat=nqb))\n",
        "\n",
        "    result = {} # Initialize an empty dictionary to the results\n",
        "    for ii in range(len(sigma_combinations)):\n",
        "        pauli_str = ''.join(sigma_combinations[ii])\n",
        "\n",
        "        # Compute the Kronecker product of the corresponding Pauli matrices\n",
        "        tmp_p_matrix = nested_kronecker_product(pauli_str)\n",
        "\n",
        "        # Compute the coefficient using the Hilbert-Schmidt inner product\n",
        "        a_coeff = (1/(2**nqb)) * np.trace(tmp_p_matrix @ Ham_arr)\n",
        "\n",
        "        # Store only non-negligible coefficients\n",
        "        if abs(a_coeff) > tol:\n",
        "            result[pauli_str] = a_coeff.real\n",
        "\n",
        "    return result"
      ],
      "metadata": {
        "id": "4u4PPu1w2Xtq"
      },
      "execution_count": null,
      "outputs": []
    },
    {
      "cell_type": "markdown",
      "metadata": {
        "id": "EuP9gsOxKM-z"
      },
      "source": [
        "## 4.9. Using the Hadamard Test for Calculating Expectation Values"
      ]
    },
    {
      "cell_type": "code",
      "source": [
        "import numpy as np\n",
        "from qiskit_aer import Aer\n",
        "from qiskit import QuantumCircuit\n",
        "from qiskit import QuantumRegister, ClassicalRegister\n",
        "\n",
        "def get_hadamard_test(num_q, initial_state, control_operation,\n",
        "                      control_repeats=0, imag_expectation=False):\n",
        "    '''\n",
        "        Writes the Hadamard test circuit to evaluate the real (or imaginary)\n",
        "        components of a given operator (or set of operators) by measuring the\n",
        "        ancilla.\n",
        "\n",
        "        Inputs:\n",
        "            num_qubits (int): number of qubits needed for the calculation\n",
        "            initial_state: quantum circuit object containing the initialization\n",
        "                for the system\n",
        "            control_operation: quantum circuit object containing the controlled\n",
        "                version of the unitary operator for which to evaluate the\n",
        "                expectation value\n",
        "            control_repeats (int): number of repetitions of the controlled\n",
        "                operation in the Hadamard test circuit (such as time-propagation)\n",
        "            imag_expectation (boolean): whether to assemble the circuit for\n",
        "                evaluation of the real or imaginary components of the operator.\n",
        "        Returns:\n",
        "            qc_hadamard: quantum circuit object containing the hadamard test\n",
        "    '''\n",
        "    # Create circuit with quantum and classical registers\n",
        "    qr_hadamard = QuantumRegister(num_q+1)\n",
        "    cr_hadamard = ClassicalRegister(1)\n",
        "    qc_hadamard = QuantumCircuit(qr_hadamard, cr_hadamard) # instantiated here\n",
        "\n",
        "    # Initialize the computation qubits\n",
        "    qc_hadamard.append(initial_state, qr_hadamard[1:]) # initial psi\n",
        "    qc_hadamard.barrier()\n",
        "\n",
        "    # Hadamard test on the ancilla qubit\n",
        "    qc_hadamard.h(0)\n",
        "    if imag_expectation:\n",
        "        qc_hadamard.p(-np.pi/2, 0) # qc_hadamard.s(0).inverse() may be equivalent\n",
        "\n",
        "    # iterates over the number of times the control operation should be added\n",
        "    for i in range(control_repeats):\n",
        "        qc_hadamard.append(control_operation, qr_hadamard[:])\n",
        "    qc_hadamard.h(0)\n",
        "    qc_hadamard.barrier()\n",
        "\n",
        "    # Measuring the ancilla\n",
        "    qc_hadamard.measure(0,0)\n",
        "\n",
        "    return qc_hadamard"
      ],
      "metadata": {
        "id": "NiIS88B23Z2a"
      },
      "execution_count": null,
      "outputs": []
    },
    {
      "cell_type": "code",
      "source": [
        "def get_spin_correlation(counts):\n",
        "    '''\n",
        "        Generates the spin correlation at a particular time by averaging over\n",
        "        the counts of the ancillary qubit.\n",
        "    '''\n",
        "\n",
        "    qubit_to_spin_map = {\n",
        "        '0': 1,\n",
        "        '1': -1,\n",
        "    }\n",
        "    total_counts = 0\n",
        "    values_list = []\n",
        "    for k,v in counts.items():\n",
        "        values_list.append(qubit_to_spin_map[k] * v)\n",
        "        total_counts += v\n",
        "    # print(values_list)\n",
        "    average_spin = (sum(values_list)) / total_counts\n",
        "    return average_spin"
      ],
      "metadata": {
        "id": "nyKTV0iy3duT"
      },
      "execution_count": null,
      "outputs": []
    },
    {
      "cell_type": "code",
      "source": [
        "def get_initialization(num_qubits, initialization_string):\n",
        "    '''\n",
        "        Creates a circuit containing the qubit initialization for a specified\n",
        "        number of qubits and given initialization string. There are alternative\n",
        "        methods to initialize the circuit besides the one used in this function\n",
        "        including using a statevector or amplitude embedding of an arbitrary state.\n",
        "    '''\n",
        "    qr_init = QuantumRegister(num_qubits)\n",
        "    qc_init = QuantumCircuit(qr_init)\n",
        "    qc_init.initialize(initialization_string, qr_init[:]) # 0x1x1\n",
        "    return qc_init"
      ],
      "metadata": {
        "id": "ioc2Ccc74HaT"
      },
      "execution_count": null,
      "outputs": []
    },
    {
      "cell_type": "code",
      "source": [
        "# IMPORTANT: Use qasm_simulator to obtain meaningful statistics\n",
        "simulator = Aer.get_backend('qasm_simulator')\n",
        "\n",
        "num_q = 3\n",
        "n_trotter_steps = 1\n",
        "# XX YY ZZ, Z\n",
        "hamiltonian_coefficients = ([[0.75/2, 0.75/2, 0.0, 0.65]]\n",
        "                            + [[0.5, 0.5, 0.0, 1.0]\n",
        "                                for i in range(num_q-1)])\n",
        "\n",
        "num_shots = 100 # increase to check for convergence\n",
        "\n",
        "evolution_timestep = 0.1\n",
        "total_time = 2\n",
        "time_range = np.arange(0, total_time+evolution_timestep,\n",
        "                       evolution_timestep)\n",
        "\n",
        "# time evolution operator\n",
        "time_evo_op = get_time_evolution_operator(num_qubits=num_q,\n",
        "        tau=evolution_timestep,\n",
        "        trotter_steps=n_trotter_steps,\n",
        "        coeff=hamiltonian_coefficients)\n",
        "\n",
        "controlled_time_evo_op = time_evo_op.control()\n",
        "print(controlled_time_evo_op.decompose())\n",
        "\n",
        "init_state_list = '1' + '0' * (num_q-1)\n",
        "init_circ = get_initialization(num_q, init_state_list)\n",
        "init_circ.draw(style='iqp')\n",
        "print(init_circ)"
      ],
      "metadata": {
        "id": "imTCAH0V35FQ"
      },
      "execution_count": null,
      "outputs": []
    },
    {
      "cell_type": "code",
      "source": [
        "def get_circuit_execution_counts(qc, backend, n_shots=100):\n",
        "    '''\n",
        "        Takes a quantum circuit, Qiskit supported backend and a specified number\n",
        "        of execution times to calculate the number of times each state in the\n",
        "        circuit was measured.\n",
        "\n",
        "        Inputs:\n",
        "            qc: Qiskit quantum circuit object\n",
        "            backend: qiskit supported quantum computer framework (either simulator\n",
        "                or actual device)\n",
        "                n_shots (int): default=100; number of times for which to execute\n",
        "                    the circuit using the specified backend.\n",
        "    '''\n",
        "    qc_execution = execute(qc, backend, shots=n_shots)\n",
        "    counts = qc_execution.result().get_counts()\n",
        "    return counts # number of times measured 0 and 1"
      ],
      "metadata": {
        "id": "dLhQkgWy4pIW"
      },
      "execution_count": null,
      "outputs": []
    },
    {
      "cell_type": "code",
      "source": [
        "# switch this variable to True to execution the 'for' loop.\n",
        "# it takes >1hr for 3 spins, with the parameters defined above\n",
        "# and 1000 shots for each time step.\n",
        "# run_hadamard_test_boolean = False\n",
        "run_hadamard_test_boolean = True"
      ],
      "metadata": {
        "id": "A_0AaCRW8icy"
      },
      "execution_count": null,
      "outputs": []
    },
    {
      "cell_type": "code",
      "source": [
        "if run_hadamard_test_boolean:\n",
        "    # it takes >1hr for 3 spins, with the parameters defined above\n",
        "    # lists t store observables\n",
        "    real_amp_list = []\n",
        "    imag_amp_list = []\n",
        "    for idx,time in enumerate(time_range):\n",
        "        print(f'Running dynamics step {idx}')\n",
        "        # Real component ------------------------------\n",
        "        qc_had_real = get_hadamard_test(num_q, init_circ,\n",
        "                                        controlled_time_evo_op,\n",
        "                                        control_repeats=idx,\n",
        "                                        imag_expectation=False)\n",
        "        had_real_counts = get_circuit_execution_counts(\n",
        "                qc_had_real, simulator, n_shots=num_shots)\n",
        "        real_amplitude = get_spin_correlation(had_real_counts)\n",
        "        real_amp_list.append(real_amplitude)\n",
        "\n",
        "        # Imag component ------------------------------\n",
        "        qc_had_imag = get_hadamard_test(num_q, init_circ,\n",
        "                                        controlled_time_evo_op,\n",
        "                                        control_repeats=idx,\n",
        "                                        imag_expectation=True)\n",
        "        had_imag_counts = get_circuit_execution_counts(\n",
        "                qc_had_imag, simulator, n_shots=num_shots)\n",
        "        imag_amplitude = get_spin_correlation(had_imag_counts)\n",
        "        imag_amp_list.append(imag_amplitude)\n",
        "        print(f'Finished step {idx}, where '\n",
        "              f'Re = {real_amplitude:.3f} '\n",
        "              f'Im = {imag_amplitude:.3f}')\n",
        "\n",
        "        real_amp_array = np.array(real_amp_list)\n",
        "        imag_amp_array = np.array(imag_amp_list)\n",
        "\n",
        "    np_abs_correlation_with_hadamard_test = np.abs(real_amp_array + 1j*imag_amp_array)\n",
        "\n",
        "    # plotting the data\n",
        "    plt.plot(time_range, np_abs_correlation_with_hadamard_test,\n",
        "             '.', label='Hadamard Test')\n",
        "\n",
        "    sa_statevector = np.load(f'data/Part_I_SpinChain/{num_q}_spin_chain_SA_obs.npy')\n",
        "    time = np.load(f'{num_q}_spin_chain_time.npy')\n",
        "    plt.plot(time, sa_statevector, '-', label='Statevector')\n",
        "\n",
        "    plt.xlabel('Time')\n",
        "    plt.ylabel('Absolute Value of Survival Amplitude')\n",
        "    plt.legend()\n",
        "    plt.show()"
      ],
      "metadata": {
        "id": "nao1T_1h4Wo1"
      },
      "execution_count": null,
      "outputs": []
    },
    {
      "cell_type": "code",
      "execution_count": null,
      "metadata": {
        "id": "7rMoEQgnKM-4"
      },
      "outputs": [],
      "source": [
        "if not run_hadamard_test_boolean:\n",
        "    np_abs_correlation_with_hadamard_test = np.loadtxt(\n",
        "            'data/Part_I_SpinChain/np_abs_correlation_with_hadamard_test.csv',\n",
        "            delimiter=';')\n",
        "\n",
        "    plt.plot(time_range, np_abs_correlation_with_hadamard_test,\n",
        "             '.', label='Hadamard Test')\n",
        "\n",
        "    sa_statevector = np.load(f'data/Part_I_SpinChain/{num_q}_spin_chain_SA_obs.npy')\n",
        "    time = np.load(f'{num_q}_spin_chain_time.npy')\n",
        "    plt.plot(time, sa_statevector, '--', color='black', label='Statevector')\n",
        "\n",
        "    plt.xlabel('Time')\n",
        "    plt.ylabel('Absolute Value of Survival Amplitude')\n",
        "    plt.legend()\n",
        "    plt.show()"
      ]
    },
    {
      "cell_type": "markdown",
      "source": [
        "# Section 5. Variational Quantum Eigensolver"
      ],
      "metadata": {
        "id": "7EunoVMp6Pd0"
      }
    },
    {
      "cell_type": "code",
      "source": [
        "# -- Imports --\n",
        "# - EfficientSU2: A parameterized quantum circuit (ansatz) often used in VQE.\n",
        "# - SparsePauliOp: Efficient representation of Hamiltonians in terms of Pauli strings.\n",
        "# - StatevectorEstimator: Estimates expectation values (ideal, noiseless backend).\n",
        "import numpy as np\n",
        "from scipy.optimize import minimize\n",
        "from qiskit.circuit.library import EfficientSU2\n",
        "from qiskit.primitives import StatevectorEstimator\n",
        "from qiskit.quantum_info import SparsePauliOp\n",
        "\n",
        "# --- Define the Hamiltonian ---\n",
        "# H = 0.5 * Z_0 + 0.5 * Z_1 + 0.2 * X_0 * X_1\n",
        "hamiltonian = SparsePauliOp.from_list([(\"ZI\", 0.5), (\"IZ\", 0.5), (\"XX\", 0.2)])\n",
        "\n",
        "# --- Initialize the Estimator Primitive ---\n",
        "# StatevectorEstimator: Ideal, noiseless estimator using statevectors (no sampling noise). Computes expectation value exactly.\n",
        "estimator = StatevectorEstimator()\n",
        "\n",
        "# --- Define the Ansatz ---\n",
        "# Use EfficientSU2 as a general-purpose parameterized ansatz. EfficientSU2 is expressive and hardware-efficient, using layers of single-qubit rotations and entangling gates.\n",
        "ansatz = EfficientSU2(num_qubits=hamiltonian.num_qubits)\n",
        "\n",
        "# --- Define the Energy Evaluation Function ---\n",
        "# Given parameters params, assigns them to the ansatz circuit and evaluates the expectation value of the Hamiltonian. Returns the energy to the optimizer. Includes basic exception handling for robustness.\n",
        "def energy(params, ansatz, hamiltonian, estimator):\n",
        "    \"\"\"Evaluate energy for given ansatz parameters.\"\"\"\n",
        "    try:\n",
        "        result = estimator.run([(ansatz, hamiltonian, params)]).result()\n",
        "        energy_estimate = result[0].data.evs\n",
        "        print(f\"Energy: {energy_estimate}\")\n",
        "        return energy_estimate\n",
        "    except Exception as e:\n",
        "        print(f\"Estimator failed: {e}\")\n",
        "        return np.inf\n",
        "\n",
        "# --- Initialize Parameters ---\n",
        "# Random initialization of ansatz parameters in the full 0–2\\pi range. Good starting point for global exploration of energy landscape.\n",
        "initial_params = np.random.uniform(0, 2 * np.pi, size=ansatz.num_parameters)\n",
        "\n",
        "# --- Classical Optimization ---\n",
        "# Minimize energy using COBYLA, a derivative-free classical optimizer. Minimizes the energy function over the variational parameters. Hybrid quantum-classical loop: quantum subroutine evaluates energy, classical subroutine updates parameters.\n",
        "opt_result = minimize(\n",
        "    energy,\n",
        "    initial_params,\n",
        "    args=(ansatz, hamiltonian, estimator),\n",
        "    method=\"COBYLA\",\n",
        "    options={\"maxiter\": 200, \"disp\": True}\n",
        ")\n",
        "\n",
        "# --- Output Results ---\n",
        "# Outputs the final optimized parameters and estimated ground state energy.\n",
        "final_params = opt_result.x\n",
        "final_energy = energy(final_params, ansatz, hamiltonian, estimator)\n",
        "\n",
        "print(f\"\\nFinal Optimized Energy: {final_energy}\")\n",
        "print(f\"Optimized Parameters: {final_params}\")"
      ],
      "metadata": {
        "id": "xxQAlZ_Y7Iam"
      },
      "execution_count": null,
      "outputs": []
    },
    {
      "cell_type": "markdown",
      "metadata": {
        "id": "YMpyyLHuL_X_"
      },
      "source": [
        "# Section 6. Variational Quantum Real-Time Evolution"
      ]
    },
    {
      "cell_type": "code",
      "execution_count": null,
      "metadata": {
        "id": "6WxC5T09L_YA"
      },
      "outputs": [],
      "source": []
    },
    {
      "cell_type": "markdown",
      "metadata": {
        "id": "lghNgaIqKyYv"
      },
      "source": [
        "# Appendices"
      ]
    },
    {
      "cell_type": "markdown",
      "metadata": {
        "id": "OoSj8HO8amyx"
      },
      "source": [
        "## A. State Initialization Algorithms"
      ]
    },
    {
      "cell_type": "markdown",
      "metadata": {
        "id": "fj0HbcIramyx"
      },
      "source": [
        "$\\renewcommand{\\ket}[1]{|#1\\rangle}$\n",
        "$\\renewcommand{\\bra}[1]{\\langle #1|}$\n",
        "\n",
        "### Manual state preparation using Quantum Multiplexors\n",
        "\n",
        "The state preparation algorithm presented here is based on using the quantum multiplexor operations to transform an arbitrary state $\\ket{\\psi}=\\left(c_1,c_2,\\dots,c_{2^n}\\right)^\\top$ of an $n$-qubit quantum register into the vacuum state $\\ket{0} = \\left(1, 0, \\dots, 0\\right)^\\top$.\n",
        "\n",
        "\\begin{equation*}\n",
        "    \\mathcal{R}\\ket{\\psi} = \\ket{0}\n",
        "\\end{equation*}\n",
        "\n",
        "The state preparation is then performed by applying the inverse operator $\\ket{\\psi} = \\mathcal{R}^\\dagger\\ket{0}$.\n",
        "\n",
        "The operator $\\mathcal{R}$ is constructed in a recursive procedure with $n+1$ steps where the multiplexors $R^{(m)}$, $m=n,n-1,\\ldots,1$ are used in first consequtive $n$ steps and the last step involves the application of a diagonal unitary operation that eliminates an accumulated global phase. The multiplexors $R^{(m)}$ are constructed as multiplexed elementary qubit rotations along the $z$ and $y$ axes represented as block-diagonal unitary operations:\n",
        "\n",
        "\\begin{align*}\n",
        "    R^{(m)}\n",
        "    &= \\bigoplus\\limits_{k_1,k_2,\\dots,k_{m-1}\\in\\{0,1\\}}\n",
        "       R_y(-\\theta_{k_1 k_2 \\dots k_{m-1}}) R_z(-\\varphi_{k_1 k_2 \\dots k_{m-1}}) \\nonumber\\\\\n",
        "    &=\n",
        "       \\underbrace{\n",
        "       \\left[\n",
        "       \\bigoplus\\limits_{k_1,k_2,\\dots,k_{m-1}\\in\\{0,1\\}}R_y(-\\theta_{k_1 k_2 \\dots k_{m-1}})\n",
        "       \\right]\n",
        "       }_{R_y^{(m)}}\n",
        "       \\cdot\n",
        "       \\underbrace{\n",
        "       \\left[\n",
        "       \\bigoplus\\limits_{k_1,k_2,\\dots,k_{n-1}\\in\\{0,1\\}}R_z(-\\varphi_{k_1 k_2 \\dots k_{m-1}})\n",
        "       \\right]\n",
        "       }_{R_z^{(m)}}\n",
        "\\end{align*}\n",
        "\n",
        "where $2^{m-1}$ angles $\\varphi_{k_1 k_2 \\dots k_{m-1}}$ and $\\theta_{k_1 k_2 \\dots k_{m-1}}$ can be obtained from the corresponding complex amplitides at each step.\n",
        "\n",
        "The application of the multiplexed rotations is performed recursively without acting on already disentangled qubits, reducing the dimension by half in each iteration. After $n$ iterations, the resulting state will be a scalar multiple of the vacuum state $\\ket{00\\dots 0}$:\n",
        "\n",
        "\\begin{equation*}\n",
        "    (R^{(1)}\\otimes I^{\\otimes(n-1)})\\dots(R^{(n-2)}\\otimes I\\otimes I)(R^{(n-1)}\\otimes I)R^{(n)}\\ket{\\psi} = e^{\\mathrm{i}\\Phi}\\ket{0}\\otimes\\ket{0}\\otimes\\dots\\otimes\\ket{0}\n",
        "\\end{equation*}\n",
        "\n",
        "or\n",
        "\n",
        "\\begin{equation*}\n",
        "    \\prod\\limits_{m=1}^{n}\\left[R^{(m)}\\otimes I^{\\otimes(n-m)}\\right]\\ket{\\psi} = e^{\\mathrm{i}\\Phi}\\ket{00\\dots 0}\n",
        "\\end{equation*}\n",
        "\n",
        "where $I$ is the identity operator acting on a single qubit state.\n",
        "\n",
        "Thus the state preparation unitary operator is expressed as\n",
        "\n",
        "\\begin{equation*}\n",
        "    \\mathcal{R}^\\dagger = \\prod\\limits_{m=1}^{n}\\left[R^{(n-m+1)\\dagger}\\otimes I^{\\otimes(m-1)}\\right] e^{-\\mathrm{i}\\Phi}\n",
        "\\end{equation*}"
      ]
    },
    {
      "cell_type": "code",
      "execution_count": null,
      "metadata": {
        "id": "_tttjNUHamyx"
      },
      "outputs": [],
      "source": [
        "import numpy as np\n",
        "from scipy.linalg import block_diag\n",
        "\n",
        "def compute_bloch_angles(c0, c1):\n",
        "    \"\"\"\n",
        "    Computes the Bloch angles from the amplitudes of a given qubit state\n",
        "    c0*|0> + c1*|1>\n",
        "    \"\"\"\n",
        "    # Normalize the amplitudes\n",
        "    norm = np.sqrt(np.abs(c0)**2 + np.abs(c1)**2)\n",
        "    alpha = c0/norm\n",
        "    beta  = c1/norm\n",
        "\n",
        "    # Calculate the angle theta\n",
        "    theta = 2 * np.arccos(np.abs(alpha))\n",
        "\n",
        "    # Calculate the angle phi (difference in the phases of alpha and beta)\n",
        "    phi = np.angle(beta*np.conjugate(alpha)/np.abs(beta)/np.abs(alpha))\n",
        "\n",
        "    return theta, phi\n",
        "\n",
        "def rz_matrix(phi):\n",
        "    \"\"\"\n",
        "    Returns the rotation matrix R_z(phi) for a rotation around the z-axis by angle phi.\n",
        "    \"\"\"\n",
        "    return np.array([\n",
        "        [np.exp(-1j*phi/2), 0],\n",
        "        [0, np.exp(1j*phi/2)]\n",
        "    ])\n",
        "\n",
        "def ry_matrix(theta):\n",
        "    \"\"\"\n",
        "    Returns the rotation matrix R_y(theta) for a rotation around the y-axis by angle theta.\n",
        "    \"\"\"\n",
        "    return np.array([\n",
        "        [np.cos(theta/2), -np.sin(theta / 2)],\n",
        "        [np.sin(theta/2), np.cos(theta / 2)]\n",
        "    ])\n",
        "\n",
        "def is_power_of_two(n):\n",
        "    return n > 0 and (n & (n - 1)) == 0\n",
        "\n",
        "def multiplexor_matrix(n, vector, bit=0):\n",
        "    \"\"\"\n",
        "    Returns the matrix for a multiplexor R^(n) with n-1 control qubits;\n",
        "    _vector_ should be an numpy array with 2**n components;\n",
        "    _bit_ is value (0 or 1) of the desired unentangled bit;\n",
        "    \"\"\"\n",
        "    if bit!=0:\n",
        "        bit = 1\n",
        "\n",
        "    for i in np.arange(0,2**n,2):\n",
        "        c0 = vector[i]\n",
        "        c1 = vector[i+1]\n",
        "        theta, phi = compute_bloch_angles(c0, c1)\n",
        "        r_z = rz_matrix(-phi)\n",
        "        r_y = ry_matrix(bit*np.pi-theta)\n",
        "        r = r_y @ r_z\n",
        "        if i==0:\n",
        "            multiplexor = block_diag(r)\n",
        "        else:\n",
        "            multiplexor = block_diag(multiplexor,r)\n",
        "\n",
        "    return multiplexor\n",
        "\n",
        "def rotate_to_vacuum_matrix(vector_input):\n",
        "    \"\"\"\n",
        "    Returns the matrix for a total multiplexed operation\n",
        "    transforming a state given as vector_input into the vacuum state\n",
        "    vector_input should be an numpy array with 2**n components\n",
        "    \"\"\"\n",
        "    ndim = vector_input.size\n",
        "    if not is_power_of_two(ndim):\n",
        "        print(\"Dimension of the input state vector (\",ndim,\") should be a power of 2.\")\n",
        "        return\n",
        "    else:\n",
        "        n = int(np.log2(vector_input.size))\n",
        "\n",
        "    total_matrix = np.eye(ndim)\n",
        "\n",
        "    vector_k = vector_input.copy()\n",
        "    for k in np.arange(n,0,-1):\n",
        "\n",
        "        if k==n:\n",
        "            vector_pruned = vector_input.copy()\n",
        "        else:\n",
        "            vector_pruned = vector_new[::2]\n",
        "\n",
        "        multiplexor = multiplexor_matrix(k,vector_pruned)\n",
        "\n",
        "        if k==n:\n",
        "            multiplexor_padded = multiplexor\n",
        "        else:\n",
        "            multiplexor_padded = np.kron(multiplexor,np.eye(2*(n-k)))\n",
        "\n",
        "        total_matrix = np.matmul(multiplexor_padded,total_matrix)\n",
        "        vector_k = np.matmul(multiplexor_padded,vector_k)\n",
        "        vector_new = multiplexor.dot(vector_pruned)\n",
        "\n",
        "    phase_factor = vector_k[0]\n",
        "    total_matrix = np.conjugate(phase_factor)*total_matrix\n",
        "\n",
        "    return total_matrix\n",
        "\n",
        "def rotate_to_state_matrix(state, vector_input):\n",
        "    \"\"\"\n",
        "    Returns the matrix for a total multiplexed operation\n",
        "    transforming \"vector_input\" into the \"state\"\n",
        "    vector_input -- should be a numpy array with 2**n components\n",
        "    state -- should be a binary string of length n\n",
        "    \"\"\"\n",
        "    ndim = vector_input.size\n",
        "    if not is_power_of_two(ndim):\n",
        "        print(\"Dimension of the input state vector (\",ndim,\") should be a power of 2.\")\n",
        "        return\n",
        "    else:\n",
        "        n = int(np.log2(ndim))\n",
        "\n",
        "    total_matrix = np.eye(ndim)\n",
        "\n",
        "    vector_k = vector_input.copy()\n",
        "    bit = int(state[n-1])\n",
        "\n",
        "    for k in np.arange(n,0,-1):\n",
        "\n",
        "        if k==n:\n",
        "            vector_pruned = vector_input.copy()\n",
        "        else:\n",
        "            vector_pruned = vector_new[bit::2]\n",
        "\n",
        "        bit = int(state[k-1])\n",
        "        multiplexor = multiplexor_matrix(k,vector_pruned, bit)\n",
        "\n",
        "        if k==n:\n",
        "            multiplexor_padded = multiplexor\n",
        "        else:\n",
        "            multiplexor_padded = np.kron(multiplexor,np.eye(2*(n-k)))\n",
        "\n",
        "        total_matrix = multiplexor_padded @ total_matrix\n",
        "        vector_k = multiplexor_padded @ vector_k\n",
        "        vector_new = multiplexor @ vector_pruned\n",
        "\n",
        "    phase_factor = vector_new[bit]\n",
        "    total_matrix = np.conjugate(phase_factor)*total_matrix\n",
        "\n",
        "    return total_matrix"
      ]
    },
    {
      "cell_type": "markdown",
      "metadata": {
        "id": "UbqnXtdxcYTE"
      },
      "source": [
        "### Multiplexor rotations for a quantum register with 3 qubits"
      ]
    },
    {
      "cell_type": "code",
      "execution_count": null,
      "metadata": {
        "id": "Yo9HplflcaIz"
      },
      "outputs": [],
      "source": [
        "from numpy import linalg as LA\n",
        "\n",
        "# number of qubits and total dimension\n",
        "nq = 3\n",
        "ndim = 2**nq\n",
        "\n",
        "# initialize a random state of the system\n",
        "state_vector = (2*np.random.rand(8) - 1) * np.exp(1j*2*np.pi*np.random.rand(8))\n",
        "state_vector /= LA.norm(state_vector)\n",
        "\n",
        "for i in range(ndim):\n",
        "    print('|',bin(i)[2:].zfill(nq),'> ',state_vector[i])\n",
        "\n",
        "r3 = multiplexor_matrix(3, state_vector)\n",
        "v3 = np.dot(r3,state_vector)\n",
        "print('\\nR3*v3\\n',v3.reshape(-1,1))\n",
        "\n",
        "r2 = multiplexor_matrix(2,v3[::2])\n",
        "v2 = np.dot(r2,v3[::2])\n",
        "print('\\nR2*v2\\n',v2.reshape(-1,1))\n",
        "\n",
        "r1 = multiplexor_matrix(1,v2[::2])\n",
        "v1 = np.dot(r1,v2[::2])\n",
        "print('\\nR1*v1\\n',v1.reshape(-1,1))\n",
        "\n",
        "print(\"\\n Target state:\\n\",state_vector.reshape(-1,1))\n",
        "mrot = rotate_to_vacuum_matrix(state_vector)\n",
        "\n",
        "rot_vector = mrot.dot(state_vector)\n",
        "print(\"\\n Rotated target state (should be the vacuum state):\\n\",  rot_vector.reshape(-1,1))\n",
        "\n",
        "back_vector = np.conjugate(mrot.T).dot(rot_vector)\n",
        "print(\"\\n Vacuum state rotated back (should match the target state):\\n\", back_vector.reshape(-1,1))"
      ]
    },
    {
      "cell_type": "markdown",
      "metadata": {
        "id": "OA-Jo1TdFtYU"
      },
      "source": [
        "## B. Decomposition of an Arbitrary Unitary Gate"
      ]
    },
    {
      "cell_type": "markdown",
      "metadata": {
        "id": "vZ9gxeo4FtYU"
      },
      "source": [
        "### Decomposition with Givens Rotations"
      ]
    },
    {
      "cell_type": "code",
      "execution_count": null,
      "metadata": {
        "id": "h_j8LHSAFtYU"
      },
      "outputs": [],
      "source": [
        "import numpy as np\n",
        "import graycode\n",
        "\n",
        "def GivensRotation(i, j, k, A):\n",
        "    \"\"\"\n",
        "    Constructs a Givens rotation matrix that zeros out A[j,i] by rotating rows j and k\n",
        "    Indices i, j, k are zero-based (Python convention)\n",
        "    Parameters:\n",
        "    i (int): Column index (0-based)\n",
        "    j (int): Row index to be zeroed (element A[j,i])\n",
        "    k (int): Row index to rotate with (element A[k,i])\n",
        "    A (ndarray): The matrix A (NumPy array)\n",
        "\n",
        "    Returns:\n",
        "    The Givens rotation matrix (ndarray)\n",
        "    \"\"\"\n",
        "    ndim = A.shape[0]\n",
        "    iGjk = np.identity(ndim, dtype=A.dtype)\n",
        "    aji = A[j, i]\n",
        "    if aji == 0:\n",
        "        return iGjk\n",
        "    aki = A[k, i]\n",
        "    norm = np.sqrt(abs(aji)**2 + abs(aki)**2)\n",
        "    iGjk[k, k] = np.conj(aki) / norm\n",
        "    iGjk[j, j] = aki / norm\n",
        "    iGjk[k, j] = np.conj(aji) / norm\n",
        "    iGjk[j, k] = -aji / norm\n",
        "    return iGjk\n",
        "\n",
        "def Gmatrix(U, gray=False, print_sequence=False):\n",
        "    \"\"\"\n",
        "    Computes a transformation matrix R based on Givens rotations applied to U.\n",
        "    Parameters:\n",
        "    U (ndarray): A square NumPy array representing the matrix U.\n",
        "    Returns:\n",
        "    ndarray: The transformation matrix R@Uphase.\n",
        "    \"\"\"\n",
        "    ndim = U.shape[0]\n",
        "    n = int(np.log2(ndim))\n",
        "    R = np.identity(ndim, dtype=U.dtype)\n",
        "\n",
        "    # Compute the phase adjustment to make the determinant of Uphase @ U real\n",
        "    detU = np.linalg.det(U)\n",
        "    argDetU = np.angle(detU)\n",
        "    phase_factor = np.exp(-1j * argDetU / ndim)\n",
        "    Uphase = phase_factor * np.identity(ndim, dtype=U.dtype)\n",
        "\n",
        "    # Adjust U with the phase factor\n",
        "    Um = Uphase @ U\n",
        "\n",
        "    # Perform Givens rotations to zero out below-diagonal elements\n",
        "    if print_sequence:\n",
        "        print(\"U = D\", end=' ')\n",
        "    for i in range(ndim - 1):  # i from 0 to ndim-2\n",
        "        for j in range(ndim - 1, i, -1):  # j from ndim-1 down to i+1\n",
        "            if gray:\n",
        "                ii = graycode.gen_gray_codes(n)[i]\n",
        "                jj = graycode.gen_gray_codes(n)[j]\n",
        "                kk = graycode.gen_gray_codes(n)[j-1]\n",
        "            else:\n",
        "                ii = i\n",
        "                jj = j\n",
        "                kk = j-1\n",
        "            if print_sequence:\n",
        "                print(f\"G^+[{ii+1},{jj+1},{kk+1}]\", end=' ')\n",
        "            RG = GivensRotation(ii, jj, kk, Um)\n",
        "            R = RG @ R\n",
        "            Um = RG @ Um\n",
        "\n",
        "    if print_sequence:\n",
        "        print()\n",
        "        print(f\"D = {np.conjugate(phase_factor)}*I\")\n",
        "\n",
        "    return R @ Uphase"
      ]
    },
    {
      "cell_type": "markdown",
      "metadata": {
        "id": "IUjat1HLFtYU"
      },
      "source": [
        "### Decomposition of a Random $[4\\times 4]$ Unitary"
      ]
    },
    {
      "cell_type": "code",
      "execution_count": null,
      "metadata": {
        "id": "NGpnVAJaFtYU"
      },
      "outputs": [],
      "source": [
        "from scipy.stats import unitary_group\n",
        "\n",
        "def print_nicely(matrix):\n",
        "    for row in matrix:\n",
        "        for element in row:\n",
        "            print(f\"{element:15.4f}\", end=\" \")\n",
        "        print()\n",
        "\n",
        "# Example: [4x4] random unitary matrix U\n",
        "ndim = 4\n",
        "U = unitary_group.rvs(ndim)\n",
        "print(\"\\nTarget unitary matrix U:\")\n",
        "print(  \"------------------------\")\n",
        "print_nicely(U)\n",
        "\n",
        "# Compute the transformation matrix using the Gray code ordering\n",
        "print(\"\\nDecomposition:\")\n",
        "print(  \"--------------\")\n",
        "RU = Gmatrix(U,gray=True, print_sequence=True)\n",
        "U_transformed = RU @ U\n",
        "\n",
        "# Verify the result (depends on your specific use case)\n",
        "print(\"\\nTransformed Matrix R @ U (should be identity matrix):\")\n",
        "print(  \"-----------------------------------------------------\")\n",
        "print_nicely(U_transformed)"
      ]
    }
  ],
  "metadata": {
    "colab": {
      "collapsed_sections": [
        "ZN42Wmv6FtYG",
        "nKVw-cTpvfnl",
        "pAT4uJul46VE"
      ],
      "provenance": []
    },
    "kernelspec": {
      "display_name": "base",
      "language": "python",
      "name": "python3"
    },
    "language_info": {
      "codemirror_mode": {
        "name": "ipython",
        "version": 3
      },
      "file_extension": ".py",
      "mimetype": "text/x-python",
      "name": "python",
      "nbconvert_exporter": "python",
      "pygments_lexer": "ipython3",
      "version": "3.10.16"
    }
  },
  "nbformat": 4,
  "nbformat_minor": 0
}