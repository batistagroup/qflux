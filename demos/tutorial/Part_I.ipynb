{
 "cells": [
  {
   "cell_type": "markdown",
   "metadata": {
    "id": "DQ1YDFxRFtYB"
   },
   "source": [
    "# Installation of external packages"
   ]
  },
  {
   "cell_type": "code",
   "execution_count": null,
   "metadata": {
    "colab": {
     "base_uri": "https://localhost:8080/"
    },
    "executionInfo": {
     "elapsed": 9017,
     "status": "ok",
     "timestamp": 1749613539799,
     "user": {
      "displayName": "Batista Colab",
      "userId": "04968770630191453479"
     },
     "user_tz": 240
    },
    "id": "lyKYvO0F-TLV",
    "outputId": "65a3181e-06e1-4bc7-c1ef-f068ac35588f"
   },
   "outputs": [],
   "source": [
    "!pip install numpy==1.23.5    # version compatible with qiskit\n",
    "!pip install qutip==5.0.3\n",
    "!pip install tqdm==4.66.5"
   ]
  },
  {
   "cell_type": "markdown",
   "metadata": {
    "id": "ZN42Wmv6FtYG"
   },
   "source": [
    "# Standard imports"
   ]
  },
  {
   "cell_type": "code",
   "execution_count": null,
   "metadata": {
    "executionInfo": {
     "elapsed": 81,
     "status": "ok",
     "timestamp": 1749613543498,
     "user": {
      "displayName": "Batista Colab",
      "userId": "04968770630191453479"
     },
     "user_tz": 240
    },
    "id": "a8khrlY1-gCI"
   },
   "outputs": [],
   "source": [
    "import numpy as np\n",
    "import matplotlib.pyplot as plt\n",
    "from matplotlib import axes\n",
    "from tqdm.notebook import trange"
   ]
  },
  {
   "cell_type": "markdown",
   "metadata": {
    "id": "nKVw-cTpvfnl"
   },
   "source": [
    "# Constants and unit conversion factors"
   ]
  },
  {
   "cell_type": "code",
   "execution_count": null,
   "metadata": {
    "executionInfo": {
     "elapsed": 2,
     "status": "ok",
     "timestamp": 1749613547268,
     "user": {
      "displayName": "Batista Colab",
      "userId": "04968770630191453479"
     },
     "user_tz": 240
    },
    "id": "gTOvl95b7Ar8"
   },
   "outputs": [],
   "source": [
    "au2ev = 27.21138602\n",
    "ev2au = 1/au2ev\n",
    "bohr2au = 0.52917721092\n",
    "au2bohr = 1/bohr2au\n",
    "fs2au = 41.3414\n",
    "au2fs = 1/fs2au\n",
    "\n",
    "mass_proton = 1836.15 # proton mass in units of electron mass"
   ]
  },
  {
   "cell_type": "markdown",
   "metadata": {
    "id": "YNM4GQo8yTFd",
    "jp-MarkdownHeadingCollapsed": true
   },
   "source": [
    "# Section 3. Workflow for Quantum Dynamics Simulations"
   ]
  },
  {
   "cell_type": "markdown",
   "metadata": {
    "id": "SG6TB_Vc94A7"
   },
   "source": [
    "## Section 3.1. Quantum Dynamics of a Harmonic Oscillator"
   ]
  },
  {
   "cell_type": "markdown",
   "metadata": {
    "id": "pAT4uJul46VE"
   },
   "source": [
    "### QuTiP propagation of the coherent state in harmonic potential\n",
    "\n",
    "Before we look at doing Quantum Dynamics on a quantum computer, we'll start out by looking at some ways that we can do quantum dynamics on a classical computer! This is an important step as it will familiarize you with the general ingredients of a quantum dynamics simulation and will also provide us with a means of validating the results obtained from a quantum computer.\n",
    "\n",
    "We begin by showing a simple example of how to compute dynamics of an initial state using QuTiP's mesolve() function. When we run dynamics, we must do the following:\n",
    "\n",
    "1. **Define the initial state** $\\left| \\alpha \\right\\rangle$. In this example, our initial state is defined as a coherent state with amplitude $\\alpha = x_{0} + i p_{0}$, which can be expressed in the Fock Basis as:\n",
    "     \n",
    "    $$ \\left| \\alpha \\right\\rangle = \\sum_{n=0}^\\infty\\frac{\\alpha^{n}}{\\sqrt{n!}} e^{-\\frac{1}{2}\\left| \\alpha \\right|^{2}} \\left| n \\right\\rangle $$\n",
    "     \n",
    "2. **Define the Hamiltonian** $H$. In this example, our Hamiltonian is the familiar quantum harmonic oscillator Hamiltonian, defined in terms of creation and annihilation operators as:\n",
    "\n",
    "$$ H =  \\hbar \\omega \\left( \\hat{a}^{\\dagger} \\hat{a} + \\frac{1}{2} \\right) $$\n",
    "\n",
    "3. **Define the propagation time step $t$ and the number of time steps $n$ for which to compute the wavefunction.**\n",
    "\n",
    "4. **Compute the time-evolved wavefunction at each step as:**\n",
    "\n",
    "$$ \\left| \\alpha (t_{i+1}) \\right\\rangle = e^{-\\frac{i}{\\hbar} H t} \\left| \\alpha(t_{i}) \\right\\rangle $$\n",
    "\n",
    "<!-- **Note:** For a coherent state, the time evolution within the harmonic oscillator takes the form of:\n",
    "\n",
    "$$  \\begin{align*}\n",
    "        \\left| \\psi (t) \\right\\rangle &= e^{-\\frac{1}{2} \\left| \\alpha \\right|^{2}} \\sum_{n=0}^{\\infty} \\frac{\\alpha_{0}^{n}}{\\sqrt{n!}} e^{- i \\omega \\left( n + \\frac{1}{2} \\right) t} \\left| n \\right\\rangle \\\\\n",
    "                                      &= e^{- i \\omega t /2} e^{-\\frac{1}{2} \\left| \\alpha \\right|^{2}} \\sum_{n=0}^{\\infty} \\frac{\\left( \\alpha_{0} e^{- i \\omega t} \\right)^{n}}{\\sqrt{n!}} \\left| n \\right\\rangle \\\\\n",
    "    \\end{align*}\n",
    "$$ -->\n"
   ]
  },
  {
   "cell_type": "code",
   "execution_count": null,
   "metadata": {
    "colab": {
     "base_uri": "https://localhost:8080/"
    },
    "executionInfo": {
     "elapsed": 2229,
     "status": "ok",
     "timestamp": 1749613554963,
     "user": {
      "displayName": "Batista Colab",
      "userId": "04968770630191453479"
     },
     "user_tz": 240
    },
    "id": "gfA4yiBd9au9",
    "outputId": "b1f30422-6b50-42f6-c06d-2df9d86729ec"
   },
   "outputs": [],
   "source": [
    "import qutip as qt\n",
    "\n",
    "# Define the Number of States in Fock Basis\n",
    "N = 128\n",
    "a = qt.destroy(N)  # Define annihilation operator\n",
    "\n",
    "# Define the Initial State:\n",
    "x_0 = 1.00   # Initial Position\n",
    "p_0 = 0.00   # Initial Momentum\n",
    "\n",
    "# Define a coherent state with amplitude alpha\n",
    "psi_0 = qt.coherent(N, alpha=(x_0 + 1.j*p_0)/np.sqrt(2))\n",
    "\n",
    "# Define the Hamiltonian:\n",
    "mass = 1     # mass = 1.0\n",
    "hbar = 1     # hbar = 1.0\n",
    "omega = 1.0  # Oscillator frequency\n",
    "\n",
    "x = qt.position(N) # Should be equivalent to (a + a.dag())/np.sqrt(2.)\n",
    "p = qt.momentum(N)\n",
    "\n",
    "H_hoxp = p**2/(2*mass) + mass*omega**2*x**2/2   # Harmonic Oscillator Hamiltonian\n",
    "H_ho = hbar*omega*(a.dag()*a + 1./2.)   # Harmonic Oscillator Hamiltonian\n",
    "\n",
    "# Define the propagation time array with n_steps from 0 to total_time\n",
    "n_steps = 400   # Number of time steps\n",
    "total_time = 20 # Total Propagation time\n",
    "\n",
    "# Define the list of times for which we calculate dynamics.\n",
    "tlist = np.linspace(0, total_time, n_steps)\n",
    "\n",
    "# Run dynamics!\n",
    "solver_options = {'nsteps': len(tlist), 'progress_bar': True}\n",
    "result = qt.sesolve(H_ho, psi_0, tlist, [], [], options=solver_options)"
   ]
  },
  {
   "cell_type": "markdown",
   "metadata": {
    "id": "FdQ-_ZeX-Otc"
   },
   "source": [
    "### Plotting Expectation Values\n",
    "\n",
    "<!-- One of the useful things we can do with the result of our quantum dynamics calculation is compute expectation values.\n",
    "\n",
    "For example, we can consider some expectation values of our initial states:\n",
    "\n",
    "Recall that: $\\hat{a} | \\alpha\\ \\rangle = \\alpha | \\alpha \\rangle \\ \\ \\ \\textrm{ and } \\ \\ \\ \\langle \\alpha | \\hat{a}^{\\dagger} = \\alpha^{*} \\langle \\alpha |$\n",
    "\n",
    "\n",
    "Then the expected position of our initial state can be computed as:\n",
    "\n",
    "\n",
    "\\begin{split}\n",
    "\\left \\langle \\hat{X} \\right \\rangle & = \\left \\langle \\alpha \\middle| \\frac{1}{\\sqrt{2}} \\left( \\hat{a} + \\hat{a}^{\\dagger} \\right) \\middle| \\alpha \\right \\rangle \\\\\n",
    "& = \\frac{1}{\\sqrt{2}} \\left( \\left \\langle \\alpha \\middle| \\hat{a} \\middle| \\alpha \\right \\rangle + \\left \\langle \\alpha \\middle| \\hat{a}^{\\dagger} \\middle| \\alpha \\right \\rangle \\right) \\\\\n",
    "& = \\frac{1}{\\sqrt{2}} \\left( \\alpha + \\alpha^{*} \\right) \\\\\n",
    "& = \\sqrt{2}  \\ \\mathbf{Re}\\left[ \\alpha \\right]\n",
    "\\end{split}\n",
    "\n",
    "We can do the same for the momentum:\n",
    "\n",
    "\\begin{split}\n",
    "\\left \\langle \\hat{P} \\right \\rangle & = \\frac{- i \\hbar}{\\sqrt{2}} \\left \\langle \\alpha \\middle| \\left( \\hat{a} - \\hat{a}^{\\dagger} \\right) \\middle| \\alpha \\right \\rangle \\\\\n",
    "& = \\frac{- i \\hbar}{\\sqrt{2}} \\left( \\left \\langle \\alpha \\middle| \\hat{a} \\middle| \\alpha \\right \\rangle - \\left \\langle \\alpha \\middle| \\hat{a}^{\\dagger} \\middle| \\alpha \\right \\rangle \\right) \\\\\n",
    "& = \\frac{- i \\hbar}{\\sqrt{2}} \\left( \\alpha - \\alpha^{*} \\right) \\\\\n",
    "& = \\sqrt{2} \\hbar \\ \\mathbf{Im} \\left[ \\alpha \\right]\n",
    "\\end{split} -->"
   ]
  },
  {
   "cell_type": "code",
   "execution_count": null,
   "metadata": {
    "executionInfo": {
     "elapsed": 11,
     "status": "ok",
     "timestamp": 1749613554978,
     "user": {
      "displayName": "Batista Colab",
      "userId": "04968770630191453479"
     },
     "user_tz": 240
    },
    "id": "RFwWACL39kTF"
   },
   "outputs": [],
   "source": [
    "X_op = (a.dag() + a)/np.sqrt(2)\n",
    "P_op = 1j*(a.dag() - a)/np.sqrt(2)\n",
    "\n",
    "#exp_x_qtxp = qt.expect(X_op, resultxp.states)\n",
    "#exp_p_qtxp = qt.expect(P_op, resultxp.states)\n",
    "exp_x_qt = qt.expect(X_op, result.states)\n",
    "exp_p_qt = qt.expect(P_op, result.states)\n",
    "\n",
    "exp_x_ana = [ x_0*np.cos(omega*t) + (p_0/mass/omega)*np.sin(omega*t) for t in tlist]\n",
    "exp_p_ana = [ p_0*np.cos(omega*t) -x_0*omega*mass*np.sin(omega*t)  for t in tlist]"
   ]
  },
  {
   "cell_type": "code",
   "execution_count": null,
   "metadata": {
    "colab": {
     "base_uri": "https://localhost:8080/",
     "height": 465
    },
    "executionInfo": {
     "elapsed": 471,
     "status": "ok",
     "timestamp": 1749613555452,
     "user": {
      "displayName": "Batista Colab",
      "userId": "04968770630191453479"
     },
     "user_tz": 240
    },
    "id": "qWfmRltn9sgO",
    "outputId": "a1b103c2-54bf-4a28-e343-892ff1919a9e"
   },
   "outputs": [],
   "source": [
    "tlist = np.linspace(0, total_time, n_steps)\n",
    "fig, ax = plt.subplots()\n",
    "ax.plot(tlist, exp_x_ana, '-', color='blue', label='<x> analytical', zorder=0)\n",
    "ax.plot(tlist[::4], exp_x_qt[::4], 'o', color='blue', label='<x> QuTiP', zorder=0, markeredgecolor='blue', fillstyle='full', markerfacecolor='white')\n",
    "ax.plot(tlist, exp_p_ana, '-', color='red',label='<p> analytical', zorder=2)\n",
    "ax.plot(tlist[::4], exp_p_qt[::4], 'o', color='red',label='<p> QuTip', zorder=2, markeredgecolor='red', fillstyle='full', markerfacecolor='white')\n",
    "ax.axhline(-1, ls='--', lw=0.5, color='black', alpha=0.5)\n",
    "ax.axhline( 0, ls='--', lw=0.5, color='black', alpha=0.5)\n",
    "ax.axhline( 1, ls='--', lw=0.5, color='black', alpha=0.5)\n",
    "ax.set_xlabel('time, a.u.', fontsize=14)\n",
    "ax.set_ylabel('Expectation value', fontsize=14)\n",
    "ax.tick_params(labelsize=12, grid_alpha=0.5)\n",
    "plt.ylim(-1.5,2.)\n",
    "plt.legend(fontsize=12,loc='upper center', ncol=2)\n",
    "plt.show()"
   ]
  },
  {
   "cell_type": "markdown",
   "metadata": {
    "id": "M1D6WvyESuLn"
   },
   "source": [
    "## Section 3.2. Split-Operator Fourier Transform (SOFT) Method\n",
    "\n",
    "Here, we compute the time-evolution of a wavepacket defined in the position basis ($\\psi(x)$) according to the Split-Operator Fourier Transform (SOFT) method. This differs slightly from the approach utilized in the last section in the following ways:\n",
    "\n",
    "- As mentioned above, we will describe the wavefunction in terms of the position. To do this, we must define a closed range of positions $x$ and momenta $p$ and discretize over some finite number of points (analagous to the finite number of Fock states considered above).\n",
    "- We will compute the time evolution as:\n",
    "$$ \\left| \\psi (t) \\right\\rangle =  e^{- \\frac{i}{\\hbar} {H} t} \\left| \\psi(0) \\right\\rangle $$\n",
    "Writing $H$ in terms of Kinetic and Potential energy $H = T + V$:\n",
    "$$ \\begin{align*}\n",
    "        \\left| \\psi (t) \\right\\rangle &\\approx \\lim\\limits_{N\\to\\infty} \\left[e^{\\frac{-ip^2t}{2m\\hbar N}}\\ e^{\\frac{-i{V}({x})t}{\\hbar N}}\\right]^N \\space |\\psi(0)\\rangle \\\\\n",
    "                                  &\\approx\\lim\\limits_{N\\to\\infty} \\left[e^{\\frac{-i{V}({x})t}{2\\hbar N}}\\space e^{\\frac{-ip^2t}{2m\\hbar N}}\\space e^{\\frac{-i{V}({x})t}{2\\hbar N}}\\right]^N \\space |\\psi(0)\\rangle   \n",
    "% Inserting closure and writing in the plane-wave basis:\n",
    "%     \\left| \\psi (x, t) \\right\\rangle &= \\int d x_0 \\space \\langle x_t | e^{\\frac{-iĤt}{\\hbar}} | x_0 \\rangle \\space \\langle x_0 | \\psi(0) \\rangle\n",
    "    \\end{align*}\n",
    "$$\n",
    "    \n",
    "Propagation for a single timestep is then:\n",
    "$$\\psi(x,\\frac{t_{i+1}}{N}) =\n",
    "\\overbrace{\\vphantom{\\int \\frac{dp}{\\sqrt{2\\hbar}} e^{\\frac{-iV(x)p^{2}}{2 \\hbar N}}} e^{\\frac{-iV(x)t}{2\\hbar N}} }^\\textrm{P.E. Propagator} \\ \\cdot \\\n",
    "\\overbrace{\\vphantom{\\int \\frac{dp}{\\sqrt{2\\hbar}} e^{\\frac{-iV(x)p^{2}}{2 \\hbar N}}} \\color{blue}   {\\int \\frac{dp}{\\sqrt{2\\pi\\hbar}} \\ e^{\\frac{-ipx}{\\hbar}}}}^\\textrm{Inverse Fourier Transform} \\ \\cdot\n",
    "\\overbrace{\\vphantom{\\int \\frac{dp}{\\sqrt{2\\hbar}} e^{\\frac{-iV(x)p^{2}}{2 \\hbar N}}} \\ e^{\\frac{-ip^2t}{2m\\hbar N}}}^\\textrm{K.E. Propagator} \\ \\cdot \\\n",
    "\\overbrace{\\vphantom{\\int \\frac{dp}{\\sqrt{2\\hbar}} e^{\\frac{-iV(x)p^{2}}{2 \\hbar N}}} \\color{purple}{\\int \\frac{dx}{\\sqrt{2\\pi\\hbar}} \\ e^{\\frac{ ipx}{\\hbar}}}}^\\textrm{Fourier Transform} \\ \\cdot \\\n",
    "\\overbrace{\\vphantom{\\int \\frac{dp}{\\sqrt{2\\hbar}} e^{\\frac{-iV(x)p^{2}}{2 \\hbar N}}}\\ e^{\\frac{-iV(x)t}{2\\hbar N}} }^\\textrm{P.E. Propagator} \\ \\cdot \\ \\psi(x,t_{i})\n",
    "$$\n",
    "\n",
    "The Fourier and inverse Fourier transforms are used to convert between the position and momentum basis. To translate the formula above, the algorithm will consist of 5 steps per iteration:\n",
    "\n",
    "1. Apply a half step of the potential energy propagator to the initial state.\n",
    "2. Fourier transform into the momentum basis.\n",
    "3. Apply a full step of the kinetic energy propagator on the momentum basis.\n",
    "4. Inverse Fourier transform back into the coordinate basis.\n",
    "5. Apply the second half step of the potential energy propagator.\n",
    "\n",
    "This is done with the following code:\n",
    "\n",
    "```python\n",
    "# SOFT propagation\n",
    "def soft(psi,pot_prop,kin_prop):\n",
    "    out=pot_prop*psi              # Apply P.E. propagator\n",
    "    out=kin_prop*np.fft.fft(out)  # FT and apply K.E. propagator\n",
    "    out=pot_prop*np.fft.ifft(out) # IFT and Apply P.E. propagator\n",
    "    return out\n",
    "```\n",
    "Note that here we must define our coherent state in the coordinate representation:\n",
    "\n",
    "$$ \\psi_{0} = \\left( \\tfrac{m \\omega}{\\pi \\hbar} \\right)^{1/4} e^{- \\tfrac{m \\omega}{2 \\hbar} \\left( x - x_{0} \\right)^{2} + \\tfrac{i}{\\hbar} p_{0} x } $$"
   ]
  },
  {
   "cell_type": "markdown",
   "metadata": {
    "id": "0rReAi7yvpRy"
   },
   "source": [
    "### Grids in position and momentum spaces"
   ]
  },
  {
   "cell_type": "markdown",
   "metadata": {
    "id": "6jti5JdBwCvg"
   },
   "source": [
    "### More functions\n",
    "\n",
    "**Coherent state** for a harmonic oscillator in position representation:\n",
    "$$\n",
    "\\langle{x}|\\alpha\\rangle = \\psi^{(\\alpha)}(x) =\n",
    "\\left(\\dfrac{m\\omega}{\\pi\\hbar}\\right)^{1/4}\n",
    "\\exp\\left[\n",
    " -\\dfrac{m\\omega}{2\\hbar}\n",
    "  \\left(x - \\sqrt{\\dfrac{2\\hbar}{m\\omega}}\\mathcal{Re}[\\alpha]\\right)^2\n",
    " +\\dfrac{\\text{i}}{\\hbar}\\sqrt{2m\\omega\\hbar}\\mathcal{Im}[\\alpha]x\n",
    "  \\right]\n",
    "$$\n",
    "where\n",
    "$$\n",
    "\\langle x\\rangle = \\sqrt{\\dfrac{2\\hbar}{m\\omega}}\\,\\mathcal{Re}[\\alpha] \\\\\n",
    "\\langle p\\rangle = \\vphantom{\\sqrt{\\dfrac{2\\hbar}{m\\omega}}}\\sqrt{2m\\omega\\hbar}\\,\\mathcal{Im}[\\alpha]\n",
    "$$\n",
    "\n",
    "are the expectation values of the position and momentum, respectively.\n",
    "\n",
    "**Probability density in position representation**:\n",
    "$$\n",
    "\\rho(x) = \\langle \\psi|x\\rangle\\langle x|\\psi\\rangle = \\psi^*(x)\\,\\psi(x)\n",
    "$$\n",
    "\n",
    "**Propagator (evolution operator)**:\n",
    "$$\n",
    "\\hat{U}(\\tau) = e^{-\\frac{\\text{i}}{\\hbar}\\hat{H}\\tau}\n",
    "$$"
   ]
  },
  {
   "cell_type": "code",
   "execution_count": null,
   "metadata": {
    "executionInfo": {
     "elapsed": 45,
     "status": "ok",
     "timestamp": 1749613572528,
     "user": {
      "displayName": "Batista Colab",
      "userId": "04968770630191453479"
     },
     "user_tz": 240
    },
    "id": "vVZwAq3aSzNh"
   },
   "outputs": [],
   "source": [
    "def get_xgrid(xmin, xmax, N_pts):\n",
    "    dx = (xmax - xmin)/N_pts\n",
    "    xgrid = np.arange(-N_pts/2, N_pts/2)*dx\n",
    "    return xgrid\n",
    "\n",
    "def get_pgrid(xmin, xmax, N_pts, reorder=True):\n",
    "    dp = 2 * np.pi / (xmax-xmin)\n",
    "    pmin = -dp * N_pts / 2\n",
    "    pmax = dp * N_pts / 2\n",
    "    plus_pgrid = np.linspace(0, pmax, N_pts//2+1)\n",
    "    minus_pgrid = - np.flip(np.copy(plus_pgrid))\n",
    "    if reorder:\n",
    "        pgrid = np.concatenate((plus_pgrid[:-1], minus_pgrid[:-1]))\n",
    "    else:\n",
    "        pgrid = np.concatenate((minus_pgrid, plus_pgrid))\n",
    "    return pgrid\n",
    "\n",
    "def get_coherent_state(x, p_0, x_0, mass=1, omega=1, hbar=1):\n",
    "    #Generate the initial wavefunction (psi0).\n",
    "    normalization = (mass*omega/np.pi/hbar)**(0.25)\n",
    "    y = normalization*np.exp(-1*(mass*omega/hbar/2)*((x-x_0)**2)+1j*p_0*x/hbar)\n",
    "    return y\n",
    "\n",
    "def get_prob_density(psi):\n",
    "    return np.real(np.conjugate(psi) * psi)\n",
    "\n",
    "\n",
    "def get_kinetic_energy(p, mass=1):\n",
    "    return  p**2/2/mass\n",
    "\n",
    "\n",
    "def get_propagator_on_grid(operator_grid, tau, hbar=1):\n",
    "    '''\n",
    "        operator_grid: a numpy array, expressing the operator on a grid\n",
    "        tau: the time step for propagation (in atomic units of time), should be a small number\n",
    "    '''\n",
    "    return np.exp(-1.0j * operator_grid * tau / hbar)\n",
    "\n",
    "\n",
    "def do_SOFT_propagation(psi, K_prop, V_prop):\n",
    "    # np.fft.fft and np.fft.ifft requires specific ordering of outputs/inputs\n",
    "    psi_t_position_grid = V_prop * psi\n",
    "    psi_t_momentum_grid = K_prop * np.fft.fft(psi_t_position_grid, norm=\"ortho\")\n",
    "    psi_t = V_prop * np.fft.ifft(psi_t_momentum_grid, norm=\"ortho\")\n",
    "    return psi_t\n",
    "\n",
    "\n",
    "def position_expectation_value(xgrid, psi):\n",
    "    dx = xgrid[1]-xgrid[0]\n",
    "    return dx*np.real(np.sum(xgrid * np.conjugate(psi) * psi))\n",
    "\n",
    "\n",
    "def momentum_expectation_value(dx,pgrid, psi):\n",
    "    psip = np.fft.fft(psi)\n",
    "    return dx*np.real(np.sum(pgrid * np.conjugate(psip) * psip))/len(psi)\n",
    "\n"
   ]
  },
  {
   "cell_type": "markdown",
   "metadata": {
    "id": "9Go8eiJpNGvN"
   },
   "source": [
    "### SOFT propagation of a coherent state in harmonic potential"
   ]
  },
  {
   "cell_type": "code",
   "execution_count": null,
   "metadata": {
    "colab": {
     "base_uri": "https://localhost:8080/",
     "height": 465
    },
    "executionInfo": {
     "elapsed": 248,
     "status": "ok",
     "timestamp": 1749613578199,
     "user": {
      "displayName": "Batista Colab",
      "userId": "04968770630191453479"
     },
     "user_tz": 240
    },
    "id": "_Htez2DNNOD2",
    "outputId": "58a4e322-d7f9-40ae-aa01-832f68b25d60"
   },
   "outputs": [],
   "source": [
    "def get_harmonic_potential(x, x_0=0.0, mass=1, omega=1):\n",
    "    return mass * omega**2 * (x - x_0)**2 / 2\n",
    "\n",
    "\n",
    "xmin = -7.0\n",
    "xmax = 7.0\n",
    "N_pts = 128\n",
    "\n",
    "# mass of the particle in units of electron mass\n",
    "mass = 1.0\n",
    "\n",
    "# frequency of the harmonic oscillator (in atomic units)\n",
    "omega = 1.0\n",
    "\n",
    "# grid preparation and spacing\n",
    "xgrid = get_xgrid(xmin, xmax, N_pts)\n",
    "dx = xgrid[1] - xgrid[0]\n",
    "# Momentum Grid\n",
    "pgrid = get_pgrid(xmin, xmax, N_pts, reorder=True)\n",
    "\n",
    "# operators\n",
    "Vx_harm = get_harmonic_potential(xgrid)\n",
    "K_harm = get_kinetic_energy(pgrid, mass)\n",
    "\n",
    "# initial coherent state - ground state Gaussian centered at x_0 = 1\n",
    "x_0 = 1.0\n",
    "p_0 = 0.0\n",
    "psi_0 = get_coherent_state(xgrid, p_0, x_0, mass, omega)\n",
    "\n",
    "# checking potential and initial coherent state\n",
    "fig, ax = plt.subplots()\n",
    "ax.plot(xgrid, Vx_harm - omega/2, '-',color='black',label='Harmonic potential')\n",
    "ax.plot(xgrid, np.real(get_prob_density(psi_0)),'--',color='red',label='Initial coherent state')\n",
    "ax.axhline(0, ls='--', lw=0.5, color='black', alpha=1.0)\n",
    "ax.axvline(0, ls='--', lw=0.5, color='black', alpha=0.5)\n",
    "ax.axvline(1, ls='--', lw=0.5, color='red', alpha=0.5)\n",
    "ax.set_xlabel('x, Bohr',fontsize=14)\n",
    "ax.set_ylabel('Energy, Hartrees',fontsize=14)\n",
    "ax.tick_params(labelsize=12, grid_alpha=0.5)\n",
    "plt.ylim(-0.6,1.0)\n",
    "plt.xlim(-3,4)\n",
    "plt.legend(fontsize=12,loc='upper left',framealpha=1.0)\n",
    "plt.show()"
   ]
  },
  {
   "cell_type": "code",
   "execution_count": null,
   "metadata": {
    "colab": {
     "base_uri": "https://localhost:8080/",
     "height": 66,
     "referenced_widgets": [
      "5f33fa2117364caaa4526f9d7bbb42dd",
      "4ff6c6c44bc747f3a8b75c4c7570dfa3",
      "a7b7eef7170d4e6c8ef44e551a246a9e",
      "3a854f2693fa4b28b13c9a2d765a888d",
      "f8f49eea82ed4245a21946806af15bba",
      "6222c76b478245c9860f8e2e9d10826c",
      "007d64323bea479d817f0748d8002cd2",
      "054e9280b3bc4e0c9957937eb57a484f",
      "7332655911ba472e802fbdd0cabe83a5",
      "d2a06e0eb8c94a41817a5a2253270e1c",
      "f416eff119c04f9e8a9347bf55e02d2f"
     ]
    },
    "executionInfo": {
     "elapsed": 56,
     "status": "ok",
     "timestamp": 1749613581884,
     "user": {
      "displayName": "Batista Colab",
      "userId": "04968770630191453479"
     },
     "user_tz": 240
    },
    "id": "t014W_GJReal",
    "outputId": "506971b7-260d-46c4-bb82-e2e8aeba1be0"
   },
   "outputs": [],
   "source": [
    "tmin = 0.0\n",
    "tmax = 20.0\n",
    "N_tsteps = 400\n",
    "\n",
    "# grid preparation and spacing\n",
    "tgrid = np.linspace(tmin, tmax, N_tsteps)\n",
    "tau = tgrid[1] - tgrid[0]\n",
    "\n",
    "print(\"For \", tmax, \" a.u. using a timestep of \",tau,\" a.u.\")\n",
    "\n",
    "V_prop = get_propagator_on_grid(Vx_harm/2, tau)\n",
    "K_prop = get_propagator_on_grid(K_harm, tau)\n",
    "\n",
    "propagated_states_harm = [psi_0]\n",
    "psi_t = psi_0\n",
    "for tstep_idx in trange(len(tgrid)):\n",
    "    psi_t = do_SOFT_propagation(psi_t, K_prop, V_prop)\n",
    "    propagated_states_harm.append(psi_t)\n",
    "\n",
    "propagated_states_harm = np.array(propagated_states_harm)[:-1]"
   ]
  },
  {
   "cell_type": "code",
   "execution_count": null,
   "metadata": {
    "colab": {
     "base_uri": "https://localhost:8080/",
     "height": 465
    },
    "executionInfo": {
     "elapsed": 272,
     "status": "ok",
     "timestamp": 1749613585532,
     "user": {
      "displayName": "Batista Colab",
      "userId": "04968770630191453479"
     },
     "user_tz": 240
    },
    "id": "kgaup4OJUJeS",
    "outputId": "6c7f53e8-b0bf-4d9d-ef1c-50f08645bd8b"
   },
   "outputs": [],
   "source": [
    "fig, ax = plt.subplots()\n",
    "ax.plot(xgrid, Vx_harm - omega/2, '-',color='black',label='Harmonic potential')\n",
    "ax.plot(xgrid, np.real(get_prob_density(psi_0)),'--',color='red',label='Initial coherent state')\n",
    "ax.plot(xgrid, np.real(get_prob_density(propagated_states_harm[200])),'-',color='blue',label='State at t = 10 a.u.')\n",
    "ax.axhline(0, ls='--', lw=0.5, color='black', alpha=1.0)\n",
    "ax.axvline(0, ls='--', lw=0.5, color='black', alpha=0.5)\n",
    "ax.axvline(1, ls='--', lw=0.5, color='red', alpha=0.5)\n",
    "ax.set_xlabel('x, Bohr',fontsize=14)\n",
    "ax.set_ylabel('Energy, Hartrees',fontsize=14)\n",
    "ax.tick_params(labelsize=12, grid_alpha=0.5)\n",
    "plt.ylim(-0.6,1.2)\n",
    "plt.xlim(-4,4)\n",
    "plt.legend(fontsize=12,loc='upper left',framealpha=1.0)\n",
    "plt.show()"
   ]
  },
  {
   "cell_type": "markdown",
   "metadata": {
    "id": "zuNUHowuWSMk"
   },
   "source": [
    "#### Position and momentum expectation values"
   ]
  },
  {
   "cell_type": "code",
   "execution_count": null,
   "metadata": {
    "executionInfo": {
     "elapsed": 2,
     "status": "ok",
     "timestamp": 1749613590096,
     "user": {
      "displayName": "Batista Colab",
      "userId": "04968770630191453479"
     },
     "user_tz": 240
    },
    "id": "Y3ClPiko_m3V"
   },
   "outputs": [],
   "source": [
    "def calculate_expectation_values(dynamics_results, observable_grid, do_FFT=False, dx=None):\n",
    "    '''\n",
    "    Function to calculate the time-dependent expectation value of an observable O defined on a grid.\n",
    "    Inputs:\n",
    "\n",
    "        - `dynamics_results`: np.ndarray of wavefunctions/propagated states with shape: (n_steps, nx)\n",
    "        - `observable_grid`: np.array of observable\n",
    "    '''\n",
    "    if dx:\n",
    "        d_observable = dx\n",
    "    else:\n",
    "        d_observable = observable_grid[1] - observable_grid[0]\n",
    "    if do_FFT:\n",
    "        psi_list = np.fft.fft(dynamics_results, axis=1, norm='ortho')\n",
    "    else:\n",
    "        psi_list = dynamics_results\n",
    "    # Compute the expectation value.\n",
    "    expectation  = np.real(np.sum(psi_list.conj()*observable_grid*psi_list*d_observable, axis=1))\n",
    "\n",
    "    return(expectation)"
   ]
  },
  {
   "cell_type": "code",
   "execution_count": null,
   "metadata": {
    "colab": {
     "base_uri": "https://localhost:8080/",
     "height": 465
    },
    "executionInfo": {
     "elapsed": 315,
     "status": "ok",
     "timestamp": 1749613594786,
     "user": {
      "displayName": "Batista Colab",
      "userId": "04968770630191453479"
     },
     "user_tz": 240
    },
    "id": "-MZFB7ivWQkQ",
    "outputId": "c0d605bb-4fe0-4ba2-9478-ddf2173089fc"
   },
   "outputs": [],
   "source": [
    "avxgrid_harm_soft = [position_expectation_value(xgrid,propagated_states_harm[i]) for i in range(len(propagated_states_harm))]\n",
    "dx = xgrid[1]-xgrid[0]\n",
    "avpgrid_harm_soft = [momentum_expectation_value(dx,pgrid,propagated_states_harm[i]) for i in range(len(propagated_states_harm))]\n",
    "\n",
    "avxgrid_harm_soft_b = calculate_expectation_values(propagated_states_harm, xgrid)\n",
    "avpgrid_harm_soft_b = calculate_expectation_values(propagated_states_harm, pgrid, do_FFT=True, dx=dx)\n",
    "\n",
    "avxgrid_harm_ana = [ x_0*np.cos(omega*t) + (p_0/mass/omega)*np.sin(omega*t) for t in tgrid]\n",
    "avpgrid_harm_ana = [ -x_0*omega*mass*np.sin(omega*t) + p_0*np.cos(omega*t) for t in tgrid]\n",
    "\n",
    "fig, ax = plt.subplots()\n",
    "ax.plot(tgrid, avxgrid_harm_ana, '-', color='blue',label='<x> analytical', zorder=0)\n",
    "ax.plot(tgrid[::4], avxgrid_harm_soft[::4], 'o', color='blue',label='<x> SOFT', zorder=0, markeredgecolor='blue', fillstyle='full', markerfacecolor='white')\n",
    "#ax.plot(tgrid[::4], avxgrid_harm_soft_b[::4], 'x', color='k',label='<x> bSOFT', zorder=0, markeredgecolor='blue', fillstyle='full', markerfacecolor='white')\n",
    "ax.plot(tgrid, avpgrid_harm_ana, '-', color='red',label='<p> analytical')\n",
    "ax.plot(tgrid[::4], avpgrid_harm_soft[::4], 'o', color='red',label='<p> SOFT', markeredgecolor='red', fillstyle='full', markerfacecolor='white', zorder=0)\n",
    "#ax.plot(tgrid[::4], avpgrid_harm_soft_b[::4], 'x', color='k',label='<p> bSOFT', zorder=0, markeredgecolor='red', fillstyle='full', markerfacecolor='white')\n",
    "\n",
    "ax.axhline(-1, ls='--', lw=0.5, color='black', alpha=0.5)\n",
    "ax.axhline( 0, ls='--', lw=0.5, color='black', alpha=0.5)\n",
    "ax.axhline( 1, ls='--', lw=0.5, color='black', alpha=0.5)\n",
    "ax.set_xlabel('time, a.u.', fontsize=14)\n",
    "ax.set_ylabel('Expectation value', fontsize=14)\n",
    "ax.tick_params(labelsize=12, grid_alpha=0.5)\n",
    "plt.ylim(-1.5,2)\n",
    "plt.legend(fontsize=12,loc='upper center', ncol=2)\n",
    "plt.show()"
   ]
  },
  {
   "cell_type": "markdown",
   "metadata": {
    "id": "4xcJbAGyLq1O"
   },
   "source": [
    "### SOFT propagation of a coherent state in the double-well potential for A-T DNA base pair"
   ]
  },
  {
   "cell_type": "markdown",
   "metadata": {
    "id": "gdZP2RVgfhFa"
   },
   "source": [
    "#### Setting up double-well potential for A-T base pair"
   ]
  },
  {
   "cell_type": "code",
   "execution_count": null,
   "metadata": {
    "colab": {
     "base_uri": "https://localhost:8080/",
     "height": 465
    },
    "executionInfo": {
     "elapsed": 351,
     "status": "ok",
     "timestamp": 1749613598895,
     "user": {
      "displayName": "Batista Colab",
      "userId": "04968770630191453479"
     },
     "user_tz": 240
    },
    "id": "nWIQ5hfPvqXP",
    "outputId": "ed844b7d-7df2-4396-fbb2-a2f7f30638fb"
   },
   "outputs": [],
   "source": [
    "def get_doublewell_potential(x, x0=1.9592, f=ev2au, a0=0.0, a1=0.429, a2=-1.126, a3=-0.143, a4=0.563):\n",
    "    # A-T pair double-well potential in Hartrees (x is in Bohr)\n",
    "    xi = x/x0\n",
    "    return f*(a0 + a1*xi + a2*xi**2 + a3*xi**3 + a4*xi**4)\n",
    "\n",
    "\n",
    "def get_doublewell_potential_second_deriv(x, x0=1.9592, f=ev2au, a0=0.0, a1=0.429, a2=-1.126, a3=-0.143, a4=0.563):\n",
    "    # A-T pair double-well potential in Hartrees (x is in Bohr)\n",
    "    return f*(2*a2/x0**2 + 6*a3*x/x0**3 + 12*a4*x**2/x0**4)\n",
    "\n",
    "\n",
    "x0 = 1.9592\n",
    "xmin = -4.\n",
    "xmax = 4.\n",
    "Nq = 6\n",
    "N_xpts = 2**Nq\n",
    "\n",
    "# mass of the proton in units of electron mass\n",
    "mass = mass_proton\n",
    "\n",
    "# frequency corresponding to the right well (in atomic units)\n",
    "omega = np.sqrt(get_doublewell_potential_second_deriv(x0)/mass)\n",
    "\n",
    "# grid preparation and spacing\n",
    "xgrid = get_xgrid(xmin, xmax, N_xpts)\n",
    "pgrid = get_pgrid(xmin, xmax, N_xpts, reorder=True)\n",
    "\n",
    "dx = xgrid[1] - xgrid[0]\n",
    "dp = pgrid[1] - pgrid[0]\n",
    "# operators\n",
    "Vx_DW = get_doublewell_potential(xgrid)\n",
    "K_DW = get_kinetic_energy(pgrid, mass)\n",
    "\n",
    "# initial coherent state in the right well centered at x/x0 = 1.5\n",
    "x_0 = 1.5*x0\n",
    "p_0 = 0.0\n",
    "psi_0 = get_coherent_state(xgrid, p_0, x_0, mass, omega)\n",
    "\n",
    "# checking potential and initial coherent state\n",
    "fig, ax = plt.subplots()\n",
    "ax.plot(xgrid, Vx_DW - get_doublewell_potential(x0) - omega/2, '-',color='black',label='A-T pair potential')\n",
    "ax.plot(xgrid, 0.02*np.real(get_prob_density(psi_0)),'--',color='red',label='Initial coherent state')\n",
    "ax.axhline(0, lw=0.5, color='black', alpha=1.0)\n",
    "ax.axvline(-x0, lw=0.5, color='black', alpha=0.5)\n",
    "ax.axvline(x0, lw=0.5, color='black', alpha=0.5)\n",
    "ax.axvline(x0*1.5, lw=0.5, color='red', alpha=0.5)\n",
    "ax.set_xlabel('x, Bohr',fontsize=14)\n",
    "ax.set_ylabel('Energy, Hartrees',fontsize=14)\n",
    "ax.tick_params(labelsize=12, grid_alpha=0.5)\n",
    "plt.ylim(-0.03,0.06)\n",
    "plt.legend(fontsize=12,loc='upper center')\n",
    "plt.show()"
   ]
  },
  {
   "cell_type": "markdown",
   "metadata": {
    "id": "cY7PvGTFfsb8"
   },
   "source": [
    "#### Time propagation"
   ]
  },
  {
   "cell_type": "code",
   "execution_count": null,
   "metadata": {
    "colab": {
     "base_uri": "https://localhost:8080/",
     "height": 66,
     "referenced_widgets": [
      "63c4cf0047484b9d95babddacadbef96",
      "cbf9e32927d342f5a68c209d359417f3",
      "b0a05fdae360465db5e59a031b1c232e",
      "ee58fa00f18b46688caf6cf7af08bb97",
      "a7bbab9807bb43cfb574d1c05a41fbef",
      "55be6755b5494bfca3ebbabe646abaa2",
      "fa8db89cea0849c49912074627eec85f",
      "18d093bf38bc4a5eaa42dfde910e32fe",
      "a0272ed7c0ef4fd18bc021f2a3250763",
      "cf3384aef5c540f7be7058b4d040c43b",
      "6569b46ccc404da89093bd9c59d2c8eb"
     ]
    },
    "executionInfo": {
     "elapsed": 125,
     "status": "ok",
     "timestamp": 1749613604520,
     "user": {
      "displayName": "Batista Colab",
      "userId": "04968770630191453479"
     },
     "user_tz": 240
    },
    "id": "C8PnRjSZY_Ta",
    "outputId": "3b483501-c856-4509-d506-af1361592b2e"
   },
   "outputs": [],
   "source": [
    "tmin = 0.0\n",
    "tmax = 30.0*fs2au\n",
    "N_tsteps = 3000\n",
    "\n",
    "# grid preparation and spacing\n",
    "tgrid = np.linspace(tmin, tmax, N_tsteps)\n",
    "tau = tgrid[1] - tgrid[0]\n",
    "\n",
    "print(\"For \",tmax*au2fs,\" fs using a timestep of \",tau*au2fs,\" fs = \",tau,\" a.u.\")\n",
    "\n",
    "V_prop = get_propagator_on_grid(Vx_DW/2, tau)\n",
    "K_prop = get_propagator_on_grid(K_DW, tau)\n",
    "\n",
    "propagated_states = [psi_0]\n",
    "psi_t = psi_0\n",
    "\n",
    "for tstep_idx in trange(len(tgrid)):\n",
    "    psi_t = do_SOFT_propagation(psi_t, K_prop, V_prop)\n",
    "    propagated_states.append(psi_t)\n",
    "\n",
    "propagated_states = np.array(propagated_states)[:-1]"
   ]
  },
  {
   "cell_type": "code",
   "execution_count": null,
   "metadata": {
    "colab": {
     "base_uri": "https://localhost:8080/",
     "height": 458
    },
    "executionInfo": {
     "elapsed": 276,
     "status": "ok",
     "timestamp": 1749613607731,
     "user": {
      "displayName": "Batista Colab",
      "userId": "04968770630191453479"
     },
     "user_tz": 240
    },
    "id": "KZwa3g6KclHg",
    "outputId": "07394026-d82e-495e-938d-f100e51651a2"
   },
   "outputs": [],
   "source": [
    "from scipy.interpolate import interp1d\n",
    "\n",
    "x_1024 = np.linspace(xgrid[0], xgrid[-1], 1024)\n",
    "f_interp = interp1d(xgrid, get_prob_density(propagated_states[-1]), kind='cubic')\n",
    "rho_interp = f_interp(x_1024)\n",
    "\n",
    "fig, ax = plt.subplots()\n",
    "ax.plot(xgrid, Vx_DW - get_doublewell_potential(x0) - omega/2, '-',color='black',label='A-T pair potential')\n",
    "ax.plot(xgrid, 0.04*np.real(get_prob_density(psi_0)),'--',color='red',label='Initial coherent state')\n",
    "#ax.plot(xgrid, 0.04*np.real(get_prob_density(propagated_states[-1])),'-',color='blue',label=f'State at t = {tmax*au2fs} fs')\n",
    "ax.plot(x_1024, 0.04*rho_interp,'-',color='blue',label=f'State at t = {tmax*au2fs} fs')\n",
    "ax.axhline(0, lw=0.5, color='black', alpha=1.0)\n",
    "ax.axvline(-x0, lw=0.5, color='black', alpha=0.5)\n",
    "ax.axvline(x0, lw=0.5, color='black', alpha=0.5)\n",
    "ax.axvline(x0*1.5, lw=0.5, color='red', alpha=0.5)\n",
    "ax.set_xlabel('x, Bohr',fontsize=14)\n",
    "ax.set_ylabel('Energy, Hartrees',fontsize=14)\n",
    "ax.tick_params(labelsize=12, grid_alpha=0.5)\n",
    "plt.ylim(-0.03,0.07)\n",
    "plt.legend(fontsize=12,loc='upper center')\n",
    "plt.show()"
   ]
  },
  {
   "cell_type": "markdown",
   "metadata": {
    "id": "k0NouSLe9Qpm"
   },
   "source": [
    "#### Time evolution of the position expectation value"
   ]
  },
  {
   "cell_type": "code",
   "execution_count": null,
   "metadata": {
    "colab": {
     "base_uri": "https://localhost:8080/",
     "height": 465
    },
    "executionInfo": {
     "elapsed": 341,
     "status": "ok",
     "timestamp": 1749613611596,
     "user": {
      "displayName": "Batista Colab",
      "userId": "04968770630191453479"
     },
     "user_tz": 240
    },
    "id": "X6IKI-9w9dGO",
    "outputId": "ddf61506-7ba7-4f66-c831-a60711943df2"
   },
   "outputs": [],
   "source": [
    "avxgrid = [position_expectation_value(xgrid,propagated_states[i]) for i in range(len(propagated_states))]\n",
    "avxgrid = calculate_expectation_values(propagated_states, xgrid)\n",
    "fig, ax = plt.subplots()\n",
    "ax.plot(tgrid*au2fs, avxgrid, '-', color='blue',label='<x> SOFT')\n",
    "ax.axhline(-x0, ls='--', lw=0.5, color='black', alpha=0.5)\n",
    "ax.axhline( x0, ls='--', lw=0.5, color='black', alpha=0.5)\n",
    "plt.text(20, x0-0.1, 'Reactant well', fontsize = 12, backgroundcolor='white')\n",
    "plt.text(5, -x0-0.1, 'Product well', fontsize = 12, backgroundcolor='white')\n",
    "ax.set_xlabel('time, fs', fontsize=14)\n",
    "ax.set_ylabel('<x>, Bohr', fontsize=14)\n",
    "ax.tick_params(labelsize=12, grid_alpha=0.5)\n",
    "plt.ylim(-3,4)\n",
    "plt.legend(fontsize=12,loc='upper right')\n",
    "plt.show()"
   ]
  },
  {
   "cell_type": "markdown",
   "metadata": {
    "id": "Jgfk8u02xnSe"
   },
   "source": [
    "# 4. Introduction to Qubit based simulations"
   ]
  },
  {
   "cell_type": "code",
   "execution_count": null,
   "metadata": {
    "colab": {
     "base_uri": "https://localhost:8080/"
    },
    "executionInfo": {
     "elapsed": 20754,
     "status": "ok",
     "timestamp": 1749613636968,
     "user": {
      "displayName": "Batista Colab",
      "userId": "04968770630191453479"
     },
     "user_tz": 240
    },
    "id": "SCOD6mnor_uV",
    "jupyter": {
     "outputs_hidden": true
    },
    "outputId": "a2a5e936-919e-4334-afae-1dbe5591a458"
   },
   "outputs": [],
   "source": [
    "!pip install qiskit==1.2.0\n",
    "!pip install qiskit-ibm-runtime==0.28.0\n",
    "!pip install qiskit-aer==0.15.0"
   ]
  },
  {
   "cell_type": "markdown",
   "metadata": {
    "id": "lYRTKcox-JUo"
   },
   "source": [
    "## 4.1. Quantum Split-Operator Fourier Transform (QSOFT) Method"
   ]
  },
  {
   "cell_type": "code",
   "execution_count": null,
   "metadata": {
    "executionInfo": {
     "elapsed": 759,
     "status": "ok",
     "timestamp": 1749613646340,
     "user": {
      "displayName": "Batista Colab",
      "userId": "04968770630191453479"
     },
     "user_tz": 240
    },
    "id": "14Ow5x8V0Dq5"
   },
   "outputs": [],
   "source": [
    "# Utility Functions/Patches:\n",
    "\n",
    "from qiskit import QuantumCircuit, transpile\n",
    "from qiskit_aer import Aer\n",
    "\n",
    "\n",
    "def execute(QCircuit, backend=None, shots=None):\n",
    "    '''\n",
    "        Function to replace the now-deprecated Qiskit\n",
    "        `QuantumCircuit.execute()` method.\n",
    "\n",
    "        Input:\n",
    "          - `QCircuit`: qiskit.QuantumCircuit object\n",
    "          - `Backend`: qiskit.Backend instance\n",
    "          - `shots`: int specifying the number of shots\n",
    "    '''\n",
    "    # Transpile circuit with statevector backend\n",
    "    tmp_circuit = transpile(QCircuit, backend)\n",
    "    # Run the transpiled circuit\n",
    "    if shots:\n",
    "        job = backend.run(tmp_circuit, n_shots=shots)\n",
    "    else:\n",
    "        job = backend.run(tmp_circuit)\n",
    "    return(job)"
   ]
  },
  {
   "cell_type": "code",
   "execution_count": null,
   "metadata": {
    "executionInfo": {
     "elapsed": 830,
     "status": "ok",
     "timestamp": 1749613649545,
     "user": {
      "displayName": "Batista Colab",
      "userId": "04968770630191453479"
     },
     "user_tz": 240
    },
    "id": "dJxHS1Zg-LVJ"
   },
   "outputs": [],
   "source": [
    "import scipy.linalg as LA\n",
    "from qiskit.circuit.library import QFT\n",
    "from qiskit_aer import Aer\n",
    "from qiskit import QuantumCircuit, ClassicalRegister, QuantumRegister\n",
    "from qiskit.quantum_info.operators import Operator\n",
    "from qiskit_ibm_runtime import QiskitRuntimeService, Options\n",
    "from qiskit_ibm_runtime import SamplerV2 as Sampler\n",
    "from tqdm.notebook import trange\n",
    "np.set_printoptions(linewidth=110)"
   ]
  },
  {
   "cell_type": "code",
   "execution_count": null,
   "metadata": {
    "executionInfo": {
     "elapsed": 5,
     "status": "ok",
     "timestamp": 1749613651566,
     "user": {
      "displayName": "Batista Colab",
      "userId": "04968770630191453479"
     },
     "user_tz": 240
    },
    "id": "hdzOP7r2-NkQ"
   },
   "outputs": [],
   "source": [
    "d = Nq   # number of qubits\n",
    "mass = 1836.15\n",
    "x0 = 1.9592\n",
    "xMin = -4.\n",
    "xMax =  4.\n",
    "\n",
    "N = 2**d\n",
    "\n",
    "# frequency corresponding to the right well (in atomic units)\n",
    "omega = np.sqrt(get_doublewell_potential_second_deriv(x0)/mass)\n",
    "\n",
    "# double-well potential\n",
    "VV = get_doublewell_potential(xgrid) - get_doublewell_potential(x0) - omega/2"
   ]
  },
  {
   "cell_type": "code",
   "execution_count": null,
   "metadata": {
    "executionInfo": {
     "elapsed": 17,
     "status": "ok",
     "timestamp": 1749613654150,
     "user": {
      "displayName": "Batista Colab",
      "userId": "04968770630191453479"
     },
     "user_tz": 240
    },
    "id": "LzNql6iYOWJJ"
   },
   "outputs": [],
   "source": [
    "# initial coherent state in the right well centered at x/x0 = 1.5\n",
    "x_0 = 1.5*x0\n",
    "p_0 = 0.0\n",
    "psi = get_coherent_state(xgrid, p_0, x_0, mass, omega)*np.sqrt(dx)"
   ]
  },
  {
   "cell_type": "code",
   "execution_count": null,
   "metadata": {
    "executionInfo": {
     "elapsed": 2,
     "status": "ok",
     "timestamp": 1749613656562,
     "user": {
      "displayName": "Batista Colab",
      "userId": "04968770630191453479"
     },
     "user_tz": 240
    },
    "id": "9BCyUbxM-UMg"
   },
   "outputs": [],
   "source": [
    "# time propagation parameters\n",
    "tmin = 0.0\n",
    "tmax = 30.0*fs2au\n",
    "iterations = 3000\n",
    "\n",
    "# time grid preparation and spacing\n",
    "tgrid = np.linspace(tmin, tmax, iterations)\n",
    "time_step = tgrid[1] - tgrid[0]\n",
    "\n",
    "# propagators (note that potential energy is divided by two)\n",
    "VVd_prop = np.diag(np.exp(-1j*VV/2*time_step))\n",
    "KEd_prop = np.diag(np.exp(-1j*pgrid**2/2/mass*time_step))"
   ]
  },
  {
   "cell_type": "code",
   "execution_count": null,
   "metadata": {
    "colab": {
     "base_uri": "https://localhost:8080/",
     "height": 49,
     "referenced_widgets": [
      "604ca6548f6e48faafcfb08cfb4d0f19",
      "070edc4c547e4b2b88db87c6d03a193d",
      "7ba34aace26c413b8875988cd77fd162",
      "ca1ec59ba57346468d3498747ce5fe81",
      "223060c6b9724e5aa2c3163f50b526c2",
      "bbf4eec0776d4e2798e10b3a8f906e54",
      "bc4b51035f3d4b16abf4482c8322d980",
      "82a29e4ad30441f8ae41f31de7835461",
      "0f2767e9e78442d9840cf0c686763b48",
      "4e69328a8d154634b3abbc7092c38fa0",
      "6836a988e8574162b80d6ed9afc7216f"
     ]
    },
    "executionInfo": {
     "elapsed": 32629,
     "status": "ok",
     "timestamp": 1749613692828,
     "user": {
      "displayName": "Batista Colab",
      "userId": "04968770630191453479"
     },
     "user_tz": 240
    },
    "id": "DOaMMRCJ-V66",
    "outputId": "ebb361e0-2e5e-4b66-bdf7-96dd23bbc2ae"
   },
   "outputs": [],
   "source": [
    "# Initialize an Empty Circuit\n",
    "nqubits = d\n",
    "q_reg = QuantumRegister(nqubits)\n",
    "c_reg = ClassicalRegister(nqubits)\n",
    "qc = QuantumCircuit(q_reg)\n",
    "\n",
    "qc.initialize(psi, q_reg[:],normalize=True)\n",
    "\n",
    "# Assemble the circuit for the entire time evolution\n",
    "for k in trange(iterations):\n",
    "    bound_op = Operator(VVd_prop)\n",
    "    qc.append(bound_op, q_reg)\n",
    "    qc.append(QFT(d,do_swaps=True,inverse=False),q_reg)\n",
    "    bound_op = Operator(KEd_prop)\n",
    "    qc.append(bound_op, q_reg)\n",
    "    qc.append(QFT(d,do_swaps=True,inverse=True),q_reg)\n",
    "    bound_op = Operator(VVd_prop)\n",
    "    qc.append(bound_op, q_reg)"
   ]
  },
  {
   "cell_type": "code",
   "execution_count": null,
   "metadata": {
    "executionInfo": {
     "elapsed": 15951,
     "status": "ok",
     "timestamp": 1749613727295,
     "user": {
      "displayName": "Batista Colab",
      "userId": "04968770630191453479"
     },
     "user_tz": 240
    },
    "id": "gH1UFuRS0gZx"
   },
   "outputs": [],
   "source": [
    "backend = Aer.get_backend('statevector_simulator')\n",
    "executed_circuit = execute(qc, backend=backend, shots=1024)"
   ]
  },
  {
   "cell_type": "code",
   "execution_count": null,
   "metadata": {
    "executionInfo": {
     "elapsed": 8332,
     "status": "ok",
     "timestamp": 1749613737127,
     "user": {
      "displayName": "Batista Colab",
      "userId": "04968770630191453479"
     },
     "user_tz": 240
    },
    "id": "LAjvR_7o1Aav"
   },
   "outputs": [],
   "source": [
    "psin = executed_circuit.result().get_statevector().data"
   ]
  },
  {
   "cell_type": "code",
   "execution_count": null,
   "metadata": {
    "colab": {
     "base_uri": "https://localhost:8080/",
     "height": 458
    },
    "executionInfo": {
     "elapsed": 267,
     "status": "ok",
     "timestamp": 1749613739404,
     "user": {
      "displayName": "Batista Colab",
      "userId": "04968770630191453479"
     },
     "user_tz": 240
    },
    "id": "THP00ElVRbne",
    "outputId": "cf8cdcb0-1b28-4012-b8e8-c02583e8ce2a"
   },
   "outputs": [],
   "source": [
    "from scipy.interpolate import interp1d\n",
    "\n",
    "x_dense = np.linspace(xgrid[0], xgrid[-1], 512)\n",
    "f_interp = interp1d(xgrid, get_prob_density(propagated_states[-1]), kind='cubic')\n",
    "rho_interp = f_interp(x_dense)\n",
    "\n",
    "fig, ax = plt.subplots()\n",
    "ax.plot(xgrid, Vx_DW - get_doublewell_potential(x0) - omega/2, '-',color='black',label='A-T pair potential')\n",
    "ax.plot(xgrid, 0.04*np.real(get_prob_density(psi_0)),'--',color='red',label='Initial coherent state')\n",
    "#ax.plot(xgrid, 0.04*np.real(get_prob_density(propagated_states[-1])),'-',color='blue',label='(SOFT) State at t = 30 fs',zorder=0,markeredgecolor='blue',fillstyle='full',markerfacecolor='white')\n",
    "ax.plot(x_dense, 0.04*rho_interp,'-',color='blue',label='(SOFT) State at t = 30 fs',zorder=0,markeredgecolor='blue',fillstyle='full',markerfacecolor='white')\n",
    "ax.plot(xgrid, 0.04*np.real(psin.conj()*psin/dx),'o',color='blue',label='(Qiskit) State at t = 30 fs', markevery=1, alpha=0.25)\n",
    "ax.axhline(0, lw=0.5, color='black', alpha=1.0)\n",
    "ax.axvline(-x0, lw=0.5, color='black', alpha=0.5)\n",
    "ax.axvline(x0, lw=0.5, color='black', alpha=0.5)\n",
    "ax.axvline(x0*1.5, lw=0.5, color='red', alpha=0.5)\n",
    "ax.set_xlabel('x, Bohr',fontsize=14)\n",
    "ax.set_ylabel('Energy, Hartrees',fontsize=14)\n",
    "ax.tick_params(labelsize=12, grid_alpha=0.5)\n",
    "plt.ylim(-0.03,0.07)\n",
    "plt.legend(fontsize=12,loc='upper center')\n",
    "plt.show()"
   ]
  },
  {
   "cell_type": "markdown",
   "metadata": {
    "id": "95SB4-ak7dog"
   },
   "source": [
    "## 4.6. Quantum Dynamics of the System with Two Spins on an IBM Quantum Computer"
   ]
  },
  {
   "cell_type": "code",
   "execution_count": null,
   "metadata": {
    "executionInfo": {
     "elapsed": 44,
     "status": "ok",
     "timestamp": 1749613815993,
     "user": {
      "displayName": "Batista Colab",
      "userId": "04968770630191453479"
     },
     "user_tz": 240
    },
    "id": "2cbEGfYg-lcW"
   },
   "outputs": [],
   "source": [
    "J = 1\n",
    "h0 = -0.5\n",
    "h1 = 0.5\n",
    "X = np.array([[0,1],[1,0]], dtype = complex)\n",
    "Y = np.array([[0,1j],[1j,0]], dtype = complex)\n",
    "Z = np.array([[1,0],[0,-1]], dtype = complex)\n",
    "I = np.array([[1,0],[0,1]], dtype = complex)\n",
    "H = 0.5 * (h0 * np.kron(Z, I) + h1 * np.kron(I, Z)) + J / 4 * (np.kron(X, X) + np.kron(Y, Y) + np.kron(Z, Z))\n",
    "U = LA.expm(-1j * H)"
   ]
  },
  {
   "cell_type": "code",
   "execution_count": null,
   "metadata": {
    "executionInfo": {
     "elapsed": 7,
     "status": "ok",
     "timestamp": 1749613818325,
     "user": {
      "displayName": "Batista Colab",
      "userId": "04968770630191453479"
     },
     "user_tz": 240
    },
    "id": "pqbMOk_S-ovy"
   },
   "outputs": [],
   "source": [
    "psi_init = np.array([1,0,0,0],dtype = complex)\n",
    "psi_fin = U @ psi_init"
   ]
  },
  {
   "cell_type": "code",
   "execution_count": null,
   "metadata": {
    "executionInfo": {
     "elapsed": 7,
     "status": "ok",
     "timestamp": 1749613820994,
     "user": {
      "displayName": "Batista Colab",
      "userId": "04968770630191453479"
     },
     "user_tz": 240
    },
    "id": "B3nxyU6W-sUn"
   },
   "outputs": [],
   "source": [
    "qreg=QuantumRegister(2) # qreg is filled with two qubits\n",
    "creg=ClassicalRegister(2, name='creg') # creg is filled with two classical bits\n",
    "entangler=QuantumCircuit(qreg,creg) # we put together our qreg and creg to make our Quantum Circuit, called entangler here.\n",
    "#entangler.initialize(psi_init)  #Not necessary since we start at |00>"
   ]
  },
  {
   "cell_type": "code",
   "execution_count": null,
   "metadata": {
    "colab": {
     "base_uri": "https://localhost:8080/"
    },
    "executionInfo": {
     "elapsed": 9,
     "status": "ok",
     "timestamp": 1749613824426,
     "user": {
      "displayName": "Batista Colab",
      "userId": "04968770630191453479"
     },
     "user_tz": 240
    },
    "id": "mNlkz9OA-u-X",
    "outputId": "75392ddf-695c-4bfb-e139-654ac4b99436"
   },
   "outputs": [],
   "source": [
    "U_gate = Operator(U)\n",
    "entangler.append(U_gate,[0,1])"
   ]
  },
  {
   "cell_type": "code",
   "execution_count": null,
   "metadata": {
    "colab": {
     "base_uri": "https://localhost:8080/"
    },
    "executionInfo": {
     "elapsed": 8,
     "status": "ok",
     "timestamp": 1749613832205,
     "user": {
      "displayName": "Batista Colab",
      "userId": "04968770630191453479"
     },
     "user_tz": 240
    },
    "id": "Ri1H8-PC-xBV",
    "outputId": "919ab03f-20d1-4a8f-acd2-9a77e4ba5462"
   },
   "outputs": [],
   "source": [
    "entangler.measure(0,0) # measure the first qubit and record it in the first classical bit\n",
    "entangler.measure(1,1)"
   ]
  },
  {
   "cell_type": "code",
   "execution_count": null,
   "metadata": {
    "colab": {
     "base_uri": "https://localhost:8080/",
     "height": 122
    },
    "executionInfo": {
     "elapsed": 22,
     "status": "ok",
     "timestamp": 1749613834075,
     "user": {
      "displayName": "Batista Colab",
      "userId": "04968770630191453479"
     },
     "user_tz": 240
    },
    "id": "0LpmGKZc-y9x",
    "outputId": "8f145390-0fb5-4b70-aa98-8f7e456faf56"
   },
   "outputs": [],
   "source": [
    "entangler.draw()"
   ]
  },
  {
   "cell_type": "code",
   "execution_count": null,
   "metadata": {
    "executionInfo": {
     "elapsed": 2,
     "status": "ok",
     "timestamp": 1749613918420,
     "user": {
      "displayName": "Batista Colab",
      "userId": "04968770630191453479"
     },
     "user_tz": 240
    },
    "id": "ehr0YHut-z7N"
   },
   "outputs": [],
   "source": [
    "from qiskit_ibm_runtime import QiskitRuntimeService\n",
    "from qiskit_ibm_runtime import SamplerV2 as Sampler\n",
    "from qiskit_ibm_runtime.fake_provider import FakeManilaV2\n",
    "from qiskit.transpiler.preset_passmanagers import generate_preset_pass_manager\n",
    "from qiskit_ibm_runtime.exceptions import IBMNotAuthorizedError\n",
    "\n",
    "MY_API_TOKEN = \"INSERT_YOUR_API_TOKEN_HERE\"\n",
    "\n",
    "try:\n",
    "    # Save an IBM Quantum account.\n",
    "    # https://docs.quantum.ibm.com/api/qiskit-ibm-runtime\n",
    "    service = QiskitRuntimeService.save_account(channel=\"ibm_quantum\", token=MY_API_TOKEN,\n",
    "                                                instance='ibm-q/open/main', overwrite=True)\n",
    "    use_IBMQ = True\n",
    "except IBMNotAuthorizedError as error:\n",
    "    use_IBMQ = False\n",
    "    print('No API token provided')\n",
    "    pass\n"
   ]
  },
  {
   "cell_type": "code",
   "execution_count": null,
   "metadata": {
    "executionInfo": {
     "elapsed": 2,
     "status": "ok",
     "timestamp": 1749613961565,
     "user": {
      "displayName": "Batista Colab",
      "userId": "04968770630191453479"
     },
     "user_tz": 240
    },
    "id": "Zw6WLXWmHSmK"
   },
   "outputs": [],
   "source": [
    "use_IBMQ = False"
   ]
  },
  {
   "cell_type": "code",
   "execution_count": null,
   "metadata": {
    "executionInfo": {
     "elapsed": 21,
     "status": "ok",
     "timestamp": 1749613966810,
     "user": {
      "displayName": "Batista Colab",
      "userId": "04968770630191453479"
     },
     "user_tz": 240
    },
    "id": "JEFzaids-4JQ"
   },
   "outputs": [],
   "source": [
    "if use_IBMQ:\n",
    "    service = QiskitRuntimeService()\n",
    "    # Run the sampler job locally using FakeManilaV2\n",
    "    backend = FakeManilaV2()\n",
    "    pm = generate_preset_pass_manager(backend=backend, optimization_level=1)\n",
    "    entangler_circuit = pm.run(entangler)\n",
    "\n",
    "    sampler = Sampler(mode=backend)\n",
    "    sampler.options.default_shots = 1024  # Options can be set using auto-complete.\n",
    "    job = sampler.run([entangler_circuit])\n",
    "    pub_result = job.result()[0]\n",
    "    result_dict = pub_result.data.creg.get_counts()"
   ]
  },
  {
   "cell_type": "code",
   "execution_count": null,
   "metadata": {
    "executionInfo": {
     "elapsed": 12,
     "status": "ok",
     "timestamp": 1749614019315,
     "user": {
      "displayName": "Batista Colab",
      "userId": "04968770630191453479"
     },
     "user_tz": 240
    },
    "id": "QDsChH9w-6ft"
   },
   "outputs": [],
   "source": [
    "if use_IBMQ:\n",
    "    real_result = np.zeros((4,))\n",
    "    for idx,k  in enumerate(result_dict.keys()):\n",
    "        real_result[idx] = result_dict[k]\n",
    "    print(\"Using FakeManilaV2!\")\n",
    "    print(\"Counts for the classical output register:\")\n",
    "    print(real_result)"
   ]
  },
  {
   "cell_type": "code",
   "execution_count": null,
   "metadata": {
    "executionInfo": {
     "elapsed": 2,
     "status": "ok",
     "timestamp": 1749614021270,
     "user": {
      "displayName": "Batista Colab",
      "userId": "04968770630191453479"
     },
     "user_tz": 240
    },
    "id": "ZTf5e4Nu-8kQ"
   },
   "outputs": [],
   "source": [
    "if use_IBMQ:\n",
    "    backend = service.least_busy(operational=True, simulator=False)\n",
    "    pm = generate_preset_pass_manager(backend=backend, optimization_level=1)\n",
    "    entangler_circuit = pm.run(entangler)\n",
    "\n",
    "    sampler = Sampler(mode=backend)\n",
    "    sampler.options.default_shots = 1024\n",
    "    job = sampler.run([entangler_circuit])\n",
    "    print(f\"Job ID is {job.job_id()}\")\n",
    "    pub_result = job.result()[0]\n",
    "    result_dict = pub_result.data.creg.get_counts()\n",
    "\n",
    "    real_result = np.zeros((4,))\n",
    "    for idx,k  in enumerate(result_dict.keys()):\n",
    "        real_result[idx] = result_dict[k]\n",
    "    print(\"Counts for the classical output register creg:\")\n",
    "    print(real_result)"
   ]
  },
  {
   "cell_type": "markdown",
   "metadata": {
    "id": "yKftF1alYep3",
    "jp-MarkdownHeadingCollapsed": true
   },
   "source": [
    "## 4.7. Simulating a Hamiltonian Expressed in the Basis of Pauli Matrices"
   ]
  },
  {
   "cell_type": "code",
   "execution_count": null,
   "metadata": {
    "executionInfo": {
     "elapsed": 41,
     "status": "ok",
     "timestamp": 1749614125167,
     "user": {
      "displayName": "Batista Colab",
      "userId": "04968770630191453479"
     },
     "user_tz": 240
    },
    "id": "djPHPmdRXuVR"
   },
   "outputs": [],
   "source": [
    "from qiskit.quantum_info import SparsePauliOp\n",
    "\n",
    "\n",
    "def get_hamiltonian_n_site_terms(n, coeff, n_qubits):\n",
    "    '''\n",
    "        Assembles each term in the Hamiltonian based on their Pauli string\n",
    "        representation and multiplying by the respective coefficient.\n",
    "    '''\n",
    "    XX_coeff = coeff[0]\n",
    "    YY_coeff = coeff[1]\n",
    "    ZZ_coeff = coeff[2]\n",
    "    Z_coeff = coeff[3]\n",
    "\n",
    "    XX_term = SparsePauliOp((\"I\" * n + \"XX\" + \"I\" * (n_qubits - 2 - n)))\n",
    "    XX_term *= XX_coeff\n",
    "    YY_term = SparsePauliOp((\"I\" * n + \"YY\" + \"I\" * (n_qubits - 2 - n)))\n",
    "    YY_term *= YY_coeff\n",
    "    ZZ_term = SparsePauliOp((\"I\" * n + \"ZZ\" + \"I\" * (n_qubits - 2 - n)))\n",
    "    ZZ_term *= ZZ_coeff\n",
    "    Z_term = SparsePauliOp((\"I\" * n + \"Z\" + \"I\" * (n_qubits - 1 - n)))\n",
    "    Z_term *= Z_coeff\n",
    "\n",
    "    return (XX_term + YY_term + ZZ_term + Z_term)"
   ]
  },
  {
   "cell_type": "code",
   "execution_count": null,
   "metadata": {
    "executionInfo": {
     "elapsed": 10,
     "status": "ok",
     "timestamp": 1749614128275,
     "user": {
      "displayName": "Batista Colab",
      "userId": "04968770630191453479"
     },
     "user_tz": 240
    },
    "id": "zrQdmDbCXxmp"
   },
   "outputs": [],
   "source": [
    "def get_heisenberg_hamiltonian(n_qubits, coeff=None):\n",
    "    '''\n",
    "        Takes an integer number corresponding to number of spins/qubits\n",
    "        and a list of sublists containing the necessary coefficients\n",
    "        to assemble the complete Hamiltonian:\n",
    "\n",
    "            H = \\sum _i ^N h_z Z_i\n",
    "                + \\sum _i ^{N-1} (h_xx X_iX_{i+1}\n",
    "                                  + h_yy Y_iY_{i+1}\n",
    "                                  + h_zz Z_iZ_{i+1}\n",
    "                                 )\n",
    "\n",
    "        Each sublist contains the [XX, YY, ZZ, Z] coefficients in this order.\n",
    "        The last sublist should have the same shape, but only the Z component\n",
    "        is used.\n",
    "        If no coefficient list is provided, all are set to 1.\n",
    "    '''\n",
    "\n",
    "    # Three qubits because for 2 we get H_O = 0\n",
    "    assert n_qubits >= 3\n",
    "\n",
    "    if coeff == None:\n",
    "        'Setting default values for the coefficients'\n",
    "        coeff = [[1.0, 1.0, 1.0, 1.0] for i in range(n_qubits)]\n",
    "\n",
    "    # Even terms of the Hamiltonian\n",
    "    # (summing over individual pair-wise elements)\n",
    "    H_E = sum((get_hamiltonian_n_site_terms(i, coeff[i], n_qubits)\n",
    "               for i in range(0, n_qubits-1, 2)))\n",
    "\n",
    "    # Odd terms of the Hamiltonian\n",
    "    # (summing over individual pair-wise elements)\n",
    "    H_O = sum((get_hamiltonian_n_site_terms(i, coeff[i], n_qubits)\n",
    "               for i in range(1, n_qubits-1, 2)))\n",
    "\n",
    "    # adding final Z term at the Nth site\n",
    "    final_term = SparsePauliOp(\"I\" * (n_qubits - 1) + \"Z\")\n",
    "    final_term *= coeff[n_qubits-1][3]\n",
    "    if (n_qubits % 2) == 0:\n",
    "        H_E += final_term\n",
    "    else:\n",
    "        H_O += final_term\n",
    "\n",
    "    # Returns the list of the two sets of terms\n",
    "    return [H_E, H_O]"
   ]
  },
  {
   "cell_type": "code",
   "execution_count": null,
   "metadata": {
    "colab": {
     "base_uri": "https://localhost:8080/"
    },
    "executionInfo": {
     "elapsed": 4,
     "status": "ok",
     "timestamp": 1749614131235,
     "user": {
      "displayName": "Batista Colab",
      "userId": "04968770630191453479"
     },
     "user_tz": 240
    },
    "id": "0V_Ga1t1PjJS",
    "outputId": "d00a7927-fa9a-4dea-ea6b-ca468d16ba02"
   },
   "outputs": [],
   "source": [
    "num_q = 3\n",
    "# XX YY ZZ, Z\n",
    "ham_coeffs = ([[0.75/2, 0.75/2, 0.0, 0.65]]\n",
    "                + [[0.5, 0.5, 0.0, 1.0]\n",
    "                for i in range(num_q-1)])\n",
    "\n",
    "spin_chain_hamiltonian = get_heisenberg_hamiltonian(num_q,\n",
    "                                                    ham_coeffs)\n",
    "print('Hamiltonian separated into even and odd components:')\n",
    "print(spin_chain_hamiltonian)\n",
    "print('Hamiltonian combining even and odd components:')\n",
    "print(sum(spin_chain_hamiltonian))"
   ]
  },
  {
   "cell_type": "code",
   "execution_count": null,
   "metadata": {
    "executionInfo": {
     "elapsed": 26,
     "status": "ok",
     "timestamp": 1749614135489,
     "user": {
      "displayName": "Batista Colab",
      "userId": "04968770630191453479"
     },
     "user_tz": 240
    },
    "id": "UnQWmgRfX01P"
   },
   "outputs": [],
   "source": [
    "from qiskit.circuit.library import PauliEvolutionGate\n",
    "# Trotter-Suzuki implementation for decomposition of exponentials\n",
    "# of matrices\n",
    "from qiskit.synthesis import SuzukiTrotter\n",
    "from qiskit import QuantumCircuit, QuantumRegister\n",
    "import numpy as np\n",
    "from itertools import groupby\n",
    "import re\n",
    "\n",
    "def get_time_evolution_operator(num_qubits, tau, trotter_steps, coeff=None):\n",
    "    '''\n",
    "        Given a number of qubits, generates the corresponding time-evolution for\n",
    "        the Ising model with the same number of sites.\n",
    "\n",
    "        Input:\n",
    "            num_qubits (int): number of qubits, which should be equal to the\n",
    "                number of spins in the chain\n",
    "            evo_time (float): time parameter in time-evolution operator\n",
    "            trotter_steps (int): number of time steps for the Suzuki-Trotter\n",
    "                decomposition\n",
    "            coeff (list of lists): parameters for each term in the Hamiltonian\n",
    "                for each site ie ([[XX0, YY0, ZZ0, Z0], [XX1, YY1, ZZ1, Z1], ...])\n",
    "        Returns:\n",
    "            evo_op.definition: Trotterized time-evolution operator\n",
    "    '''\n",
    "    # Constructing the Hamiltonian here;\n",
    "    # heisenberg_hamiltonian = [H_E, H_O]\n",
    "    heisenberg_hamiltonian = get_heisenberg_hamiltonian(num_qubits,\n",
    "                                                        coeff)\n",
    "\n",
    "    # e^ (-i*H*evo_time), with Trotter decomposition\n",
    "    # exp[(i * evo_time)*(IIIIXXIIII + IIIIYYIIII + IIIIZZIIII + IIIIZIIIII)]\n",
    "    evo_op = PauliEvolutionGate(heisenberg_hamiltonian, tau,\n",
    "                                synthesis=SuzukiTrotter(order=2,\n",
    "                                    reps=trotter_steps))\n",
    "    # The Trotter order=2 applies one set of the operators for\n",
    "    # half a timestep, then the other set for a full timestep,\n",
    "    # then the first step for another half a step note that reps\n",
    "    # includes the number of repetitions of the Trotterized\n",
    "    # operator higher number means more repetitions, and thus\n",
    "    # allowing larger timestep\n",
    "    return evo_op.definition\n",
    "\n",
    "num_shots = 100\n",
    "num_q = 3\n",
    "evolution_timestep = 0.1\n",
    "n_trotter_steps = 1\n",
    "# XX YY ZZ, Z\n",
    "ham_coeffs = ([[0.75/2, 0.75/2, 0.0, 0.65]]\n",
    "                + [[0.5, 0.5, 0.0, 1.0]\n",
    "                for i in range(num_q-1)])\n",
    "time_evo_op = get_time_evolution_operator(\n",
    "    num_qubits=num_q, tau=evolution_timestep,\n",
    "    trotter_steps=n_trotter_steps, coeff=ham_coeffs)"
   ]
  },
  {
   "cell_type": "code",
   "execution_count": null,
   "metadata": {
    "executionInfo": {
     "elapsed": 8,
     "status": "ok",
     "timestamp": 1749614139012,
     "user": {
      "displayName": "Batista Colab",
      "userId": "04968770630191453479"
     },
     "user_tz": 240
    },
    "id": "s3OaGTaNYC6r"
   },
   "outputs": [],
   "source": [
    "def find_string_pattern(pattern, string):\n",
    "    match_list = []\n",
    "    for m in re.finditer(pattern, string):\n",
    "        match_list.append(m.start())\n",
    "    return match_list\n",
    "\n",
    "\n",
    "def sort_Pauli_by_symmetry(ham):\n",
    "    '''\n",
    "        Separates a qiskit PauliOp object terms into 1 and 2-qubit\n",
    "        operators. Furthermore, 2-qubit operators are separated according\n",
    "        to the parity of the index first non-identity operation.\n",
    "    '''\n",
    "    one_qubit_terms = []\n",
    "    two_qubit_terms = []\n",
    "    # separating the one-qubit from two-qubit terms\n",
    "    for term in ham:\n",
    "        matches = find_string_pattern('X|Y|Z', str(term.paulis[0]))\n",
    "        pauli_string = term.paulis[0]\n",
    "        coeff = np.real(term.coeffs[0])\n",
    "        str_tag = pauli_string.to_label().replace('I', '')\n",
    "        if len(matches) == 2:\n",
    "            two_qubit_terms.append((pauli_string, coeff, matches, str_tag))\n",
    "        elif len(matches) == 1:\n",
    "            one_qubit_terms.append((pauli_string, coeff, matches, str_tag))\n",
    "\n",
    "    # sorting the two-qubit terms according to index on which they act\n",
    "    two_qubit_terms = sorted(two_qubit_terms, key=lambda x: x[2])\n",
    "    # separating the even from the odd two-qubit terms\n",
    "    even_two_qubit_terms = list(filter(lambda x: not x[2][0]%2, two_qubit_terms))\n",
    "    odd_two_qubit_terms = list(filter(lambda x: x[2][0]%2, two_qubit_terms))\n",
    "\n",
    "    even_two_qubit_terms = [list(v) for i, v in groupby(even_two_qubit_terms, lambda x: x[2][0])]\n",
    "    odd_two_qubit_terms = [list(v) for i, v in groupby(odd_two_qubit_terms, lambda x: x[2][0])]\n",
    "\n",
    "    return one_qubit_terms, even_two_qubit_terms, odd_two_qubit_terms"
   ]
  },
  {
   "cell_type": "code",
   "execution_count": null,
   "metadata": {
    "executionInfo": {
     "elapsed": 8,
     "status": "ok",
     "timestamp": 1749614142037,
     "user": {
      "displayName": "Batista Colab",
      "userId": "04968770630191453479"
     },
     "user_tz": 240
    },
    "id": "XPtT0RkzYGsb"
   },
   "outputs": [],
   "source": [
    "def generate_circ_pattern_1qubit(circ, term, delta_t):\n",
    "    '''\n",
    "        General 1-qubit gate for exponential of product identity and\n",
    "        a single pauli gate.\n",
    "        Only a single rotation operation is required, with the angle\n",
    "        being related to the exponential argument:\n",
    "\n",
    "        R_P(coeff) = exp(-i * coeff * P / 2)\n",
    "\n",
    "        Where P is the Pauli gate and coeff encompasses the constant\n",
    "        coefficient term\n",
    "    '''\n",
    "    coeff = 2 * term[1] * delta_t\n",
    "    if term[3] == 'X':\n",
    "        circ.rx(coeff, term[2])\n",
    "    elif term[3] == 'Y':\n",
    "        circ.ry(coeff, term[2])\n",
    "    elif term[3] == 'Z':\n",
    "        circ.rz(coeff, term[2])\n",
    "\n",
    "    return circ\n"
   ]
  },
  {
   "cell_type": "code",
   "execution_count": null,
   "metadata": {
    "executionInfo": {
     "elapsed": 8,
     "status": "ok",
     "timestamp": 1749614145303,
     "user": {
      "displayName": "Batista Colab",
      "userId": "04968770630191453479"
     },
     "user_tz": 240
    },
    "id": "bMc_tIcJYHPu"
   },
   "outputs": [],
   "source": [
    "def generate_circ_pattern_2qubit(circ, term, delta_t):\n",
    "    '''\n",
    "        General 2-qubit gate for exponential of Paulis. This is the\n",
    "        optimal decomposition, based on a component of a U(4) operator.\n",
    "        (see )\n",
    "\n",
    "        The circuit structure is as follows:\n",
    "\n",
    "        - ---- I ---- C - Rz(o) - X --- I --- C - Rz(pi/2) -\n",
    "        - Rz(-pi/2) - X - Ry(p) - C - Ry(l) - X ---- I -----\n",
    "\n",
    "        Where CX represent CNOT operations, R are rotation gates with angles,\n",
    "        and I is the identity matrix. The angles are parameterized as follows:\n",
    "\n",
    "        o = \\theta = (\\pi/2 - A)\n",
    "        p = \\phi = (A - \\pi/2)\n",
    "        l = \\lambda = (\\pi/2 - A)\n",
    "\n",
    "        Where A is the exponential argument.\n",
    "    '''\n",
    "    # wires to which to apply the operation\n",
    "    wires = term[0][2]\n",
    "\n",
    "    # angles to parameterize the circuit,\n",
    "    # based on exponential argument\n",
    "    if any('XX' in sublist for sublist in term):\n",
    "        g_phi = ( 2 * (-1) * term[0][1] * delta_t - np.pi / 2)\n",
    "    else:\n",
    "        g_phi = - np.pi / 2\n",
    "    if any('YY' in sublist for sublist in term):\n",
    "        g_lambda = (np.pi/2 - 2 * (-1) * term[1][1] * delta_t)\n",
    "    else:\n",
    "        g_lambda = np.pi/2\n",
    "    if any('ZZ' in sublist for sublist in term):\n",
    "        g_theta = (np.pi/2 - 2 * (-1) * term[2][1] * delta_t)\n",
    "    else:\n",
    "        g_theta = np.pi/2\n",
    "\n",
    "    # circuit\n",
    "    circ.rz(-np.pi/2, wires[1])\n",
    "    circ.cx(wires[1], wires[0])\n",
    "    circ.rz(g_theta, wires[0])\n",
    "    circ.ry(g_phi, wires[1])\n",
    "    circ.cx(wires[0], wires[1])\n",
    "    circ.ry(g_lambda, wires[1])\n",
    "    circ.cx(wires[1], wires[0])\n",
    "    circ.rz(np.pi/2, wires[0])\n",
    "    return circ"
   ]
  },
  {
   "cell_type": "code",
   "execution_count": null,
   "metadata": {
    "executionInfo": {
     "elapsed": 8,
     "status": "ok",
     "timestamp": 1749614148003,
     "user": {
      "displayName": "Batista Colab",
      "userId": "04968770630191453479"
     },
     "user_tz": 240
    },
    "id": "v0iv0k3XYPmE"
   },
   "outputs": [],
   "source": [
    "def get_manual_Trotter(num_q, pauli_ops, timestep, n_trotter=1,\n",
    "                       trotter_type='basic', reverse_bits=True):\n",
    "    # sorts the Pauli strings according to qubit number they affect and symmetry\n",
    "    one_q, even_two_q, odd_two_q = sort_Pauli_by_symmetry(pauli_ops)\n",
    "    # scales the timestep according to the number of trotter steps\n",
    "    timestep_even_two_q = timestep / n_trotter\n",
    "    timestep_odd_two_q = timestep / n_trotter\n",
    "    timestep_one_q = timestep / n_trotter\n",
    "    # symmetric places 1/2 of one_q and odd_two_q before and after even_two_q\n",
    "    if trotter_type == 'symmetric':\n",
    "        timestep_odd_two_q /= 2\n",
    "        timestep_one_q /= 2\n",
    "    # constructs circuits for each segment of the operators\n",
    "    qc_odd_two_q, qc_even_two_q, qc_one_q = QuantumCircuit(num_q), QuantumCircuit(num_q), QuantumCircuit(num_q)\n",
    "    for i in even_two_q:\n",
    "        qc_even_two_q = generate_circ_pattern_2qubit(qc_even_two_q, i, timestep_even_two_q)\n",
    "    for i in odd_two_q:\n",
    "        qc_odd_two_q = generate_circ_pattern_2qubit(qc_odd_two_q, i, timestep_odd_two_q)\n",
    "    for i in one_q:\n",
    "        qc_one_q = generate_circ_pattern_1qubit(qc_one_q, i, timestep_one_q)\n",
    "    # assembles the circuit for Trotter decomposition of exponential\n",
    "    qr = QuantumRegister(num_q)\n",
    "    qc = QuantumCircuit(qr)\n",
    "    if trotter_type == 'basic':\n",
    "        qc = qc.compose(qc_even_two_q)\n",
    "        qc = qc.compose(qc_odd_two_q)\n",
    "        qc = qc.compose(qc_one_q)\n",
    "    elif trotter_type == 'symmetric':\n",
    "        qc = qc.compose(qc_one_q)\n",
    "        qc = qc.compose(qc_odd_two_q)\n",
    "        qc = qc.compose(qc_even_two_q)\n",
    "        qc = qc.compose(qc_odd_two_q)\n",
    "        qc = qc.compose(qc_one_q)\n",
    "    # repeats the single_trotter circuit several times to match n_trotter\n",
    "    for i in range(n_trotter-1):\n",
    "        qc = qc.compose(qc)\n",
    "    if reverse_bits:\n",
    "        return qc.reverse_bits()\n",
    "    else:\n",
    "        return qc"
   ]
  },
  {
   "cell_type": "code",
   "execution_count": null,
   "metadata": {
    "colab": {
     "base_uri": "https://localhost:8080/"
    },
    "executionInfo": {
     "elapsed": 70,
     "status": "ok",
     "timestamp": 1749614150732,
     "user": {
      "displayName": "Batista Colab",
      "userId": "04968770630191453479"
     },
     "user_tz": 240
    },
    "id": "5GOtyZmjQPUM",
    "outputId": "1a1c94e7-21e7-499d-e4cf-3dc6386a6edf"
   },
   "outputs": [],
   "source": [
    "spin_chain_hamiltonian = get_heisenberg_hamiltonian(num_q,\n",
    "                                                    ham_coeffs)\n",
    "\n",
    "spin_chain_hamiltonian = sum(spin_chain_hamiltonian)\n",
    "print(get_manual_Trotter(num_q, spin_chain_hamiltonian,\n",
    "                            0.1).draw())\n",
    "print(get_manual_Trotter(num_q, spin_chain_hamiltonian, 0.1,\n",
    "                            n_trotter=2).draw())\n",
    "print(get_manual_Trotter(num_q, spin_chain_hamiltonian, 0.1,\n",
    "                            trotter_type='symmetric').draw())\n",
    "print(get_manual_Trotter(num_q, spin_chain_hamiltonian, 0.1,\n",
    "                            n_trotter=2,\n",
    "                            trotter_type='symmetric').draw())"
   ]
  },
  {
   "cell_type": "code",
   "execution_count": null,
   "metadata": {
    "colab": {
     "base_uri": "https://localhost:8080/"
    },
    "executionInfo": {
     "elapsed": 370,
     "status": "ok",
     "timestamp": 1749614154524,
     "user": {
      "displayName": "Batista Colab",
      "userId": "04968770630191453479"
     },
     "user_tz": 240
    },
    "id": "F-qZQSfcQrzB",
    "outputId": "a8f1234d-0ce0-490f-f15b-0d2f4df8d1a8"
   },
   "outputs": [],
   "source": [
    "# used to compile the circuit, tranpiling to the set of\n",
    "# operations supported by the device backend and execution\n",
    "from qiskit import QuantumCircuit\n",
    "from qiskit import QuantumRegister, ClassicalRegister\n",
    "from qiskit import transpile\n",
    "\n",
    "# specifying a quantum register with specific number of qubits\n",
    "qr = QuantumRegister(num_q)\n",
    "# classical register used for measurement of qubits\n",
    "cr = ClassicalRegister(num_q)\n",
    "# quantum circuit combining quantum and classical registers\n",
    "qc = QuantumCircuit(qr, cr) # instantiated here\n",
    "qc.draw(style='iqp')\n",
    "print(qc)\n",
    "\n",
    "# specifying initial state by flipping qubit states\n",
    "for qubit_idx in range(num_q):\n",
    "    if qubit_idx == 0:\n",
    "        # generate only one spin-up at first qubit\n",
    "        qc.id(qubit_idx)\n",
    "    else:\n",
    "        # make all other spins have the spin-down state\n",
    "        qc.x(qubit_idx)\n",
    "qc.barrier()\n",
    "qc.draw(style='iqp')\n",
    "print(qc)\n",
    "\n",
    "# checking the initial state\n",
    "device = Aer.get_backend('statevector_simulator')\n",
    "qc_init_state = execute(qc, backend=device).result()\n",
    "qc_init_state = qc_init_state.get_statevector()\n",
    "print(qc_init_state)\n",
    "\n",
    "# generating the time evolution operator for a specific set of\n",
    "# hamiltonian parameters and timestep\n",
    "time_evo_op = get_time_evolution_operator(num_qubits=num_q,\n",
    "        tau=evolution_timestep,\n",
    "        trotter_steps=n_trotter_steps,\n",
    "        coeff=ham_coeffs)\n",
    "\n",
    "# appending the Hamiltonian evolution to the circuit\n",
    "qc.append(time_evo_op, list(range(num_q)))\n",
    "qc.barrier()\n",
    "qc.draw(style='iqp')\n",
    "print(qc)\n",
    "\n",
    "# Depth check\n",
    "print('Depth of the circuit is', qc.depth())\n",
    "# transpiled circuit to statevector simulator\n",
    "qct = transpile(qc, device, optimization_level=2)\n",
    "qct.decompose().decompose()\n",
    "qct.draw(style='iqp')\n",
    "print(qct)\n",
    "\n",
    "print('Depth of the circuit after transpilation is '\n",
    "        f'{qct.depth()}')\n",
    "\n",
    "# showcasing simple execution\n",
    "qct_run = execute(qct, device, shots=1270).result()\n",
    "qct_run_counts = qct_run.get_counts()\n",
    "print(f'Circuit measurement counts {qct_run_counts}')"
   ]
  },
  {
   "cell_type": "code",
   "execution_count": null,
   "metadata": {
    "executionInfo": {
     "elapsed": 9,
     "status": "ok",
     "timestamp": 1749614161378,
     "user": {
      "displayName": "Batista Colab",
      "userId": "04968770630191453479"
     },
     "user_tz": 240
    },
    "id": "-bS7wsFNYhQL"
   },
   "outputs": [],
   "source": [
    "from qiskit import QuantumRegister, ClassicalRegister, QuantumCircuit\n",
    "qr = QuantumRegister(num_q)\n",
    "cr = ClassicalRegister(num_q)\n",
    "qc = QuantumCircuit(qr, cr) # instantiated here"
   ]
  },
  {
   "cell_type": "code",
   "execution_count": null,
   "metadata": {
    "executionInfo": {
     "elapsed": 9,
     "status": "ok",
     "timestamp": 1749614163541,
     "user": {
      "displayName": "Batista Colab",
      "userId": "04968770630191453479"
     },
     "user_tz": 240
    },
    "id": "VFKLLFiaYl4K"
   },
   "outputs": [],
   "source": [
    "for qubit_idx in range(num_q):\n",
    "    if qubit_idx == 0:\n",
    "        # generate only one spin-up at first qubit\n",
    "        qc.id(qubit_idx)\n",
    "    else:\n",
    "        # make all other spins have the spin-down state\n",
    "        qc.x(qubit_idx)"
   ]
  },
  {
   "cell_type": "code",
   "execution_count": null,
   "metadata": {
    "executionInfo": {
     "elapsed": 2,
     "status": "ok",
     "timestamp": 1749614165476,
     "user": {
      "displayName": "Batista Colab",
      "userId": "04968770630191453479"
     },
     "user_tz": 240
    },
    "id": "aAU6QX6BvTKg"
   },
   "outputs": [],
   "source": [
    "import numpy as np\n",
    "import matplotlib.pyplot as plt\n",
    "from qiskit import QuantumCircuit, QuantumRegister\n",
    "from qiskit_aer import Aer\n",
    "\n",
    "\n",
    "# Quantum circuit for propagation\n",
    "def qsolve_statevector(psin, qc):\n",
    "    '''\n",
    "        Performs dynamical propagation for a specific quantum circuit, using the\n",
    "        an initial state equal to the result of the prior iteration. In effect,\n",
    "        this propagates:\n",
    "\n",
    "        | \\psi _t \\rangle  = e^{i*\\tau*H/hbar} e^{i*\\tau*H/hbar} ... | \\psi _0 \\rangle\n",
    "        -> | \\psi _t \\rangle  = e^{i*\\tau*H/hbar} | \\psi _{t-\\tau} \\rangle\n",
    "\n",
    "        Use of reinitialization in this way is possible due to the usage of the\n",
    "        statevector_simulator backend; this may not be practical for an\n",
    "        implementation on actual hardware.\n",
    "        Returns:\n",
    "            psin (statevector): final statevector after execution\n",
    "    '''\n",
    "    # Determining number of qubits from the length of the state vector\n",
    "    n=np.size(psin)\n",
    "    d=int(np.log2(np.size(psin)))\n",
    "    # Circuit preparation\n",
    "    qre = QuantumRegister(d)\n",
    "    circ = QuantumCircuit(qre)\n",
    "    circ.initialize(psin,qre)\n",
    "    circ.barrier()\n",
    "    # for i in range(0,100):\n",
    "    circ.append(qc, qre)\n",
    "    circ.barrier()\n",
    "    # Circuit execution\n",
    "    device = Aer.get_backend('statevector_simulator')\n",
    "    psin = execute(circ, backend=device).result()\n",
    "    psin = psin.get_statevector()\n",
    "    return psin"
   ]
  },
  {
   "cell_type": "code",
   "execution_count": null,
   "metadata": {
    "colab": {
     "base_uri": "https://localhost:8080/",
     "height": 152
    },
    "executionInfo": {
     "elapsed": 45,
     "status": "ok",
     "timestamp": 1749614169798,
     "user": {
      "displayName": "Batista Colab",
      "userId": "04968770630191453479"
     },
     "user_tz": 240
    },
    "id": "5xAkqiIZzpdC",
    "outputId": "a2e56f82-2642-478b-ff03-24369a4773c7"
   },
   "outputs": [],
   "source": [
    "qc.draw()"
   ]
  },
  {
   "cell_type": "code",
   "execution_count": null,
   "metadata": {
    "colab": {
     "base_uri": "https://localhost:8080/",
     "height": 532,
     "referenced_widgets": [
      "8512e52f98ea4a0db504738fc59a986d",
      "8494f8c8527d487c8dd9dcb0ac3c2010",
      "a04155229cd5446c96704a9db8826934",
      "b66b32443af740b699cf404d62a4b766",
      "f527ff684bc14ac8bb99f3ac7836870f",
      "7c5b4761cf614e62be6b2373a3f70023",
      "36e1daba34d14c73876f18d2f140fc17",
      "a54b492893bb4084af7434e926929e41",
      "a4e93018c5c94d808dbab1ced0c370d4",
      "94264f39d7474849be44269b893a28ca",
      "b64393dd62c449159c1a72babaa483b4"
     ]
    },
    "executionInfo": {
     "elapsed": 21749,
     "status": "ok",
     "timestamp": 1749614194645,
     "user": {
      "displayName": "Batista Colab",
      "userId": "04968770630191453479"
     },
     "user_tz": 240
    },
    "id": "CusMiFReYnof",
    "outputId": "9ac49b86-16cc-42cb-b3be-b1fc7e7c6fd0"
   },
   "outputs": [],
   "source": [
    "# Qubit basis states\n",
    "zero_state = np.array([[1],[0]])\n",
    "one_state = np.array([[0],[1]])\n",
    "\n",
    "# For a 011 initial state prepare as follows\n",
    "psin = zero_state # for the first spin\n",
    "# iterates over the remaining spins, by performing\n",
    "# Kronecker Product\n",
    "for i in range(num_q-1):\n",
    "    psin = np.kron(psin, one_state)\n",
    "psin0 = psin.flatten()\n",
    "print(psin0)\n",
    "\n",
    "# time evolution operator\n",
    "time_evo_op = get_time_evolution_operator(num_qubits=num_q,\n",
    "        tau=evolution_timestep,\n",
    "        trotter_steps=n_trotter_steps,\n",
    "        coeff=ham_coeffs)\n",
    "# number of steps for which to propagate\n",
    "# (totaling 25 units of time)\n",
    "nsteps = 250\n",
    "psin_list = []\n",
    "psin_list.append(psin0)\n",
    "correlation_list = []\n",
    "# performs dynamical propagation by statevector re-initialization\n",
    "for k in trange(nsteps):\n",
    "    #print(f'Running dynamics step {k}')\n",
    "    if k > 0:\n",
    "        psin = qsolve_statevector(psin_list[-1], time_evo_op)\n",
    "        # removes the last initial state to save memory\n",
    "        psin_list.pop()\n",
    "        # stores the new initial state\n",
    "        psin_list.append(psin)\n",
    "    correlation_list.append(np.vdot(psin_list[-1],psin0))\n",
    "\n",
    "time = np.arange(0, evolution_timestep*(nsteps),\n",
    "                 evolution_timestep)\n",
    "np.save(f'{num_q}_spin_chain_time', time)\n",
    "sa_observable = np.abs(correlation_list)\n",
    "np.save(f'{num_q}_spin_chain_SA_obs', sa_observable)\n",
    "# plotting\n",
    "plt.plot(time, sa_observable, '-o')\n",
    "plt.xlabel('Time')\n",
    "plt.ylabel('Absolute Value of Survival Amplitude, '\n",
    "           r'$\\left|\\langle \\psi | \\psi \\rangle \\right|$')\n",
    "plt.xlim((min(time), max(time)))\n",
    "plt.yscale('log')\n",
    "plt.legend()\n",
    "plt.show()"
   ]
  },
  {
   "cell_type": "markdown",
   "metadata": {
    "id": "9EDQD6uH7p-2",
    "jp-MarkdownHeadingCollapsed": true
   },
   "source": [
    "## 4.8. Encoding an arbitrary Hamiltonian in the basis of Pauli matrices"
   ]
  },
  {
   "cell_type": "code",
   "execution_count": null,
   "metadata": {
    "executionInfo": {
     "elapsed": 27,
     "status": "ok",
     "timestamp": 1749614272950,
     "user": {
      "displayName": "Batista Colab",
      "userId": "04968770630191453479"
     },
     "user_tz": 240
    },
    "id": "ABinFhQyXRm9"
   },
   "outputs": [],
   "source": [
    "import itertools\n",
    "\n",
    "\n",
    "def vec_query(arr, my_dict):\n",
    "    '''\n",
    "    This function vectorizes dictionary querying.\n",
    "    It allows us to query `my_dict` with a np.array `arr` of keys.\n",
    "    This avoids a loop through the list of keys.\n",
    "    '''\n",
    "    return np.vectorize(my_dict.__getitem__, otypes=[tuple])(arr)\n",
    "\n",
    "def nested_kronecker_product(a):\n",
    "    '''\n",
    "    Handles Kronecker Products for list (i.e., a = [Z, Z, Z] will evaluate Z Z Z).\n",
    "    Given list `a` this recursively evaluates the kronecker product of all elements.\n",
    "    This allows us to avoid having to call `np.kron` n-1 times for a list of length n.\n",
    "    '''\n",
    "    if len(a) == 2:\n",
    "        return np.kron(a[0],a[1])\n",
    "    else:\n",
    "        return np.kron(a[0], nested_kronecker_product(a[1:]))\n",
    "\n",
    "def Hilbert_Schmidt(mat1, mat2):\n",
    "    '''\n",
    "    Return the Hilbert-Schmidt Inner Product of two matrices.\n",
    "    This gives the coefficients for each term in the sum of tensor products of Paulis.\n",
    "    '''\n",
    "    return np.trace(mat1 * mat2)\n",
    "\n",
    "def decompose(Ham_arr, tol=10):\n",
    "    '''\n",
    "    Function that decomposes `Ham_arr` into a sum of Pauli strings.\n",
    "    '''\n",
    "\n",
    "    X = np.array([[0,1],[1,0]])\n",
    "    Y = np.array([[0,complex(0,-1)],[complex(0,1),0]])\n",
    "    Z = np.array([[1,0],[0,-1]])\n",
    "    I = Z@Z\n",
    "    # Define a dictionary with the four Pauli matrices:\n",
    "    pms = {'I': I,'X': X,'Y': Y,'Z': Z}\n",
    "    pauli_keys = list(pms.keys()) # Keys of the dictionary\n",
    "\n",
    "    nqb = int(np.log2(Ham_arr.shape[0])) # Determine the # of qubits needed\n",
    "\n",
    "    # Make all possible tensor products of Pauli matrices sigma\n",
    "    sigma_combinations = list(itertools.product(pauli_keys, repeat=nqb))\n",
    "\n",
    "    output_string = '' # Initialize an empty string to which we can add our terms\n",
    "    for ii in range(len(sigma_combinations)):\n",
    "        pauli_str = ''.join(sigma_combinations[ii])\n",
    "\n",
    "        # Convert the Pauli string into a list of matrices\n",
    "        tmp_mat_list = vec_query(np.array(sigma_combinations[ii]), pms)\n",
    "\n",
    "        # Evaluate the Kronecker product of the matrix array\n",
    "        tmp_p_matrix = nested_kronecker_product(tmp_mat_list)\n",
    "\n",
    "        # Compute the coefficient for each Pauli string\n",
    "        a_coeff = (1/(2**nqb)) * Hilbert_Schmidt(tmp_p_matrix, Ham_arr)\n",
    "\n",
    "        # If the coefficient is non-zero, we want to use it!\n",
    "        if abs(a_coeff) > 10**(-tol):\n",
    "            output_string += str(np.round(a_coeff.real, 6))+'*'+pauli_str\n",
    "            output_string += '+' # Add a plus sign for the next term!\n",
    "\n",
    "    return output_string[:-1] # To ignore that extra plus sign"
   ]
  },
  {
   "cell_type": "markdown",
   "metadata": {
    "id": "EuP9gsOxKM-z"
   },
   "source": [
    "## 4.9. Using the Hadamard Test for Calculating Expectation Values"
   ]
  },
  {
   "cell_type": "code",
   "execution_count": null,
   "metadata": {
    "id": "Mc7EQBIeKM-1"
   },
   "outputs": [],
   "source": [
    "import numpy as np\n",
    "import matplotlib.pyplot as plt\n",
    "from qiskit_aer import Aer\n",
    "from qiskit import QuantumCircuit\n",
    "from qiskit import QuantumRegister, ClassicalRegister\n",
    "\n",
    "\n",
    "def get_hadamard_test(num_q, initial_state, control_operation,\n",
    "                      control_repeats=0, imag_expectation=False):\n",
    "    '''\n",
    "        Writes the Hadamard test circuit to evaluate the real (or imaginary)\n",
    "        components of a given operator (or set of operators) by measuring the\n",
    "        ancilla.\n",
    "\n",
    "        Inputs:\n",
    "            num_qubits (int): number of qubits needed for the calculation\n",
    "            initial_state: quantum circuit object containing the initialization\n",
    "                for the system\n",
    "            control_operation: quantum circuit object containing the controlled\n",
    "                version of the unitary operator for which to evaluate the\n",
    "                expectation value\n",
    "            control_repeats (int): number of repetitions of the controlled\n",
    "                operation in the Hadamard test circuit (such as time-propagation)\n",
    "            imag_expectation (boolean): whether to assemble the circuit for\n",
    "                evaluation of the real or imaginary components of the operator.\n",
    "        Returns:\n",
    "            qc_hadamard: quantum circuit object containing the hadamard test\n",
    "    '''\n",
    "    # Circuit object framework\n",
    "    qr_hadamard = QuantumRegister(num_q+1)\n",
    "    cr_hadamard = ClassicalRegister(1)\n",
    "    qc_hadamard = QuantumCircuit(qr_hadamard, cr_hadamard) # instantiated here\n",
    "    # Initialization of calculation qubits\n",
    "    qc_hadamard.append(initial_state, qr_hadamard[1:]) # initial psi\n",
    "    qc_hadamard.barrier()\n",
    "    # Hadamard test structure\n",
    "    qc_hadamard.h(0)\n",
    "    if imag_expectation:\n",
    "        qc_hadamard.p(-np.pi/2, 0) # qc_hadamard.s(0).inverse() may be equivalent\n",
    "    # iterates over the number of times the control operation should be added\n",
    "    for i in range(control_repeats):\n",
    "        qc_hadamard.append(control_operation, qr_hadamard[:])\n",
    "    qc_hadamard.h(0)\n",
    "    qc_hadamard.barrier()\n",
    "    # Measuring the ancilla\n",
    "    qc_hadamard.measure(0,0)\n",
    "    return qc_hadamard\n",
    "\n",
    "\n",
    "def get_circuit_execution_counts(qc, backend, n_shots=100):\n",
    "    '''\n",
    "        Takes a quantum circuit, Qiskit supported backend and a specified number\n",
    "        of execution times to calculate the number of times each state in the\n",
    "        circuit was measured.\n",
    "\n",
    "        Inputs:\n",
    "            qc: Qiskit quantum circuit object\n",
    "            backend: qiskit supported quantum computer framework (either simulator\n",
    "                or actual device)\n",
    "                n_shots (int): default=100; number of times for which to execute\n",
    "                    the circuit using the specified backend.\n",
    "    '''\n",
    "    qc_execution = execute(qc, backend, shots=n_shots)\n",
    "    counts = qc_execution.result().get_counts()\n",
    "    return counts # number of times measured 0 and 1\n",
    "\n",
    "\n",
    "def get_spin_correlation(counts):\n",
    "    '''\n",
    "        Generates the spin correlation at a particular time by averaging over\n",
    "        the counts of the ancillary qubit.\n",
    "    '''\n",
    "\n",
    "    qubit_to_spin_map = {\n",
    "        '0': 1,\n",
    "        '1': -1,\n",
    "    }\n",
    "    total_counts = 0\n",
    "    values_list = []\n",
    "    for k,v in counts.items():\n",
    "        values_list.append(qubit_to_spin_map[k] * v)\n",
    "        total_counts += v\n",
    "    # print(values_list)\n",
    "    average_spin = (sum(values_list)) / total_counts\n",
    "    return average_spin\n",
    "\n",
    "\n",
    "def get_initialization(num_qubits, initialization_string):\n",
    "    '''\n",
    "        Creates a circuit containing the qubit initialization for a specified\n",
    "        number of qubits and given initialization string. There are alternative\n",
    "        methods to initialize the circuit besides the one used in this function\n",
    "        including using a statevector or amplitude embedding of an arbitrary state.\n",
    "    '''\n",
    "    qr_init = QuantumRegister(num_qubits)\n",
    "    qc_init = QuantumCircuit(qr_init)\n",
    "    qc_init.initialize(initialization_string, qr_init[:]) # 0x1x1\n",
    "    return qc_init"
   ]
  },
  {
   "cell_type": "code",
   "execution_count": null,
   "metadata": {
    "colab": {
     "base_uri": "https://localhost:8080/",
     "height": 1000
    },
    "executionInfo": {
     "elapsed": 3730404,
     "status": "error",
     "timestamp": 1726008996065,
     "user": {
      "displayName": "Alexander Soudackov",
      "userId": "07993026822439093642"
     },
     "user_tz": 240
    },
    "id": "zcDRKIszKM-3",
    "outputId": "2c5516a5-2aff-4898-bf1f-932a04dd6958"
   },
   "outputs": [],
   "source": [
    "# switch this variable to True to execution the 'for' loop.\n",
    "# it takes >1hr for 3 spins, with the parameters defined above\n",
    "# and 1000 shots for each time step.\n",
    "# run_hadamard_test_boolean = False\n",
    "run_hadamard_test_boolean = True\n",
    "\n",
    "# IMPORTANT: Use qasm_simulator to obtain meaningful statistics\n",
    "# statevector is not appropriate for this method\n",
    "simulator = Aer.get_backend('qasm_simulator')\n",
    "\n",
    "num_q = 3\n",
    "n_trotter_steps = 1\n",
    "# XX YY ZZ, Z\n",
    "hamiltonian_coefficients = ([[0.75/2, 0.75/2, 0.0, 0.65]]\n",
    "                            + [[0.5, 0.5, 0.0, 1.0]\n",
    "                                for i in range(num_q-1)])\n",
    "\n",
    "num_shots = 100 # increase to check for convergence\n",
    "\n",
    "evolution_timestep=0.1\n",
    "total_time = 25\n",
    "time_range = np.arange(0, total_time+evolution_timestep,\n",
    "                       evolution_timestep)\n",
    "\n",
    "\n",
    "# time evolution operator\n",
    "time_evo_op = get_time_evolution_operator(num_qubits=num_q,\n",
    "        tau=evolution_timestep,\n",
    "        trotter_steps=n_trotter_steps,\n",
    "        coeff=hamiltonian_coefficients)\n",
    "# for closed controlled operation (ie if qubit is 1)\n",
    "controlled_time_evo_op = time_evo_op.control()\n",
    "# for open controlled operation (ie if qubit is 0);\n",
    "# not used here for this correlation fxn but needed for others\n",
    "# controlled_time_evo_op = time_evo_op.control(ctrl_state=0)\n",
    "print(controlled_time_evo_op.decompose())\n",
    "\n",
    "\n",
    "init_state_list = '1' + '0' * (num_q-1)\n",
    "init_circ = get_initialization(num_q, init_state_list)\n",
    "init_circ.draw(style='iqp')\n",
    "print(init_circ)\n",
    "\n",
    "# lists t store observables\n",
    "if run_hadamard_test_boolean:\n",
    "    real_amp_list = []\n",
    "    imag_amp_list = []\n",
    "    for idx,time in enumerate(time_range):\n",
    "        print(f'Running dynamics step {idx}')\n",
    "        # Real component ------------------------------\n",
    "        qc_had_real = get_hadamard_test(num_q, init_circ,\n",
    "                                        controlled_time_evo_op,\n",
    "                                        control_repeats=idx,\n",
    "                                        imag_expectation=False)\n",
    "        had_real_counts = get_circuit_execution_counts(\n",
    "                qc_had_real, simulator, n_shots=num_shots)\n",
    "        real_amplitude = get_spin_correlation(had_real_counts)\n",
    "        real_amp_list.append(real_amplitude)\n",
    "\n",
    "        # Imag component ------------------------------\n",
    "        qc_had_imag = get_hadamard_test(num_q, init_circ,\n",
    "                                        controlled_time_evo_op,\n",
    "                                        control_repeats=idx,\n",
    "                                        imag_expectation=True)\n",
    "        had_imag_counts = get_circuit_execution_counts(\n",
    "                qc_had_imag, simulator, n_shots=num_shots)\n",
    "        imag_amplitude = get_spin_correlation(had_imag_counts)\n",
    "        imag_amp_list.append(imag_amplitude)\n",
    "        print(f'Finished step {idx}, where '\n",
    "              f'Re = {real_amplitude:.3f} '\n",
    "              f'Im = {imag_amplitude:.3f}')\n",
    "\n",
    "    real_amp_array = np.array(real_amp_list)\n",
    "    imag_amp_array = np.array(imag_amp_list)\n",
    "\n",
    "    print('Saving data...')\n",
    "    # real and imaginary amplitude components\n",
    "    np.savetxt('real_amp_array.csv', real_amp_array,\n",
    "               fmt='%.18e', delimiter=';', newline='\\n')\n",
    "    np.savetxt('imag_amp_array.csv', imag_amp_array,\n",
    "               fmt='%.18e', delimiter=';', newline='\\n')\n",
    "    # survival amplitude\n",
    "    np.savetxt('np_abs_correlation_with_hadamard_test.csv',\n",
    "               np.abs(real_amp_array + 1j*imag_amp_array),\n",
    "               fmt='%.18e', delimiter=';', newline='\\n')\n",
    "    # survival probability\n",
    "    np.savetxt('np_sqrt_sum_squares_correlation_with_hadamard'\n",
    "               '_test.csv',\n",
    "               np.sqrt(real_amp_array**2 + imag_amp_array**2),\n",
    "               fmt='%.18e', delimiter=';', newline='\\n')\n",
    "real_amp_array = np.loadtxt('real_amp_array.csv',\n",
    "                            delimiter=';')\n",
    "imag_amp_array = np.loadtxt('imag_amp_array.csv',\n",
    "                            delimiter=';')\n",
    "np_abs_correlation_with_hadamard_test = np.loadtxt(\n",
    "        'np_abs_correlation_with_hadamard_test.csv',\n",
    "        delimiter=';')\n",
    "np_sqrt_sum_squares_correlation_with_hadamard_test = np.loadtxt(\n",
    "        'np_sqrt_sum_squares_correlation_with_hadamard_test.csv',\n",
    "        delimiter=';')\n",
    "\n",
    "\n",
    "# plotting the data\n",
    "plt.plot(time_range, np_abs_correlation_with_hadamard_test,\n",
    "         '.', label='Hadamard Test')\n",
    "\n",
    "sa_statevector = np.load(f'{num_q}_spin_chain_SA_obs.npy')\n",
    "time = np.load(f'{num_q}_spin_chain_time.npy')\n",
    "plt.plot(time, sa_statevector, '-', label='Statevector')\n",
    "\n",
    "plt.xlabel('Time')\n",
    "plt.ylabel('Absolute Value of Survival Amplitude')\n",
    "plt.legend()\n",
    "plt.show()"
   ]
  },
  {
   "cell_type": "code",
   "execution_count": null,
   "metadata": {
    "colab": {
     "base_uri": "https://localhost:8080/",
     "height": 449
    },
    "executionInfo": {
     "elapsed": 685,
     "status": "ok",
     "timestamp": 1726011212770,
     "user": {
      "displayName": "Alexander Soudackov",
      "userId": "07993026822439093642"
     },
     "user_tz": 240
    },
    "id": "7rMoEQgnKM-4",
    "outputId": "0e483073-69ea-434e-80bf-d894476c9fce"
   },
   "outputs": [],
   "source": [
    "plt.plot(time_range, np_abs_correlation_with_hadamard_test,\n",
    "         '.', label='Hadamard Test')\n",
    "\n",
    "sa_statevector = np.load(f'{num_q}_spin_chain_SA_obs.npy')\n",
    "time = np.load(f'{num_q}_spin_chain_time.npy')\n",
    "plt.plot(time, sa_statevector, '--', color='black', label='Statevector')\n",
    "\n",
    "plt.xlabel('Time')\n",
    "plt.ylabel('Absolute Value of Survival Amplitude')\n",
    "plt.legend()\n",
    "plt.show()"
   ]
  },
  {
   "cell_type": "markdown",
   "metadata": {
    "id": "YMpyyLHuL_X_"
   },
   "source": [
    "# Section 5. Variational Quantum Real-Time Evolution"
   ]
  },
  {
   "cell_type": "code",
   "execution_count": null,
   "metadata": {
    "id": "6WxC5T09L_YA"
   },
   "outputs": [],
   "source": [
    "import numpy as np\n",
    "from qiskit_algorithms import VarQRTE, TimeEvolutionProblem\n",
    "from qiskit.circuit.library import ExcitationPreserving\n",
    "from qiskit_algorithms.time_evolvers.variational import RealMcLachlanPrinciple\n",
    "from qiskit import QuantumCircuit\n",
    "from qiskit.primitives import Estimator\n",
    "from qiskit.quantum_info import SparsePauliOp\n",
    "\n",
    "var_principle = RealMcLachlanPrinciple()\n",
    "estimator = Estimator(options={\"shots\": 1024})\n",
    "total_time = 5.0\n",
    "evolution_timestep = 0.2\n",
    "\n",
    "hamiltonian = SparsePauliOp.from_list([(\"ZI\", 0.5), (\"IZ\", 0.5), (\"XX\", 0.2)])\n",
    "\n",
    "def init_circ():\n",
    "    qc = QuantumCircuit(2,0)\n",
    "    qc.x(0) # initial state is |10>\n",
    "    return qc\n",
    "\n",
    "# Anstaz at t=0 must be equal to the Identity\n",
    "params = [np.array([0.0 for i in range(5)])]\n",
    "anstaz = ExcitationPreserving(num_qubits=2, entanglement='linear', reps=1)\n",
    "anstaz = init_circ().compose(anstaz)\n",
    "\n",
    "# Define and Run the Time Evolution Problem\n",
    "evolution_problem = TimeEvolutionProblem(hamiltonian, total_time)\n",
    "qrte = VarQRTE(anstaz, params[0][:], variational_principle=var_principle, estimator=estimator, num_timesteps=int(total_time/evolution_timestep))\n",
    "params = qrte.evolve(evolution_problem).parameter_values\n",
    "\n",
    "# Assemble the circuit which creates the evolved state\n",
    "evolved_circ = anstaz.assign_parameters(params[-1])\n",
    "print(evolved_circ)"
   ]
  },
  {
   "cell_type": "markdown",
   "metadata": {
    "id": "lghNgaIqKyYv"
   },
   "source": [
    "# Appendices"
   ]
  },
  {
   "cell_type": "markdown",
   "metadata": {
    "id": "OoSj8HO8amyx"
   },
   "source": [
    "## A. State Initialization Algorithms"
   ]
  },
  {
   "cell_type": "markdown",
   "metadata": {
    "id": "fj0HbcIramyx"
   },
   "source": [
    "$\\renewcommand{\\ket}[1]{|#1\\rangle}$\n",
    "$\\renewcommand{\\bra}[1]{\\langle #1|}$\n",
    "\n",
    "### Manual state preparation using Quantum Multiplexors\n",
    "\n",
    "The state preparation algorithm presented here is based on using the quantum multiplexor operations to transform an arbitrary state $\\ket{\\psi}=\\left(c_1,c_2,\\dots,c_{2^n}\\right)^\\top$ of an $n$-qubit quantum register into the vacuum state $\\ket{0} = \\left(1, 0, \\dots, 0\\right)^\\top$.\n",
    "\n",
    "\\begin{equation*}\n",
    "    \\mathcal{R}\\ket{\\psi} = \\ket{0}\n",
    "\\end{equation*}\n",
    "\n",
    "The state preparation is then performed by applying the inverse operator $\\ket{\\psi} = \\mathcal{R}^\\dagger\\ket{0}$.\n",
    "\n",
    "The operator $\\mathcal{R}$ is constructed in a recursive procedure with $n+1$ steps where the multiplexors $R^{(m)}$, $m=n,n-1,\\ldots,1$ are used in first consequtive $n$ steps and the last step involves the application of a diagonal unitary operation that eliminates an accumulated global phase. The multiplexors $R^{(m)}$ are constructed as multiplexed elementary qubit rotations along the $z$ and $y$ axes represented as block-diagonal unitary operations:\n",
    "\n",
    "\\begin{align*}\n",
    "    R^{(m)}\n",
    "    &= \\bigoplus\\limits_{k_1,k_2,\\dots,k_{m-1}\\in\\{0,1\\}}\n",
    "       R_y(-\\theta_{k_1 k_2 \\dots k_{m-1}}) R_z(-\\varphi_{k_1 k_2 \\dots k_{m-1}}) \\nonumber\\\\\n",
    "    &=\n",
    "       \\underbrace{\n",
    "       \\left[\n",
    "       \\bigoplus\\limits_{k_1,k_2,\\dots,k_{m-1}\\in\\{0,1\\}}R_y(-\\theta_{k_1 k_2 \\dots k_{m-1}})\n",
    "       \\right]\n",
    "       }_{R_y^{(m)}}\n",
    "       \\cdot\n",
    "       \\underbrace{\n",
    "       \\left[\n",
    "       \\bigoplus\\limits_{k_1,k_2,\\dots,k_{n-1}\\in\\{0,1\\}}R_z(-\\varphi_{k_1 k_2 \\dots k_{m-1}})\n",
    "       \\right]\n",
    "       }_{R_z^{(m)}}\n",
    "\\end{align*}\n",
    "\n",
    "where $2^{m-1}$ angles $\\varphi_{k_1 k_2 \\dots k_{m-1}}$ and $\\theta_{k_1 k_2 \\dots k_{m-1}}$ can be obtained from the corresponding complex amplitides at each step.\n",
    "\n",
    "The application of the multiplexed rotations is performed recursively without acting on already disentangled qubits, reducing the dimension by half in each iteration. After $n$ iterations, the resulting state will be a scalar multiple of the vacuum state $\\ket{00\\dots 0}$:\n",
    "\n",
    "\\begin{equation*}\n",
    "    (R^{(1)}\\otimes I^{\\otimes(n-1)})\\dots(R^{(n-2)}\\otimes I\\otimes I)(R^{(n-1)}\\otimes I)R^{(n)}\\ket{\\psi} = e^{\\mathrm{i}\\Phi}\\ket{0}\\otimes\\ket{0}\\otimes\\dots\\otimes\\ket{0}\n",
    "\\end{equation*}\n",
    "\n",
    "or\n",
    "\n",
    "\\begin{equation*}\n",
    "    \\prod\\limits_{m=1}^{n}\\left[R^{(m)}\\otimes I^{\\otimes(n-m)}\\right]\\ket{\\psi} = e^{\\mathrm{i}\\Phi}\\ket{00\\dots 0}\n",
    "\\end{equation*}\n",
    "\n",
    "where $I$ is the identity operator acting on a single qubit state.\n",
    "\n",
    "Thus the state preparation unitary operator is expressed as\n",
    "\n",
    "\\begin{equation*}\n",
    "    \\mathcal{R}^\\dagger = \\prod\\limits_{m=1}^{n}\\left[R^{(n-m+1)\\dagger}\\otimes I^{\\otimes(m-1)}\\right] e^{-\\mathrm{i}\\Phi}\n",
    "\\end{equation*}"
   ]
  },
  {
   "cell_type": "code",
   "execution_count": null,
   "metadata": {
    "id": "_tttjNUHamyx"
   },
   "outputs": [],
   "source": [
    "import numpy as np\n",
    "from scipy.linalg import block_diag\n",
    "\n",
    "def compute_bloch_angles(c0, c1):\n",
    "    \"\"\"\n",
    "    Computes the Bloch angles from the amplitudes of a given qubit state\n",
    "    c0*|0> + c1*|1>\n",
    "    \"\"\"\n",
    "    # Normalize the amplitudes\n",
    "    norm = np.sqrt(np.abs(c0)**2 + np.abs(c1)**2)\n",
    "    alpha = c0/norm\n",
    "    beta  = c1/norm\n",
    "\n",
    "    # Calculate the angle theta\n",
    "    theta = 2 * np.arccos(np.abs(alpha))\n",
    "\n",
    "    # Calculate the angle phi (difference in the phases of alpha and beta)\n",
    "    phi = np.angle(beta*np.conjugate(alpha)/np.abs(beta)/np.abs(alpha))\n",
    "\n",
    "    return theta, phi\n",
    "\n",
    "def rz_matrix(phi):\n",
    "    \"\"\"\n",
    "    Returns the rotation matrix R_z(phi) for a rotation around the z-axis by angle phi.\n",
    "    \"\"\"\n",
    "    return np.array([\n",
    "        [np.exp(-1j*phi/2), 0],\n",
    "        [0, np.exp(1j*phi/2)]\n",
    "    ])\n",
    "\n",
    "def ry_matrix(theta):\n",
    "    \"\"\"\n",
    "    Returns the rotation matrix R_y(theta) for a rotation around the y-axis by angle theta.\n",
    "    \"\"\"\n",
    "    return np.array([\n",
    "        [np.cos(theta/2), -np.sin(theta / 2)],\n",
    "        [np.sin(theta/2), np.cos(theta / 2)]\n",
    "    ])\n",
    "\n",
    "def is_power_of_two(n):\n",
    "    return n > 0 and (n & (n - 1)) == 0\n",
    "\n",
    "def multiplexor_matrix(n, vector, bit=0):\n",
    "    \"\"\"\n",
    "    Returns the matrix for a multiplexor R^(n) with n-1 control qubits;\n",
    "    _vector_ should be an numpy array with 2**n components;\n",
    "    _bit_ is value (0 or 1) of the desired unentangled bit;\n",
    "    \"\"\"\n",
    "    if bit!=0:\n",
    "        bit = 1\n",
    "\n",
    "    for i in np.arange(0,2**n,2):\n",
    "        c0 = vector[i]\n",
    "        c1 = vector[i+1]\n",
    "        theta, phi = compute_bloch_angles(c0, c1)\n",
    "        r_z = rz_matrix(-phi)\n",
    "        r_y = ry_matrix(bit*np.pi-theta)\n",
    "        r = r_y @ r_z\n",
    "        if i==0:\n",
    "            multiplexor = block_diag(r)\n",
    "        else:\n",
    "            multiplexor = block_diag(multiplexor,r)\n",
    "\n",
    "    return multiplexor\n",
    "\n",
    "def rotate_to_vacuum_matrix(vector_input):\n",
    "    \"\"\"\n",
    "    Returns the matrix for a total multiplexed operation\n",
    "    transforming a state given as vector_input into the vacuum state\n",
    "    vector_input should be an numpy array with 2**n components\n",
    "    \"\"\"\n",
    "    ndim = vector_input.size\n",
    "    if not is_power_of_two(ndim):\n",
    "        print(\"Dimension of the input state vector (\",ndim,\") should be a power of 2.\")\n",
    "        return\n",
    "    else:\n",
    "        n = int(np.log2(vector_input.size))\n",
    "\n",
    "    total_matrix = np.eye(ndim)\n",
    "\n",
    "    vector_k = vector_input.copy()\n",
    "    for k in np.arange(n,0,-1):\n",
    "\n",
    "        if k==n:\n",
    "            vector_pruned = vector_input.copy()\n",
    "        else:\n",
    "            vector_pruned = vector_new[::2]\n",
    "\n",
    "        multiplexor = multiplexor_matrix(k,vector_pruned)\n",
    "\n",
    "        if k==n:\n",
    "            multiplexor_padded = multiplexor\n",
    "        else:\n",
    "            multiplexor_padded = np.kron(multiplexor,np.eye(2*(n-k)))\n",
    "\n",
    "        total_matrix = np.matmul(multiplexor_padded,total_matrix)\n",
    "        vector_k = np.matmul(multiplexor_padded,vector_k)\n",
    "        vector_new = multiplexor.dot(vector_pruned)\n",
    "\n",
    "    phase_factor = vector_k[0]\n",
    "    total_matrix = np.conjugate(phase_factor)*total_matrix\n",
    "\n",
    "    return total_matrix\n",
    "\n",
    "def rotate_to_state_matrix(state, vector_input):\n",
    "    \"\"\"\n",
    "    Returns the matrix for a total multiplexed operation\n",
    "    transforming \"vector_input\" into the \"state\"\n",
    "    vector_input -- should be a numpy array with 2**n components\n",
    "    state -- should be a binary string of length n\n",
    "    \"\"\"\n",
    "    ndim = vector_input.size\n",
    "    if not is_power_of_two(ndim):\n",
    "        print(\"Dimension of the input state vector (\",ndim,\") should be a power of 2.\")\n",
    "        return\n",
    "    else:\n",
    "        n = int(np.log2(ndim))\n",
    "\n",
    "    total_matrix = np.eye(ndim)\n",
    "\n",
    "    vector_k = vector_input.copy()\n",
    "    bit = int(state[n-1])\n",
    "\n",
    "    for k in np.arange(n,0,-1):\n",
    "\n",
    "        if k==n:\n",
    "            vector_pruned = vector_input.copy()\n",
    "        else:\n",
    "            vector_pruned = vector_new[bit::2]\n",
    "\n",
    "        bit = int(state[k-1])\n",
    "        multiplexor = multiplexor_matrix(k,vector_pruned, bit)\n",
    "\n",
    "        if k==n:\n",
    "            multiplexor_padded = multiplexor\n",
    "        else:\n",
    "            multiplexor_padded = np.kron(multiplexor,np.eye(2*(n-k)))\n",
    "\n",
    "        total_matrix = multiplexor_padded @ total_matrix\n",
    "        vector_k = multiplexor_padded @ vector_k\n",
    "        vector_new = multiplexor @ vector_pruned\n",
    "\n",
    "    phase_factor = vector_new[bit]\n",
    "    total_matrix = np.conjugate(phase_factor)*total_matrix\n",
    "\n",
    "    return total_matrix"
   ]
  },
  {
   "cell_type": "markdown",
   "metadata": {
    "id": "UbqnXtdxcYTE"
   },
   "source": [
    "### Multiplexor rotations for a quantum register with 3 qubits"
   ]
  },
  {
   "cell_type": "code",
   "execution_count": null,
   "metadata": {
    "id": "Yo9HplflcaIz"
   },
   "outputs": [],
   "source": [
    "from numpy import linalg as LA\n",
    "\n",
    "# number of qubits and total dimension\n",
    "nq = 3\n",
    "ndim = 2**nq\n",
    "\n",
    "# initialize a random state of the system\n",
    "state_vector = (2*np.random.rand(8) - 1) * np.exp(1j*2*np.pi*np.random.rand(8))\n",
    "state_vector /= LA.norm(state_vector)\n",
    "\n",
    "for i in range(ndim):\n",
    "    print('|',bin(i)[2:].zfill(nq),'> ',state_vector[i])\n",
    "\n",
    "r3 = multiplexor_matrix(3, state_vector)\n",
    "v3 = np.dot(r3,state_vector)\n",
    "print('\\nR3*v3\\n',v3.reshape(-1,1))\n",
    "\n",
    "r2 = multiplexor_matrix(2,v3[::2])\n",
    "v2 = np.dot(r2,v3[::2])\n",
    "print('\\nR2*v2\\n',v2.reshape(-1,1))\n",
    "\n",
    "r1 = multiplexor_matrix(1,v2[::2])\n",
    "v1 = np.dot(r1,v2[::2])\n",
    "print('\\nR1*v1\\n',v1.reshape(-1,1))\n",
    "\n",
    "print(\"\\n Target state:\\n\",state_vector.reshape(-1,1))\n",
    "mrot = rotate_to_vacuum_matrix(state_vector)\n",
    "\n",
    "rot_vector = mrot.dot(state_vector)\n",
    "print(\"\\n Rotated target state (should be the vacuum state):\\n\",  rot_vector.reshape(-1,1))\n",
    "\n",
    "back_vector = np.conjugate(mrot.T).dot(rot_vector)\n",
    "print(\"\\n Vacuum state rotated back (should match the target state):\\n\", back_vector.reshape(-1,1))"
   ]
  },
  {
   "cell_type": "markdown",
   "metadata": {
    "id": "OA-Jo1TdFtYU"
   },
   "source": [
    "## B. Decomposition of an Arbitrary Unitary Gate"
   ]
  },
  {
   "cell_type": "markdown",
   "metadata": {
    "id": "vZ9gxeo4FtYU"
   },
   "source": [
    "### Decomposition with Givens Rotations"
   ]
  },
  {
   "cell_type": "code",
   "execution_count": null,
   "metadata": {
    "id": "h_j8LHSAFtYU"
   },
   "outputs": [],
   "source": [
    "import numpy as np\n",
    "import graycode\n",
    "\n",
    "def GivensRotation(i, j, k, A):\n",
    "    \"\"\"\n",
    "    Constructs a Givens rotation matrix that zeros out A[j,i] by rotating rows j and k\n",
    "    Indices i, j, k are zero-based (Python convention)\n",
    "    Parameters:\n",
    "    i (int): Column index (0-based)\n",
    "    j (int): Row index to be zeroed (element A[j,i])\n",
    "    k (int): Row index to rotate with (element A[k,i])\n",
    "    A (ndarray): The matrix A (NumPy array)\n",
    "\n",
    "    Returns:\n",
    "    The Givens rotation matrix (ndarray)\n",
    "    \"\"\"\n",
    "    ndim = A.shape[0]\n",
    "    iGjk = np.identity(ndim, dtype=A.dtype)\n",
    "    aji = A[j, i]\n",
    "    if aji == 0:\n",
    "        return iGjk\n",
    "    aki = A[k, i]\n",
    "    norm = np.sqrt(abs(aji)**2 + abs(aki)**2)\n",
    "    iGjk[k, k] = np.conj(aki) / norm\n",
    "    iGjk[j, j] = aki / norm\n",
    "    iGjk[k, j] = np.conj(aji) / norm\n",
    "    iGjk[j, k] = -aji / norm\n",
    "    return iGjk\n",
    "\n",
    "def Gmatrix(U, gray=False, print_sequence=False):\n",
    "    \"\"\"\n",
    "    Computes a transformation matrix R based on Givens rotations applied to U.\n",
    "    Parameters:\n",
    "    U (ndarray): A square NumPy array representing the matrix U.\n",
    "    Returns:\n",
    "    ndarray: The transformation matrix R@Uphase.\n",
    "    \"\"\"\n",
    "    ndim = U.shape[0]\n",
    "    n = int(np.log2(ndim))\n",
    "    R = np.identity(ndim, dtype=U.dtype)\n",
    "\n",
    "    # Compute the phase adjustment to make the determinant of Uphase @ U real\n",
    "    detU = np.linalg.det(U)\n",
    "    argDetU = np.angle(detU)\n",
    "    phase_factor = np.exp(-1j * argDetU / ndim)\n",
    "    Uphase = phase_factor * np.identity(ndim, dtype=U.dtype)\n",
    "\n",
    "    # Adjust U with the phase factor\n",
    "    Um = Uphase @ U\n",
    "\n",
    "    # Perform Givens rotations to zero out below-diagonal elements\n",
    "    if print_sequence:\n",
    "        print(\"U = D\", end=' ')\n",
    "    for i in range(ndim - 1):  # i from 0 to ndim-2\n",
    "        for j in range(ndim - 1, i, -1):  # j from ndim-1 down to i+1\n",
    "            if gray:\n",
    "                ii = graycode.gen_gray_codes(n)[i]\n",
    "                jj = graycode.gen_gray_codes(n)[j]\n",
    "                kk = graycode.gen_gray_codes(n)[j-1]\n",
    "            else:\n",
    "                ii = i\n",
    "                jj = j\n",
    "                kk = j-1\n",
    "            if print_sequence:\n",
    "                print(f\"G^+[{ii+1},{jj+1},{kk+1}]\", end=' ')\n",
    "            RG = GivensRotation(ii, jj, kk, Um)\n",
    "            R = RG @ R\n",
    "            Um = RG @ Um\n",
    "\n",
    "    if print_sequence:\n",
    "        print()\n",
    "        print(f\"D = {np.conjugate(phase_factor)}*I\")\n",
    "\n",
    "    return R @ Uphase"
   ]
  },
  {
   "cell_type": "markdown",
   "metadata": {
    "id": "IUjat1HLFtYU"
   },
   "source": [
    "### Decomposition of a Random $[4\\times 4]$ Unitary"
   ]
  },
  {
   "cell_type": "code",
   "execution_count": null,
   "metadata": {
    "id": "NGpnVAJaFtYU"
   },
   "outputs": [],
   "source": [
    "from scipy.stats import unitary_group\n",
    "\n",
    "def print_nicely(matrix):\n",
    "    for row in matrix:\n",
    "        for element in row:\n",
    "            print(f\"{element:15.4f}\", end=\" \")\n",
    "        print()\n",
    "\n",
    "# Example: [4x4] random unitary matrix U\n",
    "ndim = 4\n",
    "U = unitary_group.rvs(ndim)\n",
    "print(\"\\nTarget unitary matrix U:\")\n",
    "print(  \"------------------------\")\n",
    "print_nicely(U)\n",
    "\n",
    "# Compute the transformation matrix using the Gray code ordering\n",
    "print(\"\\nDecomposition:\")\n",
    "print(  \"--------------\")\n",
    "RU = Gmatrix(U,gray=True, print_sequence=True)\n",
    "U_transformed = RU @ U\n",
    "\n",
    "# Verify the result (depends on your specific use case)\n",
    "print(\"\\nTransformed Matrix R @ U (should be identity matrix):\")\n",
    "print(  \"-----------------------------------------------------\")\n",
    "print_nicely(U_transformed)"
   ]
  }
 ],
 "metadata": {
  "colab": {
   "collapsed_sections": [
    "nKVw-cTpvfnl",
    "pAT4uJul46VE"
   ],
   "provenance": []
  },
  "kernelspec": {
   "display_name": "base",
   "language": "python",
   "name": "python3"
  },
  "language_info": {
   "codemirror_mode": {
    "name": "ipython",
    "version": 3
   },
   "file_extension": ".py",
   "mimetype": "text/x-python",
   "name": "python",
   "nbconvert_exporter": "python",
   "pygments_lexer": "ipython3",
   "version": "3.10.16"
  },
  "widgets": {
   "application/vnd.jupyter.widget-state+json": {
    "007d64323bea479d817f0748d8002cd2": {
     "model_module": "@jupyter-widgets/controls",
     "model_module_version": "1.5.0",
     "model_name": "DescriptionStyleModel",
     "state": {
      "_model_module": "@jupyter-widgets/controls",
      "_model_module_version": "1.5.0",
      "_model_name": "DescriptionStyleModel",
      "_view_count": null,
      "_view_module": "@jupyter-widgets/base",
      "_view_module_version": "1.2.0",
      "_view_name": "StyleView",
      "description_width": ""
     }
    },
    "054e9280b3bc4e0c9957937eb57a484f": {
     "model_module": "@jupyter-widgets/base",
     "model_module_version": "1.2.0",
     "model_name": "LayoutModel",
     "state": {
      "_model_module": "@jupyter-widgets/base",
      "_model_module_version": "1.2.0",
      "_model_name": "LayoutModel",
      "_view_count": null,
      "_view_module": "@jupyter-widgets/base",
      "_view_module_version": "1.2.0",
      "_view_name": "LayoutView",
      "align_content": null,
      "align_items": null,
      "align_self": null,
      "border": null,
      "bottom": null,
      "display": null,
      "flex": null,
      "flex_flow": null,
      "grid_area": null,
      "grid_auto_columns": null,
      "grid_auto_flow": null,
      "grid_auto_rows": null,
      "grid_column": null,
      "grid_gap": null,
      "grid_row": null,
      "grid_template_areas": null,
      "grid_template_columns": null,
      "grid_template_rows": null,
      "height": null,
      "justify_content": null,
      "justify_items": null,
      "left": null,
      "margin": null,
      "max_height": null,
      "max_width": null,
      "min_height": null,
      "min_width": null,
      "object_fit": null,
      "object_position": null,
      "order": null,
      "overflow": null,
      "overflow_x": null,
      "overflow_y": null,
      "padding": null,
      "right": null,
      "top": null,
      "visibility": null,
      "width": null
     }
    },
    "070edc4c547e4b2b88db87c6d03a193d": {
     "model_module": "@jupyter-widgets/controls",
     "model_module_version": "1.5.0",
     "model_name": "HTMLModel",
     "state": {
      "_dom_classes": [],
      "_model_module": "@jupyter-widgets/controls",
      "_model_module_version": "1.5.0",
      "_model_name": "HTMLModel",
      "_view_count": null,
      "_view_module": "@jupyter-widgets/controls",
      "_view_module_version": "1.5.0",
      "_view_name": "HTMLView",
      "description": "",
      "description_tooltip": null,
      "layout": "IPY_MODEL_bbf4eec0776d4e2798e10b3a8f906e54",
      "placeholder": "​",
      "style": "IPY_MODEL_bc4b51035f3d4b16abf4482c8322d980",
      "value": "100%"
     }
    },
    "0f2767e9e78442d9840cf0c686763b48": {
     "model_module": "@jupyter-widgets/controls",
     "model_module_version": "1.5.0",
     "model_name": "ProgressStyleModel",
     "state": {
      "_model_module": "@jupyter-widgets/controls",
      "_model_module_version": "1.5.0",
      "_model_name": "ProgressStyleModel",
      "_view_count": null,
      "_view_module": "@jupyter-widgets/base",
      "_view_module_version": "1.2.0",
      "_view_name": "StyleView",
      "bar_color": null,
      "description_width": ""
     }
    },
    "18d093bf38bc4a5eaa42dfde910e32fe": {
     "model_module": "@jupyter-widgets/base",
     "model_module_version": "1.2.0",
     "model_name": "LayoutModel",
     "state": {
      "_model_module": "@jupyter-widgets/base",
      "_model_module_version": "1.2.0",
      "_model_name": "LayoutModel",
      "_view_count": null,
      "_view_module": "@jupyter-widgets/base",
      "_view_module_version": "1.2.0",
      "_view_name": "LayoutView",
      "align_content": null,
      "align_items": null,
      "align_self": null,
      "border": null,
      "bottom": null,
      "display": null,
      "flex": null,
      "flex_flow": null,
      "grid_area": null,
      "grid_auto_columns": null,
      "grid_auto_flow": null,
      "grid_auto_rows": null,
      "grid_column": null,
      "grid_gap": null,
      "grid_row": null,
      "grid_template_areas": null,
      "grid_template_columns": null,
      "grid_template_rows": null,
      "height": null,
      "justify_content": null,
      "justify_items": null,
      "left": null,
      "margin": null,
      "max_height": null,
      "max_width": null,
      "min_height": null,
      "min_width": null,
      "object_fit": null,
      "object_position": null,
      "order": null,
      "overflow": null,
      "overflow_x": null,
      "overflow_y": null,
      "padding": null,
      "right": null,
      "top": null,
      "visibility": null,
      "width": null
     }
    },
    "223060c6b9724e5aa2c3163f50b526c2": {
     "model_module": "@jupyter-widgets/base",
     "model_module_version": "1.2.0",
     "model_name": "LayoutModel",
     "state": {
      "_model_module": "@jupyter-widgets/base",
      "_model_module_version": "1.2.0",
      "_model_name": "LayoutModel",
      "_view_count": null,
      "_view_module": "@jupyter-widgets/base",
      "_view_module_version": "1.2.0",
      "_view_name": "LayoutView",
      "align_content": null,
      "align_items": null,
      "align_self": null,
      "border": null,
      "bottom": null,
      "display": null,
      "flex": null,
      "flex_flow": null,
      "grid_area": null,
      "grid_auto_columns": null,
      "grid_auto_flow": null,
      "grid_auto_rows": null,
      "grid_column": null,
      "grid_gap": null,
      "grid_row": null,
      "grid_template_areas": null,
      "grid_template_columns": null,
      "grid_template_rows": null,
      "height": null,
      "justify_content": null,
      "justify_items": null,
      "left": null,
      "margin": null,
      "max_height": null,
      "max_width": null,
      "min_height": null,
      "min_width": null,
      "object_fit": null,
      "object_position": null,
      "order": null,
      "overflow": null,
      "overflow_x": null,
      "overflow_y": null,
      "padding": null,
      "right": null,
      "top": null,
      "visibility": null,
      "width": null
     }
    },
    "36e1daba34d14c73876f18d2f140fc17": {
     "model_module": "@jupyter-widgets/controls",
     "model_module_version": "1.5.0",
     "model_name": "DescriptionStyleModel",
     "state": {
      "_model_module": "@jupyter-widgets/controls",
      "_model_module_version": "1.5.0",
      "_model_name": "DescriptionStyleModel",
      "_view_count": null,
      "_view_module": "@jupyter-widgets/base",
      "_view_module_version": "1.2.0",
      "_view_name": "StyleView",
      "description_width": ""
     }
    },
    "3a854f2693fa4b28b13c9a2d765a888d": {
     "model_module": "@jupyter-widgets/controls",
     "model_module_version": "1.5.0",
     "model_name": "HTMLModel",
     "state": {
      "_dom_classes": [],
      "_model_module": "@jupyter-widgets/controls",
      "_model_module_version": "1.5.0",
      "_model_name": "HTMLModel",
      "_view_count": null,
      "_view_module": "@jupyter-widgets/controls",
      "_view_module_version": "1.5.0",
      "_view_name": "HTMLView",
      "description": "",
      "description_tooltip": null,
      "layout": "IPY_MODEL_d2a06e0eb8c94a41817a5a2253270e1c",
      "placeholder": "​",
      "style": "IPY_MODEL_f416eff119c04f9e8a9347bf55e02d2f",
      "value": " 400/400 [00:00&lt;00:00, 12450.81it/s]"
     }
    },
    "4e69328a8d154634b3abbc7092c38fa0": {
     "model_module": "@jupyter-widgets/base",
     "model_module_version": "1.2.0",
     "model_name": "LayoutModel",
     "state": {
      "_model_module": "@jupyter-widgets/base",
      "_model_module_version": "1.2.0",
      "_model_name": "LayoutModel",
      "_view_count": null,
      "_view_module": "@jupyter-widgets/base",
      "_view_module_version": "1.2.0",
      "_view_name": "LayoutView",
      "align_content": null,
      "align_items": null,
      "align_self": null,
      "border": null,
      "bottom": null,
      "display": null,
      "flex": null,
      "flex_flow": null,
      "grid_area": null,
      "grid_auto_columns": null,
      "grid_auto_flow": null,
      "grid_auto_rows": null,
      "grid_column": null,
      "grid_gap": null,
      "grid_row": null,
      "grid_template_areas": null,
      "grid_template_columns": null,
      "grid_template_rows": null,
      "height": null,
      "justify_content": null,
      "justify_items": null,
      "left": null,
      "margin": null,
      "max_height": null,
      "max_width": null,
      "min_height": null,
      "min_width": null,
      "object_fit": null,
      "object_position": null,
      "order": null,
      "overflow": null,
      "overflow_x": null,
      "overflow_y": null,
      "padding": null,
      "right": null,
      "top": null,
      "visibility": null,
      "width": null
     }
    },
    "4ff6c6c44bc747f3a8b75c4c7570dfa3": {
     "model_module": "@jupyter-widgets/controls",
     "model_module_version": "1.5.0",
     "model_name": "HTMLModel",
     "state": {
      "_dom_classes": [],
      "_model_module": "@jupyter-widgets/controls",
      "_model_module_version": "1.5.0",
      "_model_name": "HTMLModel",
      "_view_count": null,
      "_view_module": "@jupyter-widgets/controls",
      "_view_module_version": "1.5.0",
      "_view_name": "HTMLView",
      "description": "",
      "description_tooltip": null,
      "layout": "IPY_MODEL_6222c76b478245c9860f8e2e9d10826c",
      "placeholder": "​",
      "style": "IPY_MODEL_007d64323bea479d817f0748d8002cd2",
      "value": "100%"
     }
    },
    "55be6755b5494bfca3ebbabe646abaa2": {
     "model_module": "@jupyter-widgets/base",
     "model_module_version": "1.2.0",
     "model_name": "LayoutModel",
     "state": {
      "_model_module": "@jupyter-widgets/base",
      "_model_module_version": "1.2.0",
      "_model_name": "LayoutModel",
      "_view_count": null,
      "_view_module": "@jupyter-widgets/base",
      "_view_module_version": "1.2.0",
      "_view_name": "LayoutView",
      "align_content": null,
      "align_items": null,
      "align_self": null,
      "border": null,
      "bottom": null,
      "display": null,
      "flex": null,
      "flex_flow": null,
      "grid_area": null,
      "grid_auto_columns": null,
      "grid_auto_flow": null,
      "grid_auto_rows": null,
      "grid_column": null,
      "grid_gap": null,
      "grid_row": null,
      "grid_template_areas": null,
      "grid_template_columns": null,
      "grid_template_rows": null,
      "height": null,
      "justify_content": null,
      "justify_items": null,
      "left": null,
      "margin": null,
      "max_height": null,
      "max_width": null,
      "min_height": null,
      "min_width": null,
      "object_fit": null,
      "object_position": null,
      "order": null,
      "overflow": null,
      "overflow_x": null,
      "overflow_y": null,
      "padding": null,
      "right": null,
      "top": null,
      "visibility": null,
      "width": null
     }
    },
    "5f33fa2117364caaa4526f9d7bbb42dd": {
     "model_module": "@jupyter-widgets/controls",
     "model_module_version": "1.5.0",
     "model_name": "HBoxModel",
     "state": {
      "_dom_classes": [],
      "_model_module": "@jupyter-widgets/controls",
      "_model_module_version": "1.5.0",
      "_model_name": "HBoxModel",
      "_view_count": null,
      "_view_module": "@jupyter-widgets/controls",
      "_view_module_version": "1.5.0",
      "_view_name": "HBoxView",
      "box_style": "",
      "children": [
       "IPY_MODEL_4ff6c6c44bc747f3a8b75c4c7570dfa3",
       "IPY_MODEL_a7b7eef7170d4e6c8ef44e551a246a9e",
       "IPY_MODEL_3a854f2693fa4b28b13c9a2d765a888d"
      ],
      "layout": "IPY_MODEL_f8f49eea82ed4245a21946806af15bba"
     }
    },
    "604ca6548f6e48faafcfb08cfb4d0f19": {
     "model_module": "@jupyter-widgets/controls",
     "model_module_version": "1.5.0",
     "model_name": "HBoxModel",
     "state": {
      "_dom_classes": [],
      "_model_module": "@jupyter-widgets/controls",
      "_model_module_version": "1.5.0",
      "_model_name": "HBoxModel",
      "_view_count": null,
      "_view_module": "@jupyter-widgets/controls",
      "_view_module_version": "1.5.0",
      "_view_name": "HBoxView",
      "box_style": "",
      "children": [
       "IPY_MODEL_070edc4c547e4b2b88db87c6d03a193d",
       "IPY_MODEL_7ba34aace26c413b8875988cd77fd162",
       "IPY_MODEL_ca1ec59ba57346468d3498747ce5fe81"
      ],
      "layout": "IPY_MODEL_223060c6b9724e5aa2c3163f50b526c2"
     }
    },
    "6222c76b478245c9860f8e2e9d10826c": {
     "model_module": "@jupyter-widgets/base",
     "model_module_version": "1.2.0",
     "model_name": "LayoutModel",
     "state": {
      "_model_module": "@jupyter-widgets/base",
      "_model_module_version": "1.2.0",
      "_model_name": "LayoutModel",
      "_view_count": null,
      "_view_module": "@jupyter-widgets/base",
      "_view_module_version": "1.2.0",
      "_view_name": "LayoutView",
      "align_content": null,
      "align_items": null,
      "align_self": null,
      "border": null,
      "bottom": null,
      "display": null,
      "flex": null,
      "flex_flow": null,
      "grid_area": null,
      "grid_auto_columns": null,
      "grid_auto_flow": null,
      "grid_auto_rows": null,
      "grid_column": null,
      "grid_gap": null,
      "grid_row": null,
      "grid_template_areas": null,
      "grid_template_columns": null,
      "grid_template_rows": null,
      "height": null,
      "justify_content": null,
      "justify_items": null,
      "left": null,
      "margin": null,
      "max_height": null,
      "max_width": null,
      "min_height": null,
      "min_width": null,
      "object_fit": null,
      "object_position": null,
      "order": null,
      "overflow": null,
      "overflow_x": null,
      "overflow_y": null,
      "padding": null,
      "right": null,
      "top": null,
      "visibility": null,
      "width": null
     }
    },
    "63c4cf0047484b9d95babddacadbef96": {
     "model_module": "@jupyter-widgets/controls",
     "model_module_version": "1.5.0",
     "model_name": "HBoxModel",
     "state": {
      "_dom_classes": [],
      "_model_module": "@jupyter-widgets/controls",
      "_model_module_version": "1.5.0",
      "_model_name": "HBoxModel",
      "_view_count": null,
      "_view_module": "@jupyter-widgets/controls",
      "_view_module_version": "1.5.0",
      "_view_name": "HBoxView",
      "box_style": "",
      "children": [
       "IPY_MODEL_cbf9e32927d342f5a68c209d359417f3",
       "IPY_MODEL_b0a05fdae360465db5e59a031b1c232e",
       "IPY_MODEL_ee58fa00f18b46688caf6cf7af08bb97"
      ],
      "layout": "IPY_MODEL_a7bbab9807bb43cfb574d1c05a41fbef"
     }
    },
    "6569b46ccc404da89093bd9c59d2c8eb": {
     "model_module": "@jupyter-widgets/controls",
     "model_module_version": "1.5.0",
     "model_name": "DescriptionStyleModel",
     "state": {
      "_model_module": "@jupyter-widgets/controls",
      "_model_module_version": "1.5.0",
      "_model_name": "DescriptionStyleModel",
      "_view_count": null,
      "_view_module": "@jupyter-widgets/base",
      "_view_module_version": "1.2.0",
      "_view_name": "StyleView",
      "description_width": ""
     }
    },
    "6836a988e8574162b80d6ed9afc7216f": {
     "model_module": "@jupyter-widgets/controls",
     "model_module_version": "1.5.0",
     "model_name": "DescriptionStyleModel",
     "state": {
      "_model_module": "@jupyter-widgets/controls",
      "_model_module_version": "1.5.0",
      "_model_name": "DescriptionStyleModel",
      "_view_count": null,
      "_view_module": "@jupyter-widgets/base",
      "_view_module_version": "1.2.0",
      "_view_name": "StyleView",
      "description_width": ""
     }
    },
    "7332655911ba472e802fbdd0cabe83a5": {
     "model_module": "@jupyter-widgets/controls",
     "model_module_version": "1.5.0",
     "model_name": "ProgressStyleModel",
     "state": {
      "_model_module": "@jupyter-widgets/controls",
      "_model_module_version": "1.5.0",
      "_model_name": "ProgressStyleModel",
      "_view_count": null,
      "_view_module": "@jupyter-widgets/base",
      "_view_module_version": "1.2.0",
      "_view_name": "StyleView",
      "bar_color": null,
      "description_width": ""
     }
    },
    "7ba34aace26c413b8875988cd77fd162": {
     "model_module": "@jupyter-widgets/controls",
     "model_module_version": "1.5.0",
     "model_name": "FloatProgressModel",
     "state": {
      "_dom_classes": [],
      "_model_module": "@jupyter-widgets/controls",
      "_model_module_version": "1.5.0",
      "_model_name": "FloatProgressModel",
      "_view_count": null,
      "_view_module": "@jupyter-widgets/controls",
      "_view_module_version": "1.5.0",
      "_view_name": "ProgressView",
      "bar_style": "success",
      "description": "",
      "description_tooltip": null,
      "layout": "IPY_MODEL_82a29e4ad30441f8ae41f31de7835461",
      "max": 3000,
      "min": 0,
      "orientation": "horizontal",
      "style": "IPY_MODEL_0f2767e9e78442d9840cf0c686763b48",
      "value": 3000
     }
    },
    "7c5b4761cf614e62be6b2373a3f70023": {
     "model_module": "@jupyter-widgets/base",
     "model_module_version": "1.2.0",
     "model_name": "LayoutModel",
     "state": {
      "_model_module": "@jupyter-widgets/base",
      "_model_module_version": "1.2.0",
      "_model_name": "LayoutModel",
      "_view_count": null,
      "_view_module": "@jupyter-widgets/base",
      "_view_module_version": "1.2.0",
      "_view_name": "LayoutView",
      "align_content": null,
      "align_items": null,
      "align_self": null,
      "border": null,
      "bottom": null,
      "display": null,
      "flex": null,
      "flex_flow": null,
      "grid_area": null,
      "grid_auto_columns": null,
      "grid_auto_flow": null,
      "grid_auto_rows": null,
      "grid_column": null,
      "grid_gap": null,
      "grid_row": null,
      "grid_template_areas": null,
      "grid_template_columns": null,
      "grid_template_rows": null,
      "height": null,
      "justify_content": null,
      "justify_items": null,
      "left": null,
      "margin": null,
      "max_height": null,
      "max_width": null,
      "min_height": null,
      "min_width": null,
      "object_fit": null,
      "object_position": null,
      "order": null,
      "overflow": null,
      "overflow_x": null,
      "overflow_y": null,
      "padding": null,
      "right": null,
      "top": null,
      "visibility": null,
      "width": null
     }
    },
    "82a29e4ad30441f8ae41f31de7835461": {
     "model_module": "@jupyter-widgets/base",
     "model_module_version": "1.2.0",
     "model_name": "LayoutModel",
     "state": {
      "_model_module": "@jupyter-widgets/base",
      "_model_module_version": "1.2.0",
      "_model_name": "LayoutModel",
      "_view_count": null,
      "_view_module": "@jupyter-widgets/base",
      "_view_module_version": "1.2.0",
      "_view_name": "LayoutView",
      "align_content": null,
      "align_items": null,
      "align_self": null,
      "border": null,
      "bottom": null,
      "display": null,
      "flex": null,
      "flex_flow": null,
      "grid_area": null,
      "grid_auto_columns": null,
      "grid_auto_flow": null,
      "grid_auto_rows": null,
      "grid_column": null,
      "grid_gap": null,
      "grid_row": null,
      "grid_template_areas": null,
      "grid_template_columns": null,
      "grid_template_rows": null,
      "height": null,
      "justify_content": null,
      "justify_items": null,
      "left": null,
      "margin": null,
      "max_height": null,
      "max_width": null,
      "min_height": null,
      "min_width": null,
      "object_fit": null,
      "object_position": null,
      "order": null,
      "overflow": null,
      "overflow_x": null,
      "overflow_y": null,
      "padding": null,
      "right": null,
      "top": null,
      "visibility": null,
      "width": null
     }
    },
    "8494f8c8527d487c8dd9dcb0ac3c2010": {
     "model_module": "@jupyter-widgets/controls",
     "model_module_version": "1.5.0",
     "model_name": "HTMLModel",
     "state": {
      "_dom_classes": [],
      "_model_module": "@jupyter-widgets/controls",
      "_model_module_version": "1.5.0",
      "_model_name": "HTMLModel",
      "_view_count": null,
      "_view_module": "@jupyter-widgets/controls",
      "_view_module_version": "1.5.0",
      "_view_name": "HTMLView",
      "description": "",
      "description_tooltip": null,
      "layout": "IPY_MODEL_7c5b4761cf614e62be6b2373a3f70023",
      "placeholder": "​",
      "style": "IPY_MODEL_36e1daba34d14c73876f18d2f140fc17",
      "value": "100%"
     }
    },
    "8512e52f98ea4a0db504738fc59a986d": {
     "model_module": "@jupyter-widgets/controls",
     "model_module_version": "1.5.0",
     "model_name": "HBoxModel",
     "state": {
      "_dom_classes": [],
      "_model_module": "@jupyter-widgets/controls",
      "_model_module_version": "1.5.0",
      "_model_name": "HBoxModel",
      "_view_count": null,
      "_view_module": "@jupyter-widgets/controls",
      "_view_module_version": "1.5.0",
      "_view_name": "HBoxView",
      "box_style": "",
      "children": [
       "IPY_MODEL_8494f8c8527d487c8dd9dcb0ac3c2010",
       "IPY_MODEL_a04155229cd5446c96704a9db8826934",
       "IPY_MODEL_b66b32443af740b699cf404d62a4b766"
      ],
      "layout": "IPY_MODEL_f527ff684bc14ac8bb99f3ac7836870f"
     }
    },
    "94264f39d7474849be44269b893a28ca": {
     "model_module": "@jupyter-widgets/base",
     "model_module_version": "1.2.0",
     "model_name": "LayoutModel",
     "state": {
      "_model_module": "@jupyter-widgets/base",
      "_model_module_version": "1.2.0",
      "_model_name": "LayoutModel",
      "_view_count": null,
      "_view_module": "@jupyter-widgets/base",
      "_view_module_version": "1.2.0",
      "_view_name": "LayoutView",
      "align_content": null,
      "align_items": null,
      "align_self": null,
      "border": null,
      "bottom": null,
      "display": null,
      "flex": null,
      "flex_flow": null,
      "grid_area": null,
      "grid_auto_columns": null,
      "grid_auto_flow": null,
      "grid_auto_rows": null,
      "grid_column": null,
      "grid_gap": null,
      "grid_row": null,
      "grid_template_areas": null,
      "grid_template_columns": null,
      "grid_template_rows": null,
      "height": null,
      "justify_content": null,
      "justify_items": null,
      "left": null,
      "margin": null,
      "max_height": null,
      "max_width": null,
      "min_height": null,
      "min_width": null,
      "object_fit": null,
      "object_position": null,
      "order": null,
      "overflow": null,
      "overflow_x": null,
      "overflow_y": null,
      "padding": null,
      "right": null,
      "top": null,
      "visibility": null,
      "width": null
     }
    },
    "a0272ed7c0ef4fd18bc021f2a3250763": {
     "model_module": "@jupyter-widgets/controls",
     "model_module_version": "1.5.0",
     "model_name": "ProgressStyleModel",
     "state": {
      "_model_module": "@jupyter-widgets/controls",
      "_model_module_version": "1.5.0",
      "_model_name": "ProgressStyleModel",
      "_view_count": null,
      "_view_module": "@jupyter-widgets/base",
      "_view_module_version": "1.2.0",
      "_view_name": "StyleView",
      "bar_color": null,
      "description_width": ""
     }
    },
    "a04155229cd5446c96704a9db8826934": {
     "model_module": "@jupyter-widgets/controls",
     "model_module_version": "1.5.0",
     "model_name": "FloatProgressModel",
     "state": {
      "_dom_classes": [],
      "_model_module": "@jupyter-widgets/controls",
      "_model_module_version": "1.5.0",
      "_model_name": "FloatProgressModel",
      "_view_count": null,
      "_view_module": "@jupyter-widgets/controls",
      "_view_module_version": "1.5.0",
      "_view_name": "ProgressView",
      "bar_style": "success",
      "description": "",
      "description_tooltip": null,
      "layout": "IPY_MODEL_a54b492893bb4084af7434e926929e41",
      "max": 250,
      "min": 0,
      "orientation": "horizontal",
      "style": "IPY_MODEL_a4e93018c5c94d808dbab1ced0c370d4",
      "value": 250
     }
    },
    "a4e93018c5c94d808dbab1ced0c370d4": {
     "model_module": "@jupyter-widgets/controls",
     "model_module_version": "1.5.0",
     "model_name": "ProgressStyleModel",
     "state": {
      "_model_module": "@jupyter-widgets/controls",
      "_model_module_version": "1.5.0",
      "_model_name": "ProgressStyleModel",
      "_view_count": null,
      "_view_module": "@jupyter-widgets/base",
      "_view_module_version": "1.2.0",
      "_view_name": "StyleView",
      "bar_color": null,
      "description_width": ""
     }
    },
    "a54b492893bb4084af7434e926929e41": {
     "model_module": "@jupyter-widgets/base",
     "model_module_version": "1.2.0",
     "model_name": "LayoutModel",
     "state": {
      "_model_module": "@jupyter-widgets/base",
      "_model_module_version": "1.2.0",
      "_model_name": "LayoutModel",
      "_view_count": null,
      "_view_module": "@jupyter-widgets/base",
      "_view_module_version": "1.2.0",
      "_view_name": "LayoutView",
      "align_content": null,
      "align_items": null,
      "align_self": null,
      "border": null,
      "bottom": null,
      "display": null,
      "flex": null,
      "flex_flow": null,
      "grid_area": null,
      "grid_auto_columns": null,
      "grid_auto_flow": null,
      "grid_auto_rows": null,
      "grid_column": null,
      "grid_gap": null,
      "grid_row": null,
      "grid_template_areas": null,
      "grid_template_columns": null,
      "grid_template_rows": null,
      "height": null,
      "justify_content": null,
      "justify_items": null,
      "left": null,
      "margin": null,
      "max_height": null,
      "max_width": null,
      "min_height": null,
      "min_width": null,
      "object_fit": null,
      "object_position": null,
      "order": null,
      "overflow": null,
      "overflow_x": null,
      "overflow_y": null,
      "padding": null,
      "right": null,
      "top": null,
      "visibility": null,
      "width": null
     }
    },
    "a7b7eef7170d4e6c8ef44e551a246a9e": {
     "model_module": "@jupyter-widgets/controls",
     "model_module_version": "1.5.0",
     "model_name": "FloatProgressModel",
     "state": {
      "_dom_classes": [],
      "_model_module": "@jupyter-widgets/controls",
      "_model_module_version": "1.5.0",
      "_model_name": "FloatProgressModel",
      "_view_count": null,
      "_view_module": "@jupyter-widgets/controls",
      "_view_module_version": "1.5.0",
      "_view_name": "ProgressView",
      "bar_style": "success",
      "description": "",
      "description_tooltip": null,
      "layout": "IPY_MODEL_054e9280b3bc4e0c9957937eb57a484f",
      "max": 400,
      "min": 0,
      "orientation": "horizontal",
      "style": "IPY_MODEL_7332655911ba472e802fbdd0cabe83a5",
      "value": 400
     }
    },
    "a7bbab9807bb43cfb574d1c05a41fbef": {
     "model_module": "@jupyter-widgets/base",
     "model_module_version": "1.2.0",
     "model_name": "LayoutModel",
     "state": {
      "_model_module": "@jupyter-widgets/base",
      "_model_module_version": "1.2.0",
      "_model_name": "LayoutModel",
      "_view_count": null,
      "_view_module": "@jupyter-widgets/base",
      "_view_module_version": "1.2.0",
      "_view_name": "LayoutView",
      "align_content": null,
      "align_items": null,
      "align_self": null,
      "border": null,
      "bottom": null,
      "display": null,
      "flex": null,
      "flex_flow": null,
      "grid_area": null,
      "grid_auto_columns": null,
      "grid_auto_flow": null,
      "grid_auto_rows": null,
      "grid_column": null,
      "grid_gap": null,
      "grid_row": null,
      "grid_template_areas": null,
      "grid_template_columns": null,
      "grid_template_rows": null,
      "height": null,
      "justify_content": null,
      "justify_items": null,
      "left": null,
      "margin": null,
      "max_height": null,
      "max_width": null,
      "min_height": null,
      "min_width": null,
      "object_fit": null,
      "object_position": null,
      "order": null,
      "overflow": null,
      "overflow_x": null,
      "overflow_y": null,
      "padding": null,
      "right": null,
      "top": null,
      "visibility": null,
      "width": null
     }
    },
    "b0a05fdae360465db5e59a031b1c232e": {
     "model_module": "@jupyter-widgets/controls",
     "model_module_version": "1.5.0",
     "model_name": "FloatProgressModel",
     "state": {
      "_dom_classes": [],
      "_model_module": "@jupyter-widgets/controls",
      "_model_module_version": "1.5.0",
      "_model_name": "FloatProgressModel",
      "_view_count": null,
      "_view_module": "@jupyter-widgets/controls",
      "_view_module_version": "1.5.0",
      "_view_name": "ProgressView",
      "bar_style": "success",
      "description": "",
      "description_tooltip": null,
      "layout": "IPY_MODEL_18d093bf38bc4a5eaa42dfde910e32fe",
      "max": 3000,
      "min": 0,
      "orientation": "horizontal",
      "style": "IPY_MODEL_a0272ed7c0ef4fd18bc021f2a3250763",
      "value": 3000
     }
    },
    "b64393dd62c449159c1a72babaa483b4": {
     "model_module": "@jupyter-widgets/controls",
     "model_module_version": "1.5.0",
     "model_name": "DescriptionStyleModel",
     "state": {
      "_model_module": "@jupyter-widgets/controls",
      "_model_module_version": "1.5.0",
      "_model_name": "DescriptionStyleModel",
      "_view_count": null,
      "_view_module": "@jupyter-widgets/base",
      "_view_module_version": "1.2.0",
      "_view_name": "StyleView",
      "description_width": ""
     }
    },
    "b66b32443af740b699cf404d62a4b766": {
     "model_module": "@jupyter-widgets/controls",
     "model_module_version": "1.5.0",
     "model_name": "HTMLModel",
     "state": {
      "_dom_classes": [],
      "_model_module": "@jupyter-widgets/controls",
      "_model_module_version": "1.5.0",
      "_model_name": "HTMLModel",
      "_view_count": null,
      "_view_module": "@jupyter-widgets/controls",
      "_view_module_version": "1.5.0",
      "_view_name": "HTMLView",
      "description": "",
      "description_tooltip": null,
      "layout": "IPY_MODEL_94264f39d7474849be44269b893a28ca",
      "placeholder": "​",
      "style": "IPY_MODEL_b64393dd62c449159c1a72babaa483b4",
      "value": " 250/250 [00:21&lt;00:00, 13.33it/s]"
     }
    },
    "bbf4eec0776d4e2798e10b3a8f906e54": {
     "model_module": "@jupyter-widgets/base",
     "model_module_version": "1.2.0",
     "model_name": "LayoutModel",
     "state": {
      "_model_module": "@jupyter-widgets/base",
      "_model_module_version": "1.2.0",
      "_model_name": "LayoutModel",
      "_view_count": null,
      "_view_module": "@jupyter-widgets/base",
      "_view_module_version": "1.2.0",
      "_view_name": "LayoutView",
      "align_content": null,
      "align_items": null,
      "align_self": null,
      "border": null,
      "bottom": null,
      "display": null,
      "flex": null,
      "flex_flow": null,
      "grid_area": null,
      "grid_auto_columns": null,
      "grid_auto_flow": null,
      "grid_auto_rows": null,
      "grid_column": null,
      "grid_gap": null,
      "grid_row": null,
      "grid_template_areas": null,
      "grid_template_columns": null,
      "grid_template_rows": null,
      "height": null,
      "justify_content": null,
      "justify_items": null,
      "left": null,
      "margin": null,
      "max_height": null,
      "max_width": null,
      "min_height": null,
      "min_width": null,
      "object_fit": null,
      "object_position": null,
      "order": null,
      "overflow": null,
      "overflow_x": null,
      "overflow_y": null,
      "padding": null,
      "right": null,
      "top": null,
      "visibility": null,
      "width": null
     }
    },
    "bc4b51035f3d4b16abf4482c8322d980": {
     "model_module": "@jupyter-widgets/controls",
     "model_module_version": "1.5.0",
     "model_name": "DescriptionStyleModel",
     "state": {
      "_model_module": "@jupyter-widgets/controls",
      "_model_module_version": "1.5.0",
      "_model_name": "DescriptionStyleModel",
      "_view_count": null,
      "_view_module": "@jupyter-widgets/base",
      "_view_module_version": "1.2.0",
      "_view_name": "StyleView",
      "description_width": ""
     }
    },
    "ca1ec59ba57346468d3498747ce5fe81": {
     "model_module": "@jupyter-widgets/controls",
     "model_module_version": "1.5.0",
     "model_name": "HTMLModel",
     "state": {
      "_dom_classes": [],
      "_model_module": "@jupyter-widgets/controls",
      "_model_module_version": "1.5.0",
      "_model_name": "HTMLModel",
      "_view_count": null,
      "_view_module": "@jupyter-widgets/controls",
      "_view_module_version": "1.5.0",
      "_view_name": "HTMLView",
      "description": "",
      "description_tooltip": null,
      "layout": "IPY_MODEL_4e69328a8d154634b3abbc7092c38fa0",
      "placeholder": "​",
      "style": "IPY_MODEL_6836a988e8574162b80d6ed9afc7216f",
      "value": " 3000/3000 [00:32&lt;00:00, 115.60it/s]"
     }
    },
    "cbf9e32927d342f5a68c209d359417f3": {
     "model_module": "@jupyter-widgets/controls",
     "model_module_version": "1.5.0",
     "model_name": "HTMLModel",
     "state": {
      "_dom_classes": [],
      "_model_module": "@jupyter-widgets/controls",
      "_model_module_version": "1.5.0",
      "_model_name": "HTMLModel",
      "_view_count": null,
      "_view_module": "@jupyter-widgets/controls",
      "_view_module_version": "1.5.0",
      "_view_name": "HTMLView",
      "description": "",
      "description_tooltip": null,
      "layout": "IPY_MODEL_55be6755b5494bfca3ebbabe646abaa2",
      "placeholder": "​",
      "style": "IPY_MODEL_fa8db89cea0849c49912074627eec85f",
      "value": "100%"
     }
    },
    "cf3384aef5c540f7be7058b4d040c43b": {
     "model_module": "@jupyter-widgets/base",
     "model_module_version": "1.2.0",
     "model_name": "LayoutModel",
     "state": {
      "_model_module": "@jupyter-widgets/base",
      "_model_module_version": "1.2.0",
      "_model_name": "LayoutModel",
      "_view_count": null,
      "_view_module": "@jupyter-widgets/base",
      "_view_module_version": "1.2.0",
      "_view_name": "LayoutView",
      "align_content": null,
      "align_items": null,
      "align_self": null,
      "border": null,
      "bottom": null,
      "display": null,
      "flex": null,
      "flex_flow": null,
      "grid_area": null,
      "grid_auto_columns": null,
      "grid_auto_flow": null,
      "grid_auto_rows": null,
      "grid_column": null,
      "grid_gap": null,
      "grid_row": null,
      "grid_template_areas": null,
      "grid_template_columns": null,
      "grid_template_rows": null,
      "height": null,
      "justify_content": null,
      "justify_items": null,
      "left": null,
      "margin": null,
      "max_height": null,
      "max_width": null,
      "min_height": null,
      "min_width": null,
      "object_fit": null,
      "object_position": null,
      "order": null,
      "overflow": null,
      "overflow_x": null,
      "overflow_y": null,
      "padding": null,
      "right": null,
      "top": null,
      "visibility": null,
      "width": null
     }
    },
    "d2a06e0eb8c94a41817a5a2253270e1c": {
     "model_module": "@jupyter-widgets/base",
     "model_module_version": "1.2.0",
     "model_name": "LayoutModel",
     "state": {
      "_model_module": "@jupyter-widgets/base",
      "_model_module_version": "1.2.0",
      "_model_name": "LayoutModel",
      "_view_count": null,
      "_view_module": "@jupyter-widgets/base",
      "_view_module_version": "1.2.0",
      "_view_name": "LayoutView",
      "align_content": null,
      "align_items": null,
      "align_self": null,
      "border": null,
      "bottom": null,
      "display": null,
      "flex": null,
      "flex_flow": null,
      "grid_area": null,
      "grid_auto_columns": null,
      "grid_auto_flow": null,
      "grid_auto_rows": null,
      "grid_column": null,
      "grid_gap": null,
      "grid_row": null,
      "grid_template_areas": null,
      "grid_template_columns": null,
      "grid_template_rows": null,
      "height": null,
      "justify_content": null,
      "justify_items": null,
      "left": null,
      "margin": null,
      "max_height": null,
      "max_width": null,
      "min_height": null,
      "min_width": null,
      "object_fit": null,
      "object_position": null,
      "order": null,
      "overflow": null,
      "overflow_x": null,
      "overflow_y": null,
      "padding": null,
      "right": null,
      "top": null,
      "visibility": null,
      "width": null
     }
    },
    "ee58fa00f18b46688caf6cf7af08bb97": {
     "model_module": "@jupyter-widgets/controls",
     "model_module_version": "1.5.0",
     "model_name": "HTMLModel",
     "state": {
      "_dom_classes": [],
      "_model_module": "@jupyter-widgets/controls",
      "_model_module_version": "1.5.0",
      "_model_name": "HTMLModel",
      "_view_count": null,
      "_view_module": "@jupyter-widgets/controls",
      "_view_module_version": "1.5.0",
      "_view_name": "HTMLView",
      "description": "",
      "description_tooltip": null,
      "layout": "IPY_MODEL_cf3384aef5c540f7be7058b4d040c43b",
      "placeholder": "​",
      "style": "IPY_MODEL_6569b46ccc404da89093bd9c59d2c8eb",
      "value": " 3000/3000 [00:00&lt;00:00, 34306.43it/s]"
     }
    },
    "f416eff119c04f9e8a9347bf55e02d2f": {
     "model_module": "@jupyter-widgets/controls",
     "model_module_version": "1.5.0",
     "model_name": "DescriptionStyleModel",
     "state": {
      "_model_module": "@jupyter-widgets/controls",
      "_model_module_version": "1.5.0",
      "_model_name": "DescriptionStyleModel",
      "_view_count": null,
      "_view_module": "@jupyter-widgets/base",
      "_view_module_version": "1.2.0",
      "_view_name": "StyleView",
      "description_width": ""
     }
    },
    "f527ff684bc14ac8bb99f3ac7836870f": {
     "model_module": "@jupyter-widgets/base",
     "model_module_version": "1.2.0",
     "model_name": "LayoutModel",
     "state": {
      "_model_module": "@jupyter-widgets/base",
      "_model_module_version": "1.2.0",
      "_model_name": "LayoutModel",
      "_view_count": null,
      "_view_module": "@jupyter-widgets/base",
      "_view_module_version": "1.2.0",
      "_view_name": "LayoutView",
      "align_content": null,
      "align_items": null,
      "align_self": null,
      "border": null,
      "bottom": null,
      "display": null,
      "flex": null,
      "flex_flow": null,
      "grid_area": null,
      "grid_auto_columns": null,
      "grid_auto_flow": null,
      "grid_auto_rows": null,
      "grid_column": null,
      "grid_gap": null,
      "grid_row": null,
      "grid_template_areas": null,
      "grid_template_columns": null,
      "grid_template_rows": null,
      "height": null,
      "justify_content": null,
      "justify_items": null,
      "left": null,
      "margin": null,
      "max_height": null,
      "max_width": null,
      "min_height": null,
      "min_width": null,
      "object_fit": null,
      "object_position": null,
      "order": null,
      "overflow": null,
      "overflow_x": null,
      "overflow_y": null,
      "padding": null,
      "right": null,
      "top": null,
      "visibility": null,
      "width": null
     }
    },
    "f8f49eea82ed4245a21946806af15bba": {
     "model_module": "@jupyter-widgets/base",
     "model_module_version": "1.2.0",
     "model_name": "LayoutModel",
     "state": {
      "_model_module": "@jupyter-widgets/base",
      "_model_module_version": "1.2.0",
      "_model_name": "LayoutModel",
      "_view_count": null,
      "_view_module": "@jupyter-widgets/base",
      "_view_module_version": "1.2.0",
      "_view_name": "LayoutView",
      "align_content": null,
      "align_items": null,
      "align_self": null,
      "border": null,
      "bottom": null,
      "display": null,
      "flex": null,
      "flex_flow": null,
      "grid_area": null,
      "grid_auto_columns": null,
      "grid_auto_flow": null,
      "grid_auto_rows": null,
      "grid_column": null,
      "grid_gap": null,
      "grid_row": null,
      "grid_template_areas": null,
      "grid_template_columns": null,
      "grid_template_rows": null,
      "height": null,
      "justify_content": null,
      "justify_items": null,
      "left": null,
      "margin": null,
      "max_height": null,
      "max_width": null,
      "min_height": null,
      "min_width": null,
      "object_fit": null,
      "object_position": null,
      "order": null,
      "overflow": null,
      "overflow_x": null,
      "overflow_y": null,
      "padding": null,
      "right": null,
      "top": null,
      "visibility": null,
      "width": null
     }
    },
    "fa8db89cea0849c49912074627eec85f": {
     "model_module": "@jupyter-widgets/controls",
     "model_module_version": "1.5.0",
     "model_name": "DescriptionStyleModel",
     "state": {
      "_model_module": "@jupyter-widgets/controls",
      "_model_module_version": "1.5.0",
      "_model_name": "DescriptionStyleModel",
      "_view_count": null,
      "_view_module": "@jupyter-widgets/base",
      "_view_module_version": "1.2.0",
      "_view_name": "StyleView",
      "description_width": ""
     }
    }
   }
  }
 },
 "nbformat": 4,
 "nbformat_minor": 0
}
